{
 "cells": [
  {
   "cell_type": "markdown",
   "metadata": {},
   "source": [
    "## Introduction to Machine Learning  \n",
    "\n",
    "## Assignment 2: Decision Trees"
   ]
  },
  {
   "cell_type": "markdown",
   "metadata": {},
   "source": [
    "You can't learn technical subjects without hands-on practice. The assignments are an important part of the course. To submit this assignment you will need to make sure that you save your Jupyter notebook. \n",
    "\n",
    "Below are the links of 2 videos that explain:\n",
    "\n",
    "1. [How to save your Jupyter notebook](https://youtu.be/0aoLgBoAUSA) and,       \n",
    "2. [How to answer a question in a Jupyter notebook assignment](https://youtu.be/7j0WKhI3W4s)."
   ]
  },
  {
   "cell_type": "markdown",
   "metadata": {},
   "source": [
    "### Assignment Learning Goals:\n",
    "\n",
    "By the end of the module, students are expected to:\n",
    "\n",
    "- Broadly describe how decision trees make predictions.\n",
    "- Use `DecisionTreeClassifier()` and `DecisionTreeRegressor()` to build decision trees using scikit-learn.\n",
    "- Use the `.fit()` and `.predict()` paradigm and use `.score()` method of ML models.\n",
    "- Explain the concept of decision boundaries.\n",
    "- Build a decision tree classifier on a real-world dataset and explore different hyperparameters of the classifier.\n",
    "- Explain how decision boundaries change with `max_depth`.\n",
    "- Build a decision tree regressor.\n",
    "\n",
    "This assignment covers [Module 2](https://ml-learn.mds.ubc.ca/en/module2) of the online course. You should complete this module before attempting this assignment."
   ]
  },
  {
   "cell_type": "markdown",
   "metadata": {},
   "source": [
    "Any place you see `...`, you must fill in the function, variable, or data to complete the code. Substitute the `None` with your completed code and answers then proceed to run the cell!"
   ]
  },
  {
   "cell_type": "markdown",
   "metadata": {},
   "source": [
    "Note that some of the questions in this assignment will have hidden tests. This means that no feedback will be given as to the correctness of your solution. It will be left up to you to decide if your answer is sufficiently correct. These questions are worth 2 points."
   ]
  },
  {
   "cell_type": "code",
   "execution_count": 139,
   "metadata": {},
   "outputs": [
    {
     "data": {
      "text/plain": [
       "RendererRegistry.enable('html')"
      ]
     },
     "execution_count": 139,
     "metadata": {},
     "output_type": "execute_result"
    }
   ],
   "source": [
    "# Import libraries needed for this lab\n",
    "from hashlib import sha1\n",
    "\n",
    "import altair as alt\n",
    "import graphviz\n",
    "import numpy as np\n",
    "import pandas as pd\n",
    "\n",
    "from IPython.display import HTML\n",
    "from sklearn import tree\n",
    "from sklearn.dummy import DummyClassifier\n",
    "from sklearn.model_selection import cross_val_score, cross_validate, train_test_split\n",
    "from sklearn.tree import DecisionTreeClassifier\n",
    "import test_assignment2 as t\n",
    "\n",
    "from display_tree import display_tree\n",
    "alt.renderers.enable('html')"
   ]
  },
  {
   "cell_type": "markdown",
   "metadata": {},
   "source": [
    "## 1. Decision Tree Structure "
   ]
  },
  {
   "cell_type": "markdown",
   "metadata": {},
   "source": [
    "**Question 1.1** <br> {points: 5}  \n",
    "\n",
    "<img src='static/tree.png' width=\"70%\"/>\n",
    "\n",
    "Label the 4 components of the decision tree diagram each with one of the possible values: \n",
    "\n",
    "- Stump\n",
    "\n",
    "- Root\n",
    "\n",
    "- Branch\n",
    "\n",
    "- Trunk\n",
    "\n",
    "- Node \n",
    "\n",
    "- Leaf\n",
    "\n",
    "- Bark\n",
    "\n",
    "- Nodule\n",
    "\n",
    "*Answer in the cell below by assigning the name of the decision tree as a string to the objects named `label_1`, `label_2`, `label_3` and `label_4`.*"
   ]
  },
  {
   "cell_type": "code",
   "execution_count": 140,
   "metadata": {
    "deletable": false,
    "nbgrader": {
     "cell_type": "code",
     "checksum": "28e7562705979ce21d0623c203b9e06a",
     "grade": false,
     "grade_id": "cell-86e07d016455e3e8",
     "locked": false,
     "schema_version": 3,
     "solution": true,
     "task": false
    }
   },
   "outputs": [],
   "source": [
    "label_1 = 'Root'\n",
    "label_2 = 'Branch'\n",
    "label_3 = 'Leaf'\n",
    "label_4 = 'Node'"
   ]
  },
  {
   "cell_type": "code",
   "execution_count": 141,
   "metadata": {
    "deletable": false,
    "editable": false,
    "nbgrader": {
     "cell_type": "code",
     "checksum": "38f7dc23602087aa0d534bdc7a6482c5",
     "grade": true,
     "grade_id": "cell-8a674b835b989b8f",
     "locked": true,
     "points": 1,
     "schema_version": 3,
     "solution": false,
     "task": false
    }
   },
   "outputs": [
    {
     "data": {
      "text/plain": [
       "'Success'"
      ]
     },
     "execution_count": 141,
     "metadata": {},
     "output_type": "execute_result"
    }
   ],
   "source": [
    "t.test_1_1_1(label_1)"
   ]
  },
  {
   "cell_type": "code",
   "execution_count": 142,
   "metadata": {
    "deletable": false,
    "editable": false,
    "nbgrader": {
     "cell_type": "code",
     "checksum": "535bbfb51ea89ca4a1aacfc0b97066f0",
     "grade": true,
     "grade_id": "cell-cf63b8907f481c0f",
     "locked": true,
     "points": 1,
     "schema_version": 3,
     "solution": false,
     "task": false
    }
   },
   "outputs": [
    {
     "data": {
      "text/plain": [
       "'Success'"
      ]
     },
     "execution_count": 142,
     "metadata": {},
     "output_type": "execute_result"
    }
   ],
   "source": [
    "t.test_1_1_2(label_2)"
   ]
  },
  {
   "cell_type": "code",
   "execution_count": 143,
   "metadata": {
    "deletable": false,
    "editable": false,
    "nbgrader": {
     "cell_type": "code",
     "checksum": "a1d7f87246cf51ae78cb0bb158561e02",
     "grade": true,
     "grade_id": "cell-21a19a87c7c52af2",
     "locked": true,
     "points": 2,
     "schema_version": 3,
     "solution": false,
     "task": false
    }
   },
   "outputs": [],
   "source": [
    "# check that the variable exists\n",
    "assert 'label_3' in globals(\n",
    "), \"Please make sure that your solution is named 'label_3'\"\n",
    "\n",
    "# This test has been intentionally hidden. It will be up to you to decide if your solution\n",
    "# is sufficiently good."
   ]
  },
  {
   "cell_type": "code",
   "execution_count": 144,
   "metadata": {
    "deletable": false,
    "editable": false,
    "nbgrader": {
     "cell_type": "code",
     "checksum": "a9f2bc02497f14236ecb90297e276db4",
     "grade": true,
     "grade_id": "cell-afd585bc00c62c9c",
     "locked": true,
     "points": 1,
     "schema_version": 3,
     "solution": false,
     "task": false
    }
   },
   "outputs": [
    {
     "data": {
      "text/plain": [
       "'Success'"
      ]
     },
     "execution_count": 144,
     "metadata": {},
     "output_type": "execute_result"
    }
   ],
   "source": [
    "t.test_1_1_4(label_4)"
   ]
  },
  {
   "cell_type": "markdown",
   "metadata": {},
   "source": [
    "**Question 1.2** <br> {points: 1}  \n",
    "\n",
    "\n",
    "<img src='static/pman_tree.png' width=\"130%\"/>\n",
    "\n",
    "What would this decision tree predict for an observation with the following features?\n",
    "\n",
    "<br>\n",
    "\n",
    "```\n",
    "   attack  defense  sp_attack  sp_defense  speed  capture_rt  gen\n",
    "0    33      101        52         23        74      12        5\n",
    "```\n",
    "<br>\n",
    "\n",
    "*Save you answer as a string in an object named `pokemon_prediction`.*"
   ]
  },
  {
   "cell_type": "code",
   "execution_count": 145,
   "metadata": {},
   "outputs": [],
   "source": [
    "def get_pokemon_class(stats) :\n",
    "    '''     \n",
    "    Returns the class of a pokemon based on its stats.        \n",
    "\n",
    "    Parameters\n",
    "    ----------\n",
    "    stats : dict\n",
    "        The dict with pokemon stats\n",
    "    \n",
    "    Returns\n",
    "    -------\n",
    "    str\n",
    "        The class of the pokemon\n",
    "    \n",
    "    Examples\n",
    "    --------\n",
    "    >>> get_pokemon_class(stats)\n",
    "    'Reg'\n",
    "    '''\n",
    "\n",
    "    if stats['capture_rt'] <= 20.0 :\n",
    "        pokemon_class = 'Reg'\n",
    "        if stats['sp_attack'] <= 63.5 :\n",
    "            pokemon_class = 'Lengend'\n",
    "            if stats['sp_defense'] <= 90.0 :\n",
    "                pokemon_class = 'Reg' # Leaf 1\n",
    "            else :\n",
    "                pokemon_class = 'Lengend' # Leaf 2\n",
    "        elif stats['defense'] <= 135.0 :\n",
    "            pokemon_class = 'Lengend' # Leaf 3\n",
    "        elif stats['speed'] <= 100.0 :\n",
    "            pokemon_class = 'Lengend' # Leaf 4\n",
    "        else :\n",
    "            pokemon_class = 'Reg' # Leaf 5\n",
    "\n",
    "    elif stats['attack'] <= 175.0 :\n",
    "        pokemon_class = 'Reg'\n",
    "\n",
    "        if stats['sp_attack'] <= 112.5 :\n",
    "            pokemon_class = 'Reg'\n",
    "            if stats['sp_defense'] <= 99.5 :\n",
    "                pokemon_class = 'Reg' # Leaf 6\n",
    "            else :\n",
    "                pokemon_class = 'Reg' # Leaf 7\n",
    "        elif stats['gen'] <= 5.5 :\n",
    "            pokemon_class = 'Reg' # Leaf 8\n",
    "        else :\n",
    "            pokemon_class = 'Lengend' # Leaf 9\n",
    "    else :\n",
    "        pokemon_class = 'Lengend' # Leaf 10\n",
    "\n",
    "    return pokemon_class"
   ]
  },
  {
   "cell_type": "code",
   "execution_count": 146,
   "metadata": {},
   "outputs": [
    {
     "data": {
      "text/plain": [
       "{'attack': 33,\n",
       " 'defense': 101,\n",
       " 'sp_attack': 52,\n",
       " 'sp_defense': 23,\n",
       " 'speed': 74,\n",
       " 'capture_rt': 12,\n",
       " 'gen': 5}"
      ]
     },
     "metadata": {},
     "output_type": "display_data"
    }
   ],
   "source": [
    "pokemon_stats = {\n",
    "    'attack' : 33,\n",
    "    'defense' : 101,\n",
    "    'sp_attack' : 52,\n",
    "    'sp_defense' : 23,\n",
    "    'speed' : 74,\n",
    "    'capture_rt' : 12,\n",
    "    'gen' : 5\n",
    "}\n",
    "\n",
    "display(pokemon_stats)"
   ]
  },
  {
   "cell_type": "code",
   "execution_count": 147,
   "metadata": {
    "deletable": false,
    "nbgrader": {
     "cell_type": "code",
     "checksum": "6569bbbd6b41cb68f40e5ab27e6e2384",
     "grade": false,
     "grade_id": "cell-316bcedc8f318ef6",
     "locked": false,
     "schema_version": 3,
     "solution": true,
     "task": false
    }
   },
   "outputs": [
    {
     "data": {
      "text/plain": [
       "'Reg'"
      ]
     },
     "metadata": {},
     "output_type": "display_data"
    }
   ],
   "source": [
    "pokemon_prediction = get_pokemon_class(pokemon_stats)\n",
    "\n",
    "display(pokemon_prediction)"
   ]
  },
  {
   "cell_type": "code",
   "execution_count": 148,
   "metadata": {
    "deletable": false,
    "editable": false,
    "nbgrader": {
     "cell_type": "code",
     "checksum": "82629ad02536fd749d4f3baa652ace32",
     "grade": true,
     "grade_id": "cell-4cd4cb6c8653fe37",
     "locked": true,
     "points": 1,
     "schema_version": 3,
     "solution": false,
     "task": false
    }
   },
   "outputs": [
    {
     "data": {
      "text/plain": [
       "'Success'"
      ]
     },
     "execution_count": 148,
     "metadata": {},
     "output_type": "execute_result"
    }
   ],
   "source": [
    "t.test_1_2(pokemon_prediction)"
   ]
  },
  {
   "cell_type": "markdown",
   "metadata": {},
   "source": [
    "**Question 1.3** <br> {points: 1}  \n",
    "\n",
    "What is the depth of the decision tree in **Question 1.2**?\n",
    "\n",
    "\n",
    "\n",
    "*Answer in the cell below with  your answer and assign it to an object called `tree_depth`.*"
   ]
  },
  {
   "cell_type": "code",
   "execution_count": 149,
   "metadata": {
    "deletable": false,
    "nbgrader": {
     "cell_type": "code",
     "checksum": "3734f7adc7c2740d49c634b40d9816e3",
     "grade": false,
     "grade_id": "cell-55927a8f679bdad7",
     "locked": false,
     "schema_version": 3,
     "solution": true,
     "task": false
    }
   },
   "outputs": [],
   "source": [
    "tree_depth = 4"
   ]
  },
  {
   "cell_type": "code",
   "execution_count": 150,
   "metadata": {
    "deletable": false,
    "editable": false,
    "nbgrader": {
     "cell_type": "code",
     "checksum": "d610f24d525cc4ae81e2d45943cc4c32",
     "grade": true,
     "grade_id": "cell-41a8a7641bfea42f",
     "locked": true,
     "points": 1,
     "schema_version": 3,
     "solution": false,
     "task": false
    }
   },
   "outputs": [
    {
     "data": {
      "text/plain": [
       "'Success'"
      ]
     },
     "execution_count": 150,
     "metadata": {},
     "output_type": "execute_result"
    }
   ],
   "source": [
    "t.test_1_3(tree_depth)"
   ]
  },
  {
   "cell_type": "markdown",
   "metadata": {},
   "source": [
    "## 2. Decision Tree Building"
   ]
  },
  {
   "cell_type": "markdown",
   "metadata": {},
   "source": [
    "Suppose you have three different job offers with comparable salaries and job descriptions. You want to decide which one to accept, and you want to make this decision based on which job is likely to make you happy. Being a very systematic person, you come up with three features associated with the offers, which are important for your happiness: whether the colleagues are supportive, work-hour flexibility, and whether the company is a start-up or not. "
   ]
  },
  {
   "cell_type": "code",
   "execution_count": 151,
   "metadata": {},
   "outputs": [
    {
     "data": {
      "text/html": [
       "<div>\n",
       "<style scoped>\n",
       "    .dataframe tbody tr th:only-of-type {\n",
       "        vertical-align: middle;\n",
       "    }\n",
       "\n",
       "    .dataframe tbody tr th {\n",
       "        vertical-align: top;\n",
       "    }\n",
       "\n",
       "    .dataframe thead th {\n",
       "        text-align: right;\n",
       "    }\n",
       "</style>\n",
       "<table border=\"1\" class=\"dataframe\">\n",
       "  <thead>\n",
       "    <tr style=\"text-align: right;\">\n",
       "      <th></th>\n",
       "      <th>supportive_colleagues</th>\n",
       "      <th>work_hour_flexibility</th>\n",
       "      <th>start_up</th>\n",
       "      <th>target</th>\n",
       "    </tr>\n",
       "  </thead>\n",
       "  <tbody>\n",
       "    <tr>\n",
       "      <th>0</th>\n",
       "      <td>1</td>\n",
       "      <td>0</td>\n",
       "      <td>0</td>\n",
       "      <td>?</td>\n",
       "    </tr>\n",
       "    <tr>\n",
       "      <th>1</th>\n",
       "      <td>0</td>\n",
       "      <td>0</td>\n",
       "      <td>1</td>\n",
       "      <td>?</td>\n",
       "    </tr>\n",
       "    <tr>\n",
       "      <th>2</th>\n",
       "      <td>0</td>\n",
       "      <td>1</td>\n",
       "      <td>1</td>\n",
       "      <td>?</td>\n",
       "    </tr>\n",
       "  </tbody>\n",
       "</table>\n",
       "</div>"
      ],
      "text/plain": [
       "   supportive_colleagues  work_hour_flexibility  start_up target\n",
       "0                      1                      0         0      ?\n",
       "1                      0                      0         1      ?\n",
       "2                      0                      1         1      ?"
      ]
     },
     "metadata": {},
     "output_type": "display_data"
    }
   ],
   "source": [
    "offer_data = {\n",
    "    # Features\n",
    "    \"supportive_colleagues\" : [1, 0, 0],\n",
    "    \"work_hour_flexibility\" : [0, 0, 1],\n",
    "    \"start_up\" : [0, 1, 1],\n",
    "    # Target\n",
    "    \"target\": [\"?\", \"?\", \"?\"],\n",
    "}\n",
    "\n",
    "offer_df = pd.DataFrame(offer_data)\n",
    "display(offer_df)    "
   ]
  },
  {
   "cell_type": "markdown",
   "metadata": {},
   "source": [
    "Next, you ask the following questions to some of your friends (who you think have similar notions of happiness) regarding their jobs:\n",
    "\n",
    "1. Do you have supportive colleagues? (1 for 'yes' and 0 for 'no')\n",
    "2. Do you have flexible work hours? (1 for 'yes' and 0 for 'no')\n",
    "3. Do you work for a start-up? (1 for 'start up' and 0 for 'non start up')\n",
    "4. Are you happy in your job? (happy or unhappy)\n",
    "\n",
    "You get the following data from this toy survey. Your goal is to train a machine learning model using this toy data and then use this model to predict which job is likely to make you happy. "
   ]
  },
  {
   "cell_type": "code",
   "execution_count": 152,
   "metadata": {},
   "outputs": [
    {
     "data": {
      "text/html": [
       "<div>\n",
       "<style scoped>\n",
       "    .dataframe tbody tr th:only-of-type {\n",
       "        vertical-align: middle;\n",
       "    }\n",
       "\n",
       "    .dataframe tbody tr th {\n",
       "        vertical-align: top;\n",
       "    }\n",
       "\n",
       "    .dataframe thead th {\n",
       "        text-align: right;\n",
       "    }\n",
       "</style>\n",
       "<table border=\"1\" class=\"dataframe\">\n",
       "  <thead>\n",
       "    <tr style=\"text-align: right;\">\n",
       "      <th></th>\n",
       "      <th>supportive_colleagues</th>\n",
       "      <th>work_hour_flexibility</th>\n",
       "      <th>start_up</th>\n",
       "      <th>target</th>\n",
       "    </tr>\n",
       "  </thead>\n",
       "  <tbody>\n",
       "    <tr>\n",
       "      <th>0</th>\n",
       "      <td>1</td>\n",
       "      <td>1</td>\n",
       "      <td>1</td>\n",
       "      <td>happy</td>\n",
       "    </tr>\n",
       "    <tr>\n",
       "      <th>1</th>\n",
       "      <td>1</td>\n",
       "      <td>1</td>\n",
       "      <td>0</td>\n",
       "      <td>happy</td>\n",
       "    </tr>\n",
       "    <tr>\n",
       "      <th>2</th>\n",
       "      <td>1</td>\n",
       "      <td>0</td>\n",
       "      <td>1</td>\n",
       "      <td>happy</td>\n",
       "    </tr>\n",
       "    <tr>\n",
       "      <th>3</th>\n",
       "      <td>0</td>\n",
       "      <td>1</td>\n",
       "      <td>0</td>\n",
       "      <td>unhappy</td>\n",
       "    </tr>\n",
       "    <tr>\n",
       "      <th>4</th>\n",
       "      <td>0</td>\n",
       "      <td>1</td>\n",
       "      <td>1</td>\n",
       "      <td>unhappy</td>\n",
       "    </tr>\n",
       "    <tr>\n",
       "      <th>5</th>\n",
       "      <td>1</td>\n",
       "      <td>0</td>\n",
       "      <td>0</td>\n",
       "      <td>happy</td>\n",
       "    </tr>\n",
       "    <tr>\n",
       "      <th>6</th>\n",
       "      <td>1</td>\n",
       "      <td>1</td>\n",
       "      <td>0</td>\n",
       "      <td>happy</td>\n",
       "    </tr>\n",
       "    <tr>\n",
       "      <th>7</th>\n",
       "      <td>0</td>\n",
       "      <td>0</td>\n",
       "      <td>1</td>\n",
       "      <td>unhappy</td>\n",
       "    </tr>\n",
       "    <tr>\n",
       "      <th>8</th>\n",
       "      <td>1</td>\n",
       "      <td>0</td>\n",
       "      <td>1</td>\n",
       "      <td>unhappy</td>\n",
       "    </tr>\n",
       "    <tr>\n",
       "      <th>9</th>\n",
       "      <td>0</td>\n",
       "      <td>0</td>\n",
       "      <td>0</td>\n",
       "      <td>unhappy</td>\n",
       "    </tr>\n",
       "  </tbody>\n",
       "</table>\n",
       "</div>"
      ],
      "text/plain": [
       "   supportive_colleagues  work_hour_flexibility  start_up   target\n",
       "0                      1                      1         1    happy\n",
       "1                      1                      1         0    happy\n",
       "2                      1                      0         1    happy\n",
       "3                      0                      1         0  unhappy\n",
       "4                      0                      1         1  unhappy\n",
       "5                      1                      0         0    happy\n",
       "6                      1                      1         0    happy\n",
       "7                      0                      0         1  unhappy\n",
       "8                      1                      0         1  unhappy\n",
       "9                      0                      0         0  unhappy"
      ]
     },
     "metadata": {},
     "output_type": "display_data"
    }
   ],
   "source": [
    "happiness_data = {\n",
    "    # Features\n",
    "    \"supportive_colleagues\" : [1, 1, 1, 0, 0, 1, 1, 0, 1, 0],\n",
    "    \"work_hour_flexibility\" : [1, 1, 0, 1, 1, 0, 1, 0, 0, 0],\n",
    "    \"start_up\" : [1, 0, 1, 0, 1, 0, 0, 1, 1, 0],\n",
    "    # Target\n",
    "    \"target\" : [\n",
    "        \"happy\",\n",
    "        \"happy\",\n",
    "        \"happy\",\n",
    "        \"unhappy\",\n",
    "        \"unhappy\",\n",
    "        \"happy\",\n",
    "        \"happy\",\n",
    "        \"unhappy\",\n",
    "        \"unhappy\",\n",
    "        \"unhappy\",\n",
    "    ],\n",
    "}\n",
    "\n",
    "train_df = pd.DataFrame(happiness_data)\n",
    "display(train_df)"
   ]
  },
  {
   "cell_type": "markdown",
   "metadata": {},
   "source": [
    "**Question 2.1** <br> {points: 2}  \n",
    "\n",
    "With this toy dataset, build a decision stump (decision tree with only 1 split) by hand by splitting on the condition `supportive_colleagues` == 1. \n",
    "\n",
    "What training accuracy would you get with this decision stump?\n",
    "\n",
    "Save the accuracy as a fraction in an object named `supportive_colleagues_acc`. "
   ]
  },
  {
   "cell_type": "code",
   "execution_count": 153,
   "metadata": {},
   "outputs": [],
   "source": [
    "X = train_df[[\"supportive_colleagues\"]]\n",
    "y = train_df[\"target\"]"
   ]
  },
  {
   "cell_type": "code",
   "execution_count": 154,
   "metadata": {},
   "outputs": [],
   "source": [
    "happiness_model = DecisionTreeClassifier(max_depth = 1, random_state = 1)"
   ]
  },
  {
   "cell_type": "code",
   "execution_count": 155,
   "metadata": {},
   "outputs": [
    {
     "data": {
      "text/plain": [
       "array(['happy', 'happy', 'happy', 'unhappy', 'unhappy', 'happy', 'happy',\n",
       "       'unhappy', 'happy', 'unhappy'], dtype=object)"
      ]
     },
     "metadata": {},
     "output_type": "display_data"
    }
   ],
   "source": [
    "happiness_model.fit(X, y)\n",
    "happiness_predicted = happiness_model.predict(X)\n",
    "\n",
    "display(happiness_predicted)"
   ]
  },
  {
   "cell_type": "code",
   "execution_count": 156,
   "metadata": {},
   "outputs": [
    {
     "data": {
      "text/html": [
       "<div>\n",
       "<style scoped>\n",
       "    .dataframe tbody tr th:only-of-type {\n",
       "        vertical-align: middle;\n",
       "    }\n",
       "\n",
       "    .dataframe tbody tr th {\n",
       "        vertical-align: top;\n",
       "    }\n",
       "\n",
       "    .dataframe thead th {\n",
       "        text-align: right;\n",
       "    }\n",
       "</style>\n",
       "<table border=\"1\" class=\"dataframe\">\n",
       "  <thead>\n",
       "    <tr style=\"text-align: right;\">\n",
       "      <th></th>\n",
       "      <th>supportive_colleagues</th>\n",
       "      <th>target</th>\n",
       "      <th>predicted</th>\n",
       "    </tr>\n",
       "  </thead>\n",
       "  <tbody>\n",
       "    <tr>\n",
       "      <th>0</th>\n",
       "      <td>1</td>\n",
       "      <td>happy</td>\n",
       "      <td>happy</td>\n",
       "    </tr>\n",
       "    <tr>\n",
       "      <th>1</th>\n",
       "      <td>1</td>\n",
       "      <td>happy</td>\n",
       "      <td>happy</td>\n",
       "    </tr>\n",
       "    <tr>\n",
       "      <th>2</th>\n",
       "      <td>1</td>\n",
       "      <td>happy</td>\n",
       "      <td>happy</td>\n",
       "    </tr>\n",
       "    <tr>\n",
       "      <th>3</th>\n",
       "      <td>0</td>\n",
       "      <td>unhappy</td>\n",
       "      <td>unhappy</td>\n",
       "    </tr>\n",
       "    <tr>\n",
       "      <th>4</th>\n",
       "      <td>0</td>\n",
       "      <td>unhappy</td>\n",
       "      <td>unhappy</td>\n",
       "    </tr>\n",
       "    <tr>\n",
       "      <th>5</th>\n",
       "      <td>1</td>\n",
       "      <td>happy</td>\n",
       "      <td>happy</td>\n",
       "    </tr>\n",
       "    <tr>\n",
       "      <th>6</th>\n",
       "      <td>1</td>\n",
       "      <td>happy</td>\n",
       "      <td>happy</td>\n",
       "    </tr>\n",
       "    <tr>\n",
       "      <th>7</th>\n",
       "      <td>0</td>\n",
       "      <td>unhappy</td>\n",
       "      <td>unhappy</td>\n",
       "    </tr>\n",
       "    <tr>\n",
       "      <th>8</th>\n",
       "      <td>1</td>\n",
       "      <td>unhappy</td>\n",
       "      <td>happy</td>\n",
       "    </tr>\n",
       "    <tr>\n",
       "      <th>9</th>\n",
       "      <td>0</td>\n",
       "      <td>unhappy</td>\n",
       "      <td>unhappy</td>\n",
       "    </tr>\n",
       "  </tbody>\n",
       "</table>\n",
       "</div>"
      ],
      "text/plain": [
       "   supportive_colleagues   target predicted\n",
       "0                      1    happy     happy\n",
       "1                      1    happy     happy\n",
       "2                      1    happy     happy\n",
       "3                      0  unhappy   unhappy\n",
       "4                      0  unhappy   unhappy\n",
       "5                      1    happy     happy\n",
       "6                      1    happy     happy\n",
       "7                      0  unhappy   unhappy\n",
       "8                      1  unhappy     happy\n",
       "9                      0  unhappy   unhappy"
      ]
     },
     "metadata": {},
     "output_type": "display_data"
    }
   ],
   "source": [
    "comparison_df = train_df[[\n",
    "    'supportive_colleagues', \n",
    "    'target'\n",
    "]]\n",
    "\n",
    "comparison_df = comparison_df.assign(predicted = happiness_predicted)\n",
    "\n",
    "display(comparison_df)"
   ]
  },
  {
   "cell_type": "code",
   "execution_count": 157,
   "metadata": {
    "deletable": false,
    "nbgrader": {
     "cell_type": "code",
     "checksum": "e7292236427913c05c3f27ff96d55932",
     "grade": false,
     "grade_id": "cell-b273a46c48122d28",
     "locked": false,
     "schema_version": 3,
     "solution": true,
     "task": false
    }
   },
   "outputs": [
    {
     "data": {
      "text/plain": [
       "0.9"
      ]
     },
     "metadata": {},
     "output_type": "display_data"
    }
   ],
   "source": [
    "supportive_colleagues_acc = happiness_model.score(X, y)\n",
    "\n",
    "display(supportive_colleagues_acc)"
   ]
  },
  {
   "cell_type": "code",
   "execution_count": 158,
   "metadata": {
    "deletable": false,
    "editable": false,
    "nbgrader": {
     "cell_type": "code",
     "checksum": "d41f0d38baccebed18fc923f50aa4ff8",
     "grade": true,
     "grade_id": "cell-e68da65f049cb330",
     "locked": true,
     "points": 2,
     "schema_version": 3,
     "solution": false,
     "task": false
    }
   },
   "outputs": [],
   "source": [
    "# check that the variable exists\n",
    "assert 'supportive_colleagues_acc' in globals(\n",
    "), \"Please make sure that your solution is named 'supportive_colleagues_acc'\"\n",
    "\n",
    "# This test has been intentionally hidden. It will be up to you to decide if your solution\n",
    "# is sufficiently good."
   ]
  },
  {
   "cell_type": "markdown",
   "metadata": {},
   "source": [
    "**Question 2.2** \n",
    "<br> {points: 1}\n",
    "\n",
    "The idea of a machine learning algorithm is to *fit* the best model on the given training data, which is in the form of feature vectors (`X`) and their corresponding targets(`y`),  and then using this model to *predict* targets for new examples (represented with feature vectors).\n",
    "\n",
    "From `train_df`, create the feature table and save it in an object named `X` and the target in an object named `y`. "
   ]
  },
  {
   "cell_type": "code",
   "execution_count": 159,
   "metadata": {
    "deletable": false,
    "nbgrader": {
     "cell_type": "code",
     "checksum": "5b8ed64454f48f9d0e7e876c595f3058",
     "grade": false,
     "grade_id": "cell-70545cc033402572",
     "locked": false,
     "schema_version": 3,
     "solution": true,
     "task": false
    }
   },
   "outputs": [
    {
     "data": {
      "text/html": [
       "<div>\n",
       "<style scoped>\n",
       "    .dataframe tbody tr th:only-of-type {\n",
       "        vertical-align: middle;\n",
       "    }\n",
       "\n",
       "    .dataframe tbody tr th {\n",
       "        vertical-align: top;\n",
       "    }\n",
       "\n",
       "    .dataframe thead th {\n",
       "        text-align: right;\n",
       "    }\n",
       "</style>\n",
       "<table border=\"1\" class=\"dataframe\">\n",
       "  <thead>\n",
       "    <tr style=\"text-align: right;\">\n",
       "      <th></th>\n",
       "      <th>supportive_colleagues</th>\n",
       "      <th>work_hour_flexibility</th>\n",
       "      <th>start_up</th>\n",
       "    </tr>\n",
       "  </thead>\n",
       "  <tbody>\n",
       "    <tr>\n",
       "      <th>0</th>\n",
       "      <td>1</td>\n",
       "      <td>1</td>\n",
       "      <td>1</td>\n",
       "    </tr>\n",
       "    <tr>\n",
       "      <th>1</th>\n",
       "      <td>1</td>\n",
       "      <td>1</td>\n",
       "      <td>0</td>\n",
       "    </tr>\n",
       "    <tr>\n",
       "      <th>2</th>\n",
       "      <td>1</td>\n",
       "      <td>0</td>\n",
       "      <td>1</td>\n",
       "    </tr>\n",
       "    <tr>\n",
       "      <th>3</th>\n",
       "      <td>0</td>\n",
       "      <td>1</td>\n",
       "      <td>0</td>\n",
       "    </tr>\n",
       "    <tr>\n",
       "      <th>4</th>\n",
       "      <td>0</td>\n",
       "      <td>1</td>\n",
       "      <td>1</td>\n",
       "    </tr>\n",
       "    <tr>\n",
       "      <th>5</th>\n",
       "      <td>1</td>\n",
       "      <td>0</td>\n",
       "      <td>0</td>\n",
       "    </tr>\n",
       "    <tr>\n",
       "      <th>6</th>\n",
       "      <td>1</td>\n",
       "      <td>1</td>\n",
       "      <td>0</td>\n",
       "    </tr>\n",
       "    <tr>\n",
       "      <th>7</th>\n",
       "      <td>0</td>\n",
       "      <td>0</td>\n",
       "      <td>1</td>\n",
       "    </tr>\n",
       "    <tr>\n",
       "      <th>8</th>\n",
       "      <td>1</td>\n",
       "      <td>0</td>\n",
       "      <td>1</td>\n",
       "    </tr>\n",
       "    <tr>\n",
       "      <th>9</th>\n",
       "      <td>0</td>\n",
       "      <td>0</td>\n",
       "      <td>0</td>\n",
       "    </tr>\n",
       "  </tbody>\n",
       "</table>\n",
       "</div>"
      ],
      "text/plain": [
       "   supportive_colleagues  work_hour_flexibility  start_up\n",
       "0                      1                      1         1\n",
       "1                      1                      1         0\n",
       "2                      1                      0         1\n",
       "3                      0                      1         0\n",
       "4                      0                      1         1\n",
       "5                      1                      0         0\n",
       "6                      1                      1         0\n",
       "7                      0                      0         1\n",
       "8                      1                      0         1\n",
       "9                      0                      0         0"
      ]
     },
     "metadata": {},
     "output_type": "display_data"
    }
   ],
   "source": [
    "X = train_df.drop(columns = ['target'])\n",
    "display(X)"
   ]
  },
  {
   "cell_type": "code",
   "execution_count": 160,
   "metadata": {},
   "outputs": [
    {
     "data": {
      "text/plain": [
       "0      happy\n",
       "1      happy\n",
       "2      happy\n",
       "3    unhappy\n",
       "4    unhappy\n",
       "5      happy\n",
       "6      happy\n",
       "7    unhappy\n",
       "8    unhappy\n",
       "9    unhappy\n",
       "Name: target, dtype: object"
      ]
     },
     "metadata": {},
     "output_type": "display_data"
    }
   ],
   "source": [
    "y = train_df['target']\n",
    "display(y)"
   ]
  },
  {
   "cell_type": "code",
   "execution_count": 161,
   "metadata": {
    "deletable": false,
    "editable": false,
    "nbgrader": {
     "cell_type": "code",
     "checksum": "405d393de7985dbd1899861650f73cd7",
     "grade": true,
     "grade_id": "cell-78887a980a05f8a6",
     "locked": true,
     "points": 1,
     "schema_version": 3,
     "solution": false,
     "task": false
    }
   },
   "outputs": [
    {
     "data": {
      "text/plain": [
       "'Success'"
      ]
     },
     "execution_count": 161,
     "metadata": {},
     "output_type": "execute_result"
    }
   ],
   "source": [
    "t.test_2_2(X,y)"
   ]
  },
  {
   "cell_type": "markdown",
   "metadata": {},
   "source": [
    "**Question 2.3** \n",
    "<br> {points: 1}\n",
    "\n",
    "Build a decision tree named `toy_tree` and fit it on the toy data using `sklearn`'s [DecisionTreeClassifier](https://scikit-learn.org/stable/modules/generated/sklearn.tree.DecisionTreeClassifier.html).\n"
   ]
  },
  {
   "cell_type": "code",
   "execution_count": 162,
   "metadata": {
    "deletable": false,
    "nbgrader": {
     "cell_type": "code",
     "checksum": "06f663dba2ba918f4c953f79f45e6a45",
     "grade": false,
     "grade_id": "cell-25ec106a99d0aed6",
     "locked": false,
     "schema_version": 3,
     "solution": true,
     "task": false
    }
   },
   "outputs": [
    {
     "data": {
      "text/html": [
       "<style>#sk-container-id-3 {color: black;background-color: white;}#sk-container-id-3 pre{padding: 0;}#sk-container-id-3 div.sk-toggleable {background-color: white;}#sk-container-id-3 label.sk-toggleable__label {cursor: pointer;display: block;width: 100%;margin-bottom: 0;padding: 0.3em;box-sizing: border-box;text-align: center;}#sk-container-id-3 label.sk-toggleable__label-arrow:before {content: \"▸\";float: left;margin-right: 0.25em;color: #696969;}#sk-container-id-3 label.sk-toggleable__label-arrow:hover:before {color: black;}#sk-container-id-3 div.sk-estimator:hover label.sk-toggleable__label-arrow:before {color: black;}#sk-container-id-3 div.sk-toggleable__content {max-height: 0;max-width: 0;overflow: hidden;text-align: left;background-color: #f0f8ff;}#sk-container-id-3 div.sk-toggleable__content pre {margin: 0.2em;color: black;border-radius: 0.25em;background-color: #f0f8ff;}#sk-container-id-3 input.sk-toggleable__control:checked~div.sk-toggleable__content {max-height: 200px;max-width: 100%;overflow: auto;}#sk-container-id-3 input.sk-toggleable__control:checked~label.sk-toggleable__label-arrow:before {content: \"▾\";}#sk-container-id-3 div.sk-estimator input.sk-toggleable__control:checked~label.sk-toggleable__label {background-color: #d4ebff;}#sk-container-id-3 div.sk-label input.sk-toggleable__control:checked~label.sk-toggleable__label {background-color: #d4ebff;}#sk-container-id-3 input.sk-hidden--visually {border: 0;clip: rect(1px 1px 1px 1px);clip: rect(1px, 1px, 1px, 1px);height: 1px;margin: -1px;overflow: hidden;padding: 0;position: absolute;width: 1px;}#sk-container-id-3 div.sk-estimator {font-family: monospace;background-color: #f0f8ff;border: 1px dotted black;border-radius: 0.25em;box-sizing: border-box;margin-bottom: 0.5em;}#sk-container-id-3 div.sk-estimator:hover {background-color: #d4ebff;}#sk-container-id-3 div.sk-parallel-item::after {content: \"\";width: 100%;border-bottom: 1px solid gray;flex-grow: 1;}#sk-container-id-3 div.sk-label:hover label.sk-toggleable__label {background-color: #d4ebff;}#sk-container-id-3 div.sk-serial::before {content: \"\";position: absolute;border-left: 1px solid gray;box-sizing: border-box;top: 0;bottom: 0;left: 50%;z-index: 0;}#sk-container-id-3 div.sk-serial {display: flex;flex-direction: column;align-items: center;background-color: white;padding-right: 0.2em;padding-left: 0.2em;position: relative;}#sk-container-id-3 div.sk-item {position: relative;z-index: 1;}#sk-container-id-3 div.sk-parallel {display: flex;align-items: stretch;justify-content: center;background-color: white;position: relative;}#sk-container-id-3 div.sk-item::before, #sk-container-id-3 div.sk-parallel-item::before {content: \"\";position: absolute;border-left: 1px solid gray;box-sizing: border-box;top: 0;bottom: 0;left: 50%;z-index: -1;}#sk-container-id-3 div.sk-parallel-item {display: flex;flex-direction: column;z-index: 1;position: relative;background-color: white;}#sk-container-id-3 div.sk-parallel-item:first-child::after {align-self: flex-end;width: 50%;}#sk-container-id-3 div.sk-parallel-item:last-child::after {align-self: flex-start;width: 50%;}#sk-container-id-3 div.sk-parallel-item:only-child::after {width: 0;}#sk-container-id-3 div.sk-dashed-wrapped {border: 1px dashed gray;margin: 0 0.4em 0.5em 0.4em;box-sizing: border-box;padding-bottom: 0.4em;background-color: white;}#sk-container-id-3 div.sk-label label {font-family: monospace;font-weight: bold;display: inline-block;line-height: 1.2em;}#sk-container-id-3 div.sk-label-container {text-align: center;}#sk-container-id-3 div.sk-container {/* jupyter's `normalize.less` sets `[hidden] { display: none; }` but bootstrap.min.css set `[hidden] { display: none !important; }` so we also need the `!important` here to be able to override the default hidden behavior on the sphinx rendered scikit-learn.org. See: https://github.com/scikit-learn/scikit-learn/issues/21755 */display: inline-block !important;position: relative;}#sk-container-id-3 div.sk-text-repr-fallback {display: none;}</style><div id=\"sk-container-id-3\" class=\"sk-top-container\"><div class=\"sk-text-repr-fallback\"><pre>DecisionTreeClassifier(random_state=1)</pre><b>In a Jupyter environment, please rerun this cell to show the HTML representation or trust the notebook. <br />On GitHub, the HTML representation is unable to render, please try loading this page with nbviewer.org.</b></div><div class=\"sk-container\" hidden><div class=\"sk-item\"><div class=\"sk-estimator sk-toggleable\"><input class=\"sk-toggleable__control sk-hidden--visually\" id=\"sk-estimator-id-3\" type=\"checkbox\" checked><label for=\"sk-estimator-id-3\" class=\"sk-toggleable__label sk-toggleable__label-arrow\">DecisionTreeClassifier</label><div class=\"sk-toggleable__content\"><pre>DecisionTreeClassifier(random_state=1)</pre></div></div></div></div></div>"
      ],
      "text/plain": [
       "DecisionTreeClassifier(random_state=1)"
      ]
     },
     "execution_count": 162,
     "metadata": {},
     "output_type": "execute_result"
    }
   ],
   "source": [
    "toy_tree = DecisionTreeClassifier(random_state = 1)\n",
    "toy_tree.fit(X, y)"
   ]
  },
  {
   "cell_type": "code",
   "execution_count": 163,
   "metadata": {
    "deletable": false,
    "editable": false,
    "nbgrader": {
     "cell_type": "code",
     "checksum": "4b2a47c656384bb7f7deb6d03c45e402",
     "grade": true,
     "grade_id": "cell-d64f0e79c3f60336",
     "locked": true,
     "points": 1,
     "schema_version": 3,
     "solution": false,
     "task": false
    }
   },
   "outputs": [
    {
     "data": {
      "text/plain": [
       "'Success'"
      ]
     },
     "execution_count": 163,
     "metadata": {},
     "output_type": "execute_result"
    }
   ],
   "source": [
    "t.test_2_3(toy_tree)"
   ]
  },
  {
   "cell_type": "markdown",
   "metadata": {},
   "source": [
    "**Question 2.4** <br> {points: 1}\n",
    "\n",
    "Visualize the trained decision tree using the function `display_tree` that we have imported from the `display_tree` library already. \n",
    "Save it in an object named `toy_displayed`.\n",
    "\n",
    "*Hint: use `?display_tree` to get more information about the function.*"
   ]
  },
  {
   "cell_type": "code",
   "execution_count": 164,
   "metadata": {},
   "outputs": [
    {
     "name": "stdout",
     "output_type": "stream",
     "text": [
      "\u001b[1;31mSignature:\u001b[0m \u001b[0mdisplay_tree\u001b[0m\u001b[1;33m(\u001b[0m\u001b[0mfeature_names\u001b[0m\u001b[1;33m,\u001b[0m \u001b[0mtree\u001b[0m\u001b[1;33m)\u001b[0m\u001b[1;33m\u001b[0m\u001b[1;33m\u001b[0m\u001b[0m\n",
      "\u001b[1;31mDocstring:\u001b[0m\n",
      "Will create a decision tree visualization showing the features used on each split. \n",
      "\n",
      "Parameters\n",
      "----------\n",
      "feature_names : list\n",
      "    The list of the features used in the decision tree\n",
      "tree : sklearn.tree._classes.DecisionTreeClassifier\n",
      "    The decision tree model we are using for prediction\n",
      "    \n",
      "Returns\n",
      "-------\n",
      "graphviz.files.Source \n",
      "    The decision tree visualization \n",
      "    \n",
      "Examples\n",
      "--------\n",
      ">>> display_tree(X.columns, model])\n",
      "\u001b[1;31mFile:\u001b[0m      c:\\my_files\\school\\school_work\\engineering_bachelors\\2022\\keycapabilities_datascience\\intro-ml-students\\release\\assignment2\\display_tree.py\n",
      "\u001b[1;31mType:\u001b[0m      function\n"
     ]
    }
   ],
   "source": [
    "?display_tree"
   ]
  },
  {
   "cell_type": "code",
   "execution_count": 165,
   "metadata": {
    "deletable": false,
    "nbgrader": {
     "cell_type": "code",
     "checksum": "94ae8b813cd38f22e3f551c5e267941f",
     "grade": false,
     "grade_id": "cell-e5fe770959fec147",
     "locked": false,
     "schema_version": 3,
     "solution": true,
     "task": false
    }
   },
   "outputs": [],
   "source": [
    "toy_displayed = display_tree(X.columns.to_list(), toy_tree)"
   ]
  },
  {
   "cell_type": "code",
   "execution_count": 166,
   "metadata": {
    "deletable": false,
    "editable": false,
    "nbgrader": {
     "cell_type": "code",
     "checksum": "692d8d48e04a53ae3b6f862543cb760a",
     "grade": true,
     "grade_id": "cell-e0d146b1478af2ca",
     "locked": true,
     "points": 1,
     "schema_version": 3,
     "solution": false,
     "task": false
    }
   },
   "outputs": [],
   "source": [
    "# t.test_2_4(toy_displayed)"
   ]
  },
  {
   "cell_type": "markdown",
   "metadata": {},
   "source": [
    "**Question 2.5** <br> {points: 1}\n",
    "\n",
    "Score the decision tree on the training data (`X` and `y`).\n",
    "Save the results in an object named `toy_score`. "
   ]
  },
  {
   "cell_type": "code",
   "execution_count": 167,
   "metadata": {
    "deletable": false,
    "nbgrader": {
     "cell_type": "code",
     "checksum": "eeb175f2c01f8a70101d333ff79dc4a0",
     "grade": false,
     "grade_id": "cell-cd274c5e40c8fc19",
     "locked": false,
     "schema_version": 3,
     "solution": true,
     "task": false
    }
   },
   "outputs": [
    {
     "data": {
      "text/plain": [
       "0.9"
      ]
     },
     "metadata": {},
     "output_type": "display_data"
    }
   ],
   "source": [
    "toy_score = toy_tree.score(X, y) \n",
    "\n",
    "display(toy_score)"
   ]
  },
  {
   "cell_type": "code",
   "execution_count": 168,
   "metadata": {
    "deletable": false,
    "editable": false,
    "nbgrader": {
     "cell_type": "code",
     "checksum": "9e61736bd72572aea72e38d6dfcb1d9b",
     "grade": true,
     "grade_id": "cell-4767e1fac2b98972",
     "locked": true,
     "points": 1,
     "schema_version": 3,
     "solution": false,
     "task": false
    }
   },
   "outputs": [
    {
     "data": {
      "text/plain": [
       "'Success'"
      ]
     },
     "execution_count": 168,
     "metadata": {},
     "output_type": "execute_result"
    }
   ],
   "source": [
    "t.test_2_5(toy_score)"
   ]
  },
  {
   "cell_type": "markdown",
   "metadata": {},
   "source": [
    "**Question 2.6** <br> {points: 1}\n",
    "\n",
    "Predict on `X`. Add the results as a column named `predicted` in the `train_df` and name this new dataframe `predicted_train`. "
   ]
  },
  {
   "cell_type": "code",
   "execution_count": 169,
   "metadata": {
    "deletable": false,
    "nbgrader": {
     "cell_type": "code",
     "checksum": "5d75fb9020bdc38fa2625f6df341853e",
     "grade": false,
     "grade_id": "cell-134c27bb0dab898d",
     "locked": false,
     "schema_version": 3,
     "solution": true,
     "task": false
    }
   },
   "outputs": [
    {
     "data": {
      "text/html": [
       "<div>\n",
       "<style scoped>\n",
       "    .dataframe tbody tr th:only-of-type {\n",
       "        vertical-align: middle;\n",
       "    }\n",
       "\n",
       "    .dataframe tbody tr th {\n",
       "        vertical-align: top;\n",
       "    }\n",
       "\n",
       "    .dataframe thead th {\n",
       "        text-align: right;\n",
       "    }\n",
       "</style>\n",
       "<table border=\"1\" class=\"dataframe\">\n",
       "  <thead>\n",
       "    <tr style=\"text-align: right;\">\n",
       "      <th></th>\n",
       "      <th>supportive_colleagues</th>\n",
       "      <th>work_hour_flexibility</th>\n",
       "      <th>start_up</th>\n",
       "      <th>target</th>\n",
       "      <th>predicted</th>\n",
       "    </tr>\n",
       "  </thead>\n",
       "  <tbody>\n",
       "    <tr>\n",
       "      <th>0</th>\n",
       "      <td>1</td>\n",
       "      <td>1</td>\n",
       "      <td>1</td>\n",
       "      <td>happy</td>\n",
       "      <td>happy</td>\n",
       "    </tr>\n",
       "    <tr>\n",
       "      <th>1</th>\n",
       "      <td>1</td>\n",
       "      <td>1</td>\n",
       "      <td>0</td>\n",
       "      <td>happy</td>\n",
       "      <td>happy</td>\n",
       "    </tr>\n",
       "    <tr>\n",
       "      <th>2</th>\n",
       "      <td>1</td>\n",
       "      <td>0</td>\n",
       "      <td>1</td>\n",
       "      <td>happy</td>\n",
       "      <td>happy</td>\n",
       "    </tr>\n",
       "    <tr>\n",
       "      <th>3</th>\n",
       "      <td>0</td>\n",
       "      <td>1</td>\n",
       "      <td>0</td>\n",
       "      <td>unhappy</td>\n",
       "      <td>unhappy</td>\n",
       "    </tr>\n",
       "    <tr>\n",
       "      <th>4</th>\n",
       "      <td>0</td>\n",
       "      <td>1</td>\n",
       "      <td>1</td>\n",
       "      <td>unhappy</td>\n",
       "      <td>unhappy</td>\n",
       "    </tr>\n",
       "    <tr>\n",
       "      <th>5</th>\n",
       "      <td>1</td>\n",
       "      <td>0</td>\n",
       "      <td>0</td>\n",
       "      <td>happy</td>\n",
       "      <td>happy</td>\n",
       "    </tr>\n",
       "    <tr>\n",
       "      <th>6</th>\n",
       "      <td>1</td>\n",
       "      <td>1</td>\n",
       "      <td>0</td>\n",
       "      <td>happy</td>\n",
       "      <td>happy</td>\n",
       "    </tr>\n",
       "    <tr>\n",
       "      <th>7</th>\n",
       "      <td>0</td>\n",
       "      <td>0</td>\n",
       "      <td>1</td>\n",
       "      <td>unhappy</td>\n",
       "      <td>unhappy</td>\n",
       "    </tr>\n",
       "    <tr>\n",
       "      <th>8</th>\n",
       "      <td>1</td>\n",
       "      <td>0</td>\n",
       "      <td>1</td>\n",
       "      <td>unhappy</td>\n",
       "      <td>happy</td>\n",
       "    </tr>\n",
       "    <tr>\n",
       "      <th>9</th>\n",
       "      <td>0</td>\n",
       "      <td>0</td>\n",
       "      <td>0</td>\n",
       "      <td>unhappy</td>\n",
       "      <td>unhappy</td>\n",
       "    </tr>\n",
       "  </tbody>\n",
       "</table>\n",
       "</div>"
      ],
      "text/plain": [
       "   supportive_colleagues  work_hour_flexibility  start_up   target predicted\n",
       "0                      1                      1         1    happy     happy\n",
       "1                      1                      1         0    happy     happy\n",
       "2                      1                      0         1    happy     happy\n",
       "3                      0                      1         0  unhappy   unhappy\n",
       "4                      0                      1         1  unhappy   unhappy\n",
       "5                      1                      0         0    happy     happy\n",
       "6                      1                      1         0    happy     happy\n",
       "7                      0                      0         1  unhappy   unhappy\n",
       "8                      1                      0         1  unhappy     happy\n",
       "9                      0                      0         0  unhappy   unhappy"
      ]
     },
     "metadata": {},
     "output_type": "display_data"
    }
   ],
   "source": [
    "predicted_train = train_df.copy()\n",
    "predicted_train = predicted_train.assign(predicted = toy_tree.predict(X))\n",
    "\n",
    "display(predicted_train)"
   ]
  },
  {
   "cell_type": "code",
   "execution_count": 170,
   "metadata": {
    "deletable": false,
    "editable": false,
    "nbgrader": {
     "cell_type": "code",
     "checksum": "6bde5f62d824451d5d08b50ec802e775",
     "grade": true,
     "grade_id": "cell-d364fe893db142e6",
     "locked": true,
     "points": 1,
     "schema_version": 3,
     "solution": false,
     "task": false
    }
   },
   "outputs": [
    {
     "data": {
      "text/plain": [
       "'Success'"
      ]
     },
     "execution_count": 170,
     "metadata": {},
     "output_type": "execute_result"
    }
   ],
   "source": [
    "t.test_2_6(predicted_train)"
   ]
  },
  {
   "cell_type": "markdown",
   "metadata": {},
   "source": [
    "**Question 2.7** <br> {points: 1}\n",
    "\n",
    "Do you get perfect training accuracy? \n",
    "\n",
    "\n",
    "A) Yes, the model correctly predicts every single observation\n",
    "\n",
    "B) No, the model made a mistake likely because the decision tree wasn't complex enough.\n",
    "\n",
    "C) No, there are two examples in the dataset with exactly the same feature values but different targets so the model makes a mistake on one of them. \n",
    "\n",
    "D No, the model is randomly predicting and therefore it won't get every single example correct. \n",
    "\n",
    "*Answer in the cell below using the uppercase letter associated with your answer. Place your answer between `\"\"`, assign the correct answer to an object called `answer2_7`.*"
   ]
  },
  {
   "cell_type": "code",
   "execution_count": 171,
   "metadata": {},
   "outputs": [
    {
     "data": {
      "text/html": [
       "<div>\n",
       "<style scoped>\n",
       "    .dataframe tbody tr th:only-of-type {\n",
       "        vertical-align: middle;\n",
       "    }\n",
       "\n",
       "    .dataframe tbody tr th {\n",
       "        vertical-align: top;\n",
       "    }\n",
       "\n",
       "    .dataframe thead th {\n",
       "        text-align: right;\n",
       "    }\n",
       "</style>\n",
       "<table border=\"1\" class=\"dataframe\">\n",
       "  <thead>\n",
       "    <tr style=\"text-align: right;\">\n",
       "      <th></th>\n",
       "      <th>supportive_colleagues</th>\n",
       "      <th>work_hour_flexibility</th>\n",
       "      <th>start_up</th>\n",
       "      <th>target</th>\n",
       "      <th>predicted</th>\n",
       "    </tr>\n",
       "  </thead>\n",
       "  <tbody>\n",
       "    <tr>\n",
       "      <th>2</th>\n",
       "      <td>1</td>\n",
       "      <td>0</td>\n",
       "      <td>1</td>\n",
       "      <td>happy</td>\n",
       "      <td>happy</td>\n",
       "    </tr>\n",
       "    <tr>\n",
       "      <th>8</th>\n",
       "      <td>1</td>\n",
       "      <td>0</td>\n",
       "      <td>1</td>\n",
       "      <td>unhappy</td>\n",
       "      <td>happy</td>\n",
       "    </tr>\n",
       "  </tbody>\n",
       "</table>\n",
       "</div>"
      ],
      "text/plain": [
       "   supportive_colleagues  work_hour_flexibility  start_up   target predicted\n",
       "2                      1                      0         1    happy     happy\n",
       "8                      1                      0         1  unhappy     happy"
      ]
     },
     "metadata": {},
     "output_type": "display_data"
    }
   ],
   "source": [
    "feature_values = predicted_train.query('target != predicted').drop(['target', 'predicted'], axis = 1).to_dict(orient = 'records')[0]\n",
    "\n",
    "# Find all examples with the same feature values as the incorrect prediction.\n",
    "effective_df = predicted_train.copy()\n",
    "for feature, value in feature_values.items() :\n",
    "    effective_df = effective_df.query(f'{feature} == {value}')\n",
    "display(effective_df)"
   ]
  },
  {
   "cell_type": "code",
   "execution_count": 172,
   "metadata": {
    "deletable": false,
    "nbgrader": {
     "cell_type": "code",
     "checksum": "4f57cb6b4f58a1154e8831f4fc20fc82",
     "grade": false,
     "grade_id": "cell-70ef59481896d9a6",
     "locked": false,
     "schema_version": 3,
     "solution": true,
     "task": false
    }
   },
   "outputs": [],
   "source": [
    "answer2_7 = 'C'"
   ]
  },
  {
   "cell_type": "code",
   "execution_count": 173,
   "metadata": {
    "deletable": false,
    "editable": false,
    "nbgrader": {
     "cell_type": "code",
     "checksum": "98fdeee8898bc65824752abafe60f5d5",
     "grade": true,
     "grade_id": "cell-6bb3af682e405ef1",
     "locked": true,
     "points": 1,
     "schema_version": 3,
     "solution": false,
     "task": false
    }
   },
   "outputs": [
    {
     "data": {
      "text/plain": [
       "'Success'"
      ]
     },
     "execution_count": 173,
     "metadata": {},
     "output_type": "execute_result"
    }
   ],
   "source": [
    "t.test_2_7(answer2_7)"
   ]
  },
  {
   "cell_type": "markdown",
   "metadata": {},
   "source": [
    "**Question 2.8** <br> {points: 1}\n",
    "\n",
    "Create a feature table from the `offer_df` (We don't know the target value in this case). \n",
    "\n",
    "*Save this in an object named `offer_X`*."
   ]
  },
  {
   "cell_type": "code",
   "execution_count": 174,
   "metadata": {
    "deletable": false,
    "nbgrader": {
     "cell_type": "code",
     "checksum": "1377d293a3db3afb1717eaee9e46567f",
     "grade": false,
     "grade_id": "cell-0e56f9e7d3451988",
     "locked": false,
     "schema_version": 3,
     "solution": true,
     "task": false
    }
   },
   "outputs": [
    {
     "data": {
      "text/html": [
       "<div>\n",
       "<style scoped>\n",
       "    .dataframe tbody tr th:only-of-type {\n",
       "        vertical-align: middle;\n",
       "    }\n",
       "\n",
       "    .dataframe tbody tr th {\n",
       "        vertical-align: top;\n",
       "    }\n",
       "\n",
       "    .dataframe thead th {\n",
       "        text-align: right;\n",
       "    }\n",
       "</style>\n",
       "<table border=\"1\" class=\"dataframe\">\n",
       "  <thead>\n",
       "    <tr style=\"text-align: right;\">\n",
       "      <th></th>\n",
       "      <th>supportive_colleagues</th>\n",
       "      <th>work_hour_flexibility</th>\n",
       "      <th>start_up</th>\n",
       "    </tr>\n",
       "  </thead>\n",
       "  <tbody>\n",
       "    <tr>\n",
       "      <th>0</th>\n",
       "      <td>1</td>\n",
       "      <td>0</td>\n",
       "      <td>0</td>\n",
       "    </tr>\n",
       "    <tr>\n",
       "      <th>1</th>\n",
       "      <td>0</td>\n",
       "      <td>0</td>\n",
       "      <td>1</td>\n",
       "    </tr>\n",
       "    <tr>\n",
       "      <th>2</th>\n",
       "      <td>0</td>\n",
       "      <td>1</td>\n",
       "      <td>1</td>\n",
       "    </tr>\n",
       "  </tbody>\n",
       "</table>\n",
       "</div>"
      ],
      "text/plain": [
       "   supportive_colleagues  work_hour_flexibility  start_up\n",
       "0                      1                      0         0\n",
       "1                      0                      0         1\n",
       "2                      0                      1         1"
      ]
     },
     "metadata": {},
     "output_type": "display_data"
    }
   ],
   "source": [
    "offer_X = offer_df.drop(columns = ['target'])\n",
    "\n",
    "display(offer_X)"
   ]
  },
  {
   "cell_type": "code",
   "execution_count": 175,
   "metadata": {
    "deletable": false,
    "editable": false,
    "nbgrader": {
     "cell_type": "code",
     "checksum": "124e6b6792e4b4c583fa903b2025e862",
     "grade": true,
     "grade_id": "cell-fd1dd525acb2556e",
     "locked": true,
     "points": 1,
     "schema_version": 3,
     "solution": false,
     "task": false
    }
   },
   "outputs": [
    {
     "data": {
      "text/plain": [
       "'Success'"
      ]
     },
     "execution_count": 175,
     "metadata": {},
     "output_type": "execute_result"
    }
   ],
   "source": [
    "t.test_2_8(offer_X)"
   ]
  },
  {
   "cell_type": "markdown",
   "metadata": {},
   "source": [
    "**Question 2.9** <br> {points: 1}\n",
    "\n",
    "Use the model `toy_tree` to predict which jobs from the `offer_df`, you will be happy working.  In other words, `predict` on `offer_X`.\n",
    "\n",
    "Add a column to the `offer_df` dataframe named `predicted` and save the whole dataframe in an object named `pred_offer_df`."
   ]
  },
  {
   "cell_type": "code",
   "execution_count": 176,
   "metadata": {
    "deletable": false,
    "nbgrader": {
     "cell_type": "code",
     "checksum": "2fe9335236b56db33018e3cf72b9c2c7",
     "grade": false,
     "grade_id": "cell-5b44447ae8a53934",
     "locked": false,
     "schema_version": 3,
     "solution": true,
     "task": false
    }
   },
   "outputs": [
    {
     "data": {
      "text/html": [
       "<div>\n",
       "<style scoped>\n",
       "    .dataframe tbody tr th:only-of-type {\n",
       "        vertical-align: middle;\n",
       "    }\n",
       "\n",
       "    .dataframe tbody tr th {\n",
       "        vertical-align: top;\n",
       "    }\n",
       "\n",
       "    .dataframe thead th {\n",
       "        text-align: right;\n",
       "    }\n",
       "</style>\n",
       "<table border=\"1\" class=\"dataframe\">\n",
       "  <thead>\n",
       "    <tr style=\"text-align: right;\">\n",
       "      <th></th>\n",
       "      <th>supportive_colleagues</th>\n",
       "      <th>work_hour_flexibility</th>\n",
       "      <th>start_up</th>\n",
       "      <th>target</th>\n",
       "      <th>predicted</th>\n",
       "    </tr>\n",
       "  </thead>\n",
       "  <tbody>\n",
       "    <tr>\n",
       "      <th>0</th>\n",
       "      <td>1</td>\n",
       "      <td>0</td>\n",
       "      <td>0</td>\n",
       "      <td>?</td>\n",
       "      <td>happy</td>\n",
       "    </tr>\n",
       "    <tr>\n",
       "      <th>1</th>\n",
       "      <td>0</td>\n",
       "      <td>0</td>\n",
       "      <td>1</td>\n",
       "      <td>?</td>\n",
       "      <td>unhappy</td>\n",
       "    </tr>\n",
       "    <tr>\n",
       "      <th>2</th>\n",
       "      <td>0</td>\n",
       "      <td>1</td>\n",
       "      <td>1</td>\n",
       "      <td>?</td>\n",
       "      <td>unhappy</td>\n",
       "    </tr>\n",
       "  </tbody>\n",
       "</table>\n",
       "</div>"
      ],
      "text/plain": [
       "   supportive_colleagues  work_hour_flexibility  start_up target predicted\n",
       "0                      1                      0         0      ?     happy\n",
       "1                      0                      0         1      ?   unhappy\n",
       "2                      0                      1         1      ?   unhappy"
      ]
     },
     "metadata": {},
     "output_type": "display_data"
    }
   ],
   "source": [
    "pred_offer_df = offer_df.copy()\n",
    "pred_offer_df = pred_offer_df.assign(predicted = toy_tree.predict(offer_X))\n",
    "display(pred_offer_df)"
   ]
  },
  {
   "cell_type": "code",
   "execution_count": 177,
   "metadata": {
    "deletable": false,
    "editable": false,
    "nbgrader": {
     "cell_type": "code",
     "checksum": "2e1f59e53a77235fd6c8b05a6e858dca",
     "grade": true,
     "grade_id": "cell-c82446073aafe6f0",
     "locked": true,
     "points": 1,
     "schema_version": 3,
     "solution": false,
     "task": false
    }
   },
   "outputs": [
    {
     "data": {
      "text/plain": [
       "'Success'"
      ]
     },
     "execution_count": 177,
     "metadata": {},
     "output_type": "execute_result"
    }
   ],
   "source": [
    "t.test_2_9(pred_offer_df)"
   ]
  },
  {
   "cell_type": "markdown",
   "metadata": {},
   "source": [
    "# 3. Exploratory Data Analysis and Decision Trees "
   ]
  },
  {
   "cell_type": "markdown",
   "metadata": {},
   "source": [
    "For the rest of the lab you'll be using a modified version of Kaggle's [Pokemon](https://www.kaggle.com/mlomuscio/pokemon?select=PokemonData.csv) dataset.\n",
    "The dataset contains a number of features of pokemon's strength and weaknesses:\n",
    "\n",
    "- `num`: ID for each Pokémon.\n",
    "- `name`: Name of each Pokémon.\n",
    "- `type`: Each Pokémon has a type, this determines weakness/resistance to attacks.\n",
    "- `hp`: Hit points, or health, defines how much damage a Pokémon can withstand before fainting.\n",
    "- `attack`: The base modifier for normal attacks (eg. Scratch, Punch).\n",
    "- `defense`: The base damage resistance against normal attacks.\n",
    "- `sp_atk`: Special attack, the base modifier for special attacks (e.g. fire blast, bubble beam).\n",
    "- `sp_def`: The base damage resistance against special attacks.\n",
    "- `total`: Sum of the `attack`, `defense`, `sp_atk`, and `sp_def` columns\n",
    "- `speed`: Determines which Pokémon attacks first each round.\n",
    "- `generation`: Number of generation.\n",
    "- `legendary`: 1 if Legendary Pokémon, 0 if not.\n",
    "\n",
    "In this question, our target is the `legendary` column."
   ]
  },
  {
   "cell_type": "code",
   "execution_count": 178,
   "metadata": {},
   "outputs": [
    {
     "data": {
      "text/html": [
       "<div>\n",
       "<style scoped>\n",
       "    .dataframe tbody tr th:only-of-type {\n",
       "        vertical-align: middle;\n",
       "    }\n",
       "\n",
       "    .dataframe tbody tr th {\n",
       "        vertical-align: top;\n",
       "    }\n",
       "\n",
       "    .dataframe thead th {\n",
       "        text-align: right;\n",
       "    }\n",
       "</style>\n",
       "<table border=\"1\" class=\"dataframe\">\n",
       "  <thead>\n",
       "    <tr style=\"text-align: right;\">\n",
       "      <th></th>\n",
       "      <th>num</th>\n",
       "      <th>name</th>\n",
       "      <th>hp</th>\n",
       "      <th>attack</th>\n",
       "      <th>defense</th>\n",
       "      <th>sp_atk</th>\n",
       "      <th>sp_def</th>\n",
       "      <th>speed</th>\n",
       "      <th>total</th>\n",
       "      <th>generation</th>\n",
       "      <th>legendary</th>\n",
       "      <th>type</th>\n",
       "    </tr>\n",
       "  </thead>\n",
       "  <tbody>\n",
       "    <tr>\n",
       "      <th>0</th>\n",
       "      <td>1</td>\n",
       "      <td>Bulbasaur</td>\n",
       "      <td>45</td>\n",
       "      <td>49</td>\n",
       "      <td>49</td>\n",
       "      <td>65</td>\n",
       "      <td>65</td>\n",
       "      <td>45</td>\n",
       "      <td>228</td>\n",
       "      <td>1</td>\n",
       "      <td>0</td>\n",
       "      <td>Grass</td>\n",
       "    </tr>\n",
       "    <tr>\n",
       "      <th>1</th>\n",
       "      <td>2</td>\n",
       "      <td>Ivysaur</td>\n",
       "      <td>60</td>\n",
       "      <td>62</td>\n",
       "      <td>63</td>\n",
       "      <td>80</td>\n",
       "      <td>80</td>\n",
       "      <td>60</td>\n",
       "      <td>285</td>\n",
       "      <td>1</td>\n",
       "      <td>0</td>\n",
       "      <td>Grass</td>\n",
       "    </tr>\n",
       "    <tr>\n",
       "      <th>2</th>\n",
       "      <td>3</td>\n",
       "      <td>Venusaur</td>\n",
       "      <td>80</td>\n",
       "      <td>82</td>\n",
       "      <td>83</td>\n",
       "      <td>100</td>\n",
       "      <td>100</td>\n",
       "      <td>80</td>\n",
       "      <td>365</td>\n",
       "      <td>1</td>\n",
       "      <td>0</td>\n",
       "      <td>Grass</td>\n",
       "    </tr>\n",
       "    <tr>\n",
       "      <th>3</th>\n",
       "      <td>3</td>\n",
       "      <td>VenusaurMega Venusaur</td>\n",
       "      <td>80</td>\n",
       "      <td>100</td>\n",
       "      <td>123</td>\n",
       "      <td>122</td>\n",
       "      <td>120</td>\n",
       "      <td>80</td>\n",
       "      <td>465</td>\n",
       "      <td>1</td>\n",
       "      <td>0</td>\n",
       "      <td>Grass</td>\n",
       "    </tr>\n",
       "    <tr>\n",
       "      <th>4</th>\n",
       "      <td>4</td>\n",
       "      <td>Charmander</td>\n",
       "      <td>39</td>\n",
       "      <td>52</td>\n",
       "      <td>43</td>\n",
       "      <td>60</td>\n",
       "      <td>50</td>\n",
       "      <td>65</td>\n",
       "      <td>205</td>\n",
       "      <td>1</td>\n",
       "      <td>0</td>\n",
       "      <td>Fire</td>\n",
       "    </tr>\n",
       "  </tbody>\n",
       "</table>\n",
       "</div>"
      ],
      "text/plain": [
       "   num                   name  hp  attack  defense  sp_atk  sp_def  speed  \\\n",
       "0    1              Bulbasaur  45      49       49      65      65     45   \n",
       "1    2                Ivysaur  60      62       63      80      80     60   \n",
       "2    3               Venusaur  80      82       83     100     100     80   \n",
       "3    3  VenusaurMega Venusaur  80     100      123     122     120     80   \n",
       "4    4             Charmander  39      52       43      60      50     65   \n",
       "\n",
       "   total  generation  legendary   type  \n",
       "0    228           1          0  Grass  \n",
       "1    285           1          0  Grass  \n",
       "2    365           1          0  Grass  \n",
       "3    465           1          0  Grass  \n",
       "4    205           1          0   Fire  "
      ]
     },
     "metadata": {},
     "output_type": "display_data"
    }
   ],
   "source": [
    "pokemon = pd.read_csv('data/pokemon.csv')\n",
    "display(pokemon.head())"
   ]
  },
  {
   "cell_type": "markdown",
   "metadata": {},
   "source": [
    "**Question 3.1** <br> {points: 1}\n",
    "\n",
    "Show information of each feature using `pd.DataFrame.info` on `pokemon` and answer the question below.\n",
    "\n",
    "Select all that apply : \n",
    "\n",
    "\n",
    "A) There are `13` columns in the dataset.\n",
    "\n",
    "B) The legendary column is of Dtype `int64`.\n",
    "\n",
    "C) `5` columns have null values. \n",
    "\n",
    "D The name column is of Dtype `string`.\n",
    "\n",
    "*Answer in the cell below using the uppercase letter associated with your answer. Place your answer(s) between `\"\"` in a list, assign the correct answer to an object called `answer3_1`. For example [\"A', \"B\"] is a possible answer*"
   ]
  },
  {
   "cell_type": "code",
   "execution_count": 179,
   "metadata": {
    "deletable": false,
    "nbgrader": {
     "cell_type": "code",
     "checksum": "e959e16c1f67d2e1a18a8dd519a4a238",
     "grade": false,
     "grade_id": "cell-a2db47fb095f7f28",
     "locked": false,
     "schema_version": 3,
     "solution": true,
     "task": false
    }
   },
   "outputs": [
    {
     "name": "stdout",
     "output_type": "stream",
     "text": [
      "<class 'pandas.core.frame.DataFrame'>\n",
      "RangeIndex: 800 entries, 0 to 799\n",
      "Data columns (total 12 columns):\n",
      " #   Column      Non-Null Count  Dtype \n",
      "---  ------      --------------  ----- \n",
      " 0   num         800 non-null    int64 \n",
      " 1   name        800 non-null    object\n",
      " 2   hp          800 non-null    int64 \n",
      " 3   attack      800 non-null    int64 \n",
      " 4   defense     800 non-null    int64 \n",
      " 5   sp_atk      800 non-null    int64 \n",
      " 6   sp_def      800 non-null    int64 \n",
      " 7   speed       800 non-null    int64 \n",
      " 8   total       800 non-null    int64 \n",
      " 9   generation  800 non-null    int64 \n",
      " 10  legendary   800 non-null    int64 \n",
      " 11  type        800 non-null    object\n",
      "dtypes: int64(10), object(2)\n",
      "memory usage: 75.1+ KB\n"
     ]
    },
    {
     "data": {
      "text/plain": [
       "None"
      ]
     },
     "metadata": {},
     "output_type": "display_data"
    }
   ],
   "source": [
    "display(pokemon.info())"
   ]
  },
  {
   "cell_type": "code",
   "execution_count": 180,
   "metadata": {},
   "outputs": [],
   "source": [
    "# This is wrong. The answer should be :\n",
    "# answer3_1 = ['B']\n",
    "answer3_1 = ['B', 'D']"
   ]
  },
  {
   "cell_type": "code",
   "execution_count": 181,
   "metadata": {
    "deletable": false,
    "editable": false,
    "nbgrader": {
     "cell_type": "code",
     "checksum": "490616bf3f9cfafdcdc1e4688981c22d",
     "grade": true,
     "grade_id": "cell-9bb18e26df9c9535",
     "locked": true,
     "points": 1,
     "schema_version": 3,
     "solution": false,
     "task": false
    }
   },
   "outputs": [
    {
     "data": {
      "text/plain": [
       "'Success'"
      ]
     },
     "execution_count": 181,
     "metadata": {},
     "output_type": "execute_result"
    }
   ],
   "source": [
    "t.test_3_1(answer3_1)"
   ]
  },
  {
   "cell_type": "markdown",
   "metadata": {},
   "source": [
    "**Question 3.2** <br> {points: 1}\n",
    "\n",
    "Show summary statistics of each feature using `pd.DataFrame.describe` on `pokemon` and store it into a variable called `pokemon_summary`. "
   ]
  },
  {
   "cell_type": "code",
   "execution_count": 182,
   "metadata": {
    "deletable": false,
    "nbgrader": {
     "cell_type": "code",
     "checksum": "eb723d6d35caad653bb110283390785b",
     "grade": false,
     "grade_id": "cell-eda75ea4a9bc77be",
     "locked": false,
     "schema_version": 3,
     "solution": true,
     "task": false
    }
   },
   "outputs": [
    {
     "data": {
      "text/html": [
       "<div>\n",
       "<style scoped>\n",
       "    .dataframe tbody tr th:only-of-type {\n",
       "        vertical-align: middle;\n",
       "    }\n",
       "\n",
       "    .dataframe tbody tr th {\n",
       "        vertical-align: top;\n",
       "    }\n",
       "\n",
       "    .dataframe thead th {\n",
       "        text-align: right;\n",
       "    }\n",
       "</style>\n",
       "<table border=\"1\" class=\"dataframe\">\n",
       "  <thead>\n",
       "    <tr style=\"text-align: right;\">\n",
       "      <th></th>\n",
       "      <th>num</th>\n",
       "      <th>hp</th>\n",
       "      <th>attack</th>\n",
       "      <th>defense</th>\n",
       "      <th>sp_atk</th>\n",
       "      <th>sp_def</th>\n",
       "      <th>speed</th>\n",
       "      <th>total</th>\n",
       "      <th>generation</th>\n",
       "      <th>legendary</th>\n",
       "    </tr>\n",
       "  </thead>\n",
       "  <tbody>\n",
       "    <tr>\n",
       "      <th>count</th>\n",
       "      <td>800.000000</td>\n",
       "      <td>800.000000</td>\n",
       "      <td>800.000000</td>\n",
       "      <td>800.000000</td>\n",
       "      <td>800.000000</td>\n",
       "      <td>800.000000</td>\n",
       "      <td>800.000000</td>\n",
       "      <td>800.000000</td>\n",
       "      <td>800.00000</td>\n",
       "      <td>800.00000</td>\n",
       "    </tr>\n",
       "    <tr>\n",
       "      <th>mean</th>\n",
       "      <td>362.813750</td>\n",
       "      <td>69.258750</td>\n",
       "      <td>79.001250</td>\n",
       "      <td>73.842500</td>\n",
       "      <td>72.820000</td>\n",
       "      <td>71.902500</td>\n",
       "      <td>68.277500</td>\n",
       "      <td>297.566250</td>\n",
       "      <td>3.32375</td>\n",
       "      <td>0.08125</td>\n",
       "    </tr>\n",
       "    <tr>\n",
       "      <th>std</th>\n",
       "      <td>208.343798</td>\n",
       "      <td>25.534669</td>\n",
       "      <td>32.457366</td>\n",
       "      <td>31.183501</td>\n",
       "      <td>32.722294</td>\n",
       "      <td>27.828916</td>\n",
       "      <td>29.060474</td>\n",
       "      <td>91.336677</td>\n",
       "      <td>1.66129</td>\n",
       "      <td>0.27339</td>\n",
       "    </tr>\n",
       "    <tr>\n",
       "      <th>min</th>\n",
       "      <td>1.000000</td>\n",
       "      <td>1.000000</td>\n",
       "      <td>5.000000</td>\n",
       "      <td>5.000000</td>\n",
       "      <td>10.000000</td>\n",
       "      <td>20.000000</td>\n",
       "      <td>5.000000</td>\n",
       "      <td>90.000000</td>\n",
       "      <td>1.00000</td>\n",
       "      <td>0.00000</td>\n",
       "    </tr>\n",
       "    <tr>\n",
       "      <th>25%</th>\n",
       "      <td>184.750000</td>\n",
       "      <td>50.000000</td>\n",
       "      <td>55.000000</td>\n",
       "      <td>50.000000</td>\n",
       "      <td>49.750000</td>\n",
       "      <td>50.000000</td>\n",
       "      <td>45.000000</td>\n",
       "      <td>225.000000</td>\n",
       "      <td>2.00000</td>\n",
       "      <td>0.00000</td>\n",
       "    </tr>\n",
       "    <tr>\n",
       "      <th>50%</th>\n",
       "      <td>364.500000</td>\n",
       "      <td>65.000000</td>\n",
       "      <td>75.000000</td>\n",
       "      <td>70.000000</td>\n",
       "      <td>65.000000</td>\n",
       "      <td>70.000000</td>\n",
       "      <td>65.000000</td>\n",
       "      <td>295.000000</td>\n",
       "      <td>3.00000</td>\n",
       "      <td>0.00000</td>\n",
       "    </tr>\n",
       "    <tr>\n",
       "      <th>75%</th>\n",
       "      <td>539.250000</td>\n",
       "      <td>80.000000</td>\n",
       "      <td>100.000000</td>\n",
       "      <td>90.000000</td>\n",
       "      <td>95.000000</td>\n",
       "      <td>90.000000</td>\n",
       "      <td>90.000000</td>\n",
       "      <td>365.000000</td>\n",
       "      <td>5.00000</td>\n",
       "      <td>0.00000</td>\n",
       "    </tr>\n",
       "    <tr>\n",
       "      <th>max</th>\n",
       "      <td>721.000000</td>\n",
       "      <td>255.000000</td>\n",
       "      <td>190.000000</td>\n",
       "      <td>230.000000</td>\n",
       "      <td>194.000000</td>\n",
       "      <td>230.000000</td>\n",
       "      <td>180.000000</td>\n",
       "      <td>580.000000</td>\n",
       "      <td>6.00000</td>\n",
       "      <td>1.00000</td>\n",
       "    </tr>\n",
       "  </tbody>\n",
       "</table>\n",
       "</div>"
      ],
      "text/plain": [
       "              num          hp      attack     defense      sp_atk      sp_def  \\\n",
       "count  800.000000  800.000000  800.000000  800.000000  800.000000  800.000000   \n",
       "mean   362.813750   69.258750   79.001250   73.842500   72.820000   71.902500   \n",
       "std    208.343798   25.534669   32.457366   31.183501   32.722294   27.828916   \n",
       "min      1.000000    1.000000    5.000000    5.000000   10.000000   20.000000   \n",
       "25%    184.750000   50.000000   55.000000   50.000000   49.750000   50.000000   \n",
       "50%    364.500000   65.000000   75.000000   70.000000   65.000000   70.000000   \n",
       "75%    539.250000   80.000000  100.000000   90.000000   95.000000   90.000000   \n",
       "max    721.000000  255.000000  190.000000  230.000000  194.000000  230.000000   \n",
       "\n",
       "            speed       total  generation  legendary  \n",
       "count  800.000000  800.000000   800.00000  800.00000  \n",
       "mean    68.277500  297.566250     3.32375    0.08125  \n",
       "std     29.060474   91.336677     1.66129    0.27339  \n",
       "min      5.000000   90.000000     1.00000    0.00000  \n",
       "25%     45.000000  225.000000     2.00000    0.00000  \n",
       "50%     65.000000  295.000000     3.00000    0.00000  \n",
       "75%     90.000000  365.000000     5.00000    0.00000  \n",
       "max    180.000000  580.000000     6.00000    1.00000  "
      ]
     },
     "metadata": {},
     "output_type": "display_data"
    }
   ],
   "source": [
    "pokemon_summary = pokemon.describe()\n",
    "\n",
    "display(pokemon_summary)"
   ]
  },
  {
   "cell_type": "code",
   "execution_count": 183,
   "metadata": {
    "deletable": false,
    "editable": false,
    "nbgrader": {
     "cell_type": "code",
     "checksum": "b5cad38705f4bd7a2d670cbbf579db84",
     "grade": true,
     "grade_id": "cell-46d96af7948da033",
     "locked": true,
     "points": 1,
     "schema_version": 3,
     "solution": false,
     "task": false
    }
   },
   "outputs": [
    {
     "data": {
      "text/plain": [
       "'Success'"
      ]
     },
     "execution_count": 183,
     "metadata": {},
     "output_type": "execute_result"
    }
   ],
   "source": [
    "t.test_3_2(pokemon_summary)"
   ]
  },
  {
   "cell_type": "markdown",
   "metadata": {},
   "source": [
    "**Question 3.3** <br> {points: 1}\n",
    "\n",
    "Using the Altair skills that you learned in [**Programming in Python for Data Science**](https://prog-learn.mds.ubc.ca/en/), Take the code below that we started for you (between the `'''`) and copy it into the solution cell. Fill in the blank areas (`....`) so that the code produces histograms for the following features (in order) that show the distribution of the feature values, separated for 0 and 1 target values. \n",
    "\n",
    "- `hp`\n",
    "- `attack`\n",
    "- `defense`\n",
    "- `sp_atk`\n",
    "- `sp_def`\n",
    "- `speed`\n",
    "- `total`\n"
   ]
  },
  {
   "cell_type": "markdown",
   "metadata": {},
   "source": [
    "```\n",
    "def plot_histogram(df,feature):\n",
    "    \"\"\"\n",
    "    plots a histogram of a decision trees feature\n",
    "     \n",
    "    Parameters\n",
    "    ----------\n",
    "    feature: str\n",
    "        the feature name\n",
    "    Returns\n",
    "    -------\n",
    "    altair.vegalite.v3.api.Chart\n",
    "        an Altair histogram \n",
    "    \"\"\"\n",
    "    histogram = alt.Chart(df).mark_bar(\n",
    "        opacity=0.7).encode(\n",
    "        alt.X(feature, bin=alt.Bin(maxbins=50)),\n",
    "        alt.Y('count()', stack=None),\n",
    "        alt.Color(....)).properties(\n",
    "        title= str.title(feature))\n",
    "    return ....\n",
    "\n",
    "feature_list = ....\n",
    "figure_dict = dict()\n",
    "for feature in .... :\n",
    "    figure_dict.update({feature:plot_histogram(....,feature)})\n",
    "figure_panel = alt.vconcat(*figure_dict.values())\n",
    "figure_panel\n",
    "```"
   ]
  },
  {
   "cell_type": "code",
   "execution_count": 184,
   "metadata": {},
   "outputs": [
    {
     "data": {
      "text/html": [
       "<div>\n",
       "<style scoped>\n",
       "    .dataframe tbody tr th:only-of-type {\n",
       "        vertical-align: middle;\n",
       "    }\n",
       "\n",
       "    .dataframe tbody tr th {\n",
       "        vertical-align: top;\n",
       "    }\n",
       "\n",
       "    .dataframe thead th {\n",
       "        text-align: right;\n",
       "    }\n",
       "</style>\n",
       "<table border=\"1\" class=\"dataframe\">\n",
       "  <thead>\n",
       "    <tr style=\"text-align: right;\">\n",
       "      <th></th>\n",
       "      <th>num</th>\n",
       "      <th>name</th>\n",
       "      <th>hp</th>\n",
       "      <th>attack</th>\n",
       "      <th>defense</th>\n",
       "      <th>sp_atk</th>\n",
       "      <th>sp_def</th>\n",
       "      <th>speed</th>\n",
       "      <th>total</th>\n",
       "      <th>generation</th>\n",
       "      <th>legendary</th>\n",
       "      <th>type</th>\n",
       "    </tr>\n",
       "  </thead>\n",
       "  <tbody>\n",
       "    <tr>\n",
       "      <th>0</th>\n",
       "      <td>1</td>\n",
       "      <td>Bulbasaur</td>\n",
       "      <td>45</td>\n",
       "      <td>49</td>\n",
       "      <td>49</td>\n",
       "      <td>65</td>\n",
       "      <td>65</td>\n",
       "      <td>45</td>\n",
       "      <td>228</td>\n",
       "      <td>1</td>\n",
       "      <td>0</td>\n",
       "      <td>Grass</td>\n",
       "    </tr>\n",
       "    <tr>\n",
       "      <th>1</th>\n",
       "      <td>2</td>\n",
       "      <td>Ivysaur</td>\n",
       "      <td>60</td>\n",
       "      <td>62</td>\n",
       "      <td>63</td>\n",
       "      <td>80</td>\n",
       "      <td>80</td>\n",
       "      <td>60</td>\n",
       "      <td>285</td>\n",
       "      <td>1</td>\n",
       "      <td>0</td>\n",
       "      <td>Grass</td>\n",
       "    </tr>\n",
       "    <tr>\n",
       "      <th>2</th>\n",
       "      <td>3</td>\n",
       "      <td>Venusaur</td>\n",
       "      <td>80</td>\n",
       "      <td>82</td>\n",
       "      <td>83</td>\n",
       "      <td>100</td>\n",
       "      <td>100</td>\n",
       "      <td>80</td>\n",
       "      <td>365</td>\n",
       "      <td>1</td>\n",
       "      <td>0</td>\n",
       "      <td>Grass</td>\n",
       "    </tr>\n",
       "    <tr>\n",
       "      <th>3</th>\n",
       "      <td>3</td>\n",
       "      <td>VenusaurMega Venusaur</td>\n",
       "      <td>80</td>\n",
       "      <td>100</td>\n",
       "      <td>123</td>\n",
       "      <td>122</td>\n",
       "      <td>120</td>\n",
       "      <td>80</td>\n",
       "      <td>465</td>\n",
       "      <td>1</td>\n",
       "      <td>0</td>\n",
       "      <td>Grass</td>\n",
       "    </tr>\n",
       "    <tr>\n",
       "      <th>4</th>\n",
       "      <td>4</td>\n",
       "      <td>Charmander</td>\n",
       "      <td>39</td>\n",
       "      <td>52</td>\n",
       "      <td>43</td>\n",
       "      <td>60</td>\n",
       "      <td>50</td>\n",
       "      <td>65</td>\n",
       "      <td>205</td>\n",
       "      <td>1</td>\n",
       "      <td>0</td>\n",
       "      <td>Fire</td>\n",
       "    </tr>\n",
       "    <tr>\n",
       "      <th>...</th>\n",
       "      <td>...</td>\n",
       "      <td>...</td>\n",
       "      <td>...</td>\n",
       "      <td>...</td>\n",
       "      <td>...</td>\n",
       "      <td>...</td>\n",
       "      <td>...</td>\n",
       "      <td>...</td>\n",
       "      <td>...</td>\n",
       "      <td>...</td>\n",
       "      <td>...</td>\n",
       "      <td>...</td>\n",
       "    </tr>\n",
       "    <tr>\n",
       "      <th>795</th>\n",
       "      <td>719</td>\n",
       "      <td>Diancie</td>\n",
       "      <td>50</td>\n",
       "      <td>100</td>\n",
       "      <td>150</td>\n",
       "      <td>100</td>\n",
       "      <td>150</td>\n",
       "      <td>50</td>\n",
       "      <td>500</td>\n",
       "      <td>6</td>\n",
       "      <td>1</td>\n",
       "      <td>Rock</td>\n",
       "    </tr>\n",
       "    <tr>\n",
       "      <th>796</th>\n",
       "      <td>719</td>\n",
       "      <td>DiancieMega Diancie</td>\n",
       "      <td>50</td>\n",
       "      <td>160</td>\n",
       "      <td>110</td>\n",
       "      <td>160</td>\n",
       "      <td>110</td>\n",
       "      <td>110</td>\n",
       "      <td>540</td>\n",
       "      <td>6</td>\n",
       "      <td>1</td>\n",
       "      <td>Rock</td>\n",
       "    </tr>\n",
       "    <tr>\n",
       "      <th>797</th>\n",
       "      <td>720</td>\n",
       "      <td>HoopaHoopa Confined</td>\n",
       "      <td>80</td>\n",
       "      <td>110</td>\n",
       "      <td>60</td>\n",
       "      <td>150</td>\n",
       "      <td>130</td>\n",
       "      <td>70</td>\n",
       "      <td>450</td>\n",
       "      <td>6</td>\n",
       "      <td>1</td>\n",
       "      <td>Psychic</td>\n",
       "    </tr>\n",
       "    <tr>\n",
       "      <th>798</th>\n",
       "      <td>720</td>\n",
       "      <td>HoopaHoopa Unbound</td>\n",
       "      <td>80</td>\n",
       "      <td>160</td>\n",
       "      <td>60</td>\n",
       "      <td>170</td>\n",
       "      <td>130</td>\n",
       "      <td>80</td>\n",
       "      <td>520</td>\n",
       "      <td>6</td>\n",
       "      <td>1</td>\n",
       "      <td>Psychic</td>\n",
       "    </tr>\n",
       "    <tr>\n",
       "      <th>799</th>\n",
       "      <td>721</td>\n",
       "      <td>Volcanion</td>\n",
       "      <td>80</td>\n",
       "      <td>110</td>\n",
       "      <td>120</td>\n",
       "      <td>130</td>\n",
       "      <td>90</td>\n",
       "      <td>70</td>\n",
       "      <td>450</td>\n",
       "      <td>6</td>\n",
       "      <td>1</td>\n",
       "      <td>Fire</td>\n",
       "    </tr>\n",
       "  </tbody>\n",
       "</table>\n",
       "<p>800 rows × 12 columns</p>\n",
       "</div>"
      ],
      "text/plain": [
       "     num                   name  hp  attack  defense  sp_atk  sp_def  speed  \\\n",
       "0      1              Bulbasaur  45      49       49      65      65     45   \n",
       "1      2                Ivysaur  60      62       63      80      80     60   \n",
       "2      3               Venusaur  80      82       83     100     100     80   \n",
       "3      3  VenusaurMega Venusaur  80     100      123     122     120     80   \n",
       "4      4             Charmander  39      52       43      60      50     65   \n",
       "..   ...                    ...  ..     ...      ...     ...     ...    ...   \n",
       "795  719                Diancie  50     100      150     100     150     50   \n",
       "796  719    DiancieMega Diancie  50     160      110     160     110    110   \n",
       "797  720    HoopaHoopa Confined  80     110       60     150     130     70   \n",
       "798  720     HoopaHoopa Unbound  80     160       60     170     130     80   \n",
       "799  721              Volcanion  80     110      120     130      90     70   \n",
       "\n",
       "     total  generation  legendary     type  \n",
       "0      228           1          0    Grass  \n",
       "1      285           1          0    Grass  \n",
       "2      365           1          0    Grass  \n",
       "3      465           1          0    Grass  \n",
       "4      205           1          0     Fire  \n",
       "..     ...         ...        ...      ...  \n",
       "795    500           6          1     Rock  \n",
       "796    540           6          1     Rock  \n",
       "797    450           6          1  Psychic  \n",
       "798    520           6          1  Psychic  \n",
       "799    450           6          1     Fire  \n",
       "\n",
       "[800 rows x 12 columns]"
      ]
     },
     "metadata": {},
     "output_type": "display_data"
    }
   ],
   "source": [
    "display(pokemon)"
   ]
  },
  {
   "cell_type": "code",
   "execution_count": 185,
   "metadata": {
    "deletable": false,
    "nbgrader": {
     "cell_type": "code",
     "checksum": "9167ac87b23c59843f571c3adb7393bc",
     "grade": false,
     "grade_id": "cell-c76aa53afddb247a",
     "locked": false,
     "schema_version": 3,
     "solution": true,
     "task": false
    }
   },
   "outputs": [],
   "source": [
    "def plot_histogram(df, feature, target = 'legendary', maxbins = 50):\n",
    "\n",
    "    \"\"\"\n",
    "    plots a histogram of a decision trees feature\n",
    "     \n",
    "    Parameters\n",
    "    ----------\n",
    "    feature: str\n",
    "        the feature name\n",
    "    target: str, optional\n",
    "        the target name\n",
    "    maxbins: int, optional\n",
    "        the maximum number of data bins on the x-axis\n",
    "    \n",
    "    Returns\n",
    "    -------\n",
    "    altair.vegalite.v3.api.Chart\n",
    "        an Altair histogram \n",
    "    \"\"\"\n",
    "\n",
    "    histogram = alt.Chart(df).mark_bar(\n",
    "        opacity = 0.7).encode(\n",
    "        x = alt.X(feature, bin = alt.Bin(maxbins = 50)),\n",
    "        y = alt.Y('count()', stack = None),\n",
    "        color = alt.Color(\n",
    "            'legendary:N', scale = alt.Scale(\n",
    "                domain = [0, 1], \n",
    "                range = ['gray', 'green']\n",
    "            ), legend = alt.Legend(title = 'isLegendary')\n",
    "        )\n",
    "    ).properties(\n",
    "        title = str.title(feature)\n",
    "    )\n",
    "\n",
    "    return histogram"
   ]
  },
  {
   "cell_type": "code",
   "execution_count": 186,
   "metadata": {},
   "outputs": [
    {
     "data": {
      "text/plain": [
       "['hp', 'attack', 'defense', 'sp_atk', 'sp_def', 'speed', 'total']"
      ]
     },
     "metadata": {},
     "output_type": "display_data"
    }
   ],
   "source": [
    "feature_list = [\n",
    "    'hp',\n",
    "    'attack',\n",
    "    'defense',\n",
    "    'sp_atk',\n",
    "    'sp_def',\n",
    "    'speed',\n",
    "    'total',\n",
    "]\n",
    "\n",
    "display(feature_list)"
   ]
  },
  {
   "cell_type": "code",
   "execution_count": 187,
   "metadata": {},
   "outputs": [
    {
     "name": "stderr",
     "output_type": "stream",
     "text": [
      "c:\\Users\\Muntakim\\AppData\\Local\\Programs\\Python\\Python310\\lib\\site-packages\\altair\\utils\\core.py:317: FutureWarning: iteritems is deprecated and will be removed in a future version. Use .items instead.\n",
      "  for col_name, dtype in df.dtypes.iteritems():\n"
     ]
    },
    {
     "data": {
      "text/html": [
       "\n",
       "<div id=\"altair-viz-70c1e97462504ee19a639e7ef67613d1\"></div>\n",
       "<script type=\"text/javascript\">\n",
       "  var VEGA_DEBUG = (typeof VEGA_DEBUG == \"undefined\") ? {} : VEGA_DEBUG;\n",
       "  (function(spec, embedOpt){\n",
       "    let outputDiv = document.currentScript.previousElementSibling;\n",
       "    if (outputDiv.id !== \"altair-viz-70c1e97462504ee19a639e7ef67613d1\") {\n",
       "      outputDiv = document.getElementById(\"altair-viz-70c1e97462504ee19a639e7ef67613d1\");\n",
       "    }\n",
       "    const paths = {\n",
       "      \"vega\": \"https://cdn.jsdelivr.net/npm//vega@5?noext\",\n",
       "      \"vega-lib\": \"https://cdn.jsdelivr.net/npm//vega-lib?noext\",\n",
       "      \"vega-lite\": \"https://cdn.jsdelivr.net/npm//vega-lite@4.17.0?noext\",\n",
       "      \"vega-embed\": \"https://cdn.jsdelivr.net/npm//vega-embed@6?noext\",\n",
       "    };\n",
       "\n",
       "    function maybeLoadScript(lib, version) {\n",
       "      var key = `${lib.replace(\"-\", \"\")}_version`;\n",
       "      return (VEGA_DEBUG[key] == version) ?\n",
       "        Promise.resolve(paths[lib]) :\n",
       "        new Promise(function(resolve, reject) {\n",
       "          var s = document.createElement('script');\n",
       "          document.getElementsByTagName(\"head\")[0].appendChild(s);\n",
       "          s.async = true;\n",
       "          s.onload = () => {\n",
       "            VEGA_DEBUG[key] = version;\n",
       "            return resolve(paths[lib]);\n",
       "          };\n",
       "          s.onerror = () => reject(`Error loading script: ${paths[lib]}`);\n",
       "          s.src = paths[lib];\n",
       "        });\n",
       "    }\n",
       "\n",
       "    function showError(err) {\n",
       "      outputDiv.innerHTML = `<div class=\"error\" style=\"color:red;\">${err}</div>`;\n",
       "      throw err;\n",
       "    }\n",
       "\n",
       "    function displayChart(vegaEmbed) {\n",
       "      vegaEmbed(outputDiv, spec, embedOpt)\n",
       "        .catch(err => showError(`Javascript Error: ${err.message}<br>This usually means there's a typo in your chart specification. See the javascript console for the full traceback.`));\n",
       "    }\n",
       "\n",
       "    if(typeof define === \"function\" && define.amd) {\n",
       "      requirejs.config({paths});\n",
       "      require([\"vega-embed\"], displayChart, err => showError(`Error loading script: ${err.message}`));\n",
       "    } else {\n",
       "      maybeLoadScript(\"vega\", \"5\")\n",
       "        .then(() => maybeLoadScript(\"vega-lite\", \"4.17.0\"))\n",
       "        .then(() => maybeLoadScript(\"vega-embed\", \"6\"))\n",
       "        .catch(showError)\n",
       "        .then(() => displayChart(vegaEmbed));\n",
       "    }\n",
       "  })({\"config\": {\"view\": {\"continuousWidth\": 400, \"continuousHeight\": 300}}, \"vconcat\": [{\"mark\": {\"type\": \"bar\", \"opacity\": 0.7}, \"encoding\": {\"color\": {\"field\": \"legendary\", \"legend\": {\"title\": \"isLegendary\"}, \"scale\": {\"domain\": [0, 1], \"range\": [\"gray\", \"green\"]}, \"type\": \"nominal\"}, \"x\": {\"bin\": {\"maxbins\": 50}, \"field\": \"hp\", \"type\": \"quantitative\"}, \"y\": {\"aggregate\": \"count\", \"stack\": null, \"type\": \"quantitative\"}}, \"title\": \"Hp\"}, {\"mark\": {\"type\": \"bar\", \"opacity\": 0.7}, \"encoding\": {\"color\": {\"field\": \"legendary\", \"legend\": {\"title\": \"isLegendary\"}, \"scale\": {\"domain\": [0, 1], \"range\": [\"gray\", \"green\"]}, \"type\": \"nominal\"}, \"x\": {\"bin\": {\"maxbins\": 50}, \"field\": \"attack\", \"type\": \"quantitative\"}, \"y\": {\"aggregate\": \"count\", \"stack\": null, \"type\": \"quantitative\"}}, \"title\": \"Attack\"}, {\"mark\": {\"type\": \"bar\", \"opacity\": 0.7}, \"encoding\": {\"color\": {\"field\": \"legendary\", \"legend\": {\"title\": \"isLegendary\"}, \"scale\": {\"domain\": [0, 1], \"range\": [\"gray\", \"green\"]}, \"type\": \"nominal\"}, \"x\": {\"bin\": {\"maxbins\": 50}, \"field\": \"defense\", \"type\": \"quantitative\"}, \"y\": {\"aggregate\": \"count\", \"stack\": null, \"type\": \"quantitative\"}}, \"title\": \"Defense\"}, {\"mark\": {\"type\": \"bar\", \"opacity\": 0.7}, \"encoding\": {\"color\": {\"field\": \"legendary\", \"legend\": {\"title\": \"isLegendary\"}, \"scale\": {\"domain\": [0, 1], \"range\": [\"gray\", \"green\"]}, \"type\": \"nominal\"}, \"x\": {\"bin\": {\"maxbins\": 50}, \"field\": \"sp_atk\", \"type\": \"quantitative\"}, \"y\": {\"aggregate\": \"count\", \"stack\": null, \"type\": \"quantitative\"}}, \"title\": \"Sp_Atk\"}, {\"mark\": {\"type\": \"bar\", \"opacity\": 0.7}, \"encoding\": {\"color\": {\"field\": \"legendary\", \"legend\": {\"title\": \"isLegendary\"}, \"scale\": {\"domain\": [0, 1], \"range\": [\"gray\", \"green\"]}, \"type\": \"nominal\"}, \"x\": {\"bin\": {\"maxbins\": 50}, \"field\": \"sp_def\", \"type\": \"quantitative\"}, \"y\": {\"aggregate\": \"count\", \"stack\": null, \"type\": \"quantitative\"}}, \"title\": \"Sp_Def\"}, {\"mark\": {\"type\": \"bar\", \"opacity\": 0.7}, \"encoding\": {\"color\": {\"field\": \"legendary\", \"legend\": {\"title\": \"isLegendary\"}, \"scale\": {\"domain\": [0, 1], \"range\": [\"gray\", \"green\"]}, \"type\": \"nominal\"}, \"x\": {\"bin\": {\"maxbins\": 50}, \"field\": \"speed\", \"type\": \"quantitative\"}, \"y\": {\"aggregate\": \"count\", \"stack\": null, \"type\": \"quantitative\"}}, \"title\": \"Speed\"}, {\"mark\": {\"type\": \"bar\", \"opacity\": 0.7}, \"encoding\": {\"color\": {\"field\": \"legendary\", \"legend\": {\"title\": \"isLegendary\"}, \"scale\": {\"domain\": [0, 1], \"range\": [\"gray\", \"green\"]}, \"type\": \"nominal\"}, \"x\": {\"bin\": {\"maxbins\": 50}, \"field\": \"total\", \"type\": \"quantitative\"}, \"y\": {\"aggregate\": \"count\", \"stack\": null, \"type\": \"quantitative\"}}, \"title\": \"Total\"}], \"data\": {\"name\": \"data-24e6379c98677246c07bb2a88fd2cad8\"}, \"$schema\": \"https://vega.github.io/schema/vega-lite/v4.17.0.json\", \"datasets\": {\"data-24e6379c98677246c07bb2a88fd2cad8\": [{\"num\": 1, \"name\": \"Bulbasaur\", \"hp\": 45, \"attack\": 49, \"defense\": 49, \"sp_atk\": 65, \"sp_def\": 65, \"speed\": 45, \"total\": 228, \"generation\": 1, \"legendary\": 0, \"type\": \"Grass\"}, {\"num\": 2, \"name\": \"Ivysaur\", \"hp\": 60, \"attack\": 62, \"defense\": 63, \"sp_atk\": 80, \"sp_def\": 80, \"speed\": 60, \"total\": 285, \"generation\": 1, \"legendary\": 0, \"type\": \"Grass\"}, {\"num\": 3, \"name\": \"Venusaur\", \"hp\": 80, \"attack\": 82, \"defense\": 83, \"sp_atk\": 100, \"sp_def\": 100, \"speed\": 80, \"total\": 365, \"generation\": 1, \"legendary\": 0, \"type\": \"Grass\"}, {\"num\": 3, \"name\": \"VenusaurMega Venusaur\", \"hp\": 80, \"attack\": 100, \"defense\": 123, \"sp_atk\": 122, \"sp_def\": 120, \"speed\": 80, \"total\": 465, \"generation\": 1, \"legendary\": 0, \"type\": \"Grass\"}, {\"num\": 4, \"name\": \"Charmander\", \"hp\": 39, \"attack\": 52, \"defense\": 43, \"sp_atk\": 60, \"sp_def\": 50, \"speed\": 65, \"total\": 205, \"generation\": 1, \"legendary\": 0, \"type\": \"Fire\"}, {\"num\": 5, \"name\": \"Charmeleon\", \"hp\": 58, \"attack\": 64, \"defense\": 58, \"sp_atk\": 80, \"sp_def\": 65, \"speed\": 80, \"total\": 267, \"generation\": 1, \"legendary\": 0, \"type\": \"Fire\"}, {\"num\": 6, \"name\": \"Charizard\", \"hp\": 78, \"attack\": 84, \"defense\": 78, \"sp_atk\": 109, \"sp_def\": 85, \"speed\": 100, \"total\": 356, \"generation\": 1, \"legendary\": 0, \"type\": \"Fire\"}, {\"num\": 6, \"name\": \"CharizardMega Charizard X\", \"hp\": 78, \"attack\": 130, \"defense\": 111, \"sp_atk\": 130, \"sp_def\": 85, \"speed\": 100, \"total\": 456, \"generation\": 1, \"legendary\": 0, \"type\": \"Fire\"}, {\"num\": 6, \"name\": \"CharizardMega Charizard Y\", \"hp\": 78, \"attack\": 104, \"defense\": 78, \"sp_atk\": 159, \"sp_def\": 115, \"speed\": 100, \"total\": 456, \"generation\": 1, \"legendary\": 0, \"type\": \"Fire\"}, {\"num\": 7, \"name\": \"Squirtle\", \"hp\": 44, \"attack\": 48, \"defense\": 65, \"sp_atk\": 50, \"sp_def\": 64, \"speed\": 43, \"total\": 227, \"generation\": 1, \"legendary\": 0, \"type\": \"Water\"}, {\"num\": 8, \"name\": \"Wartortle\", \"hp\": 59, \"attack\": 63, \"defense\": 80, \"sp_atk\": 65, \"sp_def\": 80, \"speed\": 58, \"total\": 288, \"generation\": 1, \"legendary\": 0, \"type\": \"Water\"}, {\"num\": 9, \"name\": \"Blastoise\", \"hp\": 79, \"attack\": 83, \"defense\": 100, \"sp_atk\": 85, \"sp_def\": 105, \"speed\": 78, \"total\": 373, \"generation\": 1, \"legendary\": 0, \"type\": \"Water\"}, {\"num\": 9, \"name\": \"BlastoiseMega Blastoise\", \"hp\": 79, \"attack\": 103, \"defense\": 120, \"sp_atk\": 135, \"sp_def\": 115, \"speed\": 78, \"total\": 473, \"generation\": 1, \"legendary\": 0, \"type\": \"Water\"}, {\"num\": 10, \"name\": \"Caterpie\", \"hp\": 45, \"attack\": 30, \"defense\": 35, \"sp_atk\": 20, \"sp_def\": 20, \"speed\": 45, \"total\": 105, \"generation\": 1, \"legendary\": 0, \"type\": \"Bug\"}, {\"num\": 11, \"name\": \"Metapod\", \"hp\": 50, \"attack\": 20, \"defense\": 55, \"sp_atk\": 25, \"sp_def\": 25, \"speed\": 30, \"total\": 125, \"generation\": 1, \"legendary\": 0, \"type\": \"Bug\"}, {\"num\": 12, \"name\": \"Butterfree\", \"hp\": 60, \"attack\": 45, \"defense\": 50, \"sp_atk\": 90, \"sp_def\": 80, \"speed\": 70, \"total\": 265, \"generation\": 1, \"legendary\": 0, \"type\": \"Bug\"}, {\"num\": 13, \"name\": \"Weedle\", \"hp\": 40, \"attack\": 35, \"defense\": 30, \"sp_atk\": 20, \"sp_def\": 20, \"speed\": 50, \"total\": 105, \"generation\": 1, \"legendary\": 0, \"type\": \"Bug\"}, {\"num\": 14, \"name\": \"Kakuna\", \"hp\": 45, \"attack\": 25, \"defense\": 50, \"sp_atk\": 25, \"sp_def\": 25, \"speed\": 35, \"total\": 125, \"generation\": 1, \"legendary\": 0, \"type\": \"Bug\"}, {\"num\": 15, \"name\": \"Beedrill\", \"hp\": 65, \"attack\": 90, \"defense\": 40, \"sp_atk\": 45, \"sp_def\": 80, \"speed\": 75, \"total\": 255, \"generation\": 1, \"legendary\": 0, \"type\": \"Bug\"}, {\"num\": 15, \"name\": \"BeedrillMega Beedrill\", \"hp\": 65, \"attack\": 150, \"defense\": 40, \"sp_atk\": 15, \"sp_def\": 80, \"speed\": 145, \"total\": 285, \"generation\": 1, \"legendary\": 0, \"type\": \"Bug\"}, {\"num\": 16, \"name\": \"Pidgey\", \"hp\": 40, \"attack\": 45, \"defense\": 40, \"sp_atk\": 35, \"sp_def\": 35, \"speed\": 56, \"total\": 155, \"generation\": 1, \"legendary\": 0, \"type\": \"Normal\"}, {\"num\": 17, \"name\": \"Pidgeotto\", \"hp\": 63, \"attack\": 60, \"defense\": 55, \"sp_atk\": 50, \"sp_def\": 50, \"speed\": 71, \"total\": 215, \"generation\": 1, \"legendary\": 0, \"type\": \"Normal\"}, {\"num\": 18, \"name\": \"Pidgeot\", \"hp\": 83, \"attack\": 80, \"defense\": 75, \"sp_atk\": 70, \"sp_def\": 70, \"speed\": 101, \"total\": 295, \"generation\": 1, \"legendary\": 0, \"type\": \"Normal\"}, {\"num\": 18, \"name\": \"PidgeotMega Pidgeot\", \"hp\": 83, \"attack\": 80, \"defense\": 80, \"sp_atk\": 135, \"sp_def\": 80, \"speed\": 121, \"total\": 375, \"generation\": 1, \"legendary\": 0, \"type\": \"Normal\"}, {\"num\": 19, \"name\": \"Rattata\", \"hp\": 30, \"attack\": 56, \"defense\": 35, \"sp_atk\": 25, \"sp_def\": 35, \"speed\": 72, \"total\": 151, \"generation\": 1, \"legendary\": 0, \"type\": \"Normal\"}, {\"num\": 20, \"name\": \"Raticate\", \"hp\": 55, \"attack\": 81, \"defense\": 60, \"sp_atk\": 50, \"sp_def\": 70, \"speed\": 97, \"total\": 261, \"generation\": 1, \"legendary\": 0, \"type\": \"Normal\"}, {\"num\": 21, \"name\": \"Spearow\", \"hp\": 40, \"attack\": 60, \"defense\": 30, \"sp_atk\": 31, \"sp_def\": 31, \"speed\": 70, \"total\": 152, \"generation\": 1, \"legendary\": 0, \"type\": \"Normal\"}, {\"num\": 22, \"name\": \"Fearow\", \"hp\": 65, \"attack\": 90, \"defense\": 65, \"sp_atk\": 61, \"sp_def\": 61, \"speed\": 100, \"total\": 277, \"generation\": 1, \"legendary\": 0, \"type\": \"Normal\"}, {\"num\": 23, \"name\": \"Ekans\", \"hp\": 35, \"attack\": 60, \"defense\": 44, \"sp_atk\": 40, \"sp_def\": 54, \"speed\": 55, \"total\": 198, \"generation\": 1, \"legendary\": 0, \"type\": \"Poison\"}, {\"num\": 24, \"name\": \"Arbok\", \"hp\": 60, \"attack\": 85, \"defense\": 69, \"sp_atk\": 65, \"sp_def\": 79, \"speed\": 80, \"total\": 298, \"generation\": 1, \"legendary\": 0, \"type\": \"Poison\"}, {\"num\": 25, \"name\": \"Pikachu\", \"hp\": 35, \"attack\": 55, \"defense\": 40, \"sp_atk\": 50, \"sp_def\": 50, \"speed\": 90, \"total\": 195, \"generation\": 1, \"legendary\": 0, \"type\": \"Electric\"}, {\"num\": 26, \"name\": \"Raichu\", \"hp\": 60, \"attack\": 90, \"defense\": 55, \"sp_atk\": 90, \"sp_def\": 80, \"speed\": 110, \"total\": 315, \"generation\": 1, \"legendary\": 0, \"type\": \"Electric\"}, {\"num\": 27, \"name\": \"Sandshrew\", \"hp\": 50, \"attack\": 75, \"defense\": 85, \"sp_atk\": 20, \"sp_def\": 30, \"speed\": 40, \"total\": 210, \"generation\": 1, \"legendary\": 0, \"type\": \"Ground\"}, {\"num\": 28, \"name\": \"Sandslash\", \"hp\": 75, \"attack\": 100, \"defense\": 110, \"sp_atk\": 45, \"sp_def\": 55, \"speed\": 65, \"total\": 310, \"generation\": 1, \"legendary\": 0, \"type\": \"Ground\"}, {\"num\": 29, \"name\": \"Nidoran\\u00e2\\u2122\\u20ac\", \"hp\": 55, \"attack\": 47, \"defense\": 52, \"sp_atk\": 40, \"sp_def\": 40, \"speed\": 41, \"total\": 179, \"generation\": 1, \"legendary\": 0, \"type\": \"Poison\"}, {\"num\": 30, \"name\": \"Nidorina\", \"hp\": 70, \"attack\": 62, \"defense\": 67, \"sp_atk\": 55, \"sp_def\": 55, \"speed\": 56, \"total\": 239, \"generation\": 1, \"legendary\": 0, \"type\": \"Poison\"}, {\"num\": 31, \"name\": \"Nidoqueen\", \"hp\": 90, \"attack\": 92, \"defense\": 87, \"sp_atk\": 75, \"sp_def\": 85, \"speed\": 76, \"total\": 339, \"generation\": 1, \"legendary\": 0, \"type\": \"Poison\"}, {\"num\": 32, \"name\": \"Nidoran\\u00e2\\u2122\\u201a\", \"hp\": 46, \"attack\": 57, \"defense\": 40, \"sp_atk\": 40, \"sp_def\": 40, \"speed\": 50, \"total\": 177, \"generation\": 1, \"legendary\": 0, \"type\": \"Poison\"}, {\"num\": 33, \"name\": \"Nidorino\", \"hp\": 61, \"attack\": 72, \"defense\": 57, \"sp_atk\": 55, \"sp_def\": 55, \"speed\": 65, \"total\": 239, \"generation\": 1, \"legendary\": 0, \"type\": \"Poison\"}, {\"num\": 34, \"name\": \"Nidoking\", \"hp\": 81, \"attack\": 102, \"defense\": 77, \"sp_atk\": 85, \"sp_def\": 75, \"speed\": 85, \"total\": 339, \"generation\": 1, \"legendary\": 0, \"type\": \"Poison\"}, {\"num\": 35, \"name\": \"Clefairy\", \"hp\": 70, \"attack\": 45, \"defense\": 48, \"sp_atk\": 60, \"sp_def\": 65, \"speed\": 35, \"total\": 218, \"generation\": 1, \"legendary\": 0, \"type\": \"Fairy\"}, {\"num\": 36, \"name\": \"Clefable\", \"hp\": 95, \"attack\": 70, \"defense\": 73, \"sp_atk\": 95, \"sp_def\": 90, \"speed\": 60, \"total\": 328, \"generation\": 1, \"legendary\": 0, \"type\": \"Fairy\"}, {\"num\": 37, \"name\": \"Vulpix\", \"hp\": 38, \"attack\": 41, \"defense\": 40, \"sp_atk\": 50, \"sp_def\": 65, \"speed\": 65, \"total\": 196, \"generation\": 1, \"legendary\": 0, \"type\": \"Fire\"}, {\"num\": 38, \"name\": \"Ninetales\", \"hp\": 73, \"attack\": 76, \"defense\": 75, \"sp_atk\": 81, \"sp_def\": 100, \"speed\": 100, \"total\": 332, \"generation\": 1, \"legendary\": 0, \"type\": \"Fire\"}, {\"num\": 39, \"name\": \"Jigglypuff\", \"hp\": 115, \"attack\": 45, \"defense\": 20, \"sp_atk\": 45, \"sp_def\": 25, \"speed\": 20, \"total\": 135, \"generation\": 1, \"legendary\": 0, \"type\": \"Normal\"}, {\"num\": 40, \"name\": \"Wigglytuff\", \"hp\": 140, \"attack\": 70, \"defense\": 45, \"sp_atk\": 85, \"sp_def\": 50, \"speed\": 45, \"total\": 250, \"generation\": 1, \"legendary\": 0, \"type\": \"Normal\"}, {\"num\": 41, \"name\": \"Zubat\", \"hp\": 40, \"attack\": 45, \"defense\": 35, \"sp_atk\": 30, \"sp_def\": 40, \"speed\": 55, \"total\": 150, \"generation\": 1, \"legendary\": 0, \"type\": \"Poison\"}, {\"num\": 42, \"name\": \"Golbat\", \"hp\": 75, \"attack\": 80, \"defense\": 70, \"sp_atk\": 65, \"sp_def\": 75, \"speed\": 90, \"total\": 290, \"generation\": 1, \"legendary\": 0, \"type\": \"Poison\"}, {\"num\": 43, \"name\": \"Oddish\", \"hp\": 45, \"attack\": 50, \"defense\": 55, \"sp_atk\": 75, \"sp_def\": 65, \"speed\": 30, \"total\": 245, \"generation\": 1, \"legendary\": 0, \"type\": \"Grass\"}, {\"num\": 44, \"name\": \"Gloom\", \"hp\": 60, \"attack\": 65, \"defense\": 70, \"sp_atk\": 85, \"sp_def\": 75, \"speed\": 40, \"total\": 295, \"generation\": 1, \"legendary\": 0, \"type\": \"Grass\"}, {\"num\": 45, \"name\": \"Vileplume\", \"hp\": 75, \"attack\": 80, \"defense\": 85, \"sp_atk\": 110, \"sp_def\": 90, \"speed\": 50, \"total\": 365, \"generation\": 1, \"legendary\": 0, \"type\": \"Grass\"}, {\"num\": 46, \"name\": \"Paras\", \"hp\": 35, \"attack\": 70, \"defense\": 55, \"sp_atk\": 45, \"sp_def\": 55, \"speed\": 25, \"total\": 225, \"generation\": 1, \"legendary\": 0, \"type\": \"Bug\"}, {\"num\": 47, \"name\": \"Parasect\", \"hp\": 60, \"attack\": 95, \"defense\": 80, \"sp_atk\": 60, \"sp_def\": 80, \"speed\": 30, \"total\": 315, \"generation\": 1, \"legendary\": 0, \"type\": \"Bug\"}, {\"num\": 48, \"name\": \"Venonat\", \"hp\": 60, \"attack\": 55, \"defense\": 50, \"sp_atk\": 40, \"sp_def\": 55, \"speed\": 45, \"total\": 200, \"generation\": 1, \"legendary\": 0, \"type\": \"Bug\"}, {\"num\": 49, \"name\": \"Venomoth\", \"hp\": 70, \"attack\": 65, \"defense\": 60, \"sp_atk\": 90, \"sp_def\": 75, \"speed\": 90, \"total\": 290, \"generation\": 1, \"legendary\": 0, \"type\": \"Bug\"}, {\"num\": 50, \"name\": \"Diglett\", \"hp\": 10, \"attack\": 55, \"defense\": 25, \"sp_atk\": 35, \"sp_def\": 45, \"speed\": 95, \"total\": 160, \"generation\": 1, \"legendary\": 0, \"type\": \"Ground\"}, {\"num\": 51, \"name\": \"Dugtrio\", \"hp\": 35, \"attack\": 80, \"defense\": 50, \"sp_atk\": 50, \"sp_def\": 70, \"speed\": 120, \"total\": 250, \"generation\": 1, \"legendary\": 0, \"type\": \"Ground\"}, {\"num\": 52, \"name\": \"Meowth\", \"hp\": 40, \"attack\": 45, \"defense\": 35, \"sp_atk\": 40, \"sp_def\": 40, \"speed\": 90, \"total\": 160, \"generation\": 1, \"legendary\": 0, \"type\": \"Normal\"}, {\"num\": 53, \"name\": \"Persian\", \"hp\": 65, \"attack\": 70, \"defense\": 60, \"sp_atk\": 65, \"sp_def\": 65, \"speed\": 115, \"total\": 260, \"generation\": 1, \"legendary\": 0, \"type\": \"Normal\"}, {\"num\": 54, \"name\": \"Psyduck\", \"hp\": 50, \"attack\": 52, \"defense\": 48, \"sp_atk\": 65, \"sp_def\": 50, \"speed\": 55, \"total\": 215, \"generation\": 1, \"legendary\": 0, \"type\": \"Water\"}, {\"num\": 55, \"name\": \"Golduck\", \"hp\": 80, \"attack\": 82, \"defense\": 78, \"sp_atk\": 95, \"sp_def\": 80, \"speed\": 85, \"total\": 335, \"generation\": 1, \"legendary\": 0, \"type\": \"Water\"}, {\"num\": 56, \"name\": \"Mankey\", \"hp\": 40, \"attack\": 80, \"defense\": 35, \"sp_atk\": 35, \"sp_def\": 45, \"speed\": 70, \"total\": 195, \"generation\": 1, \"legendary\": 0, \"type\": \"Fighting\"}, {\"num\": 57, \"name\": \"Primeape\", \"hp\": 65, \"attack\": 105, \"defense\": 60, \"sp_atk\": 60, \"sp_def\": 70, \"speed\": 95, \"total\": 295, \"generation\": 1, \"legendary\": 0, \"type\": \"Fighting\"}, {\"num\": 58, \"name\": \"Growlithe\", \"hp\": 55, \"attack\": 70, \"defense\": 45, \"sp_atk\": 70, \"sp_def\": 50, \"speed\": 60, \"total\": 235, \"generation\": 1, \"legendary\": 0, \"type\": \"Fire\"}, {\"num\": 59, \"name\": \"Arcanine\", \"hp\": 90, \"attack\": 110, \"defense\": 80, \"sp_atk\": 100, \"sp_def\": 80, \"speed\": 95, \"total\": 370, \"generation\": 1, \"legendary\": 0, \"type\": \"Fire\"}, {\"num\": 60, \"name\": \"Poliwag\", \"hp\": 40, \"attack\": 50, \"defense\": 40, \"sp_atk\": 40, \"sp_def\": 40, \"speed\": 90, \"total\": 170, \"generation\": 1, \"legendary\": 0, \"type\": \"Water\"}, {\"num\": 61, \"name\": \"Poliwhirl\", \"hp\": 65, \"attack\": 65, \"defense\": 65, \"sp_atk\": 50, \"sp_def\": 50, \"speed\": 90, \"total\": 230, \"generation\": 1, \"legendary\": 0, \"type\": \"Water\"}, {\"num\": 62, \"name\": \"Poliwrath\", \"hp\": 90, \"attack\": 95, \"defense\": 95, \"sp_atk\": 70, \"sp_def\": 90, \"speed\": 70, \"total\": 350, \"generation\": 1, \"legendary\": 0, \"type\": \"Water\"}, {\"num\": 63, \"name\": \"Abra\", \"hp\": 25, \"attack\": 20, \"defense\": 15, \"sp_atk\": 105, \"sp_def\": 55, \"speed\": 90, \"total\": 195, \"generation\": 1, \"legendary\": 0, \"type\": \"Psychic\"}, {\"num\": 64, \"name\": \"Kadabra\", \"hp\": 40, \"attack\": 35, \"defense\": 30, \"sp_atk\": 120, \"sp_def\": 70, \"speed\": 105, \"total\": 255, \"generation\": 1, \"legendary\": 0, \"type\": \"Psychic\"}, {\"num\": 65, \"name\": \"Alakazam\", \"hp\": 55, \"attack\": 50, \"defense\": 45, \"sp_atk\": 135, \"sp_def\": 95, \"speed\": 120, \"total\": 325, \"generation\": 1, \"legendary\": 0, \"type\": \"Psychic\"}, {\"num\": 65, \"name\": \"AlakazamMega Alakazam\", \"hp\": 55, \"attack\": 50, \"defense\": 65, \"sp_atk\": 175, \"sp_def\": 95, \"speed\": 150, \"total\": 385, \"generation\": 1, \"legendary\": 0, \"type\": \"Psychic\"}, {\"num\": 66, \"name\": \"Machop\", \"hp\": 70, \"attack\": 80, \"defense\": 50, \"sp_atk\": 35, \"sp_def\": 35, \"speed\": 35, \"total\": 200, \"generation\": 1, \"legendary\": 0, \"type\": \"Fighting\"}, {\"num\": 67, \"name\": \"Machoke\", \"hp\": 80, \"attack\": 100, \"defense\": 70, \"sp_atk\": 50, \"sp_def\": 60, \"speed\": 45, \"total\": 280, \"generation\": 1, \"legendary\": 0, \"type\": \"Fighting\"}, {\"num\": 68, \"name\": \"Machamp\", \"hp\": 90, \"attack\": 130, \"defense\": 80, \"sp_atk\": 65, \"sp_def\": 85, \"speed\": 55, \"total\": 360, \"generation\": 1, \"legendary\": 0, \"type\": \"Fighting\"}, {\"num\": 69, \"name\": \"Bellsprout\", \"hp\": 50, \"attack\": 75, \"defense\": 35, \"sp_atk\": 70, \"sp_def\": 30, \"speed\": 40, \"total\": 210, \"generation\": 1, \"legendary\": 0, \"type\": \"Grass\"}, {\"num\": 70, \"name\": \"Weepinbell\", \"hp\": 65, \"attack\": 90, \"defense\": 50, \"sp_atk\": 85, \"sp_def\": 45, \"speed\": 55, \"total\": 270, \"generation\": 1, \"legendary\": 0, \"type\": \"Grass\"}, {\"num\": 71, \"name\": \"Victreebel\", \"hp\": 80, \"attack\": 105, \"defense\": 65, \"sp_atk\": 100, \"sp_def\": 70, \"speed\": 70, \"total\": 340, \"generation\": 1, \"legendary\": 0, \"type\": \"Grass\"}, {\"num\": 72, \"name\": \"Tentacool\", \"hp\": 40, \"attack\": 40, \"defense\": 35, \"sp_atk\": 50, \"sp_def\": 100, \"speed\": 70, \"total\": 225, \"generation\": 1, \"legendary\": 0, \"type\": \"Water\"}, {\"num\": 73, \"name\": \"Tentacruel\", \"hp\": 80, \"attack\": 70, \"defense\": 65, \"sp_atk\": 80, \"sp_def\": 120, \"speed\": 100, \"total\": 335, \"generation\": 1, \"legendary\": 0, \"type\": \"Water\"}, {\"num\": 74, \"name\": \"Geodude\", \"hp\": 40, \"attack\": 80, \"defense\": 100, \"sp_atk\": 30, \"sp_def\": 30, \"speed\": 20, \"total\": 240, \"generation\": 1, \"legendary\": 0, \"type\": \"Rock\"}, {\"num\": 75, \"name\": \"Graveler\", \"hp\": 55, \"attack\": 95, \"defense\": 115, \"sp_atk\": 45, \"sp_def\": 45, \"speed\": 35, \"total\": 300, \"generation\": 1, \"legendary\": 0, \"type\": \"Rock\"}, {\"num\": 76, \"name\": \"Golem\", \"hp\": 80, \"attack\": 120, \"defense\": 130, \"sp_atk\": 55, \"sp_def\": 65, \"speed\": 45, \"total\": 370, \"generation\": 1, \"legendary\": 0, \"type\": \"Rock\"}, {\"num\": 77, \"name\": \"Ponyta\", \"hp\": 50, \"attack\": 85, \"defense\": 55, \"sp_atk\": 65, \"sp_def\": 65, \"speed\": 90, \"total\": 270, \"generation\": 1, \"legendary\": 0, \"type\": \"Fire\"}, {\"num\": 78, \"name\": \"Rapidash\", \"hp\": 65, \"attack\": 100, \"defense\": 70, \"sp_atk\": 80, \"sp_def\": 80, \"speed\": 105, \"total\": 330, \"generation\": 1, \"legendary\": 0, \"type\": \"Fire\"}, {\"num\": 79, \"name\": \"Slowpoke\", \"hp\": 90, \"attack\": 65, \"defense\": 65, \"sp_atk\": 40, \"sp_def\": 40, \"speed\": 15, \"total\": 210, \"generation\": 1, \"legendary\": 0, \"type\": \"Water\"}, {\"num\": 80, \"name\": \"Slowbro\", \"hp\": 95, \"attack\": 75, \"defense\": 110, \"sp_atk\": 100, \"sp_def\": 80, \"speed\": 30, \"total\": 365, \"generation\": 1, \"legendary\": 0, \"type\": \"Water\"}, {\"num\": 80, \"name\": \"SlowbroMega Slowbro\", \"hp\": 95, \"attack\": 75, \"defense\": 180, \"sp_atk\": 130, \"sp_def\": 80, \"speed\": 30, \"total\": 465, \"generation\": 1, \"legendary\": 0, \"type\": \"Water\"}, {\"num\": 81, \"name\": \"Magnemite\", \"hp\": 25, \"attack\": 35, \"defense\": 70, \"sp_atk\": 95, \"sp_def\": 55, \"speed\": 45, \"total\": 255, \"generation\": 1, \"legendary\": 0, \"type\": \"Electric\"}, {\"num\": 82, \"name\": \"Magneton\", \"hp\": 50, \"attack\": 60, \"defense\": 95, \"sp_atk\": 120, \"sp_def\": 70, \"speed\": 70, \"total\": 345, \"generation\": 1, \"legendary\": 0, \"type\": \"Electric\"}, {\"num\": 83, \"name\": \"Farfetch'd\", \"hp\": 52, \"attack\": 65, \"defense\": 55, \"sp_atk\": 58, \"sp_def\": 62, \"speed\": 60, \"total\": 240, \"generation\": 1, \"legendary\": 0, \"type\": \"Normal\"}, {\"num\": 84, \"name\": \"Doduo\", \"hp\": 35, \"attack\": 85, \"defense\": 45, \"sp_atk\": 35, \"sp_def\": 35, \"speed\": 75, \"total\": 200, \"generation\": 1, \"legendary\": 0, \"type\": \"Normal\"}, {\"num\": 85, \"name\": \"Dodrio\", \"hp\": 60, \"attack\": 110, \"defense\": 70, \"sp_atk\": 60, \"sp_def\": 60, \"speed\": 100, \"total\": 300, \"generation\": 1, \"legendary\": 0, \"type\": \"Normal\"}, {\"num\": 86, \"name\": \"Seel\", \"hp\": 65, \"attack\": 45, \"defense\": 55, \"sp_atk\": 45, \"sp_def\": 70, \"speed\": 45, \"total\": 215, \"generation\": 1, \"legendary\": 0, \"type\": \"Water\"}, {\"num\": 87, \"name\": \"Dewgong\", \"hp\": 90, \"attack\": 70, \"defense\": 80, \"sp_atk\": 70, \"sp_def\": 95, \"speed\": 70, \"total\": 315, \"generation\": 1, \"legendary\": 0, \"type\": \"Water\"}, {\"num\": 88, \"name\": \"Grimer\", \"hp\": 80, \"attack\": 80, \"defense\": 50, \"sp_atk\": 40, \"sp_def\": 50, \"speed\": 25, \"total\": 220, \"generation\": 1, \"legendary\": 0, \"type\": \"Poison\"}, {\"num\": 89, \"name\": \"Muk\", \"hp\": 105, \"attack\": 105, \"defense\": 75, \"sp_atk\": 65, \"sp_def\": 100, \"speed\": 50, \"total\": 345, \"generation\": 1, \"legendary\": 0, \"type\": \"Poison\"}, {\"num\": 90, \"name\": \"Shellder\", \"hp\": 30, \"attack\": 65, \"defense\": 100, \"sp_atk\": 45, \"sp_def\": 25, \"speed\": 40, \"total\": 235, \"generation\": 1, \"legendary\": 0, \"type\": \"Water\"}, {\"num\": 91, \"name\": \"Cloyster\", \"hp\": 50, \"attack\": 95, \"defense\": 180, \"sp_atk\": 85, \"sp_def\": 45, \"speed\": 70, \"total\": 405, \"generation\": 1, \"legendary\": 0, \"type\": \"Water\"}, {\"num\": 92, \"name\": \"Gastly\", \"hp\": 30, \"attack\": 35, \"defense\": 30, \"sp_atk\": 100, \"sp_def\": 35, \"speed\": 80, \"total\": 200, \"generation\": 1, \"legendary\": 0, \"type\": \"Ghost\"}, {\"num\": 93, \"name\": \"Haunter\", \"hp\": 45, \"attack\": 50, \"defense\": 45, \"sp_atk\": 115, \"sp_def\": 55, \"speed\": 95, \"total\": 265, \"generation\": 1, \"legendary\": 0, \"type\": \"Ghost\"}, {\"num\": 94, \"name\": \"Gengar\", \"hp\": 60, \"attack\": 65, \"defense\": 60, \"sp_atk\": 130, \"sp_def\": 75, \"speed\": 110, \"total\": 330, \"generation\": 1, \"legendary\": 0, \"type\": \"Ghost\"}, {\"num\": 94, \"name\": \"GengarMega Gengar\", \"hp\": 60, \"attack\": 65, \"defense\": 80, \"sp_atk\": 170, \"sp_def\": 95, \"speed\": 130, \"total\": 410, \"generation\": 1, \"legendary\": 0, \"type\": \"Ghost\"}, {\"num\": 95, \"name\": \"Onix\", \"hp\": 35, \"attack\": 45, \"defense\": 160, \"sp_atk\": 30, \"sp_def\": 45, \"speed\": 70, \"total\": 280, \"generation\": 1, \"legendary\": 0, \"type\": \"Rock\"}, {\"num\": 96, \"name\": \"Drowzee\", \"hp\": 60, \"attack\": 48, \"defense\": 45, \"sp_atk\": 43, \"sp_def\": 90, \"speed\": 42, \"total\": 226, \"generation\": 1, \"legendary\": 0, \"type\": \"Psychic\"}, {\"num\": 97, \"name\": \"Hypno\", \"hp\": 85, \"attack\": 73, \"defense\": 70, \"sp_atk\": 73, \"sp_def\": 115, \"speed\": 67, \"total\": 331, \"generation\": 1, \"legendary\": 0, \"type\": \"Psychic\"}, {\"num\": 98, \"name\": \"Krabby\", \"hp\": 30, \"attack\": 105, \"defense\": 90, \"sp_atk\": 25, \"sp_def\": 25, \"speed\": 50, \"total\": 245, \"generation\": 1, \"legendary\": 0, \"type\": \"Water\"}, {\"num\": 99, \"name\": \"Kingler\", \"hp\": 55, \"attack\": 130, \"defense\": 115, \"sp_atk\": 50, \"sp_def\": 50, \"speed\": 75, \"total\": 345, \"generation\": 1, \"legendary\": 0, \"type\": \"Water\"}, {\"num\": 100, \"name\": \"Voltorb\", \"hp\": 40, \"attack\": 30, \"defense\": 50, \"sp_atk\": 55, \"sp_def\": 55, \"speed\": 100, \"total\": 190, \"generation\": 1, \"legendary\": 0, \"type\": \"Electric\"}, {\"num\": 101, \"name\": \"Electrode\", \"hp\": 60, \"attack\": 50, \"defense\": 70, \"sp_atk\": 80, \"sp_def\": 80, \"speed\": 140, \"total\": 280, \"generation\": 1, \"legendary\": 0, \"type\": \"Electric\"}, {\"num\": 102, \"name\": \"Exeggcute\", \"hp\": 60, \"attack\": 40, \"defense\": 80, \"sp_atk\": 60, \"sp_def\": 45, \"speed\": 40, \"total\": 225, \"generation\": 1, \"legendary\": 0, \"type\": \"Grass\"}, {\"num\": 103, \"name\": \"Exeggutor\", \"hp\": 95, \"attack\": 95, \"defense\": 85, \"sp_atk\": 125, \"sp_def\": 65, \"speed\": 55, \"total\": 370, \"generation\": 1, \"legendary\": 0, \"type\": \"Grass\"}, {\"num\": 104, \"name\": \"Cubone\", \"hp\": 50, \"attack\": 50, \"defense\": 95, \"sp_atk\": 40, \"sp_def\": 50, \"speed\": 35, \"total\": 235, \"generation\": 1, \"legendary\": 0, \"type\": \"Ground\"}, {\"num\": 105, \"name\": \"Marowak\", \"hp\": 60, \"attack\": 80, \"defense\": 110, \"sp_atk\": 50, \"sp_def\": 80, \"speed\": 45, \"total\": 320, \"generation\": 1, \"legendary\": 0, \"type\": \"Ground\"}, {\"num\": 106, \"name\": \"Hitmonlee\", \"hp\": 50, \"attack\": 120, \"defense\": 53, \"sp_atk\": 35, \"sp_def\": 110, \"speed\": 87, \"total\": 318, \"generation\": 1, \"legendary\": 0, \"type\": \"Fighting\"}, {\"num\": 107, \"name\": \"Hitmonchan\", \"hp\": 50, \"attack\": 105, \"defense\": 79, \"sp_atk\": 35, \"sp_def\": 110, \"speed\": 76, \"total\": 329, \"generation\": 1, \"legendary\": 0, \"type\": \"Fighting\"}, {\"num\": 108, \"name\": \"Lickitung\", \"hp\": 90, \"attack\": 55, \"defense\": 75, \"sp_atk\": 60, \"sp_def\": 75, \"speed\": 30, \"total\": 265, \"generation\": 1, \"legendary\": 0, \"type\": \"Normal\"}, {\"num\": 109, \"name\": \"Koffing\", \"hp\": 40, \"attack\": 65, \"defense\": 95, \"sp_atk\": 60, \"sp_def\": 45, \"speed\": 35, \"total\": 265, \"generation\": 1, \"legendary\": 0, \"type\": \"Poison\"}, {\"num\": 110, \"name\": \"Weezing\", \"hp\": 65, \"attack\": 90, \"defense\": 120, \"sp_atk\": 85, \"sp_def\": 70, \"speed\": 60, \"total\": 365, \"generation\": 1, \"legendary\": 0, \"type\": \"Poison\"}, {\"num\": 111, \"name\": \"Rhyhorn\", \"hp\": 80, \"attack\": 85, \"defense\": 95, \"sp_atk\": 30, \"sp_def\": 30, \"speed\": 25, \"total\": 240, \"generation\": 1, \"legendary\": 0, \"type\": \"Ground\"}, {\"num\": 112, \"name\": \"Rhydon\", \"hp\": 105, \"attack\": 130, \"defense\": 120, \"sp_atk\": 45, \"sp_def\": 45, \"speed\": 40, \"total\": 340, \"generation\": 1, \"legendary\": 0, \"type\": \"Ground\"}, {\"num\": 113, \"name\": \"Chansey\", \"hp\": 250, \"attack\": 5, \"defense\": 5, \"sp_atk\": 35, \"sp_def\": 105, \"speed\": 50, \"total\": 150, \"generation\": 1, \"legendary\": 0, \"type\": \"Normal\"}, {\"num\": 114, \"name\": \"Tangela\", \"hp\": 65, \"attack\": 55, \"defense\": 115, \"sp_atk\": 100, \"sp_def\": 40, \"speed\": 60, \"total\": 310, \"generation\": 1, \"legendary\": 0, \"type\": \"Grass\"}, {\"num\": 115, \"name\": \"Kangaskhan\", \"hp\": 105, \"attack\": 95, \"defense\": 80, \"sp_atk\": 40, \"sp_def\": 80, \"speed\": 90, \"total\": 295, \"generation\": 1, \"legendary\": 0, \"type\": \"Normal\"}, {\"num\": 115, \"name\": \"KangaskhanMega Kangaskhan\", \"hp\": 105, \"attack\": 125, \"defense\": 100, \"sp_atk\": 60, \"sp_def\": 100, \"speed\": 100, \"total\": 385, \"generation\": 1, \"legendary\": 0, \"type\": \"Normal\"}, {\"num\": 116, \"name\": \"Horsea\", \"hp\": 30, \"attack\": 40, \"defense\": 70, \"sp_atk\": 70, \"sp_def\": 25, \"speed\": 60, \"total\": 205, \"generation\": 1, \"legendary\": 0, \"type\": \"Water\"}, {\"num\": 117, \"name\": \"Seadra\", \"hp\": 55, \"attack\": 65, \"defense\": 95, \"sp_atk\": 95, \"sp_def\": 45, \"speed\": 85, \"total\": 300, \"generation\": 1, \"legendary\": 0, \"type\": \"Water\"}, {\"num\": 118, \"name\": \"Goldeen\", \"hp\": 45, \"attack\": 67, \"defense\": 60, \"sp_atk\": 35, \"sp_def\": 50, \"speed\": 63, \"total\": 212, \"generation\": 1, \"legendary\": 0, \"type\": \"Water\"}, {\"num\": 119, \"name\": \"Seaking\", \"hp\": 80, \"attack\": 92, \"defense\": 65, \"sp_atk\": 65, \"sp_def\": 80, \"speed\": 68, \"total\": 302, \"generation\": 1, \"legendary\": 0, \"type\": \"Water\"}, {\"num\": 120, \"name\": \"Staryu\", \"hp\": 30, \"attack\": 45, \"defense\": 55, \"sp_atk\": 70, \"sp_def\": 55, \"speed\": 85, \"total\": 225, \"generation\": 1, \"legendary\": 0, \"type\": \"Water\"}, {\"num\": 121, \"name\": \"Starmie\", \"hp\": 60, \"attack\": 75, \"defense\": 85, \"sp_atk\": 100, \"sp_def\": 85, \"speed\": 115, \"total\": 345, \"generation\": 1, \"legendary\": 0, \"type\": \"Water\"}, {\"num\": 122, \"name\": \"Mr. Mime\", \"hp\": 40, \"attack\": 45, \"defense\": 65, \"sp_atk\": 100, \"sp_def\": 120, \"speed\": 90, \"total\": 330, \"generation\": 1, \"legendary\": 0, \"type\": \"Psychic\"}, {\"num\": 123, \"name\": \"Scyther\", \"hp\": 70, \"attack\": 110, \"defense\": 80, \"sp_atk\": 55, \"sp_def\": 80, \"speed\": 105, \"total\": 325, \"generation\": 1, \"legendary\": 0, \"type\": \"Bug\"}, {\"num\": 124, \"name\": \"Jynx\", \"hp\": 65, \"attack\": 50, \"defense\": 35, \"sp_atk\": 115, \"sp_def\": 95, \"speed\": 95, \"total\": 295, \"generation\": 1, \"legendary\": 0, \"type\": \"Ice\"}, {\"num\": 125, \"name\": \"Electabuzz\", \"hp\": 65, \"attack\": 83, \"defense\": 57, \"sp_atk\": 95, \"sp_def\": 85, \"speed\": 105, \"total\": 320, \"generation\": 1, \"legendary\": 0, \"type\": \"Electric\"}, {\"num\": 126, \"name\": \"Magmar\", \"hp\": 65, \"attack\": 95, \"defense\": 57, \"sp_atk\": 100, \"sp_def\": 85, \"speed\": 93, \"total\": 337, \"generation\": 1, \"legendary\": 0, \"type\": \"Fire\"}, {\"num\": 127, \"name\": \"Pinsir\", \"hp\": 65, \"attack\": 125, \"defense\": 100, \"sp_atk\": 55, \"sp_def\": 70, \"speed\": 85, \"total\": 350, \"generation\": 1, \"legendary\": 0, \"type\": \"Bug\"}, {\"num\": 127, \"name\": \"PinsirMega Pinsir\", \"hp\": 65, \"attack\": 155, \"defense\": 120, \"sp_atk\": 65, \"sp_def\": 90, \"speed\": 105, \"total\": 430, \"generation\": 1, \"legendary\": 0, \"type\": \"Bug\"}, {\"num\": 128, \"name\": \"Tauros\", \"hp\": 75, \"attack\": 100, \"defense\": 95, \"sp_atk\": 40, \"sp_def\": 70, \"speed\": 110, \"total\": 305, \"generation\": 1, \"legendary\": 0, \"type\": \"Normal\"}, {\"num\": 129, \"name\": \"Magikarp\", \"hp\": 20, \"attack\": 10, \"defense\": 55, \"sp_atk\": 15, \"sp_def\": 20, \"speed\": 80, \"total\": 100, \"generation\": 1, \"legendary\": 0, \"type\": \"Water\"}, {\"num\": 130, \"name\": \"Gyarados\", \"hp\": 95, \"attack\": 125, \"defense\": 79, \"sp_atk\": 60, \"sp_def\": 100, \"speed\": 81, \"total\": 364, \"generation\": 1, \"legendary\": 0, \"type\": \"Water\"}, {\"num\": 130, \"name\": \"GyaradosMega Gyarados\", \"hp\": 95, \"attack\": 155, \"defense\": 109, \"sp_atk\": 70, \"sp_def\": 130, \"speed\": 81, \"total\": 464, \"generation\": 1, \"legendary\": 0, \"type\": \"Water\"}, {\"num\": 131, \"name\": \"Lapras\", \"hp\": 130, \"attack\": 85, \"defense\": 80, \"sp_atk\": 85, \"sp_def\": 95, \"speed\": 60, \"total\": 345, \"generation\": 1, \"legendary\": 0, \"type\": \"Water\"}, {\"num\": 132, \"name\": \"Ditto\", \"hp\": 48, \"attack\": 48, \"defense\": 48, \"sp_atk\": 48, \"sp_def\": 48, \"speed\": 48, \"total\": 192, \"generation\": 1, \"legendary\": 0, \"type\": \"Normal\"}, {\"num\": 133, \"name\": \"Eevee\", \"hp\": 55, \"attack\": 55, \"defense\": 50, \"sp_atk\": 45, \"sp_def\": 65, \"speed\": 55, \"total\": 215, \"generation\": 1, \"legendary\": 0, \"type\": \"Normal\"}, {\"num\": 134, \"name\": \"Vaporeon\", \"hp\": 130, \"attack\": 65, \"defense\": 60, \"sp_atk\": 110, \"sp_def\": 95, \"speed\": 65, \"total\": 330, \"generation\": 1, \"legendary\": 0, \"type\": \"Water\"}, {\"num\": 135, \"name\": \"Jolteon\", \"hp\": 65, \"attack\": 65, \"defense\": 60, \"sp_atk\": 110, \"sp_def\": 95, \"speed\": 130, \"total\": 330, \"generation\": 1, \"legendary\": 0, \"type\": \"Electric\"}, {\"num\": 136, \"name\": \"Flareon\", \"hp\": 65, \"attack\": 130, \"defense\": 60, \"sp_atk\": 95, \"sp_def\": 110, \"speed\": 65, \"total\": 395, \"generation\": 1, \"legendary\": 0, \"type\": \"Fire\"}, {\"num\": 137, \"name\": \"Porygon\", \"hp\": 65, \"attack\": 60, \"defense\": 70, \"sp_atk\": 85, \"sp_def\": 75, \"speed\": 40, \"total\": 290, \"generation\": 1, \"legendary\": 0, \"type\": \"Normal\"}, {\"num\": 138, \"name\": \"Omanyte\", \"hp\": 35, \"attack\": 40, \"defense\": 100, \"sp_atk\": 90, \"sp_def\": 55, \"speed\": 35, \"total\": 285, \"generation\": 1, \"legendary\": 0, \"type\": \"Rock\"}, {\"num\": 139, \"name\": \"Omastar\", \"hp\": 70, \"attack\": 60, \"defense\": 125, \"sp_atk\": 115, \"sp_def\": 70, \"speed\": 55, \"total\": 370, \"generation\": 1, \"legendary\": 0, \"type\": \"Rock\"}, {\"num\": 140, \"name\": \"Kabuto\", \"hp\": 30, \"attack\": 80, \"defense\": 90, \"sp_atk\": 55, \"sp_def\": 45, \"speed\": 55, \"total\": 270, \"generation\": 1, \"legendary\": 0, \"type\": \"Rock\"}, {\"num\": 141, \"name\": \"Kabutops\", \"hp\": 60, \"attack\": 115, \"defense\": 105, \"sp_atk\": 65, \"sp_def\": 70, \"speed\": 80, \"total\": 355, \"generation\": 1, \"legendary\": 0, \"type\": \"Rock\"}, {\"num\": 142, \"name\": \"Aerodactyl\", \"hp\": 80, \"attack\": 105, \"defense\": 65, \"sp_atk\": 60, \"sp_def\": 75, \"speed\": 130, \"total\": 305, \"generation\": 1, \"legendary\": 0, \"type\": \"Rock\"}, {\"num\": 142, \"name\": \"AerodactylMega Aerodactyl\", \"hp\": 80, \"attack\": 135, \"defense\": 85, \"sp_atk\": 70, \"sp_def\": 95, \"speed\": 150, \"total\": 385, \"generation\": 1, \"legendary\": 0, \"type\": \"Rock\"}, {\"num\": 143, \"name\": \"Snorlax\", \"hp\": 160, \"attack\": 110, \"defense\": 65, \"sp_atk\": 65, \"sp_def\": 110, \"speed\": 30, \"total\": 350, \"generation\": 1, \"legendary\": 0, \"type\": \"Normal\"}, {\"num\": 144, \"name\": \"Articuno\", \"hp\": 90, \"attack\": 85, \"defense\": 100, \"sp_atk\": 95, \"sp_def\": 125, \"speed\": 85, \"total\": 405, \"generation\": 1, \"legendary\": 1, \"type\": \"Ice\"}, {\"num\": 145, \"name\": \"Zapdos\", \"hp\": 90, \"attack\": 90, \"defense\": 85, \"sp_atk\": 125, \"sp_def\": 90, \"speed\": 100, \"total\": 390, \"generation\": 1, \"legendary\": 1, \"type\": \"Electric\"}, {\"num\": 146, \"name\": \"Moltres\", \"hp\": 90, \"attack\": 100, \"defense\": 90, \"sp_atk\": 125, \"sp_def\": 85, \"speed\": 90, \"total\": 400, \"generation\": 1, \"legendary\": 1, \"type\": \"Fire\"}, {\"num\": 147, \"name\": \"Dratini\", \"hp\": 41, \"attack\": 64, \"defense\": 45, \"sp_atk\": 50, \"sp_def\": 50, \"speed\": 50, \"total\": 209, \"generation\": 1, \"legendary\": 0, \"type\": \"Dragon\"}, {\"num\": 148, \"name\": \"Dragonair\", \"hp\": 61, \"attack\": 84, \"defense\": 65, \"sp_atk\": 70, \"sp_def\": 70, \"speed\": 70, \"total\": 289, \"generation\": 1, \"legendary\": 0, \"type\": \"Dragon\"}, {\"num\": 149, \"name\": \"Dragonite\", \"hp\": 91, \"attack\": 134, \"defense\": 95, \"sp_atk\": 100, \"sp_def\": 100, \"speed\": 80, \"total\": 429, \"generation\": 1, \"legendary\": 0, \"type\": \"Dragon\"}, {\"num\": 150, \"name\": \"Mewtwo\", \"hp\": 106, \"attack\": 110, \"defense\": 90, \"sp_atk\": 154, \"sp_def\": 90, \"speed\": 130, \"total\": 444, \"generation\": 1, \"legendary\": 1, \"type\": \"Psychic\"}, {\"num\": 150, \"name\": \"MewtwoMega Mewtwo X\", \"hp\": 106, \"attack\": 190, \"defense\": 100, \"sp_atk\": 154, \"sp_def\": 100, \"speed\": 130, \"total\": 544, \"generation\": 1, \"legendary\": 1, \"type\": \"Psychic\"}, {\"num\": 150, \"name\": \"MewtwoMega Mewtwo Y\", \"hp\": 106, \"attack\": 150, \"defense\": 70, \"sp_atk\": 194, \"sp_def\": 120, \"speed\": 140, \"total\": 534, \"generation\": 1, \"legendary\": 1, \"type\": \"Psychic\"}, {\"num\": 151, \"name\": \"Mew\", \"hp\": 100, \"attack\": 100, \"defense\": 100, \"sp_atk\": 100, \"sp_def\": 100, \"speed\": 100, \"total\": 400, \"generation\": 1, \"legendary\": 0, \"type\": \"Psychic\"}, {\"num\": 152, \"name\": \"Chikorita\", \"hp\": 45, \"attack\": 49, \"defense\": 65, \"sp_atk\": 49, \"sp_def\": 65, \"speed\": 45, \"total\": 228, \"generation\": 2, \"legendary\": 0, \"type\": \"Grass\"}, {\"num\": 153, \"name\": \"Bayleef\", \"hp\": 60, \"attack\": 62, \"defense\": 80, \"sp_atk\": 63, \"sp_def\": 80, \"speed\": 60, \"total\": 285, \"generation\": 2, \"legendary\": 0, \"type\": \"Grass\"}, {\"num\": 154, \"name\": \"Meganium\", \"hp\": 80, \"attack\": 82, \"defense\": 100, \"sp_atk\": 83, \"sp_def\": 100, \"speed\": 80, \"total\": 365, \"generation\": 2, \"legendary\": 0, \"type\": \"Grass\"}, {\"num\": 155, \"name\": \"Cyndaquil\", \"hp\": 39, \"attack\": 52, \"defense\": 43, \"sp_atk\": 60, \"sp_def\": 50, \"speed\": 65, \"total\": 205, \"generation\": 2, \"legendary\": 0, \"type\": \"Fire\"}, {\"num\": 156, \"name\": \"Quilava\", \"hp\": 58, \"attack\": 64, \"defense\": 58, \"sp_atk\": 80, \"sp_def\": 65, \"speed\": 80, \"total\": 267, \"generation\": 2, \"legendary\": 0, \"type\": \"Fire\"}, {\"num\": 157, \"name\": \"Typhlosion\", \"hp\": 78, \"attack\": 84, \"defense\": 78, \"sp_atk\": 109, \"sp_def\": 85, \"speed\": 100, \"total\": 356, \"generation\": 2, \"legendary\": 0, \"type\": \"Fire\"}, {\"num\": 158, \"name\": \"Totodile\", \"hp\": 50, \"attack\": 65, \"defense\": 64, \"sp_atk\": 44, \"sp_def\": 48, \"speed\": 43, \"total\": 221, \"generation\": 2, \"legendary\": 0, \"type\": \"Water\"}, {\"num\": 159, \"name\": \"Croconaw\", \"hp\": 65, \"attack\": 80, \"defense\": 80, \"sp_atk\": 59, \"sp_def\": 63, \"speed\": 58, \"total\": 282, \"generation\": 2, \"legendary\": 0, \"type\": \"Water\"}, {\"num\": 160, \"name\": \"Feraligatr\", \"hp\": 85, \"attack\": 105, \"defense\": 100, \"sp_atk\": 79, \"sp_def\": 83, \"speed\": 78, \"total\": 367, \"generation\": 2, \"legendary\": 0, \"type\": \"Water\"}, {\"num\": 161, \"name\": \"Sentret\", \"hp\": 35, \"attack\": 46, \"defense\": 34, \"sp_atk\": 35, \"sp_def\": 45, \"speed\": 20, \"total\": 160, \"generation\": 2, \"legendary\": 0, \"type\": \"Normal\"}, {\"num\": 162, \"name\": \"Furret\", \"hp\": 85, \"attack\": 76, \"defense\": 64, \"sp_atk\": 45, \"sp_def\": 55, \"speed\": 90, \"total\": 240, \"generation\": 2, \"legendary\": 0, \"type\": \"Normal\"}, {\"num\": 163, \"name\": \"Hoothoot\", \"hp\": 60, \"attack\": 30, \"defense\": 30, \"sp_atk\": 36, \"sp_def\": 56, \"speed\": 50, \"total\": 152, \"generation\": 2, \"legendary\": 0, \"type\": \"Normal\"}, {\"num\": 164, \"name\": \"Noctowl\", \"hp\": 100, \"attack\": 50, \"defense\": 50, \"sp_atk\": 76, \"sp_def\": 96, \"speed\": 70, \"total\": 272, \"generation\": 2, \"legendary\": 0, \"type\": \"Normal\"}, {\"num\": 165, \"name\": \"Ledyba\", \"hp\": 40, \"attack\": 20, \"defense\": 30, \"sp_atk\": 40, \"sp_def\": 80, \"speed\": 55, \"total\": 170, \"generation\": 2, \"legendary\": 0, \"type\": \"Bug\"}, {\"num\": 166, \"name\": \"Ledian\", \"hp\": 55, \"attack\": 35, \"defense\": 50, \"sp_atk\": 55, \"sp_def\": 110, \"speed\": 85, \"total\": 250, \"generation\": 2, \"legendary\": 0, \"type\": \"Bug\"}, {\"num\": 167, \"name\": \"Spinarak\", \"hp\": 40, \"attack\": 60, \"defense\": 40, \"sp_atk\": 40, \"sp_def\": 40, \"speed\": 30, \"total\": 180, \"generation\": 2, \"legendary\": 0, \"type\": \"Bug\"}, {\"num\": 168, \"name\": \"Ariados\", \"hp\": 70, \"attack\": 90, \"defense\": 70, \"sp_atk\": 60, \"sp_def\": 60, \"speed\": 40, \"total\": 280, \"generation\": 2, \"legendary\": 0, \"type\": \"Bug\"}, {\"num\": 169, \"name\": \"Crobat\", \"hp\": 85, \"attack\": 90, \"defense\": 80, \"sp_atk\": 70, \"sp_def\": 80, \"speed\": 130, \"total\": 320, \"generation\": 2, \"legendary\": 0, \"type\": \"Poison\"}, {\"num\": 170, \"name\": \"Chinchou\", \"hp\": 75, \"attack\": 38, \"defense\": 38, \"sp_atk\": 56, \"sp_def\": 56, \"speed\": 67, \"total\": 188, \"generation\": 2, \"legendary\": 0, \"type\": \"Water\"}, {\"num\": 171, \"name\": \"Lanturn\", \"hp\": 125, \"attack\": 58, \"defense\": 58, \"sp_atk\": 76, \"sp_def\": 76, \"speed\": 67, \"total\": 268, \"generation\": 2, \"legendary\": 0, \"type\": \"Water\"}, {\"num\": 172, \"name\": \"Pichu\", \"hp\": 20, \"attack\": 40, \"defense\": 15, \"sp_atk\": 35, \"sp_def\": 35, \"speed\": 60, \"total\": 125, \"generation\": 2, \"legendary\": 0, \"type\": \"Electric\"}, {\"num\": 173, \"name\": \"Cleffa\", \"hp\": 50, \"attack\": 25, \"defense\": 28, \"sp_atk\": 45, \"sp_def\": 55, \"speed\": 15, \"total\": 153, \"generation\": 2, \"legendary\": 0, \"type\": \"Fairy\"}, {\"num\": 174, \"name\": \"Igglybuff\", \"hp\": 90, \"attack\": 30, \"defense\": 15, \"sp_atk\": 40, \"sp_def\": 20, \"speed\": 15, \"total\": 105, \"generation\": 2, \"legendary\": 0, \"type\": \"Normal\"}, {\"num\": 175, \"name\": \"Togepi\", \"hp\": 35, \"attack\": 20, \"defense\": 65, \"sp_atk\": 40, \"sp_def\": 65, \"speed\": 20, \"total\": 190, \"generation\": 2, \"legendary\": 0, \"type\": \"Fairy\"}, {\"num\": 176, \"name\": \"Togetic\", \"hp\": 55, \"attack\": 40, \"defense\": 85, \"sp_atk\": 80, \"sp_def\": 105, \"speed\": 40, \"total\": 310, \"generation\": 2, \"legendary\": 0, \"type\": \"Fairy\"}, {\"num\": 177, \"name\": \"Natu\", \"hp\": 40, \"attack\": 50, \"defense\": 45, \"sp_atk\": 70, \"sp_def\": 45, \"speed\": 70, \"total\": 210, \"generation\": 2, \"legendary\": 0, \"type\": \"Psychic\"}, {\"num\": 178, \"name\": \"Xatu\", \"hp\": 65, \"attack\": 75, \"defense\": 70, \"sp_atk\": 95, \"sp_def\": 70, \"speed\": 95, \"total\": 310, \"generation\": 2, \"legendary\": 0, \"type\": \"Psychic\"}, {\"num\": 179, \"name\": \"Mareep\", \"hp\": 55, \"attack\": 40, \"defense\": 40, \"sp_atk\": 65, \"sp_def\": 45, \"speed\": 35, \"total\": 190, \"generation\": 2, \"legendary\": 0, \"type\": \"Electric\"}, {\"num\": 180, \"name\": \"Flaaffy\", \"hp\": 70, \"attack\": 55, \"defense\": 55, \"sp_atk\": 80, \"sp_def\": 60, \"speed\": 45, \"total\": 250, \"generation\": 2, \"legendary\": 0, \"type\": \"Electric\"}, {\"num\": 181, \"name\": \"Ampharos\", \"hp\": 90, \"attack\": 75, \"defense\": 85, \"sp_atk\": 115, \"sp_def\": 90, \"speed\": 55, \"total\": 365, \"generation\": 2, \"legendary\": 0, \"type\": \"Electric\"}, {\"num\": 181, \"name\": \"AmpharosMega Ampharos\", \"hp\": 90, \"attack\": 95, \"defense\": 105, \"sp_atk\": 165, \"sp_def\": 110, \"speed\": 45, \"total\": 475, \"generation\": 2, \"legendary\": 0, \"type\": \"Electric\"}, {\"num\": 182, \"name\": \"Bellossom\", \"hp\": 75, \"attack\": 80, \"defense\": 95, \"sp_atk\": 90, \"sp_def\": 100, \"speed\": 50, \"total\": 365, \"generation\": 2, \"legendary\": 0, \"type\": \"Grass\"}, {\"num\": 183, \"name\": \"Marill\", \"hp\": 70, \"attack\": 20, \"defense\": 50, \"sp_atk\": 20, \"sp_def\": 50, \"speed\": 40, \"total\": 140, \"generation\": 2, \"legendary\": 0, \"type\": \"Water\"}, {\"num\": 184, \"name\": \"Azumarill\", \"hp\": 100, \"attack\": 50, \"defense\": 80, \"sp_atk\": 60, \"sp_def\": 80, \"speed\": 50, \"total\": 270, \"generation\": 2, \"legendary\": 0, \"type\": \"Water\"}, {\"num\": 185, \"name\": \"Sudowoodo\", \"hp\": 70, \"attack\": 100, \"defense\": 115, \"sp_atk\": 30, \"sp_def\": 65, \"speed\": 30, \"total\": 310, \"generation\": 2, \"legendary\": 0, \"type\": \"Rock\"}, {\"num\": 186, \"name\": \"Politoed\", \"hp\": 90, \"attack\": 75, \"defense\": 75, \"sp_atk\": 90, \"sp_def\": 100, \"speed\": 70, \"total\": 340, \"generation\": 2, \"legendary\": 0, \"type\": \"Water\"}, {\"num\": 187, \"name\": \"Hoppip\", \"hp\": 35, \"attack\": 35, \"defense\": 40, \"sp_atk\": 35, \"sp_def\": 55, \"speed\": 50, \"total\": 165, \"generation\": 2, \"legendary\": 0, \"type\": \"Grass\"}, {\"num\": 188, \"name\": \"Skiploom\", \"hp\": 55, \"attack\": 45, \"defense\": 50, \"sp_atk\": 45, \"sp_def\": 65, \"speed\": 80, \"total\": 205, \"generation\": 2, \"legendary\": 0, \"type\": \"Grass\"}, {\"num\": 189, \"name\": \"Jumpluff\", \"hp\": 75, \"attack\": 55, \"defense\": 70, \"sp_atk\": 55, \"sp_def\": 95, \"speed\": 110, \"total\": 275, \"generation\": 2, \"legendary\": 0, \"type\": \"Grass\"}, {\"num\": 190, \"name\": \"Aipom\", \"hp\": 55, \"attack\": 70, \"defense\": 55, \"sp_atk\": 40, \"sp_def\": 55, \"speed\": 85, \"total\": 220, \"generation\": 2, \"legendary\": 0, \"type\": \"Normal\"}, {\"num\": 191, \"name\": \"Sunkern\", \"hp\": 30, \"attack\": 30, \"defense\": 30, \"sp_atk\": 30, \"sp_def\": 30, \"speed\": 30, \"total\": 120, \"generation\": 2, \"legendary\": 0, \"type\": \"Grass\"}, {\"num\": 192, \"name\": \"Sunflora\", \"hp\": 75, \"attack\": 75, \"defense\": 55, \"sp_atk\": 105, \"sp_def\": 85, \"speed\": 30, \"total\": 320, \"generation\": 2, \"legendary\": 0, \"type\": \"Grass\"}, {\"num\": 193, \"name\": \"Yanma\", \"hp\": 65, \"attack\": 65, \"defense\": 45, \"sp_atk\": 75, \"sp_def\": 45, \"speed\": 95, \"total\": 230, \"generation\": 2, \"legendary\": 0, \"type\": \"Bug\"}, {\"num\": 194, \"name\": \"Wooper\", \"hp\": 55, \"attack\": 45, \"defense\": 45, \"sp_atk\": 25, \"sp_def\": 25, \"speed\": 15, \"total\": 140, \"generation\": 2, \"legendary\": 0, \"type\": \"Water\"}, {\"num\": 195, \"name\": \"Quagsire\", \"hp\": 95, \"attack\": 85, \"defense\": 85, \"sp_atk\": 65, \"sp_def\": 65, \"speed\": 35, \"total\": 300, \"generation\": 2, \"legendary\": 0, \"type\": \"Water\"}, {\"num\": 196, \"name\": \"Espeon\", \"hp\": 65, \"attack\": 65, \"defense\": 60, \"sp_atk\": 130, \"sp_def\": 95, \"speed\": 110, \"total\": 350, \"generation\": 2, \"legendary\": 0, \"type\": \"Psychic\"}, {\"num\": 197, \"name\": \"Umbreon\", \"hp\": 95, \"attack\": 65, \"defense\": 110, \"sp_atk\": 60, \"sp_def\": 130, \"speed\": 65, \"total\": 365, \"generation\": 2, \"legendary\": 0, \"type\": \"Dark\"}, {\"num\": 198, \"name\": \"Murkrow\", \"hp\": 60, \"attack\": 85, \"defense\": 42, \"sp_atk\": 85, \"sp_def\": 42, \"speed\": 91, \"total\": 254, \"generation\": 2, \"legendary\": 0, \"type\": \"Dark\"}, {\"num\": 199, \"name\": \"Slowking\", \"hp\": 95, \"attack\": 75, \"defense\": 80, \"sp_atk\": 100, \"sp_def\": 110, \"speed\": 30, \"total\": 365, \"generation\": 2, \"legendary\": 0, \"type\": \"Water\"}, {\"num\": 200, \"name\": \"Misdreavus\", \"hp\": 60, \"attack\": 60, \"defense\": 60, \"sp_atk\": 85, \"sp_def\": 85, \"speed\": 85, \"total\": 290, \"generation\": 2, \"legendary\": 0, \"type\": \"Ghost\"}, {\"num\": 201, \"name\": \"Unown\", \"hp\": 48, \"attack\": 72, \"defense\": 48, \"sp_atk\": 72, \"sp_def\": 48, \"speed\": 48, \"total\": 240, \"generation\": 2, \"legendary\": 0, \"type\": \"Psychic\"}, {\"num\": 202, \"name\": \"Wobbuffet\", \"hp\": 190, \"attack\": 33, \"defense\": 58, \"sp_atk\": 33, \"sp_def\": 58, \"speed\": 33, \"total\": 182, \"generation\": 2, \"legendary\": 0, \"type\": \"Psychic\"}, {\"num\": 203, \"name\": \"Girafarig\", \"hp\": 70, \"attack\": 80, \"defense\": 65, \"sp_atk\": 90, \"sp_def\": 65, \"speed\": 85, \"total\": 300, \"generation\": 2, \"legendary\": 0, \"type\": \"Normal\"}, {\"num\": 204, \"name\": \"Pineco\", \"hp\": 50, \"attack\": 65, \"defense\": 90, \"sp_atk\": 35, \"sp_def\": 35, \"speed\": 15, \"total\": 225, \"generation\": 2, \"legendary\": 0, \"type\": \"Bug\"}, {\"num\": 205, \"name\": \"Forretress\", \"hp\": 75, \"attack\": 90, \"defense\": 140, \"sp_atk\": 60, \"sp_def\": 60, \"speed\": 40, \"total\": 350, \"generation\": 2, \"legendary\": 0, \"type\": \"Bug\"}, {\"num\": 206, \"name\": \"Dunsparce\", \"hp\": 100, \"attack\": 70, \"defense\": 70, \"sp_atk\": 65, \"sp_def\": 65, \"speed\": 45, \"total\": 270, \"generation\": 2, \"legendary\": 0, \"type\": \"Normal\"}, {\"num\": 207, \"name\": \"Gligar\", \"hp\": 65, \"attack\": 75, \"defense\": 105, \"sp_atk\": 35, \"sp_def\": 65, \"speed\": 85, \"total\": 280, \"generation\": 2, \"legendary\": 0, \"type\": \"Ground\"}, {\"num\": 208, \"name\": \"Steelix\", \"hp\": 75, \"attack\": 85, \"defense\": 200, \"sp_atk\": 55, \"sp_def\": 65, \"speed\": 30, \"total\": 405, \"generation\": 2, \"legendary\": 0, \"type\": \"Steel\"}, {\"num\": 208, \"name\": \"SteelixMega Steelix\", \"hp\": 75, \"attack\": 125, \"defense\": 230, \"sp_atk\": 55, \"sp_def\": 95, \"speed\": 30, \"total\": 505, \"generation\": 2, \"legendary\": 0, \"type\": \"Steel\"}, {\"num\": 209, \"name\": \"Snubbull\", \"hp\": 60, \"attack\": 80, \"defense\": 50, \"sp_atk\": 40, \"sp_def\": 40, \"speed\": 30, \"total\": 210, \"generation\": 2, \"legendary\": 0, \"type\": \"Fairy\"}, {\"num\": 210, \"name\": \"Granbull\", \"hp\": 90, \"attack\": 120, \"defense\": 75, \"sp_atk\": 60, \"sp_def\": 60, \"speed\": 45, \"total\": 315, \"generation\": 2, \"legendary\": 0, \"type\": \"Fairy\"}, {\"num\": 211, \"name\": \"Qwilfish\", \"hp\": 65, \"attack\": 95, \"defense\": 75, \"sp_atk\": 55, \"sp_def\": 55, \"speed\": 85, \"total\": 280, \"generation\": 2, \"legendary\": 0, \"type\": \"Water\"}, {\"num\": 212, \"name\": \"Scizor\", \"hp\": 70, \"attack\": 130, \"defense\": 100, \"sp_atk\": 55, \"sp_def\": 80, \"speed\": 65, \"total\": 365, \"generation\": 2, \"legendary\": 0, \"type\": \"Bug\"}, {\"num\": 212, \"name\": \"ScizorMega Scizor\", \"hp\": 70, \"attack\": 150, \"defense\": 140, \"sp_atk\": 65, \"sp_def\": 100, \"speed\": 75, \"total\": 455, \"generation\": 2, \"legendary\": 0, \"type\": \"Bug\"}, {\"num\": 213, \"name\": \"Shuckle\", \"hp\": 20, \"attack\": 10, \"defense\": 230, \"sp_atk\": 10, \"sp_def\": 230, \"speed\": 5, \"total\": 480, \"generation\": 2, \"legendary\": 0, \"type\": \"Bug\"}, {\"num\": 214, \"name\": \"Heracross\", \"hp\": 80, \"attack\": 125, \"defense\": 75, \"sp_atk\": 40, \"sp_def\": 95, \"speed\": 85, \"total\": 335, \"generation\": 2, \"legendary\": 0, \"type\": \"Bug\"}, {\"num\": 214, \"name\": \"HeracrossMega Heracross\", \"hp\": 80, \"attack\": 185, \"defense\": 115, \"sp_atk\": 40, \"sp_def\": 105, \"speed\": 75, \"total\": 445, \"generation\": 2, \"legendary\": 0, \"type\": \"Bug\"}, {\"num\": 215, \"name\": \"Sneasel\", \"hp\": 55, \"attack\": 95, \"defense\": 55, \"sp_atk\": 35, \"sp_def\": 75, \"speed\": 115, \"total\": 260, \"generation\": 2, \"legendary\": 0, \"type\": \"Dark\"}, {\"num\": 216, \"name\": \"Teddiursa\", \"hp\": 60, \"attack\": 80, \"defense\": 50, \"sp_atk\": 50, \"sp_def\": 50, \"speed\": 40, \"total\": 230, \"generation\": 2, \"legendary\": 0, \"type\": \"Normal\"}, {\"num\": 217, \"name\": \"Ursaring\", \"hp\": 90, \"attack\": 130, \"defense\": 75, \"sp_atk\": 75, \"sp_def\": 75, \"speed\": 55, \"total\": 355, \"generation\": 2, \"legendary\": 0, \"type\": \"Normal\"}, {\"num\": 218, \"name\": \"Slugma\", \"hp\": 40, \"attack\": 40, \"defense\": 40, \"sp_atk\": 70, \"sp_def\": 40, \"speed\": 20, \"total\": 190, \"generation\": 2, \"legendary\": 0, \"type\": \"Fire\"}, {\"num\": 219, \"name\": \"Magcargo\", \"hp\": 50, \"attack\": 50, \"defense\": 120, \"sp_atk\": 80, \"sp_def\": 80, \"speed\": 30, \"total\": 330, \"generation\": 2, \"legendary\": 0, \"type\": \"Fire\"}, {\"num\": 220, \"name\": \"Swinub\", \"hp\": 50, \"attack\": 50, \"defense\": 40, \"sp_atk\": 30, \"sp_def\": 30, \"speed\": 50, \"total\": 150, \"generation\": 2, \"legendary\": 0, \"type\": \"Ice\"}, {\"num\": 221, \"name\": \"Piloswine\", \"hp\": 100, \"attack\": 100, \"defense\": 80, \"sp_atk\": 60, \"sp_def\": 60, \"speed\": 50, \"total\": 300, \"generation\": 2, \"legendary\": 0, \"type\": \"Ice\"}, {\"num\": 222, \"name\": \"Corsola\", \"hp\": 55, \"attack\": 55, \"defense\": 85, \"sp_atk\": 65, \"sp_def\": 85, \"speed\": 35, \"total\": 290, \"generation\": 2, \"legendary\": 0, \"type\": \"Water\"}, {\"num\": 223, \"name\": \"Remoraid\", \"hp\": 35, \"attack\": 65, \"defense\": 35, \"sp_atk\": 65, \"sp_def\": 35, \"speed\": 65, \"total\": 200, \"generation\": 2, \"legendary\": 0, \"type\": \"Water\"}, {\"num\": 224, \"name\": \"Octillery\", \"hp\": 75, \"attack\": 105, \"defense\": 75, \"sp_atk\": 105, \"sp_def\": 75, \"speed\": 45, \"total\": 360, \"generation\": 2, \"legendary\": 0, \"type\": \"Water\"}, {\"num\": 225, \"name\": \"Delibird\", \"hp\": 45, \"attack\": 55, \"defense\": 45, \"sp_atk\": 65, \"sp_def\": 45, \"speed\": 75, \"total\": 210, \"generation\": 2, \"legendary\": 0, \"type\": \"Ice\"}, {\"num\": 226, \"name\": \"Mantine\", \"hp\": 65, \"attack\": 40, \"defense\": 70, \"sp_atk\": 80, \"sp_def\": 140, \"speed\": 70, \"total\": 330, \"generation\": 2, \"legendary\": 0, \"type\": \"Water\"}, {\"num\": 227, \"name\": \"Skarmory\", \"hp\": 65, \"attack\": 80, \"defense\": 140, \"sp_atk\": 40, \"sp_def\": 70, \"speed\": 70, \"total\": 330, \"generation\": 2, \"legendary\": 0, \"type\": \"Steel\"}, {\"num\": 228, \"name\": \"Houndour\", \"hp\": 45, \"attack\": 60, \"defense\": 30, \"sp_atk\": 80, \"sp_def\": 50, \"speed\": 65, \"total\": 220, \"generation\": 2, \"legendary\": 0, \"type\": \"Dark\"}, {\"num\": 229, \"name\": \"Houndoom\", \"hp\": 75, \"attack\": 90, \"defense\": 50, \"sp_atk\": 110, \"sp_def\": 80, \"speed\": 95, \"total\": 330, \"generation\": 2, \"legendary\": 0, \"type\": \"Dark\"}, {\"num\": 229, \"name\": \"HoundoomMega Houndoom\", \"hp\": 75, \"attack\": 90, \"defense\": 90, \"sp_atk\": 140, \"sp_def\": 90, \"speed\": 115, \"total\": 410, \"generation\": 2, \"legendary\": 0, \"type\": \"Dark\"}, {\"num\": 230, \"name\": \"Kingdra\", \"hp\": 75, \"attack\": 95, \"defense\": 95, \"sp_atk\": 95, \"sp_def\": 95, \"speed\": 85, \"total\": 380, \"generation\": 2, \"legendary\": 0, \"type\": \"Water\"}, {\"num\": 231, \"name\": \"Phanpy\", \"hp\": 90, \"attack\": 60, \"defense\": 60, \"sp_atk\": 40, \"sp_def\": 40, \"speed\": 40, \"total\": 200, \"generation\": 2, \"legendary\": 0, \"type\": \"Ground\"}, {\"num\": 232, \"name\": \"Donphan\", \"hp\": 90, \"attack\": 120, \"defense\": 120, \"sp_atk\": 60, \"sp_def\": 60, \"speed\": 50, \"total\": 360, \"generation\": 2, \"legendary\": 0, \"type\": \"Ground\"}, {\"num\": 233, \"name\": \"Porygon2\", \"hp\": 85, \"attack\": 80, \"defense\": 90, \"sp_atk\": 105, \"sp_def\": 95, \"speed\": 60, \"total\": 370, \"generation\": 2, \"legendary\": 0, \"type\": \"Normal\"}, {\"num\": 234, \"name\": \"Stantler\", \"hp\": 73, \"attack\": 95, \"defense\": 62, \"sp_atk\": 85, \"sp_def\": 65, \"speed\": 85, \"total\": 307, \"generation\": 2, \"legendary\": 0, \"type\": \"Normal\"}, {\"num\": 235, \"name\": \"Smeargle\", \"hp\": 55, \"attack\": 20, \"defense\": 35, \"sp_atk\": 20, \"sp_def\": 45, \"speed\": 75, \"total\": 120, \"generation\": 2, \"legendary\": 0, \"type\": \"Normal\"}, {\"num\": 236, \"name\": \"Tyrogue\", \"hp\": 35, \"attack\": 35, \"defense\": 35, \"sp_atk\": 35, \"sp_def\": 35, \"speed\": 35, \"total\": 140, \"generation\": 2, \"legendary\": 0, \"type\": \"Fighting\"}, {\"num\": 237, \"name\": \"Hitmontop\", \"hp\": 50, \"attack\": 95, \"defense\": 95, \"sp_atk\": 35, \"sp_def\": 110, \"speed\": 70, \"total\": 335, \"generation\": 2, \"legendary\": 0, \"type\": \"Fighting\"}, {\"num\": 238, \"name\": \"Smoochum\", \"hp\": 45, \"attack\": 30, \"defense\": 15, \"sp_atk\": 85, \"sp_def\": 65, \"speed\": 65, \"total\": 195, \"generation\": 2, \"legendary\": 0, \"type\": \"Ice\"}, {\"num\": 239, \"name\": \"Elekid\", \"hp\": 45, \"attack\": 63, \"defense\": 37, \"sp_atk\": 65, \"sp_def\": 55, \"speed\": 95, \"total\": 220, \"generation\": 2, \"legendary\": 0, \"type\": \"Electric\"}, {\"num\": 240, \"name\": \"Magby\", \"hp\": 45, \"attack\": 75, \"defense\": 37, \"sp_atk\": 70, \"sp_def\": 55, \"speed\": 83, \"total\": 237, \"generation\": 2, \"legendary\": 0, \"type\": \"Fire\"}, {\"num\": 241, \"name\": \"Miltank\", \"hp\": 95, \"attack\": 80, \"defense\": 105, \"sp_atk\": 40, \"sp_def\": 70, \"speed\": 100, \"total\": 295, \"generation\": 2, \"legendary\": 0, \"type\": \"Normal\"}, {\"num\": 242, \"name\": \"Blissey\", \"hp\": 255, \"attack\": 10, \"defense\": 10, \"sp_atk\": 75, \"sp_def\": 135, \"speed\": 55, \"total\": 230, \"generation\": 2, \"legendary\": 0, \"type\": \"Normal\"}, {\"num\": 243, \"name\": \"Raikou\", \"hp\": 90, \"attack\": 85, \"defense\": 75, \"sp_atk\": 115, \"sp_def\": 100, \"speed\": 115, \"total\": 375, \"generation\": 2, \"legendary\": 1, \"type\": \"Electric\"}, {\"num\": 244, \"name\": \"Entei\", \"hp\": 115, \"attack\": 115, \"defense\": 85, \"sp_atk\": 90, \"sp_def\": 75, \"speed\": 100, \"total\": 365, \"generation\": 2, \"legendary\": 1, \"type\": \"Fire\"}, {\"num\": 245, \"name\": \"Suicune\", \"hp\": 100, \"attack\": 75, \"defense\": 115, \"sp_atk\": 90, \"sp_def\": 115, \"speed\": 85, \"total\": 395, \"generation\": 2, \"legendary\": 1, \"type\": \"Water\"}, {\"num\": 246, \"name\": \"Larvitar\", \"hp\": 50, \"attack\": 64, \"defense\": 50, \"sp_atk\": 45, \"sp_def\": 50, \"speed\": 41, \"total\": 209, \"generation\": 2, \"legendary\": 0, \"type\": \"Rock\"}, {\"num\": 247, \"name\": \"Pupitar\", \"hp\": 70, \"attack\": 84, \"defense\": 70, \"sp_atk\": 65, \"sp_def\": 70, \"speed\": 51, \"total\": 289, \"generation\": 2, \"legendary\": 0, \"type\": \"Rock\"}, {\"num\": 248, \"name\": \"Tyranitar\", \"hp\": 100, \"attack\": 134, \"defense\": 110, \"sp_atk\": 95, \"sp_def\": 100, \"speed\": 61, \"total\": 439, \"generation\": 2, \"legendary\": 0, \"type\": \"Rock\"}, {\"num\": 248, \"name\": \"TyranitarMega Tyranitar\", \"hp\": 100, \"attack\": 164, \"defense\": 150, \"sp_atk\": 95, \"sp_def\": 120, \"speed\": 71, \"total\": 529, \"generation\": 2, \"legendary\": 0, \"type\": \"Rock\"}, {\"num\": 249, \"name\": \"Lugia\", \"hp\": 106, \"attack\": 90, \"defense\": 130, \"sp_atk\": 90, \"sp_def\": 154, \"speed\": 110, \"total\": 464, \"generation\": 2, \"legendary\": 1, \"type\": \"Psychic\"}, {\"num\": 250, \"name\": \"Ho-oh\", \"hp\": 106, \"attack\": 130, \"defense\": 90, \"sp_atk\": 110, \"sp_def\": 154, \"speed\": 90, \"total\": 484, \"generation\": 2, \"legendary\": 1, \"type\": \"Fire\"}, {\"num\": 251, \"name\": \"Celebi\", \"hp\": 100, \"attack\": 100, \"defense\": 100, \"sp_atk\": 100, \"sp_def\": 100, \"speed\": 100, \"total\": 400, \"generation\": 2, \"legendary\": 0, \"type\": \"Psychic\"}, {\"num\": 252, \"name\": \"Treecko\", \"hp\": 40, \"attack\": 45, \"defense\": 35, \"sp_atk\": 65, \"sp_def\": 55, \"speed\": 70, \"total\": 200, \"generation\": 3, \"legendary\": 0, \"type\": \"Grass\"}, {\"num\": 253, \"name\": \"Grovyle\", \"hp\": 50, \"attack\": 65, \"defense\": 45, \"sp_atk\": 85, \"sp_def\": 65, \"speed\": 95, \"total\": 260, \"generation\": 3, \"legendary\": 0, \"type\": \"Grass\"}, {\"num\": 254, \"name\": \"Sceptile\", \"hp\": 70, \"attack\": 85, \"defense\": 65, \"sp_atk\": 105, \"sp_def\": 85, \"speed\": 120, \"total\": 340, \"generation\": 3, \"legendary\": 0, \"type\": \"Grass\"}, {\"num\": 254, \"name\": \"SceptileMega Sceptile\", \"hp\": 70, \"attack\": 110, \"defense\": 75, \"sp_atk\": 145, \"sp_def\": 85, \"speed\": 145, \"total\": 415, \"generation\": 3, \"legendary\": 0, \"type\": \"Grass\"}, {\"num\": 255, \"name\": \"Torchic\", \"hp\": 45, \"attack\": 60, \"defense\": 40, \"sp_atk\": 70, \"sp_def\": 50, \"speed\": 45, \"total\": 220, \"generation\": 3, \"legendary\": 0, \"type\": \"Fire\"}, {\"num\": 256, \"name\": \"Combusken\", \"hp\": 60, \"attack\": 85, \"defense\": 60, \"sp_atk\": 85, \"sp_def\": 60, \"speed\": 55, \"total\": 290, \"generation\": 3, \"legendary\": 0, \"type\": \"Fire\"}, {\"num\": 257, \"name\": \"Blaziken\", \"hp\": 80, \"attack\": 120, \"defense\": 70, \"sp_atk\": 110, \"sp_def\": 70, \"speed\": 80, \"total\": 370, \"generation\": 3, \"legendary\": 0, \"type\": \"Fire\"}, {\"num\": 257, \"name\": \"BlazikenMega Blaziken\", \"hp\": 80, \"attack\": 160, \"defense\": 80, \"sp_atk\": 130, \"sp_def\": 80, \"speed\": 100, \"total\": 450, \"generation\": 3, \"legendary\": 0, \"type\": \"Fire\"}, {\"num\": 258, \"name\": \"Mudkip\", \"hp\": 50, \"attack\": 70, \"defense\": 50, \"sp_atk\": 50, \"sp_def\": 50, \"speed\": 40, \"total\": 220, \"generation\": 3, \"legendary\": 0, \"type\": \"Water\"}, {\"num\": 259, \"name\": \"Marshtomp\", \"hp\": 70, \"attack\": 85, \"defense\": 70, \"sp_atk\": 60, \"sp_def\": 70, \"speed\": 50, \"total\": 285, \"generation\": 3, \"legendary\": 0, \"type\": \"Water\"}, {\"num\": 260, \"name\": \"Swampert\", \"hp\": 100, \"attack\": 110, \"defense\": 90, \"sp_atk\": 85, \"sp_def\": 90, \"speed\": 60, \"total\": 375, \"generation\": 3, \"legendary\": 0, \"type\": \"Water\"}, {\"num\": 260, \"name\": \"SwampertMega Swampert\", \"hp\": 100, \"attack\": 150, \"defense\": 110, \"sp_atk\": 95, \"sp_def\": 110, \"speed\": 70, \"total\": 465, \"generation\": 3, \"legendary\": 0, \"type\": \"Water\"}, {\"num\": 261, \"name\": \"Poochyena\", \"hp\": 35, \"attack\": 55, \"defense\": 35, \"sp_atk\": 30, \"sp_def\": 30, \"speed\": 35, \"total\": 150, \"generation\": 3, \"legendary\": 0, \"type\": \"Dark\"}, {\"num\": 262, \"name\": \"Mightyena\", \"hp\": 70, \"attack\": 90, \"defense\": 70, \"sp_atk\": 60, \"sp_def\": 60, \"speed\": 70, \"total\": 280, \"generation\": 3, \"legendary\": 0, \"type\": \"Dark\"}, {\"num\": 263, \"name\": \"Zigzagoon\", \"hp\": 38, \"attack\": 30, \"defense\": 41, \"sp_atk\": 30, \"sp_def\": 41, \"speed\": 60, \"total\": 142, \"generation\": 3, \"legendary\": 0, \"type\": \"Normal\"}, {\"num\": 264, \"name\": \"Linoone\", \"hp\": 78, \"attack\": 70, \"defense\": 61, \"sp_atk\": 50, \"sp_def\": 61, \"speed\": 100, \"total\": 242, \"generation\": 3, \"legendary\": 0, \"type\": \"Normal\"}, {\"num\": 265, \"name\": \"Wurmple\", \"hp\": 45, \"attack\": 45, \"defense\": 35, \"sp_atk\": 20, \"sp_def\": 30, \"speed\": 20, \"total\": 130, \"generation\": 3, \"legendary\": 0, \"type\": \"Bug\"}, {\"num\": 266, \"name\": \"Silcoon\", \"hp\": 50, \"attack\": 35, \"defense\": 55, \"sp_atk\": 25, \"sp_def\": 25, \"speed\": 15, \"total\": 140, \"generation\": 3, \"legendary\": 0, \"type\": \"Bug\"}, {\"num\": 267, \"name\": \"Beautifly\", \"hp\": 60, \"attack\": 70, \"defense\": 50, \"sp_atk\": 100, \"sp_def\": 50, \"speed\": 65, \"total\": 270, \"generation\": 3, \"legendary\": 0, \"type\": \"Bug\"}, {\"num\": 268, \"name\": \"Cascoon\", \"hp\": 50, \"attack\": 35, \"defense\": 55, \"sp_atk\": 25, \"sp_def\": 25, \"speed\": 15, \"total\": 140, \"generation\": 3, \"legendary\": 0, \"type\": \"Bug\"}, {\"num\": 269, \"name\": \"Dustox\", \"hp\": 60, \"attack\": 50, \"defense\": 70, \"sp_atk\": 50, \"sp_def\": 90, \"speed\": 65, \"total\": 260, \"generation\": 3, \"legendary\": 0, \"type\": \"Bug\"}, {\"num\": 270, \"name\": \"Lotad\", \"hp\": 40, \"attack\": 30, \"defense\": 30, \"sp_atk\": 40, \"sp_def\": 50, \"speed\": 30, \"total\": 150, \"generation\": 3, \"legendary\": 0, \"type\": \"Water\"}, {\"num\": 271, \"name\": \"Lombre\", \"hp\": 60, \"attack\": 50, \"defense\": 50, \"sp_atk\": 60, \"sp_def\": 70, \"speed\": 50, \"total\": 230, \"generation\": 3, \"legendary\": 0, \"type\": \"Water\"}, {\"num\": 272, \"name\": \"Ludicolo\", \"hp\": 80, \"attack\": 70, \"defense\": 70, \"sp_atk\": 90, \"sp_def\": 100, \"speed\": 70, \"total\": 330, \"generation\": 3, \"legendary\": 0, \"type\": \"Water\"}, {\"num\": 273, \"name\": \"Seedot\", \"hp\": 40, \"attack\": 40, \"defense\": 50, \"sp_atk\": 30, \"sp_def\": 30, \"speed\": 30, \"total\": 150, \"generation\": 3, \"legendary\": 0, \"type\": \"Grass\"}, {\"num\": 274, \"name\": \"Nuzleaf\", \"hp\": 70, \"attack\": 70, \"defense\": 40, \"sp_atk\": 60, \"sp_def\": 40, \"speed\": 60, \"total\": 210, \"generation\": 3, \"legendary\": 0, \"type\": \"Grass\"}, {\"num\": 275, \"name\": \"Shiftry\", \"hp\": 90, \"attack\": 100, \"defense\": 60, \"sp_atk\": 90, \"sp_def\": 60, \"speed\": 80, \"total\": 310, \"generation\": 3, \"legendary\": 0, \"type\": \"Grass\"}, {\"num\": 276, \"name\": \"Taillow\", \"hp\": 40, \"attack\": 55, \"defense\": 30, \"sp_atk\": 30, \"sp_def\": 30, \"speed\": 85, \"total\": 145, \"generation\": 3, \"legendary\": 0, \"type\": \"Normal\"}, {\"num\": 277, \"name\": \"Swellow\", \"hp\": 60, \"attack\": 85, \"defense\": 60, \"sp_atk\": 50, \"sp_def\": 50, \"speed\": 125, \"total\": 245, \"generation\": 3, \"legendary\": 0, \"type\": \"Normal\"}, {\"num\": 278, \"name\": \"Wingull\", \"hp\": 40, \"attack\": 30, \"defense\": 30, \"sp_atk\": 55, \"sp_def\": 30, \"speed\": 85, \"total\": 145, \"generation\": 3, \"legendary\": 0, \"type\": \"Water\"}, {\"num\": 279, \"name\": \"Pelipper\", \"hp\": 60, \"attack\": 50, \"defense\": 100, \"sp_atk\": 85, \"sp_def\": 70, \"speed\": 65, \"total\": 305, \"generation\": 3, \"legendary\": 0, \"type\": \"Water\"}, {\"num\": 280, \"name\": \"Ralts\", \"hp\": 28, \"attack\": 25, \"defense\": 25, \"sp_atk\": 45, \"sp_def\": 35, \"speed\": 40, \"total\": 130, \"generation\": 3, \"legendary\": 0, \"type\": \"Psychic\"}, {\"num\": 281, \"name\": \"Kirlia\", \"hp\": 38, \"attack\": 35, \"defense\": 35, \"sp_atk\": 65, \"sp_def\": 55, \"speed\": 50, \"total\": 190, \"generation\": 3, \"legendary\": 0, \"type\": \"Psychic\"}, {\"num\": 282, \"name\": \"Gardevoir\", \"hp\": 68, \"attack\": 65, \"defense\": 65, \"sp_atk\": 125, \"sp_def\": 115, \"speed\": 80, \"total\": 370, \"generation\": 3, \"legendary\": 0, \"type\": \"Psychic\"}, {\"num\": 282, \"name\": \"GardevoirMega Gardevoir\", \"hp\": 68, \"attack\": 85, \"defense\": 65, \"sp_atk\": 165, \"sp_def\": 135, \"speed\": 100, \"total\": 450, \"generation\": 3, \"legendary\": 0, \"type\": \"Psychic\"}, {\"num\": 283, \"name\": \"Surskit\", \"hp\": 40, \"attack\": 30, \"defense\": 32, \"sp_atk\": 50, \"sp_def\": 52, \"speed\": 65, \"total\": 164, \"generation\": 3, \"legendary\": 0, \"type\": \"Bug\"}, {\"num\": 284, \"name\": \"Masquerain\", \"hp\": 70, \"attack\": 60, \"defense\": 62, \"sp_atk\": 80, \"sp_def\": 82, \"speed\": 60, \"total\": 284, \"generation\": 3, \"legendary\": 0, \"type\": \"Bug\"}, {\"num\": 285, \"name\": \"Shroomish\", \"hp\": 60, \"attack\": 40, \"defense\": 60, \"sp_atk\": 40, \"sp_def\": 60, \"speed\": 35, \"total\": 200, \"generation\": 3, \"legendary\": 0, \"type\": \"Grass\"}, {\"num\": 286, \"name\": \"Breloom\", \"hp\": 60, \"attack\": 130, \"defense\": 80, \"sp_atk\": 60, \"sp_def\": 60, \"speed\": 70, \"total\": 330, \"generation\": 3, \"legendary\": 0, \"type\": \"Grass\"}, {\"num\": 287, \"name\": \"Slakoth\", \"hp\": 60, \"attack\": 60, \"defense\": 60, \"sp_atk\": 35, \"sp_def\": 35, \"speed\": 30, \"total\": 190, \"generation\": 3, \"legendary\": 0, \"type\": \"Normal\"}, {\"num\": 288, \"name\": \"Vigoroth\", \"hp\": 80, \"attack\": 80, \"defense\": 80, \"sp_atk\": 55, \"sp_def\": 55, \"speed\": 90, \"total\": 270, \"generation\": 3, \"legendary\": 0, \"type\": \"Normal\"}, {\"num\": 289, \"name\": \"Slaking\", \"hp\": 150, \"attack\": 160, \"defense\": 100, \"sp_atk\": 95, \"sp_def\": 65, \"speed\": 100, \"total\": 420, \"generation\": 3, \"legendary\": 0, \"type\": \"Normal\"}, {\"num\": 290, \"name\": \"Nincada\", \"hp\": 31, \"attack\": 45, \"defense\": 90, \"sp_atk\": 30, \"sp_def\": 30, \"speed\": 40, \"total\": 195, \"generation\": 3, \"legendary\": 0, \"type\": \"Bug\"}, {\"num\": 291, \"name\": \"Ninjask\", \"hp\": 61, \"attack\": 90, \"defense\": 45, \"sp_atk\": 50, \"sp_def\": 50, \"speed\": 160, \"total\": 235, \"generation\": 3, \"legendary\": 0, \"type\": \"Bug\"}, {\"num\": 292, \"name\": \"Shedinja\", \"hp\": 1, \"attack\": 90, \"defense\": 45, \"sp_atk\": 30, \"sp_def\": 30, \"speed\": 40, \"total\": 195, \"generation\": 3, \"legendary\": 0, \"type\": \"Bug\"}, {\"num\": 293, \"name\": \"Whismur\", \"hp\": 64, \"attack\": 51, \"defense\": 23, \"sp_atk\": 51, \"sp_def\": 23, \"speed\": 28, \"total\": 148, \"generation\": 3, \"legendary\": 0, \"type\": \"Normal\"}, {\"num\": 294, \"name\": \"Loudred\", \"hp\": 84, \"attack\": 71, \"defense\": 43, \"sp_atk\": 71, \"sp_def\": 43, \"speed\": 48, \"total\": 228, \"generation\": 3, \"legendary\": 0, \"type\": \"Normal\"}, {\"num\": 295, \"name\": \"Exploud\", \"hp\": 104, \"attack\": 91, \"defense\": 63, \"sp_atk\": 91, \"sp_def\": 73, \"speed\": 68, \"total\": 318, \"generation\": 3, \"legendary\": 0, \"type\": \"Normal\"}, {\"num\": 296, \"name\": \"Makuhita\", \"hp\": 72, \"attack\": 60, \"defense\": 30, \"sp_atk\": 20, \"sp_def\": 30, \"speed\": 25, \"total\": 140, \"generation\": 3, \"legendary\": 0, \"type\": \"Fighting\"}, {\"num\": 297, \"name\": \"Hariyama\", \"hp\": 144, \"attack\": 120, \"defense\": 60, \"sp_atk\": 40, \"sp_def\": 60, \"speed\": 50, \"total\": 280, \"generation\": 3, \"legendary\": 0, \"type\": \"Fighting\"}, {\"num\": 298, \"name\": \"Azurill\", \"hp\": 50, \"attack\": 20, \"defense\": 40, \"sp_atk\": 20, \"sp_def\": 40, \"speed\": 20, \"total\": 120, \"generation\": 3, \"legendary\": 0, \"type\": \"Normal\"}, {\"num\": 299, \"name\": \"Nosepass\", \"hp\": 30, \"attack\": 45, \"defense\": 135, \"sp_atk\": 45, \"sp_def\": 90, \"speed\": 30, \"total\": 315, \"generation\": 3, \"legendary\": 0, \"type\": \"Rock\"}, {\"num\": 300, \"name\": \"Skitty\", \"hp\": 50, \"attack\": 45, \"defense\": 45, \"sp_atk\": 35, \"sp_def\": 35, \"speed\": 50, \"total\": 160, \"generation\": 3, \"legendary\": 0, \"type\": \"Normal\"}, {\"num\": 301, \"name\": \"Delcatty\", \"hp\": 70, \"attack\": 65, \"defense\": 65, \"sp_atk\": 55, \"sp_def\": 55, \"speed\": 70, \"total\": 240, \"generation\": 3, \"legendary\": 0, \"type\": \"Normal\"}, {\"num\": 302, \"name\": \"Sableye\", \"hp\": 50, \"attack\": 75, \"defense\": 75, \"sp_atk\": 65, \"sp_def\": 65, \"speed\": 50, \"total\": 280, \"generation\": 3, \"legendary\": 0, \"type\": \"Dark\"}, {\"num\": 302, \"name\": \"SableyeMega Sableye\", \"hp\": 50, \"attack\": 85, \"defense\": 125, \"sp_atk\": 85, \"sp_def\": 115, \"speed\": 20, \"total\": 410, \"generation\": 3, \"legendary\": 0, \"type\": \"Dark\"}, {\"num\": 303, \"name\": \"Mawile\", \"hp\": 50, \"attack\": 85, \"defense\": 85, \"sp_atk\": 55, \"sp_def\": 55, \"speed\": 50, \"total\": 280, \"generation\": 3, \"legendary\": 0, \"type\": \"Steel\"}, {\"num\": 303, \"name\": \"MawileMega Mawile\", \"hp\": 50, \"attack\": 105, \"defense\": 125, \"sp_atk\": 55, \"sp_def\": 95, \"speed\": 50, \"total\": 380, \"generation\": 3, \"legendary\": 0, \"type\": \"Steel\"}, {\"num\": 304, \"name\": \"Aron\", \"hp\": 50, \"attack\": 70, \"defense\": 100, \"sp_atk\": 40, \"sp_def\": 40, \"speed\": 30, \"total\": 250, \"generation\": 3, \"legendary\": 0, \"type\": \"Steel\"}, {\"num\": 305, \"name\": \"Lairon\", \"hp\": 60, \"attack\": 90, \"defense\": 140, \"sp_atk\": 50, \"sp_def\": 50, \"speed\": 40, \"total\": 330, \"generation\": 3, \"legendary\": 0, \"type\": \"Steel\"}, {\"num\": 306, \"name\": \"Aggron\", \"hp\": 70, \"attack\": 110, \"defense\": 180, \"sp_atk\": 60, \"sp_def\": 60, \"speed\": 50, \"total\": 410, \"generation\": 3, \"legendary\": 0, \"type\": \"Steel\"}, {\"num\": 306, \"name\": \"AggronMega Aggron\", \"hp\": 70, \"attack\": 140, \"defense\": 230, \"sp_atk\": 60, \"sp_def\": 80, \"speed\": 50, \"total\": 510, \"generation\": 3, \"legendary\": 0, \"type\": \"Steel\"}, {\"num\": 307, \"name\": \"Meditite\", \"hp\": 30, \"attack\": 40, \"defense\": 55, \"sp_atk\": 40, \"sp_def\": 55, \"speed\": 60, \"total\": 190, \"generation\": 3, \"legendary\": 0, \"type\": \"Fighting\"}, {\"num\": 308, \"name\": \"Medicham\", \"hp\": 60, \"attack\": 60, \"defense\": 75, \"sp_atk\": 60, \"sp_def\": 75, \"speed\": 80, \"total\": 270, \"generation\": 3, \"legendary\": 0, \"type\": \"Fighting\"}, {\"num\": 308, \"name\": \"MedichamMega Medicham\", \"hp\": 60, \"attack\": 100, \"defense\": 85, \"sp_atk\": 80, \"sp_def\": 85, \"speed\": 100, \"total\": 350, \"generation\": 3, \"legendary\": 0, \"type\": \"Fighting\"}, {\"num\": 309, \"name\": \"Electrike\", \"hp\": 40, \"attack\": 45, \"defense\": 40, \"sp_atk\": 65, \"sp_def\": 40, \"speed\": 65, \"total\": 190, \"generation\": 3, \"legendary\": 0, \"type\": \"Electric\"}, {\"num\": 310, \"name\": \"Manectric\", \"hp\": 70, \"attack\": 75, \"defense\": 60, \"sp_atk\": 105, \"sp_def\": 60, \"speed\": 105, \"total\": 300, \"generation\": 3, \"legendary\": 0, \"type\": \"Electric\"}, {\"num\": 310, \"name\": \"ManectricMega Manectric\", \"hp\": 70, \"attack\": 75, \"defense\": 80, \"sp_atk\": 135, \"sp_def\": 80, \"speed\": 135, \"total\": 370, \"generation\": 3, \"legendary\": 0, \"type\": \"Electric\"}, {\"num\": 311, \"name\": \"Plusle\", \"hp\": 60, \"attack\": 50, \"defense\": 40, \"sp_atk\": 85, \"sp_def\": 75, \"speed\": 95, \"total\": 250, \"generation\": 3, \"legendary\": 0, \"type\": \"Electric\"}, {\"num\": 312, \"name\": \"Minun\", \"hp\": 60, \"attack\": 40, \"defense\": 50, \"sp_atk\": 75, \"sp_def\": 85, \"speed\": 95, \"total\": 250, \"generation\": 3, \"legendary\": 0, \"type\": \"Electric\"}, {\"num\": 313, \"name\": \"Volbeat\", \"hp\": 65, \"attack\": 73, \"defense\": 55, \"sp_atk\": 47, \"sp_def\": 75, \"speed\": 85, \"total\": 250, \"generation\": 3, \"legendary\": 0, \"type\": \"Bug\"}, {\"num\": 314, \"name\": \"Illumise\", \"hp\": 65, \"attack\": 47, \"defense\": 55, \"sp_atk\": 73, \"sp_def\": 75, \"speed\": 85, \"total\": 250, \"generation\": 3, \"legendary\": 0, \"type\": \"Bug\"}, {\"num\": 315, \"name\": \"Roselia\", \"hp\": 50, \"attack\": 60, \"defense\": 45, \"sp_atk\": 100, \"sp_def\": 80, \"speed\": 65, \"total\": 285, \"generation\": 3, \"legendary\": 0, \"type\": \"Grass\"}, {\"num\": 316, \"name\": \"Gulpin\", \"hp\": 70, \"attack\": 43, \"defense\": 53, \"sp_atk\": 43, \"sp_def\": 53, \"speed\": 40, \"total\": 192, \"generation\": 3, \"legendary\": 0, \"type\": \"Poison\"}, {\"num\": 317, \"name\": \"Swalot\", \"hp\": 100, \"attack\": 73, \"defense\": 83, \"sp_atk\": 73, \"sp_def\": 83, \"speed\": 55, \"total\": 312, \"generation\": 3, \"legendary\": 0, \"type\": \"Poison\"}, {\"num\": 318, \"name\": \"Carvanha\", \"hp\": 45, \"attack\": 90, \"defense\": 20, \"sp_atk\": 65, \"sp_def\": 20, \"speed\": 65, \"total\": 195, \"generation\": 3, \"legendary\": 0, \"type\": \"Water\"}, {\"num\": 319, \"name\": \"Sharpedo\", \"hp\": 70, \"attack\": 120, \"defense\": 40, \"sp_atk\": 95, \"sp_def\": 40, \"speed\": 95, \"total\": 295, \"generation\": 3, \"legendary\": 0, \"type\": \"Water\"}, {\"num\": 319, \"name\": \"SharpedoMega Sharpedo\", \"hp\": 70, \"attack\": 140, \"defense\": 70, \"sp_atk\": 110, \"sp_def\": 65, \"speed\": 105, \"total\": 385, \"generation\": 3, \"legendary\": 0, \"type\": \"Water\"}, {\"num\": 320, \"name\": \"Wailmer\", \"hp\": 130, \"attack\": 70, \"defense\": 35, \"sp_atk\": 70, \"sp_def\": 35, \"speed\": 60, \"total\": 210, \"generation\": 3, \"legendary\": 0, \"type\": \"Water\"}, {\"num\": 321, \"name\": \"Wailord\", \"hp\": 170, \"attack\": 90, \"defense\": 45, \"sp_atk\": 90, \"sp_def\": 45, \"speed\": 60, \"total\": 270, \"generation\": 3, \"legendary\": 0, \"type\": \"Water\"}, {\"num\": 322, \"name\": \"Numel\", \"hp\": 60, \"attack\": 60, \"defense\": 40, \"sp_atk\": 65, \"sp_def\": 45, \"speed\": 35, \"total\": 210, \"generation\": 3, \"legendary\": 0, \"type\": \"Fire\"}, {\"num\": 323, \"name\": \"Camerupt\", \"hp\": 70, \"attack\": 100, \"defense\": 70, \"sp_atk\": 105, \"sp_def\": 75, \"speed\": 40, \"total\": 350, \"generation\": 3, \"legendary\": 0, \"type\": \"Fire\"}, {\"num\": 323, \"name\": \"CameruptMega Camerupt\", \"hp\": 70, \"attack\": 120, \"defense\": 100, \"sp_atk\": 145, \"sp_def\": 105, \"speed\": 20, \"total\": 470, \"generation\": 3, \"legendary\": 0, \"type\": \"Fire\"}, {\"num\": 324, \"name\": \"Torkoal\", \"hp\": 70, \"attack\": 85, \"defense\": 140, \"sp_atk\": 85, \"sp_def\": 70, \"speed\": 20, \"total\": 380, \"generation\": 3, \"legendary\": 0, \"type\": \"Fire\"}, {\"num\": 325, \"name\": \"Spoink\", \"hp\": 60, \"attack\": 25, \"defense\": 35, \"sp_atk\": 70, \"sp_def\": 80, \"speed\": 60, \"total\": 210, \"generation\": 3, \"legendary\": 0, \"type\": \"Psychic\"}, {\"num\": 326, \"name\": \"Grumpig\", \"hp\": 80, \"attack\": 45, \"defense\": 65, \"sp_atk\": 90, \"sp_def\": 110, \"speed\": 80, \"total\": 310, \"generation\": 3, \"legendary\": 0, \"type\": \"Psychic\"}, {\"num\": 327, \"name\": \"Spinda\", \"hp\": 60, \"attack\": 60, \"defense\": 60, \"sp_atk\": 60, \"sp_def\": 60, \"speed\": 60, \"total\": 240, \"generation\": 3, \"legendary\": 0, \"type\": \"Normal\"}, {\"num\": 328, \"name\": \"Trapinch\", \"hp\": 45, \"attack\": 100, \"defense\": 45, \"sp_atk\": 45, \"sp_def\": 45, \"speed\": 10, \"total\": 235, \"generation\": 3, \"legendary\": 0, \"type\": \"Ground\"}, {\"num\": 329, \"name\": \"Vibrava\", \"hp\": 50, \"attack\": 70, \"defense\": 50, \"sp_atk\": 50, \"sp_def\": 50, \"speed\": 70, \"total\": 220, \"generation\": 3, \"legendary\": 0, \"type\": \"Ground\"}, {\"num\": 330, \"name\": \"Flygon\", \"hp\": 80, \"attack\": 100, \"defense\": 80, \"sp_atk\": 80, \"sp_def\": 80, \"speed\": 100, \"total\": 340, \"generation\": 3, \"legendary\": 0, \"type\": \"Ground\"}, {\"num\": 331, \"name\": \"Cacnea\", \"hp\": 50, \"attack\": 85, \"defense\": 40, \"sp_atk\": 85, \"sp_def\": 40, \"speed\": 35, \"total\": 250, \"generation\": 3, \"legendary\": 0, \"type\": \"Grass\"}, {\"num\": 332, \"name\": \"Cacturne\", \"hp\": 70, \"attack\": 115, \"defense\": 60, \"sp_atk\": 115, \"sp_def\": 60, \"speed\": 55, \"total\": 350, \"generation\": 3, \"legendary\": 0, \"type\": \"Grass\"}, {\"num\": 333, \"name\": \"Swablu\", \"hp\": 45, \"attack\": 40, \"defense\": 60, \"sp_atk\": 40, \"sp_def\": 75, \"speed\": 50, \"total\": 215, \"generation\": 3, \"legendary\": 0, \"type\": \"Normal\"}, {\"num\": 334, \"name\": \"Altaria\", \"hp\": 75, \"attack\": 70, \"defense\": 90, \"sp_atk\": 70, \"sp_def\": 105, \"speed\": 80, \"total\": 335, \"generation\": 3, \"legendary\": 0, \"type\": \"Dragon\"}, {\"num\": 334, \"name\": \"AltariaMega Altaria\", \"hp\": 75, \"attack\": 110, \"defense\": 110, \"sp_atk\": 110, \"sp_def\": 105, \"speed\": 80, \"total\": 435, \"generation\": 3, \"legendary\": 0, \"type\": \"Dragon\"}, {\"num\": 335, \"name\": \"Zangoose\", \"hp\": 73, \"attack\": 115, \"defense\": 60, \"sp_atk\": 60, \"sp_def\": 60, \"speed\": 90, \"total\": 295, \"generation\": 3, \"legendary\": 0, \"type\": \"Normal\"}, {\"num\": 336, \"name\": \"Seviper\", \"hp\": 73, \"attack\": 100, \"defense\": 60, \"sp_atk\": 100, \"sp_def\": 60, \"speed\": 65, \"total\": 320, \"generation\": 3, \"legendary\": 0, \"type\": \"Poison\"}, {\"num\": 337, \"name\": \"Lunatone\", \"hp\": 70, \"attack\": 55, \"defense\": 65, \"sp_atk\": 95, \"sp_def\": 85, \"speed\": 70, \"total\": 300, \"generation\": 3, \"legendary\": 0, \"type\": \"Rock\"}, {\"num\": 338, \"name\": \"Solrock\", \"hp\": 70, \"attack\": 95, \"defense\": 85, \"sp_atk\": 55, \"sp_def\": 65, \"speed\": 70, \"total\": 300, \"generation\": 3, \"legendary\": 0, \"type\": \"Rock\"}, {\"num\": 339, \"name\": \"Barboach\", \"hp\": 50, \"attack\": 48, \"defense\": 43, \"sp_atk\": 46, \"sp_def\": 41, \"speed\": 60, \"total\": 178, \"generation\": 3, \"legendary\": 0, \"type\": \"Water\"}, {\"num\": 340, \"name\": \"Whiscash\", \"hp\": 110, \"attack\": 78, \"defense\": 73, \"sp_atk\": 76, \"sp_def\": 71, \"speed\": 60, \"total\": 298, \"generation\": 3, \"legendary\": 0, \"type\": \"Water\"}, {\"num\": 341, \"name\": \"Corphish\", \"hp\": 43, \"attack\": 80, \"defense\": 65, \"sp_atk\": 50, \"sp_def\": 35, \"speed\": 35, \"total\": 230, \"generation\": 3, \"legendary\": 0, \"type\": \"Water\"}, {\"num\": 342, \"name\": \"Crawdaunt\", \"hp\": 63, \"attack\": 120, \"defense\": 85, \"sp_atk\": 90, \"sp_def\": 55, \"speed\": 55, \"total\": 350, \"generation\": 3, \"legendary\": 0, \"type\": \"Water\"}, {\"num\": 343, \"name\": \"Baltoy\", \"hp\": 40, \"attack\": 40, \"defense\": 55, \"sp_atk\": 40, \"sp_def\": 70, \"speed\": 55, \"total\": 205, \"generation\": 3, \"legendary\": 0, \"type\": \"Ground\"}, {\"num\": 344, \"name\": \"Claydol\", \"hp\": 60, \"attack\": 70, \"defense\": 105, \"sp_atk\": 70, \"sp_def\": 120, \"speed\": 75, \"total\": 365, \"generation\": 3, \"legendary\": 0, \"type\": \"Ground\"}, {\"num\": 345, \"name\": \"Lileep\", \"hp\": 66, \"attack\": 41, \"defense\": 77, \"sp_atk\": 61, \"sp_def\": 87, \"speed\": 23, \"total\": 266, \"generation\": 3, \"legendary\": 0, \"type\": \"Rock\"}, {\"num\": 346, \"name\": \"Cradily\", \"hp\": 86, \"attack\": 81, \"defense\": 97, \"sp_atk\": 81, \"sp_def\": 107, \"speed\": 43, \"total\": 366, \"generation\": 3, \"legendary\": 0, \"type\": \"Rock\"}, {\"num\": 347, \"name\": \"Anorith\", \"hp\": 45, \"attack\": 95, \"defense\": 50, \"sp_atk\": 40, \"sp_def\": 50, \"speed\": 75, \"total\": 235, \"generation\": 3, \"legendary\": 0, \"type\": \"Rock\"}, {\"num\": 348, \"name\": \"Armaldo\", \"hp\": 75, \"attack\": 125, \"defense\": 100, \"sp_atk\": 70, \"sp_def\": 80, \"speed\": 45, \"total\": 375, \"generation\": 3, \"legendary\": 0, \"type\": \"Rock\"}, {\"num\": 349, \"name\": \"Feebas\", \"hp\": 20, \"attack\": 15, \"defense\": 20, \"sp_atk\": 10, \"sp_def\": 55, \"speed\": 80, \"total\": 100, \"generation\": 3, \"legendary\": 0, \"type\": \"Water\"}, {\"num\": 350, \"name\": \"Milotic\", \"hp\": 95, \"attack\": 60, \"defense\": 79, \"sp_atk\": 100, \"sp_def\": 125, \"speed\": 81, \"total\": 364, \"generation\": 3, \"legendary\": 0, \"type\": \"Water\"}, {\"num\": 351, \"name\": \"Castform\", \"hp\": 70, \"attack\": 70, \"defense\": 70, \"sp_atk\": 70, \"sp_def\": 70, \"speed\": 70, \"total\": 280, \"generation\": 3, \"legendary\": 0, \"type\": \"Normal\"}, {\"num\": 352, \"name\": \"Kecleon\", \"hp\": 60, \"attack\": 90, \"defense\": 70, \"sp_atk\": 60, \"sp_def\": 120, \"speed\": 40, \"total\": 340, \"generation\": 3, \"legendary\": 0, \"type\": \"Normal\"}, {\"num\": 353, \"name\": \"Shuppet\", \"hp\": 44, \"attack\": 75, \"defense\": 35, \"sp_atk\": 63, \"sp_def\": 33, \"speed\": 45, \"total\": 206, \"generation\": 3, \"legendary\": 0, \"type\": \"Ghost\"}, {\"num\": 354, \"name\": \"Banette\", \"hp\": 64, \"attack\": 115, \"defense\": 65, \"sp_atk\": 83, \"sp_def\": 63, \"speed\": 65, \"total\": 326, \"generation\": 3, \"legendary\": 0, \"type\": \"Ghost\"}, {\"num\": 354, \"name\": \"BanetteMega Banette\", \"hp\": 64, \"attack\": 165, \"defense\": 75, \"sp_atk\": 93, \"sp_def\": 83, \"speed\": 75, \"total\": 416, \"generation\": 3, \"legendary\": 0, \"type\": \"Ghost\"}, {\"num\": 355, \"name\": \"Duskull\", \"hp\": 20, \"attack\": 40, \"defense\": 90, \"sp_atk\": 30, \"sp_def\": 90, \"speed\": 25, \"total\": 250, \"generation\": 3, \"legendary\": 0, \"type\": \"Ghost\"}, {\"num\": 356, \"name\": \"Dusclops\", \"hp\": 40, \"attack\": 70, \"defense\": 130, \"sp_atk\": 60, \"sp_def\": 130, \"speed\": 25, \"total\": 390, \"generation\": 3, \"legendary\": 0, \"type\": \"Ghost\"}, {\"num\": 357, \"name\": \"Tropius\", \"hp\": 99, \"attack\": 68, \"defense\": 83, \"sp_atk\": 72, \"sp_def\": 87, \"speed\": 51, \"total\": 310, \"generation\": 3, \"legendary\": 0, \"type\": \"Grass\"}, {\"num\": 358, \"name\": \"Chimecho\", \"hp\": 65, \"attack\": 50, \"defense\": 70, \"sp_atk\": 95, \"sp_def\": 80, \"speed\": 65, \"total\": 295, \"generation\": 3, \"legendary\": 0, \"type\": \"Psychic\"}, {\"num\": 359, \"name\": \"Absol\", \"hp\": 65, \"attack\": 130, \"defense\": 60, \"sp_atk\": 75, \"sp_def\": 60, \"speed\": 75, \"total\": 325, \"generation\": 3, \"legendary\": 0, \"type\": \"Dark\"}, {\"num\": 359, \"name\": \"AbsolMega Absol\", \"hp\": 65, \"attack\": 150, \"defense\": 60, \"sp_atk\": 115, \"sp_def\": 60, \"speed\": 115, \"total\": 385, \"generation\": 3, \"legendary\": 0, \"type\": \"Dark\"}, {\"num\": 360, \"name\": \"Wynaut\", \"hp\": 95, \"attack\": 23, \"defense\": 48, \"sp_atk\": 23, \"sp_def\": 48, \"speed\": 23, \"total\": 142, \"generation\": 3, \"legendary\": 0, \"type\": \"Psychic\"}, {\"num\": 361, \"name\": \"Snorunt\", \"hp\": 50, \"attack\": 50, \"defense\": 50, \"sp_atk\": 50, \"sp_def\": 50, \"speed\": 50, \"total\": 200, \"generation\": 3, \"legendary\": 0, \"type\": \"Ice\"}, {\"num\": 362, \"name\": \"Glalie\", \"hp\": 80, \"attack\": 80, \"defense\": 80, \"sp_atk\": 80, \"sp_def\": 80, \"speed\": 80, \"total\": 320, \"generation\": 3, \"legendary\": 0, \"type\": \"Ice\"}, {\"num\": 362, \"name\": \"GlalieMega Glalie\", \"hp\": 80, \"attack\": 120, \"defense\": 80, \"sp_atk\": 120, \"sp_def\": 80, \"speed\": 100, \"total\": 400, \"generation\": 3, \"legendary\": 0, \"type\": \"Ice\"}, {\"num\": 363, \"name\": \"Spheal\", \"hp\": 70, \"attack\": 40, \"defense\": 50, \"sp_atk\": 55, \"sp_def\": 50, \"speed\": 25, \"total\": 195, \"generation\": 3, \"legendary\": 0, \"type\": \"Ice\"}, {\"num\": 364, \"name\": \"Sealeo\", \"hp\": 90, \"attack\": 60, \"defense\": 70, \"sp_atk\": 75, \"sp_def\": 70, \"speed\": 45, \"total\": 275, \"generation\": 3, \"legendary\": 0, \"type\": \"Ice\"}, {\"num\": 365, \"name\": \"Walrein\", \"hp\": 110, \"attack\": 80, \"defense\": 90, \"sp_atk\": 95, \"sp_def\": 90, \"speed\": 65, \"total\": 355, \"generation\": 3, \"legendary\": 0, \"type\": \"Ice\"}, {\"num\": 366, \"name\": \"Clamperl\", \"hp\": 35, \"attack\": 64, \"defense\": 85, \"sp_atk\": 74, \"sp_def\": 55, \"speed\": 32, \"total\": 278, \"generation\": 3, \"legendary\": 0, \"type\": \"Water\"}, {\"num\": 367, \"name\": \"Huntail\", \"hp\": 55, \"attack\": 104, \"defense\": 105, \"sp_atk\": 94, \"sp_def\": 75, \"speed\": 52, \"total\": 378, \"generation\": 3, \"legendary\": 0, \"type\": \"Water\"}, {\"num\": 368, \"name\": \"Gorebyss\", \"hp\": 55, \"attack\": 84, \"defense\": 105, \"sp_atk\": 114, \"sp_def\": 75, \"speed\": 52, \"total\": 378, \"generation\": 3, \"legendary\": 0, \"type\": \"Water\"}, {\"num\": 369, \"name\": \"Relicanth\", \"hp\": 100, \"attack\": 90, \"defense\": 130, \"sp_atk\": 45, \"sp_def\": 65, \"speed\": 55, \"total\": 330, \"generation\": 3, \"legendary\": 0, \"type\": \"Water\"}, {\"num\": 370, \"name\": \"Luvdisc\", \"hp\": 43, \"attack\": 30, \"defense\": 55, \"sp_atk\": 40, \"sp_def\": 65, \"speed\": 97, \"total\": 190, \"generation\": 3, \"legendary\": 0, \"type\": \"Water\"}, {\"num\": 371, \"name\": \"Bagon\", \"hp\": 45, \"attack\": 75, \"defense\": 60, \"sp_atk\": 40, \"sp_def\": 30, \"speed\": 50, \"total\": 205, \"generation\": 3, \"legendary\": 0, \"type\": \"Dragon\"}, {\"num\": 372, \"name\": \"Shelgon\", \"hp\": 65, \"attack\": 95, \"defense\": 100, \"sp_atk\": 60, \"sp_def\": 50, \"speed\": 50, \"total\": 305, \"generation\": 3, \"legendary\": 0, \"type\": \"Dragon\"}, {\"num\": 373, \"name\": \"Salamence\", \"hp\": 95, \"attack\": 135, \"defense\": 80, \"sp_atk\": 110, \"sp_def\": 80, \"speed\": 100, \"total\": 405, \"generation\": 3, \"legendary\": 0, \"type\": \"Dragon\"}, {\"num\": 373, \"name\": \"SalamenceMega Salamence\", \"hp\": 95, \"attack\": 145, \"defense\": 130, \"sp_atk\": 120, \"sp_def\": 90, \"speed\": 120, \"total\": 485, \"generation\": 3, \"legendary\": 0, \"type\": \"Dragon\"}, {\"num\": 374, \"name\": \"Beldum\", \"hp\": 40, \"attack\": 55, \"defense\": 80, \"sp_atk\": 35, \"sp_def\": 60, \"speed\": 30, \"total\": 230, \"generation\": 3, \"legendary\": 0, \"type\": \"Steel\"}, {\"num\": 375, \"name\": \"Metang\", \"hp\": 60, \"attack\": 75, \"defense\": 100, \"sp_atk\": 55, \"sp_def\": 80, \"speed\": 50, \"total\": 310, \"generation\": 3, \"legendary\": 0, \"type\": \"Steel\"}, {\"num\": 376, \"name\": \"Metagross\", \"hp\": 80, \"attack\": 135, \"defense\": 130, \"sp_atk\": 95, \"sp_def\": 90, \"speed\": 70, \"total\": 450, \"generation\": 3, \"legendary\": 0, \"type\": \"Steel\"}, {\"num\": 376, \"name\": \"MetagrossMega Metagross\", \"hp\": 80, \"attack\": 145, \"defense\": 150, \"sp_atk\": 105, \"sp_def\": 110, \"speed\": 110, \"total\": 510, \"generation\": 3, \"legendary\": 0, \"type\": \"Steel\"}, {\"num\": 377, \"name\": \"Regirock\", \"hp\": 80, \"attack\": 100, \"defense\": 200, \"sp_atk\": 50, \"sp_def\": 100, \"speed\": 50, \"total\": 450, \"generation\": 3, \"legendary\": 1, \"type\": \"Rock\"}, {\"num\": 378, \"name\": \"Regice\", \"hp\": 80, \"attack\": 50, \"defense\": 100, \"sp_atk\": 100, \"sp_def\": 200, \"speed\": 50, \"total\": 450, \"generation\": 3, \"legendary\": 1, \"type\": \"Ice\"}, {\"num\": 379, \"name\": \"Registeel\", \"hp\": 80, \"attack\": 75, \"defense\": 150, \"sp_atk\": 75, \"sp_def\": 150, \"speed\": 50, \"total\": 450, \"generation\": 3, \"legendary\": 1, \"type\": \"Steel\"}, {\"num\": 380, \"name\": \"Latias\", \"hp\": 80, \"attack\": 80, \"defense\": 90, \"sp_atk\": 110, \"sp_def\": 130, \"speed\": 110, \"total\": 410, \"generation\": 3, \"legendary\": 1, \"type\": \"Dragon\"}, {\"num\": 380, \"name\": \"LatiasMega Latias\", \"hp\": 80, \"attack\": 100, \"defense\": 120, \"sp_atk\": 140, \"sp_def\": 150, \"speed\": 110, \"total\": 510, \"generation\": 3, \"legendary\": 1, \"type\": \"Dragon\"}, {\"num\": 381, \"name\": \"Latios\", \"hp\": 80, \"attack\": 90, \"defense\": 80, \"sp_atk\": 130, \"sp_def\": 110, \"speed\": 110, \"total\": 410, \"generation\": 3, \"legendary\": 1, \"type\": \"Dragon\"}, {\"num\": 381, \"name\": \"LatiosMega Latios\", \"hp\": 80, \"attack\": 130, \"defense\": 100, \"sp_atk\": 160, \"sp_def\": 120, \"speed\": 110, \"total\": 510, \"generation\": 3, \"legendary\": 1, \"type\": \"Dragon\"}, {\"num\": 382, \"name\": \"Kyogre\", \"hp\": 100, \"attack\": 100, \"defense\": 90, \"sp_atk\": 150, \"sp_def\": 140, \"speed\": 90, \"total\": 480, \"generation\": 3, \"legendary\": 1, \"type\": \"Water\"}, {\"num\": 382, \"name\": \"KyogrePrimal Kyogre\", \"hp\": 100, \"attack\": 150, \"defense\": 90, \"sp_atk\": 180, \"sp_def\": 160, \"speed\": 90, \"total\": 580, \"generation\": 3, \"legendary\": 1, \"type\": \"Water\"}, {\"num\": 383, \"name\": \"Groudon\", \"hp\": 100, \"attack\": 150, \"defense\": 140, \"sp_atk\": 100, \"sp_def\": 90, \"speed\": 90, \"total\": 480, \"generation\": 3, \"legendary\": 1, \"type\": \"Ground\"}, {\"num\": 383, \"name\": \"GroudonPrimal Groudon\", \"hp\": 100, \"attack\": 180, \"defense\": 160, \"sp_atk\": 150, \"sp_def\": 90, \"speed\": 90, \"total\": 580, \"generation\": 3, \"legendary\": 1, \"type\": \"Ground\"}, {\"num\": 384, \"name\": \"Rayquaza\", \"hp\": 105, \"attack\": 150, \"defense\": 90, \"sp_atk\": 150, \"sp_def\": 90, \"speed\": 95, \"total\": 480, \"generation\": 3, \"legendary\": 1, \"type\": \"Dragon\"}, {\"num\": 384, \"name\": \"RayquazaMega Rayquaza\", \"hp\": 105, \"attack\": 180, \"defense\": 100, \"sp_atk\": 180, \"sp_def\": 100, \"speed\": 115, \"total\": 560, \"generation\": 3, \"legendary\": 1, \"type\": \"Dragon\"}, {\"num\": 385, \"name\": \"Jirachi\", \"hp\": 100, \"attack\": 100, \"defense\": 100, \"sp_atk\": 100, \"sp_def\": 100, \"speed\": 100, \"total\": 400, \"generation\": 3, \"legendary\": 1, \"type\": \"Steel\"}, {\"num\": 386, \"name\": \"DeoxysNormal Forme\", \"hp\": 50, \"attack\": 150, \"defense\": 50, \"sp_atk\": 150, \"sp_def\": 50, \"speed\": 150, \"total\": 400, \"generation\": 3, \"legendary\": 1, \"type\": \"Psychic\"}, {\"num\": 386, \"name\": \"DeoxysAttack Forme\", \"hp\": 50, \"attack\": 180, \"defense\": 20, \"sp_atk\": 180, \"sp_def\": 20, \"speed\": 150, \"total\": 400, \"generation\": 3, \"legendary\": 1, \"type\": \"Psychic\"}, {\"num\": 386, \"name\": \"DeoxysDefense Forme\", \"hp\": 50, \"attack\": 70, \"defense\": 160, \"sp_atk\": 70, \"sp_def\": 160, \"speed\": 90, \"total\": 460, \"generation\": 3, \"legendary\": 1, \"type\": \"Psychic\"}, {\"num\": 386, \"name\": \"DeoxysSpeed Forme\", \"hp\": 50, \"attack\": 95, \"defense\": 90, \"sp_atk\": 95, \"sp_def\": 90, \"speed\": 180, \"total\": 370, \"generation\": 3, \"legendary\": 1, \"type\": \"Psychic\"}, {\"num\": 387, \"name\": \"Turtwig\", \"hp\": 55, \"attack\": 68, \"defense\": 64, \"sp_atk\": 45, \"sp_def\": 55, \"speed\": 31, \"total\": 232, \"generation\": 4, \"legendary\": 0, \"type\": \"Grass\"}, {\"num\": 388, \"name\": \"Grotle\", \"hp\": 75, \"attack\": 89, \"defense\": 85, \"sp_atk\": 55, \"sp_def\": 65, \"speed\": 36, \"total\": 294, \"generation\": 4, \"legendary\": 0, \"type\": \"Grass\"}, {\"num\": 389, \"name\": \"Torterra\", \"hp\": 95, \"attack\": 109, \"defense\": 105, \"sp_atk\": 75, \"sp_def\": 85, \"speed\": 56, \"total\": 374, \"generation\": 4, \"legendary\": 0, \"type\": \"Grass\"}, {\"num\": 390, \"name\": \"Chimchar\", \"hp\": 44, \"attack\": 58, \"defense\": 44, \"sp_atk\": 58, \"sp_def\": 44, \"speed\": 61, \"total\": 204, \"generation\": 4, \"legendary\": 0, \"type\": \"Fire\"}, {\"num\": 391, \"name\": \"Monferno\", \"hp\": 64, \"attack\": 78, \"defense\": 52, \"sp_atk\": 78, \"sp_def\": 52, \"speed\": 81, \"total\": 260, \"generation\": 4, \"legendary\": 0, \"type\": \"Fire\"}, {\"num\": 392, \"name\": \"Infernape\", \"hp\": 76, \"attack\": 104, \"defense\": 71, \"sp_atk\": 104, \"sp_def\": 71, \"speed\": 108, \"total\": 350, \"generation\": 4, \"legendary\": 0, \"type\": \"Fire\"}, {\"num\": 393, \"name\": \"Piplup\", \"hp\": 53, \"attack\": 51, \"defense\": 53, \"sp_atk\": 61, \"sp_def\": 56, \"speed\": 40, \"total\": 221, \"generation\": 4, \"legendary\": 0, \"type\": \"Water\"}, {\"num\": 394, \"name\": \"Prinplup\", \"hp\": 64, \"attack\": 66, \"defense\": 68, \"sp_atk\": 81, \"sp_def\": 76, \"speed\": 50, \"total\": 291, \"generation\": 4, \"legendary\": 0, \"type\": \"Water\"}, {\"num\": 395, \"name\": \"Empoleon\", \"hp\": 84, \"attack\": 86, \"defense\": 88, \"sp_atk\": 111, \"sp_def\": 101, \"speed\": 60, \"total\": 386, \"generation\": 4, \"legendary\": 0, \"type\": \"Water\"}, {\"num\": 396, \"name\": \"Starly\", \"hp\": 40, \"attack\": 55, \"defense\": 30, \"sp_atk\": 30, \"sp_def\": 30, \"speed\": 60, \"total\": 145, \"generation\": 4, \"legendary\": 0, \"type\": \"Normal\"}, {\"num\": 397, \"name\": \"Staravia\", \"hp\": 55, \"attack\": 75, \"defense\": 50, \"sp_atk\": 40, \"sp_def\": 40, \"speed\": 80, \"total\": 205, \"generation\": 4, \"legendary\": 0, \"type\": \"Normal\"}, {\"num\": 398, \"name\": \"Staraptor\", \"hp\": 85, \"attack\": 120, \"defense\": 70, \"sp_atk\": 50, \"sp_def\": 60, \"speed\": 100, \"total\": 300, \"generation\": 4, \"legendary\": 0, \"type\": \"Normal\"}, {\"num\": 399, \"name\": \"Bidoof\", \"hp\": 59, \"attack\": 45, \"defense\": 40, \"sp_atk\": 35, \"sp_def\": 40, \"speed\": 31, \"total\": 160, \"generation\": 4, \"legendary\": 0, \"type\": \"Normal\"}, {\"num\": 400, \"name\": \"Bibarel\", \"hp\": 79, \"attack\": 85, \"defense\": 60, \"sp_atk\": 55, \"sp_def\": 60, \"speed\": 71, \"total\": 260, \"generation\": 4, \"legendary\": 0, \"type\": \"Normal\"}, {\"num\": 401, \"name\": \"Kricketot\", \"hp\": 37, \"attack\": 25, \"defense\": 41, \"sp_atk\": 25, \"sp_def\": 41, \"speed\": 25, \"total\": 132, \"generation\": 4, \"legendary\": 0, \"type\": \"Bug\"}, {\"num\": 402, \"name\": \"Kricketune\", \"hp\": 77, \"attack\": 85, \"defense\": 51, \"sp_atk\": 55, \"sp_def\": 51, \"speed\": 65, \"total\": 242, \"generation\": 4, \"legendary\": 0, \"type\": \"Bug\"}, {\"num\": 403, \"name\": \"Shinx\", \"hp\": 45, \"attack\": 65, \"defense\": 34, \"sp_atk\": 40, \"sp_def\": 34, \"speed\": 45, \"total\": 173, \"generation\": 4, \"legendary\": 0, \"type\": \"Electric\"}, {\"num\": 404, \"name\": \"Luxio\", \"hp\": 60, \"attack\": 85, \"defense\": 49, \"sp_atk\": 60, \"sp_def\": 49, \"speed\": 60, \"total\": 243, \"generation\": 4, \"legendary\": 0, \"type\": \"Electric\"}, {\"num\": 405, \"name\": \"Luxray\", \"hp\": 80, \"attack\": 120, \"defense\": 79, \"sp_atk\": 95, \"sp_def\": 79, \"speed\": 70, \"total\": 373, \"generation\": 4, \"legendary\": 0, \"type\": \"Electric\"}, {\"num\": 406, \"name\": \"Budew\", \"hp\": 40, \"attack\": 30, \"defense\": 35, \"sp_atk\": 50, \"sp_def\": 70, \"speed\": 55, \"total\": 185, \"generation\": 4, \"legendary\": 0, \"type\": \"Grass\"}, {\"num\": 407, \"name\": \"Roserade\", \"hp\": 60, \"attack\": 70, \"defense\": 65, \"sp_atk\": 125, \"sp_def\": 105, \"speed\": 90, \"total\": 365, \"generation\": 4, \"legendary\": 0, \"type\": \"Grass\"}, {\"num\": 408, \"name\": \"Cranidos\", \"hp\": 67, \"attack\": 125, \"defense\": 40, \"sp_atk\": 30, \"sp_def\": 30, \"speed\": 58, \"total\": 225, \"generation\": 4, \"legendary\": 0, \"type\": \"Rock\"}, {\"num\": 409, \"name\": \"Rampardos\", \"hp\": 97, \"attack\": 165, \"defense\": 60, \"sp_atk\": 65, \"sp_def\": 50, \"speed\": 58, \"total\": 340, \"generation\": 4, \"legendary\": 0, \"type\": \"Rock\"}, {\"num\": 410, \"name\": \"Shieldon\", \"hp\": 30, \"attack\": 42, \"defense\": 118, \"sp_atk\": 42, \"sp_def\": 88, \"speed\": 30, \"total\": 290, \"generation\": 4, \"legendary\": 0, \"type\": \"Rock\"}, {\"num\": 411, \"name\": \"Bastiodon\", \"hp\": 60, \"attack\": 52, \"defense\": 168, \"sp_atk\": 47, \"sp_def\": 138, \"speed\": 30, \"total\": 405, \"generation\": 4, \"legendary\": 0, \"type\": \"Rock\"}, {\"num\": 412, \"name\": \"Burmy\", \"hp\": 40, \"attack\": 29, \"defense\": 45, \"sp_atk\": 29, \"sp_def\": 45, \"speed\": 36, \"total\": 148, \"generation\": 4, \"legendary\": 0, \"type\": \"Bug\"}, {\"num\": 413, \"name\": \"WormadamPlant Cloak\", \"hp\": 60, \"attack\": 59, \"defense\": 85, \"sp_atk\": 79, \"sp_def\": 105, \"speed\": 36, \"total\": 328, \"generation\": 4, \"legendary\": 0, \"type\": \"Bug\"}, {\"num\": 413, \"name\": \"WormadamSandy Cloak\", \"hp\": 60, \"attack\": 79, \"defense\": 105, \"sp_atk\": 59, \"sp_def\": 85, \"speed\": 36, \"total\": 328, \"generation\": 4, \"legendary\": 0, \"type\": \"Bug\"}, {\"num\": 413, \"name\": \"WormadamTrash Cloak\", \"hp\": 60, \"attack\": 69, \"defense\": 95, \"sp_atk\": 69, \"sp_def\": 95, \"speed\": 36, \"total\": 328, \"generation\": 4, \"legendary\": 0, \"type\": \"Bug\"}, {\"num\": 414, \"name\": \"Mothim\", \"hp\": 70, \"attack\": 94, \"defense\": 50, \"sp_atk\": 94, \"sp_def\": 50, \"speed\": 66, \"total\": 288, \"generation\": 4, \"legendary\": 0, \"type\": \"Bug\"}, {\"num\": 415, \"name\": \"Combee\", \"hp\": 30, \"attack\": 30, \"defense\": 42, \"sp_atk\": 30, \"sp_def\": 42, \"speed\": 70, \"total\": 144, \"generation\": 4, \"legendary\": 0, \"type\": \"Bug\"}, {\"num\": 416, \"name\": \"Vespiquen\", \"hp\": 70, \"attack\": 80, \"defense\": 102, \"sp_atk\": 80, \"sp_def\": 102, \"speed\": 40, \"total\": 364, \"generation\": 4, \"legendary\": 0, \"type\": \"Bug\"}, {\"num\": 417, \"name\": \"Pachirisu\", \"hp\": 60, \"attack\": 45, \"defense\": 70, \"sp_atk\": 45, \"sp_def\": 90, \"speed\": 95, \"total\": 250, \"generation\": 4, \"legendary\": 0, \"type\": \"Electric\"}, {\"num\": 418, \"name\": \"Buizel\", \"hp\": 55, \"attack\": 65, \"defense\": 35, \"sp_atk\": 60, \"sp_def\": 30, \"speed\": 85, \"total\": 190, \"generation\": 4, \"legendary\": 0, \"type\": \"Water\"}, {\"num\": 419, \"name\": \"Floatzel\", \"hp\": 85, \"attack\": 105, \"defense\": 55, \"sp_atk\": 85, \"sp_def\": 50, \"speed\": 115, \"total\": 295, \"generation\": 4, \"legendary\": 0, \"type\": \"Water\"}, {\"num\": 420, \"name\": \"Cherubi\", \"hp\": 45, \"attack\": 35, \"defense\": 45, \"sp_atk\": 62, \"sp_def\": 53, \"speed\": 35, \"total\": 195, \"generation\": 4, \"legendary\": 0, \"type\": \"Grass\"}, {\"num\": 421, \"name\": \"Cherrim\", \"hp\": 70, \"attack\": 60, \"defense\": 70, \"sp_atk\": 87, \"sp_def\": 78, \"speed\": 85, \"total\": 295, \"generation\": 4, \"legendary\": 0, \"type\": \"Grass\"}, {\"num\": 422, \"name\": \"Shellos\", \"hp\": 76, \"attack\": 48, \"defense\": 48, \"sp_atk\": 57, \"sp_def\": 62, \"speed\": 34, \"total\": 215, \"generation\": 4, \"legendary\": 0, \"type\": \"Water\"}, {\"num\": 423, \"name\": \"Gastrodon\", \"hp\": 111, \"attack\": 83, \"defense\": 68, \"sp_atk\": 92, \"sp_def\": 82, \"speed\": 39, \"total\": 325, \"generation\": 4, \"legendary\": 0, \"type\": \"Water\"}, {\"num\": 424, \"name\": \"Ambipom\", \"hp\": 75, \"attack\": 100, \"defense\": 66, \"sp_atk\": 60, \"sp_def\": 66, \"speed\": 115, \"total\": 292, \"generation\": 4, \"legendary\": 0, \"type\": \"Normal\"}, {\"num\": 425, \"name\": \"Drifloon\", \"hp\": 90, \"attack\": 50, \"defense\": 34, \"sp_atk\": 60, \"sp_def\": 44, \"speed\": 70, \"total\": 188, \"generation\": 4, \"legendary\": 0, \"type\": \"Ghost\"}, {\"num\": 426, \"name\": \"Drifblim\", \"hp\": 150, \"attack\": 80, \"defense\": 44, \"sp_atk\": 90, \"sp_def\": 54, \"speed\": 80, \"total\": 268, \"generation\": 4, \"legendary\": 0, \"type\": \"Ghost\"}, {\"num\": 427, \"name\": \"Buneary\", \"hp\": 55, \"attack\": 66, \"defense\": 44, \"sp_atk\": 44, \"sp_def\": 56, \"speed\": 85, \"total\": 210, \"generation\": 4, \"legendary\": 0, \"type\": \"Normal\"}, {\"num\": 428, \"name\": \"Lopunny\", \"hp\": 65, \"attack\": 76, \"defense\": 84, \"sp_atk\": 54, \"sp_def\": 96, \"speed\": 105, \"total\": 310, \"generation\": 4, \"legendary\": 0, \"type\": \"Normal\"}, {\"num\": 428, \"name\": \"LopunnyMega Lopunny\", \"hp\": 65, \"attack\": 136, \"defense\": 94, \"sp_atk\": 54, \"sp_def\": 96, \"speed\": 135, \"total\": 380, \"generation\": 4, \"legendary\": 0, \"type\": \"Normal\"}, {\"num\": 429, \"name\": \"Mismagius\", \"hp\": 60, \"attack\": 60, \"defense\": 60, \"sp_atk\": 105, \"sp_def\": 105, \"speed\": 105, \"total\": 330, \"generation\": 4, \"legendary\": 0, \"type\": \"Ghost\"}, {\"num\": 430, \"name\": \"Honchkrow\", \"hp\": 100, \"attack\": 125, \"defense\": 52, \"sp_atk\": 105, \"sp_def\": 52, \"speed\": 71, \"total\": 334, \"generation\": 4, \"legendary\": 0, \"type\": \"Dark\"}, {\"num\": 431, \"name\": \"Glameow\", \"hp\": 49, \"attack\": 55, \"defense\": 42, \"sp_atk\": 42, \"sp_def\": 37, \"speed\": 85, \"total\": 176, \"generation\": 4, \"legendary\": 0, \"type\": \"Normal\"}, {\"num\": 432, \"name\": \"Purugly\", \"hp\": 71, \"attack\": 82, \"defense\": 64, \"sp_atk\": 64, \"sp_def\": 59, \"speed\": 112, \"total\": 269, \"generation\": 4, \"legendary\": 0, \"type\": \"Normal\"}, {\"num\": 433, \"name\": \"Chingling\", \"hp\": 45, \"attack\": 30, \"defense\": 50, \"sp_atk\": 65, \"sp_def\": 50, \"speed\": 45, \"total\": 195, \"generation\": 4, \"legendary\": 0, \"type\": \"Psychic\"}, {\"num\": 434, \"name\": \"Stunky\", \"hp\": 63, \"attack\": 63, \"defense\": 47, \"sp_atk\": 41, \"sp_def\": 41, \"speed\": 74, \"total\": 192, \"generation\": 4, \"legendary\": 0, \"type\": \"Poison\"}, {\"num\": 435, \"name\": \"Skuntank\", \"hp\": 103, \"attack\": 93, \"defense\": 67, \"sp_atk\": 71, \"sp_def\": 61, \"speed\": 84, \"total\": 292, \"generation\": 4, \"legendary\": 0, \"type\": \"Poison\"}, {\"num\": 436, \"name\": \"Bronzor\", \"hp\": 57, \"attack\": 24, \"defense\": 86, \"sp_atk\": 24, \"sp_def\": 86, \"speed\": 23, \"total\": 220, \"generation\": 4, \"legendary\": 0, \"type\": \"Steel\"}, {\"num\": 437, \"name\": \"Bronzong\", \"hp\": 67, \"attack\": 89, \"defense\": 116, \"sp_atk\": 79, \"sp_def\": 116, \"speed\": 33, \"total\": 400, \"generation\": 4, \"legendary\": 0, \"type\": \"Steel\"}, {\"num\": 438, \"name\": \"Bonsly\", \"hp\": 50, \"attack\": 80, \"defense\": 95, \"sp_atk\": 10, \"sp_def\": 45, \"speed\": 10, \"total\": 230, \"generation\": 4, \"legendary\": 0, \"type\": \"Rock\"}, {\"num\": 439, \"name\": \"Mime Jr.\", \"hp\": 20, \"attack\": 25, \"defense\": 45, \"sp_atk\": 70, \"sp_def\": 90, \"speed\": 60, \"total\": 230, \"generation\": 4, \"legendary\": 0, \"type\": \"Psychic\"}, {\"num\": 440, \"name\": \"Happiny\", \"hp\": 100, \"attack\": 5, \"defense\": 5, \"sp_atk\": 15, \"sp_def\": 65, \"speed\": 30, \"total\": 90, \"generation\": 4, \"legendary\": 0, \"type\": \"Normal\"}, {\"num\": 441, \"name\": \"Chatot\", \"hp\": 76, \"attack\": 65, \"defense\": 45, \"sp_atk\": 92, \"sp_def\": 42, \"speed\": 91, \"total\": 244, \"generation\": 4, \"legendary\": 0, \"type\": \"Normal\"}, {\"num\": 442, \"name\": \"Spiritomb\", \"hp\": 50, \"attack\": 92, \"defense\": 108, \"sp_atk\": 92, \"sp_def\": 108, \"speed\": 35, \"total\": 400, \"generation\": 4, \"legendary\": 0, \"type\": \"Ghost\"}, {\"num\": 443, \"name\": \"Gible\", \"hp\": 58, \"attack\": 70, \"defense\": 45, \"sp_atk\": 40, \"sp_def\": 45, \"speed\": 42, \"total\": 200, \"generation\": 4, \"legendary\": 0, \"type\": \"Dragon\"}, {\"num\": 444, \"name\": \"Gabite\", \"hp\": 68, \"attack\": 90, \"defense\": 65, \"sp_atk\": 50, \"sp_def\": 55, \"speed\": 82, \"total\": 260, \"generation\": 4, \"legendary\": 0, \"type\": \"Dragon\"}, {\"num\": 445, \"name\": \"Garchomp\", \"hp\": 108, \"attack\": 130, \"defense\": 95, \"sp_atk\": 80, \"sp_def\": 85, \"speed\": 102, \"total\": 390, \"generation\": 4, \"legendary\": 0, \"type\": \"Dragon\"}, {\"num\": 445, \"name\": \"GarchompMega Garchomp\", \"hp\": 108, \"attack\": 170, \"defense\": 115, \"sp_atk\": 120, \"sp_def\": 95, \"speed\": 92, \"total\": 500, \"generation\": 4, \"legendary\": 0, \"type\": \"Dragon\"}, {\"num\": 446, \"name\": \"Munchlax\", \"hp\": 135, \"attack\": 85, \"defense\": 40, \"sp_atk\": 40, \"sp_def\": 85, \"speed\": 5, \"total\": 250, \"generation\": 4, \"legendary\": 0, \"type\": \"Normal\"}, {\"num\": 447, \"name\": \"Riolu\", \"hp\": 40, \"attack\": 70, \"defense\": 40, \"sp_atk\": 35, \"sp_def\": 40, \"speed\": 60, \"total\": 185, \"generation\": 4, \"legendary\": 0, \"type\": \"Fighting\"}, {\"num\": 448, \"name\": \"Lucario\", \"hp\": 70, \"attack\": 110, \"defense\": 70, \"sp_atk\": 115, \"sp_def\": 70, \"speed\": 90, \"total\": 365, \"generation\": 4, \"legendary\": 0, \"type\": \"Fighting\"}, {\"num\": 448, \"name\": \"LucarioMega Lucario\", \"hp\": 70, \"attack\": 145, \"defense\": 88, \"sp_atk\": 140, \"sp_def\": 70, \"speed\": 112, \"total\": 443, \"generation\": 4, \"legendary\": 0, \"type\": \"Fighting\"}, {\"num\": 449, \"name\": \"Hippopotas\", \"hp\": 68, \"attack\": 72, \"defense\": 78, \"sp_atk\": 38, \"sp_def\": 42, \"speed\": 32, \"total\": 230, \"generation\": 4, \"legendary\": 0, \"type\": \"Ground\"}, {\"num\": 450, \"name\": \"Hippowdon\", \"hp\": 108, \"attack\": 112, \"defense\": 118, \"sp_atk\": 68, \"sp_def\": 72, \"speed\": 47, \"total\": 370, \"generation\": 4, \"legendary\": 0, \"type\": \"Ground\"}, {\"num\": 451, \"name\": \"Skorupi\", \"hp\": 40, \"attack\": 50, \"defense\": 90, \"sp_atk\": 30, \"sp_def\": 55, \"speed\": 65, \"total\": 225, \"generation\": 4, \"legendary\": 0, \"type\": \"Poison\"}, {\"num\": 452, \"name\": \"Drapion\", \"hp\": 70, \"attack\": 90, \"defense\": 110, \"sp_atk\": 60, \"sp_def\": 75, \"speed\": 95, \"total\": 335, \"generation\": 4, \"legendary\": 0, \"type\": \"Poison\"}, {\"num\": 453, \"name\": \"Croagunk\", \"hp\": 48, \"attack\": 61, \"defense\": 40, \"sp_atk\": 61, \"sp_def\": 40, \"speed\": 50, \"total\": 202, \"generation\": 4, \"legendary\": 0, \"type\": \"Poison\"}, {\"num\": 454, \"name\": \"Toxicroak\", \"hp\": 83, \"attack\": 106, \"defense\": 65, \"sp_atk\": 86, \"sp_def\": 65, \"speed\": 85, \"total\": 322, \"generation\": 4, \"legendary\": 0, \"type\": \"Poison\"}, {\"num\": 455, \"name\": \"Carnivine\", \"hp\": 74, \"attack\": 100, \"defense\": 72, \"sp_atk\": 90, \"sp_def\": 72, \"speed\": 46, \"total\": 334, \"generation\": 4, \"legendary\": 0, \"type\": \"Grass\"}, {\"num\": 456, \"name\": \"Finneon\", \"hp\": 49, \"attack\": 49, \"defense\": 56, \"sp_atk\": 49, \"sp_def\": 61, \"speed\": 66, \"total\": 215, \"generation\": 4, \"legendary\": 0, \"type\": \"Water\"}, {\"num\": 457, \"name\": \"Lumineon\", \"hp\": 69, \"attack\": 69, \"defense\": 76, \"sp_atk\": 69, \"sp_def\": 86, \"speed\": 91, \"total\": 300, \"generation\": 4, \"legendary\": 0, \"type\": \"Water\"}, {\"num\": 458, \"name\": \"Mantyke\", \"hp\": 45, \"attack\": 20, \"defense\": 50, \"sp_atk\": 60, \"sp_def\": 120, \"speed\": 50, \"total\": 250, \"generation\": 4, \"legendary\": 0, \"type\": \"Water\"}, {\"num\": 459, \"name\": \"Snover\", \"hp\": 60, \"attack\": 62, \"defense\": 50, \"sp_atk\": 62, \"sp_def\": 60, \"speed\": 40, \"total\": 234, \"generation\": 4, \"legendary\": 0, \"type\": \"Grass\"}, {\"num\": 460, \"name\": \"Abomasnow\", \"hp\": 90, \"attack\": 92, \"defense\": 75, \"sp_atk\": 92, \"sp_def\": 85, \"speed\": 60, \"total\": 344, \"generation\": 4, \"legendary\": 0, \"type\": \"Grass\"}, {\"num\": 460, \"name\": \"AbomasnowMega Abomasnow\", \"hp\": 90, \"attack\": 132, \"defense\": 105, \"sp_atk\": 132, \"sp_def\": 105, \"speed\": 30, \"total\": 474, \"generation\": 4, \"legendary\": 0, \"type\": \"Grass\"}, {\"num\": 461, \"name\": \"Weavile\", \"hp\": 70, \"attack\": 120, \"defense\": 65, \"sp_atk\": 45, \"sp_def\": 85, \"speed\": 125, \"total\": 315, \"generation\": 4, \"legendary\": 0, \"type\": \"Dark\"}, {\"num\": 462, \"name\": \"Magnezone\", \"hp\": 70, \"attack\": 70, \"defense\": 115, \"sp_atk\": 130, \"sp_def\": 90, \"speed\": 60, \"total\": 405, \"generation\": 4, \"legendary\": 0, \"type\": \"Electric\"}, {\"num\": 463, \"name\": \"Lickilicky\", \"hp\": 110, \"attack\": 85, \"defense\": 95, \"sp_atk\": 80, \"sp_def\": 95, \"speed\": 50, \"total\": 355, \"generation\": 4, \"legendary\": 0, \"type\": \"Normal\"}, {\"num\": 464, \"name\": \"Rhyperior\", \"hp\": 115, \"attack\": 140, \"defense\": 130, \"sp_atk\": 55, \"sp_def\": 55, \"speed\": 40, \"total\": 380, \"generation\": 4, \"legendary\": 0, \"type\": \"Ground\"}, {\"num\": 465, \"name\": \"Tangrowth\", \"hp\": 100, \"attack\": 100, \"defense\": 125, \"sp_atk\": 110, \"sp_def\": 50, \"speed\": 50, \"total\": 385, \"generation\": 4, \"legendary\": 0, \"type\": \"Grass\"}, {\"num\": 466, \"name\": \"Electivire\", \"hp\": 75, \"attack\": 123, \"defense\": 67, \"sp_atk\": 95, \"sp_def\": 85, \"speed\": 95, \"total\": 370, \"generation\": 4, \"legendary\": 0, \"type\": \"Electric\"}, {\"num\": 467, \"name\": \"Magmortar\", \"hp\": 75, \"attack\": 95, \"defense\": 67, \"sp_atk\": 125, \"sp_def\": 95, \"speed\": 83, \"total\": 382, \"generation\": 4, \"legendary\": 0, \"type\": \"Fire\"}, {\"num\": 468, \"name\": \"Togekiss\", \"hp\": 85, \"attack\": 50, \"defense\": 95, \"sp_atk\": 120, \"sp_def\": 115, \"speed\": 80, \"total\": 380, \"generation\": 4, \"legendary\": 0, \"type\": \"Fairy\"}, {\"num\": 469, \"name\": \"Yanmega\", \"hp\": 86, \"attack\": 76, \"defense\": 86, \"sp_atk\": 116, \"sp_def\": 56, \"speed\": 95, \"total\": 334, \"generation\": 4, \"legendary\": 0, \"type\": \"Bug\"}, {\"num\": 470, \"name\": \"Leafeon\", \"hp\": 65, \"attack\": 110, \"defense\": 130, \"sp_atk\": 60, \"sp_def\": 65, \"speed\": 95, \"total\": 365, \"generation\": 4, \"legendary\": 0, \"type\": \"Grass\"}, {\"num\": 471, \"name\": \"Glaceon\", \"hp\": 65, \"attack\": 60, \"defense\": 110, \"sp_atk\": 130, \"sp_def\": 95, \"speed\": 65, \"total\": 395, \"generation\": 4, \"legendary\": 0, \"type\": \"Ice\"}, {\"num\": 472, \"name\": \"Gliscor\", \"hp\": 75, \"attack\": 95, \"defense\": 125, \"sp_atk\": 45, \"sp_def\": 75, \"speed\": 95, \"total\": 340, \"generation\": 4, \"legendary\": 0, \"type\": \"Ground\"}, {\"num\": 473, \"name\": \"Mamoswine\", \"hp\": 110, \"attack\": 130, \"defense\": 80, \"sp_atk\": 70, \"sp_def\": 60, \"speed\": 80, \"total\": 340, \"generation\": 4, \"legendary\": 0, \"type\": \"Ice\"}, {\"num\": 474, \"name\": \"Porygon-Z\", \"hp\": 85, \"attack\": 80, \"defense\": 70, \"sp_atk\": 135, \"sp_def\": 75, \"speed\": 90, \"total\": 360, \"generation\": 4, \"legendary\": 0, \"type\": \"Normal\"}, {\"num\": 475, \"name\": \"Gallade\", \"hp\": 68, \"attack\": 125, \"defense\": 65, \"sp_atk\": 65, \"sp_def\": 115, \"speed\": 80, \"total\": 370, \"generation\": 4, \"legendary\": 0, \"type\": \"Psychic\"}, {\"num\": 475, \"name\": \"GalladeMega Gallade\", \"hp\": 68, \"attack\": 165, \"defense\": 95, \"sp_atk\": 65, \"sp_def\": 115, \"speed\": 110, \"total\": 440, \"generation\": 4, \"legendary\": 0, \"type\": \"Psychic\"}, {\"num\": 476, \"name\": \"Probopass\", \"hp\": 60, \"attack\": 55, \"defense\": 145, \"sp_atk\": 75, \"sp_def\": 150, \"speed\": 40, \"total\": 425, \"generation\": 4, \"legendary\": 0, \"type\": \"Rock\"}, {\"num\": 477, \"name\": \"Dusknoir\", \"hp\": 45, \"attack\": 100, \"defense\": 135, \"sp_atk\": 65, \"sp_def\": 135, \"speed\": 45, \"total\": 435, \"generation\": 4, \"legendary\": 0, \"type\": \"Ghost\"}, {\"num\": 478, \"name\": \"Froslass\", \"hp\": 70, \"attack\": 80, \"defense\": 70, \"sp_atk\": 80, \"sp_def\": 70, \"speed\": 110, \"total\": 300, \"generation\": 4, \"legendary\": 0, \"type\": \"Ice\"}, {\"num\": 479, \"name\": \"Rotom\", \"hp\": 50, \"attack\": 50, \"defense\": 77, \"sp_atk\": 95, \"sp_def\": 77, \"speed\": 91, \"total\": 299, \"generation\": 4, \"legendary\": 0, \"type\": \"Electric\"}, {\"num\": 479, \"name\": \"RotomHeat Rotom\", \"hp\": 50, \"attack\": 65, \"defense\": 107, \"sp_atk\": 105, \"sp_def\": 107, \"speed\": 86, \"total\": 384, \"generation\": 4, \"legendary\": 0, \"type\": \"Electric\"}, {\"num\": 479, \"name\": \"RotomWash Rotom\", \"hp\": 50, \"attack\": 65, \"defense\": 107, \"sp_atk\": 105, \"sp_def\": 107, \"speed\": 86, \"total\": 384, \"generation\": 4, \"legendary\": 0, \"type\": \"Electric\"}, {\"num\": 479, \"name\": \"RotomFrost Rotom\", \"hp\": 50, \"attack\": 65, \"defense\": 107, \"sp_atk\": 105, \"sp_def\": 107, \"speed\": 86, \"total\": 384, \"generation\": 4, \"legendary\": 0, \"type\": \"Electric\"}, {\"num\": 479, \"name\": \"RotomFan Rotom\", \"hp\": 50, \"attack\": 65, \"defense\": 107, \"sp_atk\": 105, \"sp_def\": 107, \"speed\": 86, \"total\": 384, \"generation\": 4, \"legendary\": 0, \"type\": \"Electric\"}, {\"num\": 479, \"name\": \"RotomMow Rotom\", \"hp\": 50, \"attack\": 65, \"defense\": 107, \"sp_atk\": 105, \"sp_def\": 107, \"speed\": 86, \"total\": 384, \"generation\": 4, \"legendary\": 0, \"type\": \"Electric\"}, {\"num\": 480, \"name\": \"Uxie\", \"hp\": 75, \"attack\": 75, \"defense\": 130, \"sp_atk\": 75, \"sp_def\": 130, \"speed\": 95, \"total\": 410, \"generation\": 4, \"legendary\": 1, \"type\": \"Psychic\"}, {\"num\": 481, \"name\": \"Mesprit\", \"hp\": 80, \"attack\": 105, \"defense\": 105, \"sp_atk\": 105, \"sp_def\": 105, \"speed\": 80, \"total\": 420, \"generation\": 4, \"legendary\": 1, \"type\": \"Psychic\"}, {\"num\": 482, \"name\": \"Azelf\", \"hp\": 75, \"attack\": 125, \"defense\": 70, \"sp_atk\": 125, \"sp_def\": 70, \"speed\": 115, \"total\": 390, \"generation\": 4, \"legendary\": 1, \"type\": \"Psychic\"}, {\"num\": 483, \"name\": \"Dialga\", \"hp\": 100, \"attack\": 120, \"defense\": 120, \"sp_atk\": 150, \"sp_def\": 100, \"speed\": 90, \"total\": 490, \"generation\": 4, \"legendary\": 1, \"type\": \"Steel\"}, {\"num\": 484, \"name\": \"Palkia\", \"hp\": 90, \"attack\": 120, \"defense\": 100, \"sp_atk\": 150, \"sp_def\": 120, \"speed\": 100, \"total\": 490, \"generation\": 4, \"legendary\": 1, \"type\": \"Water\"}, {\"num\": 485, \"name\": \"Heatran\", \"hp\": 91, \"attack\": 90, \"defense\": 106, \"sp_atk\": 130, \"sp_def\": 106, \"speed\": 77, \"total\": 432, \"generation\": 4, \"legendary\": 1, \"type\": \"Fire\"}, {\"num\": 486, \"name\": \"Regigigas\", \"hp\": 110, \"attack\": 160, \"defense\": 110, \"sp_atk\": 80, \"sp_def\": 110, \"speed\": 100, \"total\": 460, \"generation\": 4, \"legendary\": 1, \"type\": \"Normal\"}, {\"num\": 487, \"name\": \"GiratinaAltered Forme\", \"hp\": 150, \"attack\": 100, \"defense\": 120, \"sp_atk\": 100, \"sp_def\": 120, \"speed\": 90, \"total\": 440, \"generation\": 4, \"legendary\": 1, \"type\": \"Ghost\"}, {\"num\": 487, \"name\": \"GiratinaOrigin Forme\", \"hp\": 150, \"attack\": 120, \"defense\": 100, \"sp_atk\": 120, \"sp_def\": 100, \"speed\": 90, \"total\": 440, \"generation\": 4, \"legendary\": 1, \"type\": \"Ghost\"}, {\"num\": 488, \"name\": \"Cresselia\", \"hp\": 120, \"attack\": 70, \"defense\": 120, \"sp_atk\": 75, \"sp_def\": 130, \"speed\": 85, \"total\": 395, \"generation\": 4, \"legendary\": 0, \"type\": \"Psychic\"}, {\"num\": 489, \"name\": \"Phione\", \"hp\": 80, \"attack\": 80, \"defense\": 80, \"sp_atk\": 80, \"sp_def\": 80, \"speed\": 80, \"total\": 320, \"generation\": 4, \"legendary\": 0, \"type\": \"Water\"}, {\"num\": 490, \"name\": \"Manaphy\", \"hp\": 100, \"attack\": 100, \"defense\": 100, \"sp_atk\": 100, \"sp_def\": 100, \"speed\": 100, \"total\": 400, \"generation\": 4, \"legendary\": 0, \"type\": \"Water\"}, {\"num\": 491, \"name\": \"Darkrai\", \"hp\": 70, \"attack\": 90, \"defense\": 90, \"sp_atk\": 135, \"sp_def\": 90, \"speed\": 125, \"total\": 405, \"generation\": 4, \"legendary\": 1, \"type\": \"Dark\"}, {\"num\": 492, \"name\": \"ShayminLand Forme\", \"hp\": 100, \"attack\": 100, \"defense\": 100, \"sp_atk\": 100, \"sp_def\": 100, \"speed\": 100, \"total\": 400, \"generation\": 4, \"legendary\": 1, \"type\": \"Grass\"}, {\"num\": 492, \"name\": \"ShayminSky Forme\", \"hp\": 100, \"attack\": 103, \"defense\": 75, \"sp_atk\": 120, \"sp_def\": 75, \"speed\": 127, \"total\": 373, \"generation\": 4, \"legendary\": 1, \"type\": \"Grass\"}, {\"num\": 493, \"name\": \"Arceus\", \"hp\": 120, \"attack\": 120, \"defense\": 120, \"sp_atk\": 120, \"sp_def\": 120, \"speed\": 120, \"total\": 480, \"generation\": 4, \"legendary\": 1, \"type\": \"Normal\"}, {\"num\": 494, \"name\": \"Victini\", \"hp\": 100, \"attack\": 100, \"defense\": 100, \"sp_atk\": 100, \"sp_def\": 100, \"speed\": 100, \"total\": 400, \"generation\": 5, \"legendary\": 1, \"type\": \"Psychic\"}, {\"num\": 495, \"name\": \"Snivy\", \"hp\": 45, \"attack\": 45, \"defense\": 55, \"sp_atk\": 45, \"sp_def\": 55, \"speed\": 63, \"total\": 200, \"generation\": 5, \"legendary\": 0, \"type\": \"Grass\"}, {\"num\": 496, \"name\": \"Servine\", \"hp\": 60, \"attack\": 60, \"defense\": 75, \"sp_atk\": 60, \"sp_def\": 75, \"speed\": 83, \"total\": 270, \"generation\": 5, \"legendary\": 0, \"type\": \"Grass\"}, {\"num\": 497, \"name\": \"Serperior\", \"hp\": 75, \"attack\": 75, \"defense\": 95, \"sp_atk\": 75, \"sp_def\": 95, \"speed\": 113, \"total\": 340, \"generation\": 5, \"legendary\": 0, \"type\": \"Grass\"}, {\"num\": 498, \"name\": \"Tepig\", \"hp\": 65, \"attack\": 63, \"defense\": 45, \"sp_atk\": 45, \"sp_def\": 45, \"speed\": 45, \"total\": 198, \"generation\": 5, \"legendary\": 0, \"type\": \"Fire\"}, {\"num\": 499, \"name\": \"Pignite\", \"hp\": 90, \"attack\": 93, \"defense\": 55, \"sp_atk\": 70, \"sp_def\": 55, \"speed\": 55, \"total\": 273, \"generation\": 5, \"legendary\": 0, \"type\": \"Fire\"}, {\"num\": 500, \"name\": \"Emboar\", \"hp\": 110, \"attack\": 123, \"defense\": 65, \"sp_atk\": 100, \"sp_def\": 65, \"speed\": 65, \"total\": 353, \"generation\": 5, \"legendary\": 0, \"type\": \"Fire\"}, {\"num\": 501, \"name\": \"Oshawott\", \"hp\": 55, \"attack\": 55, \"defense\": 45, \"sp_atk\": 63, \"sp_def\": 45, \"speed\": 45, \"total\": 208, \"generation\": 5, \"legendary\": 0, \"type\": \"Water\"}, {\"num\": 502, \"name\": \"Dewott\", \"hp\": 75, \"attack\": 75, \"defense\": 60, \"sp_atk\": 83, \"sp_def\": 60, \"speed\": 60, \"total\": 278, \"generation\": 5, \"legendary\": 0, \"type\": \"Water\"}, {\"num\": 503, \"name\": \"Samurott\", \"hp\": 95, \"attack\": 100, \"defense\": 85, \"sp_atk\": 108, \"sp_def\": 70, \"speed\": 70, \"total\": 363, \"generation\": 5, \"legendary\": 0, \"type\": \"Water\"}, {\"num\": 504, \"name\": \"Patrat\", \"hp\": 45, \"attack\": 55, \"defense\": 39, \"sp_atk\": 35, \"sp_def\": 39, \"speed\": 42, \"total\": 168, \"generation\": 5, \"legendary\": 0, \"type\": \"Normal\"}, {\"num\": 505, \"name\": \"Watchog\", \"hp\": 60, \"attack\": 85, \"defense\": 69, \"sp_atk\": 60, \"sp_def\": 69, \"speed\": 77, \"total\": 283, \"generation\": 5, \"legendary\": 0, \"type\": \"Normal\"}, {\"num\": 506, \"name\": \"Lillipup\", \"hp\": 45, \"attack\": 60, \"defense\": 45, \"sp_atk\": 25, \"sp_def\": 45, \"speed\": 55, \"total\": 175, \"generation\": 5, \"legendary\": 0, \"type\": \"Normal\"}, {\"num\": 507, \"name\": \"Herdier\", \"hp\": 65, \"attack\": 80, \"defense\": 65, \"sp_atk\": 35, \"sp_def\": 65, \"speed\": 60, \"total\": 245, \"generation\": 5, \"legendary\": 0, \"type\": \"Normal\"}, {\"num\": 508, \"name\": \"Stoutland\", \"hp\": 85, \"attack\": 110, \"defense\": 90, \"sp_atk\": 45, \"sp_def\": 90, \"speed\": 80, \"total\": 335, \"generation\": 5, \"legendary\": 0, \"type\": \"Normal\"}, {\"num\": 509, \"name\": \"Purrloin\", \"hp\": 41, \"attack\": 50, \"defense\": 37, \"sp_atk\": 50, \"sp_def\": 37, \"speed\": 66, \"total\": 174, \"generation\": 5, \"legendary\": 0, \"type\": \"Dark\"}, {\"num\": 510, \"name\": \"Liepard\", \"hp\": 64, \"attack\": 88, \"defense\": 50, \"sp_atk\": 88, \"sp_def\": 50, \"speed\": 106, \"total\": 276, \"generation\": 5, \"legendary\": 0, \"type\": \"Dark\"}, {\"num\": 511, \"name\": \"Pansage\", \"hp\": 50, \"attack\": 53, \"defense\": 48, \"sp_atk\": 53, \"sp_def\": 48, \"speed\": 64, \"total\": 202, \"generation\": 5, \"legendary\": 0, \"type\": \"Grass\"}, {\"num\": 512, \"name\": \"Simisage\", \"hp\": 75, \"attack\": 98, \"defense\": 63, \"sp_atk\": 98, \"sp_def\": 63, \"speed\": 101, \"total\": 322, \"generation\": 5, \"legendary\": 0, \"type\": \"Grass\"}, {\"num\": 513, \"name\": \"Pansear\", \"hp\": 50, \"attack\": 53, \"defense\": 48, \"sp_atk\": 53, \"sp_def\": 48, \"speed\": 64, \"total\": 202, \"generation\": 5, \"legendary\": 0, \"type\": \"Fire\"}, {\"num\": 514, \"name\": \"Simisear\", \"hp\": 75, \"attack\": 98, \"defense\": 63, \"sp_atk\": 98, \"sp_def\": 63, \"speed\": 101, \"total\": 322, \"generation\": 5, \"legendary\": 0, \"type\": \"Fire\"}, {\"num\": 515, \"name\": \"Panpour\", \"hp\": 50, \"attack\": 53, \"defense\": 48, \"sp_atk\": 53, \"sp_def\": 48, \"speed\": 64, \"total\": 202, \"generation\": 5, \"legendary\": 0, \"type\": \"Water\"}, {\"num\": 516, \"name\": \"Simipour\", \"hp\": 75, \"attack\": 98, \"defense\": 63, \"sp_atk\": 98, \"sp_def\": 63, \"speed\": 101, \"total\": 322, \"generation\": 5, \"legendary\": 0, \"type\": \"Water\"}, {\"num\": 517, \"name\": \"Munna\", \"hp\": 76, \"attack\": 25, \"defense\": 45, \"sp_atk\": 67, \"sp_def\": 55, \"speed\": 24, \"total\": 192, \"generation\": 5, \"legendary\": 0, \"type\": \"Psychic\"}, {\"num\": 518, \"name\": \"Musharna\", \"hp\": 116, \"attack\": 55, \"defense\": 85, \"sp_atk\": 107, \"sp_def\": 95, \"speed\": 29, \"total\": 342, \"generation\": 5, \"legendary\": 0, \"type\": \"Psychic\"}, {\"num\": 519, \"name\": \"Pidove\", \"hp\": 50, \"attack\": 55, \"defense\": 50, \"sp_atk\": 36, \"sp_def\": 30, \"speed\": 43, \"total\": 171, \"generation\": 5, \"legendary\": 0, \"type\": \"Normal\"}, {\"num\": 520, \"name\": \"Tranquill\", \"hp\": 62, \"attack\": 77, \"defense\": 62, \"sp_atk\": 50, \"sp_def\": 42, \"speed\": 65, \"total\": 231, \"generation\": 5, \"legendary\": 0, \"type\": \"Normal\"}, {\"num\": 521, \"name\": \"Unfezant\", \"hp\": 80, \"attack\": 115, \"defense\": 80, \"sp_atk\": 65, \"sp_def\": 55, \"speed\": 93, \"total\": 315, \"generation\": 5, \"legendary\": 0, \"type\": \"Normal\"}, {\"num\": 522, \"name\": \"Blitzle\", \"hp\": 45, \"attack\": 60, \"defense\": 32, \"sp_atk\": 50, \"sp_def\": 32, \"speed\": 76, \"total\": 174, \"generation\": 5, \"legendary\": 0, \"type\": \"Electric\"}, {\"num\": 523, \"name\": \"Zebstrika\", \"hp\": 75, \"attack\": 100, \"defense\": 63, \"sp_atk\": 80, \"sp_def\": 63, \"speed\": 116, \"total\": 306, \"generation\": 5, \"legendary\": 0, \"type\": \"Electric\"}, {\"num\": 524, \"name\": \"Roggenrola\", \"hp\": 55, \"attack\": 75, \"defense\": 85, \"sp_atk\": 25, \"sp_def\": 25, \"speed\": 15, \"total\": 210, \"generation\": 5, \"legendary\": 0, \"type\": \"Rock\"}, {\"num\": 525, \"name\": \"Boldore\", \"hp\": 70, \"attack\": 105, \"defense\": 105, \"sp_atk\": 50, \"sp_def\": 40, \"speed\": 20, \"total\": 300, \"generation\": 5, \"legendary\": 0, \"type\": \"Rock\"}, {\"num\": 526, \"name\": \"Gigalith\", \"hp\": 85, \"attack\": 135, \"defense\": 130, \"sp_atk\": 60, \"sp_def\": 80, \"speed\": 25, \"total\": 405, \"generation\": 5, \"legendary\": 0, \"type\": \"Rock\"}, {\"num\": 527, \"name\": \"Woobat\", \"hp\": 55, \"attack\": 45, \"defense\": 43, \"sp_atk\": 55, \"sp_def\": 43, \"speed\": 72, \"total\": 186, \"generation\": 5, \"legendary\": 0, \"type\": \"Psychic\"}, {\"num\": 528, \"name\": \"Swoobat\", \"hp\": 67, \"attack\": 57, \"defense\": 55, \"sp_atk\": 77, \"sp_def\": 55, \"speed\": 114, \"total\": 244, \"generation\": 5, \"legendary\": 0, \"type\": \"Psychic\"}, {\"num\": 529, \"name\": \"Drilbur\", \"hp\": 60, \"attack\": 85, \"defense\": 40, \"sp_atk\": 30, \"sp_def\": 45, \"speed\": 68, \"total\": 200, \"generation\": 5, \"legendary\": 0, \"type\": \"Ground\"}, {\"num\": 530, \"name\": \"Excadrill\", \"hp\": 110, \"attack\": 135, \"defense\": 60, \"sp_atk\": 50, \"sp_def\": 65, \"speed\": 88, \"total\": 310, \"generation\": 5, \"legendary\": 0, \"type\": \"Ground\"}, {\"num\": 531, \"name\": \"Audino\", \"hp\": 103, \"attack\": 60, \"defense\": 86, \"sp_atk\": 60, \"sp_def\": 86, \"speed\": 50, \"total\": 292, \"generation\": 5, \"legendary\": 0, \"type\": \"Normal\"}, {\"num\": 531, \"name\": \"AudinoMega Audino\", \"hp\": 103, \"attack\": 60, \"defense\": 126, \"sp_atk\": 80, \"sp_def\": 126, \"speed\": 50, \"total\": 392, \"generation\": 5, \"legendary\": 0, \"type\": \"Normal\"}, {\"num\": 532, \"name\": \"Timburr\", \"hp\": 75, \"attack\": 80, \"defense\": 55, \"sp_atk\": 25, \"sp_def\": 35, \"speed\": 35, \"total\": 195, \"generation\": 5, \"legendary\": 0, \"type\": \"Fighting\"}, {\"num\": 533, \"name\": \"Gurdurr\", \"hp\": 85, \"attack\": 105, \"defense\": 85, \"sp_atk\": 40, \"sp_def\": 50, \"speed\": 40, \"total\": 280, \"generation\": 5, \"legendary\": 0, \"type\": \"Fighting\"}, {\"num\": 534, \"name\": \"Conkeldurr\", \"hp\": 105, \"attack\": 140, \"defense\": 95, \"sp_atk\": 55, \"sp_def\": 65, \"speed\": 45, \"total\": 355, \"generation\": 5, \"legendary\": 0, \"type\": \"Fighting\"}, {\"num\": 535, \"name\": \"Tympole\", \"hp\": 50, \"attack\": 50, \"defense\": 40, \"sp_atk\": 50, \"sp_def\": 40, \"speed\": 64, \"total\": 180, \"generation\": 5, \"legendary\": 0, \"type\": \"Water\"}, {\"num\": 536, \"name\": \"Palpitoad\", \"hp\": 75, \"attack\": 65, \"defense\": 55, \"sp_atk\": 65, \"sp_def\": 55, \"speed\": 69, \"total\": 240, \"generation\": 5, \"legendary\": 0, \"type\": \"Water\"}, {\"num\": 537, \"name\": \"Seismitoad\", \"hp\": 105, \"attack\": 95, \"defense\": 75, \"sp_atk\": 85, \"sp_def\": 75, \"speed\": 74, \"total\": 330, \"generation\": 5, \"legendary\": 0, \"type\": \"Water\"}, {\"num\": 538, \"name\": \"Throh\", \"hp\": 120, \"attack\": 100, \"defense\": 85, \"sp_atk\": 30, \"sp_def\": 85, \"speed\": 45, \"total\": 300, \"generation\": 5, \"legendary\": 0, \"type\": \"Fighting\"}, {\"num\": 539, \"name\": \"Sawk\", \"hp\": 75, \"attack\": 125, \"defense\": 75, \"sp_atk\": 30, \"sp_def\": 75, \"speed\": 85, \"total\": 305, \"generation\": 5, \"legendary\": 0, \"type\": \"Fighting\"}, {\"num\": 540, \"name\": \"Sewaddle\", \"hp\": 45, \"attack\": 53, \"defense\": 70, \"sp_atk\": 40, \"sp_def\": 60, \"speed\": 42, \"total\": 223, \"generation\": 5, \"legendary\": 0, \"type\": \"Bug\"}, {\"num\": 541, \"name\": \"Swadloon\", \"hp\": 55, \"attack\": 63, \"defense\": 90, \"sp_atk\": 50, \"sp_def\": 80, \"speed\": 42, \"total\": 283, \"generation\": 5, \"legendary\": 0, \"type\": \"Bug\"}, {\"num\": 542, \"name\": \"Leavanny\", \"hp\": 75, \"attack\": 103, \"defense\": 80, \"sp_atk\": 70, \"sp_def\": 80, \"speed\": 92, \"total\": 333, \"generation\": 5, \"legendary\": 0, \"type\": \"Bug\"}, {\"num\": 543, \"name\": \"Venipede\", \"hp\": 30, \"attack\": 45, \"defense\": 59, \"sp_atk\": 30, \"sp_def\": 39, \"speed\": 57, \"total\": 173, \"generation\": 5, \"legendary\": 0, \"type\": \"Bug\"}, {\"num\": 544, \"name\": \"Whirlipede\", \"hp\": 40, \"attack\": 55, \"defense\": 99, \"sp_atk\": 40, \"sp_def\": 79, \"speed\": 47, \"total\": 273, \"generation\": 5, \"legendary\": 0, \"type\": \"Bug\"}, {\"num\": 545, \"name\": \"Scolipede\", \"hp\": 60, \"attack\": 100, \"defense\": 89, \"sp_atk\": 55, \"sp_def\": 69, \"speed\": 112, \"total\": 313, \"generation\": 5, \"legendary\": 0, \"type\": \"Bug\"}, {\"num\": 546, \"name\": \"Cottonee\", \"hp\": 40, \"attack\": 27, \"defense\": 60, \"sp_atk\": 37, \"sp_def\": 50, \"speed\": 66, \"total\": 174, \"generation\": 5, \"legendary\": 0, \"type\": \"Grass\"}, {\"num\": 547, \"name\": \"Whimsicott\", \"hp\": 60, \"attack\": 67, \"defense\": 85, \"sp_atk\": 77, \"sp_def\": 75, \"speed\": 116, \"total\": 304, \"generation\": 5, \"legendary\": 0, \"type\": \"Grass\"}, {\"num\": 548, \"name\": \"Petilil\", \"hp\": 45, \"attack\": 35, \"defense\": 50, \"sp_atk\": 70, \"sp_def\": 50, \"speed\": 30, \"total\": 205, \"generation\": 5, \"legendary\": 0, \"type\": \"Grass\"}, {\"num\": 549, \"name\": \"Lilligant\", \"hp\": 70, \"attack\": 60, \"defense\": 75, \"sp_atk\": 110, \"sp_def\": 75, \"speed\": 90, \"total\": 320, \"generation\": 5, \"legendary\": 0, \"type\": \"Grass\"}, {\"num\": 550, \"name\": \"Basculin\", \"hp\": 70, \"attack\": 92, \"defense\": 65, \"sp_atk\": 80, \"sp_def\": 55, \"speed\": 98, \"total\": 292, \"generation\": 5, \"legendary\": 0, \"type\": \"Water\"}, {\"num\": 551, \"name\": \"Sandile\", \"hp\": 50, \"attack\": 72, \"defense\": 35, \"sp_atk\": 35, \"sp_def\": 35, \"speed\": 65, \"total\": 177, \"generation\": 5, \"legendary\": 0, \"type\": \"Ground\"}, {\"num\": 552, \"name\": \"Krokorok\", \"hp\": 60, \"attack\": 82, \"defense\": 45, \"sp_atk\": 45, \"sp_def\": 45, \"speed\": 74, \"total\": 217, \"generation\": 5, \"legendary\": 0, \"type\": \"Ground\"}, {\"num\": 553, \"name\": \"Krookodile\", \"hp\": 95, \"attack\": 117, \"defense\": 80, \"sp_atk\": 65, \"sp_def\": 70, \"speed\": 92, \"total\": 332, \"generation\": 5, \"legendary\": 0, \"type\": \"Ground\"}, {\"num\": 554, \"name\": \"Darumaka\", \"hp\": 70, \"attack\": 90, \"defense\": 45, \"sp_atk\": 15, \"sp_def\": 45, \"speed\": 50, \"total\": 195, \"generation\": 5, \"legendary\": 0, \"type\": \"Fire\"}, {\"num\": 555, \"name\": \"DarmanitanStandard Mode\", \"hp\": 105, \"attack\": 140, \"defense\": 55, \"sp_atk\": 30, \"sp_def\": 55, \"speed\": 95, \"total\": 280, \"generation\": 5, \"legendary\": 0, \"type\": \"Fire\"}, {\"num\": 555, \"name\": \"DarmanitanZen Mode\", \"hp\": 105, \"attack\": 30, \"defense\": 105, \"sp_atk\": 140, \"sp_def\": 105, \"speed\": 55, \"total\": 380, \"generation\": 5, \"legendary\": 0, \"type\": \"Fire\"}, {\"num\": 556, \"name\": \"Maractus\", \"hp\": 75, \"attack\": 86, \"defense\": 67, \"sp_atk\": 106, \"sp_def\": 67, \"speed\": 60, \"total\": 326, \"generation\": 5, \"legendary\": 0, \"type\": \"Grass\"}, {\"num\": 557, \"name\": \"Dwebble\", \"hp\": 50, \"attack\": 65, \"defense\": 85, \"sp_atk\": 35, \"sp_def\": 35, \"speed\": 55, \"total\": 220, \"generation\": 5, \"legendary\": 0, \"type\": \"Bug\"}, {\"num\": 558, \"name\": \"Crustle\", \"hp\": 70, \"attack\": 95, \"defense\": 125, \"sp_atk\": 65, \"sp_def\": 75, \"speed\": 45, \"total\": 360, \"generation\": 5, \"legendary\": 0, \"type\": \"Bug\"}, {\"num\": 559, \"name\": \"Scraggy\", \"hp\": 50, \"attack\": 75, \"defense\": 70, \"sp_atk\": 35, \"sp_def\": 70, \"speed\": 48, \"total\": 250, \"generation\": 5, \"legendary\": 0, \"type\": \"Dark\"}, {\"num\": 560, \"name\": \"Scrafty\", \"hp\": 65, \"attack\": 90, \"defense\": 115, \"sp_atk\": 45, \"sp_def\": 115, \"speed\": 58, \"total\": 365, \"generation\": 5, \"legendary\": 0, \"type\": \"Dark\"}, {\"num\": 561, \"name\": \"Sigilyph\", \"hp\": 72, \"attack\": 58, \"defense\": 80, \"sp_atk\": 103, \"sp_def\": 80, \"speed\": 97, \"total\": 321, \"generation\": 5, \"legendary\": 0, \"type\": \"Psychic\"}, {\"num\": 562, \"name\": \"Yamask\", \"hp\": 38, \"attack\": 30, \"defense\": 85, \"sp_atk\": 55, \"sp_def\": 65, \"speed\": 30, \"total\": 235, \"generation\": 5, \"legendary\": 0, \"type\": \"Ghost\"}, {\"num\": 563, \"name\": \"Cofagrigus\", \"hp\": 58, \"attack\": 50, \"defense\": 145, \"sp_atk\": 95, \"sp_def\": 105, \"speed\": 30, \"total\": 395, \"generation\": 5, \"legendary\": 0, \"type\": \"Ghost\"}, {\"num\": 564, \"name\": \"Tirtouga\", \"hp\": 54, \"attack\": 78, \"defense\": 103, \"sp_atk\": 53, \"sp_def\": 45, \"speed\": 22, \"total\": 279, \"generation\": 5, \"legendary\": 0, \"type\": \"Water\"}, {\"num\": 565, \"name\": \"Carracosta\", \"hp\": 74, \"attack\": 108, \"defense\": 133, \"sp_atk\": 83, \"sp_def\": 65, \"speed\": 32, \"total\": 389, \"generation\": 5, \"legendary\": 0, \"type\": \"Water\"}, {\"num\": 566, \"name\": \"Archen\", \"hp\": 55, \"attack\": 112, \"defense\": 45, \"sp_atk\": 74, \"sp_def\": 45, \"speed\": 70, \"total\": 276, \"generation\": 5, \"legendary\": 0, \"type\": \"Rock\"}, {\"num\": 567, \"name\": \"Archeops\", \"hp\": 75, \"attack\": 140, \"defense\": 65, \"sp_atk\": 112, \"sp_def\": 65, \"speed\": 110, \"total\": 382, \"generation\": 5, \"legendary\": 0, \"type\": \"Rock\"}, {\"num\": 568, \"name\": \"Trubbish\", \"hp\": 50, \"attack\": 50, \"defense\": 62, \"sp_atk\": 40, \"sp_def\": 62, \"speed\": 65, \"total\": 214, \"generation\": 5, \"legendary\": 0, \"type\": \"Poison\"}, {\"num\": 569, \"name\": \"Garbodor\", \"hp\": 80, \"attack\": 95, \"defense\": 82, \"sp_atk\": 60, \"sp_def\": 82, \"speed\": 75, \"total\": 319, \"generation\": 5, \"legendary\": 0, \"type\": \"Poison\"}, {\"num\": 570, \"name\": \"Zorua\", \"hp\": 40, \"attack\": 65, \"defense\": 40, \"sp_atk\": 80, \"sp_def\": 40, \"speed\": 65, \"total\": 225, \"generation\": 5, \"legendary\": 0, \"type\": \"Dark\"}, {\"num\": 571, \"name\": \"Zoroark\", \"hp\": 60, \"attack\": 105, \"defense\": 60, \"sp_atk\": 120, \"sp_def\": 60, \"speed\": 105, \"total\": 345, \"generation\": 5, \"legendary\": 0, \"type\": \"Dark\"}, {\"num\": 572, \"name\": \"Minccino\", \"hp\": 55, \"attack\": 50, \"defense\": 40, \"sp_atk\": 40, \"sp_def\": 40, \"speed\": 75, \"total\": 170, \"generation\": 5, \"legendary\": 0, \"type\": \"Normal\"}, {\"num\": 573, \"name\": \"Cinccino\", \"hp\": 75, \"attack\": 95, \"defense\": 60, \"sp_atk\": 65, \"sp_def\": 60, \"speed\": 115, \"total\": 280, \"generation\": 5, \"legendary\": 0, \"type\": \"Normal\"}, {\"num\": 574, \"name\": \"Gothita\", \"hp\": 45, \"attack\": 30, \"defense\": 50, \"sp_atk\": 55, \"sp_def\": 65, \"speed\": 45, \"total\": 200, \"generation\": 5, \"legendary\": 0, \"type\": \"Psychic\"}, {\"num\": 575, \"name\": \"Gothorita\", \"hp\": 60, \"attack\": 45, \"defense\": 70, \"sp_atk\": 75, \"sp_def\": 85, \"speed\": 55, \"total\": 275, \"generation\": 5, \"legendary\": 0, \"type\": \"Psychic\"}, {\"num\": 576, \"name\": \"Gothitelle\", \"hp\": 70, \"attack\": 55, \"defense\": 95, \"sp_atk\": 95, \"sp_def\": 110, \"speed\": 65, \"total\": 355, \"generation\": 5, \"legendary\": 0, \"type\": \"Psychic\"}, {\"num\": 577, \"name\": \"Solosis\", \"hp\": 45, \"attack\": 30, \"defense\": 40, \"sp_atk\": 105, \"sp_def\": 50, \"speed\": 20, \"total\": 225, \"generation\": 5, \"legendary\": 0, \"type\": \"Psychic\"}, {\"num\": 578, \"name\": \"Duosion\", \"hp\": 65, \"attack\": 40, \"defense\": 50, \"sp_atk\": 125, \"sp_def\": 60, \"speed\": 30, \"total\": 275, \"generation\": 5, \"legendary\": 0, \"type\": \"Psychic\"}, {\"num\": 579, \"name\": \"Reuniclus\", \"hp\": 110, \"attack\": 65, \"defense\": 75, \"sp_atk\": 125, \"sp_def\": 85, \"speed\": 30, \"total\": 350, \"generation\": 5, \"legendary\": 0, \"type\": \"Psychic\"}, {\"num\": 580, \"name\": \"Ducklett\", \"hp\": 62, \"attack\": 44, \"defense\": 50, \"sp_atk\": 44, \"sp_def\": 50, \"speed\": 55, \"total\": 188, \"generation\": 5, \"legendary\": 0, \"type\": \"Water\"}, {\"num\": 581, \"name\": \"Swanna\", \"hp\": 75, \"attack\": 87, \"defense\": 63, \"sp_atk\": 87, \"sp_def\": 63, \"speed\": 98, \"total\": 300, \"generation\": 5, \"legendary\": 0, \"type\": \"Water\"}, {\"num\": 582, \"name\": \"Vanillite\", \"hp\": 36, \"attack\": 50, \"defense\": 50, \"sp_atk\": 65, \"sp_def\": 60, \"speed\": 44, \"total\": 225, \"generation\": 5, \"legendary\": 0, \"type\": \"Ice\"}, {\"num\": 583, \"name\": \"Vanillish\", \"hp\": 51, \"attack\": 65, \"defense\": 65, \"sp_atk\": 80, \"sp_def\": 75, \"speed\": 59, \"total\": 285, \"generation\": 5, \"legendary\": 0, \"type\": \"Ice\"}, {\"num\": 584, \"name\": \"Vanilluxe\", \"hp\": 71, \"attack\": 95, \"defense\": 85, \"sp_atk\": 110, \"sp_def\": 95, \"speed\": 79, \"total\": 385, \"generation\": 5, \"legendary\": 0, \"type\": \"Ice\"}, {\"num\": 585, \"name\": \"Deerling\", \"hp\": 60, \"attack\": 60, \"defense\": 50, \"sp_atk\": 40, \"sp_def\": 50, \"speed\": 75, \"total\": 200, \"generation\": 5, \"legendary\": 0, \"type\": \"Normal\"}, {\"num\": 586, \"name\": \"Sawsbuck\", \"hp\": 80, \"attack\": 100, \"defense\": 70, \"sp_atk\": 60, \"sp_def\": 70, \"speed\": 95, \"total\": 300, \"generation\": 5, \"legendary\": 0, \"type\": \"Normal\"}, {\"num\": 587, \"name\": \"Emolga\", \"hp\": 55, \"attack\": 75, \"defense\": 60, \"sp_atk\": 75, \"sp_def\": 60, \"speed\": 103, \"total\": 270, \"generation\": 5, \"legendary\": 0, \"type\": \"Electric\"}, {\"num\": 588, \"name\": \"Karrablast\", \"hp\": 50, \"attack\": 75, \"defense\": 45, \"sp_atk\": 40, \"sp_def\": 45, \"speed\": 60, \"total\": 205, \"generation\": 5, \"legendary\": 0, \"type\": \"Bug\"}, {\"num\": 589, \"name\": \"Escavalier\", \"hp\": 70, \"attack\": 135, \"defense\": 105, \"sp_atk\": 60, \"sp_def\": 105, \"speed\": 20, \"total\": 405, \"generation\": 5, \"legendary\": 0, \"type\": \"Bug\"}, {\"num\": 590, \"name\": \"Foongus\", \"hp\": 69, \"attack\": 55, \"defense\": 45, \"sp_atk\": 55, \"sp_def\": 55, \"speed\": 15, \"total\": 210, \"generation\": 5, \"legendary\": 0, \"type\": \"Grass\"}, {\"num\": 591, \"name\": \"Amoonguss\", \"hp\": 114, \"attack\": 85, \"defense\": 70, \"sp_atk\": 85, \"sp_def\": 80, \"speed\": 30, \"total\": 320, \"generation\": 5, \"legendary\": 0, \"type\": \"Grass\"}, {\"num\": 592, \"name\": \"Frillish\", \"hp\": 55, \"attack\": 40, \"defense\": 50, \"sp_atk\": 65, \"sp_def\": 85, \"speed\": 40, \"total\": 240, \"generation\": 5, \"legendary\": 0, \"type\": \"Water\"}, {\"num\": 593, \"name\": \"Jellicent\", \"hp\": 100, \"attack\": 60, \"defense\": 70, \"sp_atk\": 85, \"sp_def\": 105, \"speed\": 60, \"total\": 320, \"generation\": 5, \"legendary\": 0, \"type\": \"Water\"}, {\"num\": 594, \"name\": \"Alomomola\", \"hp\": 165, \"attack\": 75, \"defense\": 80, \"sp_atk\": 40, \"sp_def\": 45, \"speed\": 65, \"total\": 240, \"generation\": 5, \"legendary\": 0, \"type\": \"Water\"}, {\"num\": 595, \"name\": \"Joltik\", \"hp\": 50, \"attack\": 47, \"defense\": 50, \"sp_atk\": 57, \"sp_def\": 50, \"speed\": 65, \"total\": 204, \"generation\": 5, \"legendary\": 0, \"type\": \"Bug\"}, {\"num\": 596, \"name\": \"Galvantula\", \"hp\": 70, \"attack\": 77, \"defense\": 60, \"sp_atk\": 97, \"sp_def\": 60, \"speed\": 108, \"total\": 294, \"generation\": 5, \"legendary\": 0, \"type\": \"Bug\"}, {\"num\": 597, \"name\": \"Ferroseed\", \"hp\": 44, \"attack\": 50, \"defense\": 91, \"sp_atk\": 24, \"sp_def\": 86, \"speed\": 10, \"total\": 251, \"generation\": 5, \"legendary\": 0, \"type\": \"Grass\"}, {\"num\": 598, \"name\": \"Ferrothorn\", \"hp\": 74, \"attack\": 94, \"defense\": 131, \"sp_atk\": 54, \"sp_def\": 116, \"speed\": 20, \"total\": 395, \"generation\": 5, \"legendary\": 0, \"type\": \"Grass\"}, {\"num\": 599, \"name\": \"Klink\", \"hp\": 40, \"attack\": 55, \"defense\": 70, \"sp_atk\": 45, \"sp_def\": 60, \"speed\": 30, \"total\": 230, \"generation\": 5, \"legendary\": 0, \"type\": \"Steel\"}, {\"num\": 600, \"name\": \"Klang\", \"hp\": 60, \"attack\": 80, \"defense\": 95, \"sp_atk\": 70, \"sp_def\": 85, \"speed\": 50, \"total\": 330, \"generation\": 5, \"legendary\": 0, \"type\": \"Steel\"}, {\"num\": 601, \"name\": \"Klinklang\", \"hp\": 60, \"attack\": 100, \"defense\": 115, \"sp_atk\": 70, \"sp_def\": 85, \"speed\": 90, \"total\": 370, \"generation\": 5, \"legendary\": 0, \"type\": \"Steel\"}, {\"num\": 602, \"name\": \"Tynamo\", \"hp\": 35, \"attack\": 55, \"defense\": 40, \"sp_atk\": 45, \"sp_def\": 40, \"speed\": 60, \"total\": 180, \"generation\": 5, \"legendary\": 0, \"type\": \"Electric\"}, {\"num\": 603, \"name\": \"Eelektrik\", \"hp\": 65, \"attack\": 85, \"defense\": 70, \"sp_atk\": 75, \"sp_def\": 70, \"speed\": 40, \"total\": 300, \"generation\": 5, \"legendary\": 0, \"type\": \"Electric\"}, {\"num\": 604, \"name\": \"Eelektross\", \"hp\": 85, \"attack\": 115, \"defense\": 80, \"sp_atk\": 105, \"sp_def\": 80, \"speed\": 50, \"total\": 380, \"generation\": 5, \"legendary\": 0, \"type\": \"Electric\"}, {\"num\": 605, \"name\": \"Elgyem\", \"hp\": 55, \"attack\": 55, \"defense\": 55, \"sp_atk\": 85, \"sp_def\": 55, \"speed\": 30, \"total\": 250, \"generation\": 5, \"legendary\": 0, \"type\": \"Psychic\"}, {\"num\": 606, \"name\": \"Beheeyem\", \"hp\": 75, \"attack\": 75, \"defense\": 75, \"sp_atk\": 125, \"sp_def\": 95, \"speed\": 40, \"total\": 370, \"generation\": 5, \"legendary\": 0, \"type\": \"Psychic\"}, {\"num\": 607, \"name\": \"Litwick\", \"hp\": 50, \"attack\": 30, \"defense\": 55, \"sp_atk\": 65, \"sp_def\": 55, \"speed\": 20, \"total\": 205, \"generation\": 5, \"legendary\": 0, \"type\": \"Ghost\"}, {\"num\": 608, \"name\": \"Lampent\", \"hp\": 60, \"attack\": 40, \"defense\": 60, \"sp_atk\": 95, \"sp_def\": 60, \"speed\": 55, \"total\": 255, \"generation\": 5, \"legendary\": 0, \"type\": \"Ghost\"}, {\"num\": 609, \"name\": \"Chandelure\", \"hp\": 60, \"attack\": 55, \"defense\": 90, \"sp_atk\": 145, \"sp_def\": 90, \"speed\": 80, \"total\": 380, \"generation\": 5, \"legendary\": 0, \"type\": \"Ghost\"}, {\"num\": 610, \"name\": \"Axew\", \"hp\": 46, \"attack\": 87, \"defense\": 60, \"sp_atk\": 30, \"sp_def\": 40, \"speed\": 57, \"total\": 217, \"generation\": 5, \"legendary\": 0, \"type\": \"Dragon\"}, {\"num\": 611, \"name\": \"Fraxure\", \"hp\": 66, \"attack\": 117, \"defense\": 70, \"sp_atk\": 40, \"sp_def\": 50, \"speed\": 67, \"total\": 277, \"generation\": 5, \"legendary\": 0, \"type\": \"Dragon\"}, {\"num\": 612, \"name\": \"Haxorus\", \"hp\": 76, \"attack\": 147, \"defense\": 90, \"sp_atk\": 60, \"sp_def\": 70, \"speed\": 97, \"total\": 367, \"generation\": 5, \"legendary\": 0, \"type\": \"Dragon\"}, {\"num\": 613, \"name\": \"Cubchoo\", \"hp\": 55, \"attack\": 70, \"defense\": 40, \"sp_atk\": 60, \"sp_def\": 40, \"speed\": 40, \"total\": 210, \"generation\": 5, \"legendary\": 0, \"type\": \"Ice\"}, {\"num\": 614, \"name\": \"Beartic\", \"hp\": 95, \"attack\": 110, \"defense\": 80, \"sp_atk\": 70, \"sp_def\": 80, \"speed\": 50, \"total\": 340, \"generation\": 5, \"legendary\": 0, \"type\": \"Ice\"}, {\"num\": 615, \"name\": \"Cryogonal\", \"hp\": 70, \"attack\": 50, \"defense\": 30, \"sp_atk\": 95, \"sp_def\": 135, \"speed\": 105, \"total\": 310, \"generation\": 5, \"legendary\": 0, \"type\": \"Ice\"}, {\"num\": 616, \"name\": \"Shelmet\", \"hp\": 50, \"attack\": 40, \"defense\": 85, \"sp_atk\": 40, \"sp_def\": 65, \"speed\": 25, \"total\": 230, \"generation\": 5, \"legendary\": 0, \"type\": \"Bug\"}, {\"num\": 617, \"name\": \"Accelgor\", \"hp\": 80, \"attack\": 70, \"defense\": 40, \"sp_atk\": 100, \"sp_def\": 60, \"speed\": 145, \"total\": 270, \"generation\": 5, \"legendary\": 0, \"type\": \"Bug\"}, {\"num\": 618, \"name\": \"Stunfisk\", \"hp\": 109, \"attack\": 66, \"defense\": 84, \"sp_atk\": 81, \"sp_def\": 99, \"speed\": 32, \"total\": 330, \"generation\": 5, \"legendary\": 0, \"type\": \"Ground\"}, {\"num\": 619, \"name\": \"Mienfoo\", \"hp\": 45, \"attack\": 85, \"defense\": 50, \"sp_atk\": 55, \"sp_def\": 50, \"speed\": 65, \"total\": 240, \"generation\": 5, \"legendary\": 0, \"type\": \"Fighting\"}, {\"num\": 620, \"name\": \"Mienshao\", \"hp\": 65, \"attack\": 125, \"defense\": 60, \"sp_atk\": 95, \"sp_def\": 60, \"speed\": 105, \"total\": 340, \"generation\": 5, \"legendary\": 0, \"type\": \"Fighting\"}, {\"num\": 621, \"name\": \"Druddigon\", \"hp\": 77, \"attack\": 120, \"defense\": 90, \"sp_atk\": 60, \"sp_def\": 90, \"speed\": 48, \"total\": 360, \"generation\": 5, \"legendary\": 0, \"type\": \"Dragon\"}, {\"num\": 622, \"name\": \"Golett\", \"hp\": 59, \"attack\": 74, \"defense\": 50, \"sp_atk\": 35, \"sp_def\": 50, \"speed\": 35, \"total\": 209, \"generation\": 5, \"legendary\": 0, \"type\": \"Ground\"}, {\"num\": 623, \"name\": \"Golurk\", \"hp\": 89, \"attack\": 124, \"defense\": 80, \"sp_atk\": 55, \"sp_def\": 80, \"speed\": 55, \"total\": 339, \"generation\": 5, \"legendary\": 0, \"type\": \"Ground\"}, {\"num\": 624, \"name\": \"Pawniard\", \"hp\": 45, \"attack\": 85, \"defense\": 70, \"sp_atk\": 40, \"sp_def\": 40, \"speed\": 60, \"total\": 235, \"generation\": 5, \"legendary\": 0, \"type\": \"Dark\"}, {\"num\": 625, \"name\": \"Bisharp\", \"hp\": 65, \"attack\": 125, \"defense\": 100, \"sp_atk\": 60, \"sp_def\": 70, \"speed\": 70, \"total\": 355, \"generation\": 5, \"legendary\": 0, \"type\": \"Dark\"}, {\"num\": 626, \"name\": \"Bouffalant\", \"hp\": 95, \"attack\": 110, \"defense\": 95, \"sp_atk\": 40, \"sp_def\": 95, \"speed\": 55, \"total\": 340, \"generation\": 5, \"legendary\": 0, \"type\": \"Normal\"}, {\"num\": 627, \"name\": \"Rufflet\", \"hp\": 70, \"attack\": 83, \"defense\": 50, \"sp_atk\": 37, \"sp_def\": 50, \"speed\": 60, \"total\": 220, \"generation\": 5, \"legendary\": 0, \"type\": \"Normal\"}, {\"num\": 628, \"name\": \"Braviary\", \"hp\": 100, \"attack\": 123, \"defense\": 75, \"sp_atk\": 57, \"sp_def\": 75, \"speed\": 80, \"total\": 330, \"generation\": 5, \"legendary\": 0, \"type\": \"Normal\"}, {\"num\": 629, \"name\": \"Vullaby\", \"hp\": 70, \"attack\": 55, \"defense\": 75, \"sp_atk\": 45, \"sp_def\": 65, \"speed\": 60, \"total\": 240, \"generation\": 5, \"legendary\": 0, \"type\": \"Dark\"}, {\"num\": 630, \"name\": \"Mandibuzz\", \"hp\": 110, \"attack\": 65, \"defense\": 105, \"sp_atk\": 55, \"sp_def\": 95, \"speed\": 80, \"total\": 320, \"generation\": 5, \"legendary\": 0, \"type\": \"Dark\"}, {\"num\": 631, \"name\": \"Heatmor\", \"hp\": 85, \"attack\": 97, \"defense\": 66, \"sp_atk\": 105, \"sp_def\": 66, \"speed\": 65, \"total\": 334, \"generation\": 5, \"legendary\": 0, \"type\": \"Fire\"}, {\"num\": 632, \"name\": \"Durant\", \"hp\": 58, \"attack\": 109, \"defense\": 112, \"sp_atk\": 48, \"sp_def\": 48, \"speed\": 109, \"total\": 317, \"generation\": 5, \"legendary\": 0, \"type\": \"Bug\"}, {\"num\": 633, \"name\": \"Deino\", \"hp\": 52, \"attack\": 65, \"defense\": 50, \"sp_atk\": 45, \"sp_def\": 50, \"speed\": 38, \"total\": 210, \"generation\": 5, \"legendary\": 0, \"type\": \"Dark\"}, {\"num\": 634, \"name\": \"Zweilous\", \"hp\": 72, \"attack\": 85, \"defense\": 70, \"sp_atk\": 65, \"sp_def\": 70, \"speed\": 58, \"total\": 290, \"generation\": 5, \"legendary\": 0, \"type\": \"Dark\"}, {\"num\": 635, \"name\": \"Hydreigon\", \"hp\": 92, \"attack\": 105, \"defense\": 90, \"sp_atk\": 125, \"sp_def\": 90, \"speed\": 98, \"total\": 410, \"generation\": 5, \"legendary\": 0, \"type\": \"Dark\"}, {\"num\": 636, \"name\": \"Larvesta\", \"hp\": 55, \"attack\": 85, \"defense\": 55, \"sp_atk\": 50, \"sp_def\": 55, \"speed\": 60, \"total\": 245, \"generation\": 5, \"legendary\": 0, \"type\": \"Bug\"}, {\"num\": 637, \"name\": \"Volcarona\", \"hp\": 85, \"attack\": 60, \"defense\": 65, \"sp_atk\": 135, \"sp_def\": 105, \"speed\": 100, \"total\": 365, \"generation\": 5, \"legendary\": 0, \"type\": \"Bug\"}, {\"num\": 638, \"name\": \"Cobalion\", \"hp\": 91, \"attack\": 90, \"defense\": 129, \"sp_atk\": 90, \"sp_def\": 72, \"speed\": 108, \"total\": 381, \"generation\": 5, \"legendary\": 1, \"type\": \"Steel\"}, {\"num\": 639, \"name\": \"Terrakion\", \"hp\": 91, \"attack\": 129, \"defense\": 90, \"sp_atk\": 72, \"sp_def\": 90, \"speed\": 108, \"total\": 381, \"generation\": 5, \"legendary\": 1, \"type\": \"Rock\"}, {\"num\": 640, \"name\": \"Virizion\", \"hp\": 91, \"attack\": 90, \"defense\": 72, \"sp_atk\": 90, \"sp_def\": 129, \"speed\": 108, \"total\": 381, \"generation\": 5, \"legendary\": 1, \"type\": \"Grass\"}, {\"num\": 641, \"name\": \"TornadusIncarnate Forme\", \"hp\": 79, \"attack\": 115, \"defense\": 70, \"sp_atk\": 125, \"sp_def\": 80, \"speed\": 111, \"total\": 390, \"generation\": 5, \"legendary\": 1, \"type\": \"Flying\"}, {\"num\": 641, \"name\": \"TornadusTherian Forme\", \"hp\": 79, \"attack\": 100, \"defense\": 80, \"sp_atk\": 110, \"sp_def\": 90, \"speed\": 121, \"total\": 380, \"generation\": 5, \"legendary\": 1, \"type\": \"Flying\"}, {\"num\": 642, \"name\": \"ThundurusIncarnate Forme\", \"hp\": 79, \"attack\": 115, \"defense\": 70, \"sp_atk\": 125, \"sp_def\": 80, \"speed\": 111, \"total\": 390, \"generation\": 5, \"legendary\": 1, \"type\": \"Electric\"}, {\"num\": 642, \"name\": \"ThundurusTherian Forme\", \"hp\": 79, \"attack\": 105, \"defense\": 70, \"sp_atk\": 145, \"sp_def\": 80, \"speed\": 101, \"total\": 400, \"generation\": 5, \"legendary\": 1, \"type\": \"Electric\"}, {\"num\": 643, \"name\": \"Reshiram\", \"hp\": 100, \"attack\": 120, \"defense\": 100, \"sp_atk\": 150, \"sp_def\": 120, \"speed\": 90, \"total\": 490, \"generation\": 5, \"legendary\": 1, \"type\": \"Dragon\"}, {\"num\": 644, \"name\": \"Zekrom\", \"hp\": 100, \"attack\": 150, \"defense\": 120, \"sp_atk\": 120, \"sp_def\": 100, \"speed\": 90, \"total\": 490, \"generation\": 5, \"legendary\": 1, \"type\": \"Dragon\"}, {\"num\": 645, \"name\": \"LandorusIncarnate Forme\", \"hp\": 89, \"attack\": 125, \"defense\": 90, \"sp_atk\": 115, \"sp_def\": 80, \"speed\": 101, \"total\": 410, \"generation\": 5, \"legendary\": 1, \"type\": \"Ground\"}, {\"num\": 645, \"name\": \"LandorusTherian Forme\", \"hp\": 89, \"attack\": 145, \"defense\": 90, \"sp_atk\": 105, \"sp_def\": 80, \"speed\": 91, \"total\": 420, \"generation\": 5, \"legendary\": 1, \"type\": \"Ground\"}, {\"num\": 646, \"name\": \"Kyurem\", \"hp\": 125, \"attack\": 130, \"defense\": 90, \"sp_atk\": 130, \"sp_def\": 90, \"speed\": 95, \"total\": 440, \"generation\": 5, \"legendary\": 1, \"type\": \"Dragon\"}, {\"num\": 646, \"name\": \"KyuremBlack Kyurem\", \"hp\": 125, \"attack\": 170, \"defense\": 100, \"sp_atk\": 120, \"sp_def\": 90, \"speed\": 95, \"total\": 480, \"generation\": 5, \"legendary\": 1, \"type\": \"Dragon\"}, {\"num\": 646, \"name\": \"KyuremWhite Kyurem\", \"hp\": 125, \"attack\": 120, \"defense\": 90, \"sp_atk\": 170, \"sp_def\": 100, \"speed\": 95, \"total\": 480, \"generation\": 5, \"legendary\": 1, \"type\": \"Dragon\"}, {\"num\": 647, \"name\": \"KeldeoOrdinary Forme\", \"hp\": 91, \"attack\": 72, \"defense\": 90, \"sp_atk\": 129, \"sp_def\": 90, \"speed\": 108, \"total\": 381, \"generation\": 5, \"legendary\": 0, \"type\": \"Water\"}, {\"num\": 647, \"name\": \"KeldeoResolute Forme\", \"hp\": 91, \"attack\": 72, \"defense\": 90, \"sp_atk\": 129, \"sp_def\": 90, \"speed\": 108, \"total\": 381, \"generation\": 5, \"legendary\": 0, \"type\": \"Water\"}, {\"num\": 648, \"name\": \"MeloettaAria Forme\", \"hp\": 100, \"attack\": 77, \"defense\": 77, \"sp_atk\": 128, \"sp_def\": 128, \"speed\": 90, \"total\": 410, \"generation\": 5, \"legendary\": 0, \"type\": \"Normal\"}, {\"num\": 648, \"name\": \"MeloettaPirouette Forme\", \"hp\": 100, \"attack\": 128, \"defense\": 90, \"sp_atk\": 77, \"sp_def\": 77, \"speed\": 128, \"total\": 372, \"generation\": 5, \"legendary\": 0, \"type\": \"Normal\"}, {\"num\": 649, \"name\": \"Genesect\", \"hp\": 71, \"attack\": 120, \"defense\": 95, \"sp_atk\": 120, \"sp_def\": 95, \"speed\": 99, \"total\": 430, \"generation\": 5, \"legendary\": 0, \"type\": \"Bug\"}, {\"num\": 650, \"name\": \"Chespin\", \"hp\": 56, \"attack\": 61, \"defense\": 65, \"sp_atk\": 48, \"sp_def\": 45, \"speed\": 38, \"total\": 219, \"generation\": 6, \"legendary\": 0, \"type\": \"Grass\"}, {\"num\": 651, \"name\": \"Quilladin\", \"hp\": 61, \"attack\": 78, \"defense\": 95, \"sp_atk\": 56, \"sp_def\": 58, \"speed\": 57, \"total\": 287, \"generation\": 6, \"legendary\": 0, \"type\": \"Grass\"}, {\"num\": 652, \"name\": \"Chesnaught\", \"hp\": 88, \"attack\": 107, \"defense\": 122, \"sp_atk\": 74, \"sp_def\": 75, \"speed\": 64, \"total\": 378, \"generation\": 6, \"legendary\": 0, \"type\": \"Grass\"}, {\"num\": 653, \"name\": \"Fennekin\", \"hp\": 40, \"attack\": 45, \"defense\": 40, \"sp_atk\": 62, \"sp_def\": 60, \"speed\": 60, \"total\": 207, \"generation\": 6, \"legendary\": 0, \"type\": \"Fire\"}, {\"num\": 654, \"name\": \"Braixen\", \"hp\": 59, \"attack\": 59, \"defense\": 58, \"sp_atk\": 90, \"sp_def\": 70, \"speed\": 73, \"total\": 277, \"generation\": 6, \"legendary\": 0, \"type\": \"Fire\"}, {\"num\": 655, \"name\": \"Delphox\", \"hp\": 75, \"attack\": 69, \"defense\": 72, \"sp_atk\": 114, \"sp_def\": 100, \"speed\": 104, \"total\": 355, \"generation\": 6, \"legendary\": 0, \"type\": \"Fire\"}, {\"num\": 656, \"name\": \"Froakie\", \"hp\": 41, \"attack\": 56, \"defense\": 40, \"sp_atk\": 62, \"sp_def\": 44, \"speed\": 71, \"total\": 202, \"generation\": 6, \"legendary\": 0, \"type\": \"Water\"}, {\"num\": 657, \"name\": \"Frogadier\", \"hp\": 54, \"attack\": 63, \"defense\": 52, \"sp_atk\": 83, \"sp_def\": 56, \"speed\": 97, \"total\": 254, \"generation\": 6, \"legendary\": 0, \"type\": \"Water\"}, {\"num\": 658, \"name\": \"Greninja\", \"hp\": 72, \"attack\": 95, \"defense\": 67, \"sp_atk\": 103, \"sp_def\": 71, \"speed\": 122, \"total\": 336, \"generation\": 6, \"legendary\": 0, \"type\": \"Water\"}, {\"num\": 659, \"name\": \"Bunnelby\", \"hp\": 38, \"attack\": 36, \"defense\": 38, \"sp_atk\": 32, \"sp_def\": 36, \"speed\": 57, \"total\": 142, \"generation\": 6, \"legendary\": 0, \"type\": \"Normal\"}, {\"num\": 660, \"name\": \"Diggersby\", \"hp\": 85, \"attack\": 56, \"defense\": 77, \"sp_atk\": 50, \"sp_def\": 77, \"speed\": 78, \"total\": 260, \"generation\": 6, \"legendary\": 0, \"type\": \"Normal\"}, {\"num\": 661, \"name\": \"Fletchling\", \"hp\": 45, \"attack\": 50, \"defense\": 43, \"sp_atk\": 40, \"sp_def\": 38, \"speed\": 62, \"total\": 171, \"generation\": 6, \"legendary\": 0, \"type\": \"Normal\"}, {\"num\": 662, \"name\": \"Fletchinder\", \"hp\": 62, \"attack\": 73, \"defense\": 55, \"sp_atk\": 56, \"sp_def\": 52, \"speed\": 84, \"total\": 236, \"generation\": 6, \"legendary\": 0, \"type\": \"Fire\"}, {\"num\": 663, \"name\": \"Talonflame\", \"hp\": 78, \"attack\": 81, \"defense\": 71, \"sp_atk\": 74, \"sp_def\": 69, \"speed\": 126, \"total\": 295, \"generation\": 6, \"legendary\": 0, \"type\": \"Fire\"}, {\"num\": 664, \"name\": \"Scatterbug\", \"hp\": 38, \"attack\": 35, \"defense\": 40, \"sp_atk\": 27, \"sp_def\": 25, \"speed\": 35, \"total\": 127, \"generation\": 6, \"legendary\": 0, \"type\": \"Bug\"}, {\"num\": 665, \"name\": \"Spewpa\", \"hp\": 45, \"attack\": 22, \"defense\": 60, \"sp_atk\": 27, \"sp_def\": 30, \"speed\": 29, \"total\": 139, \"generation\": 6, \"legendary\": 0, \"type\": \"Bug\"}, {\"num\": 666, \"name\": \"Vivillon\", \"hp\": 80, \"attack\": 52, \"defense\": 50, \"sp_atk\": 90, \"sp_def\": 50, \"speed\": 89, \"total\": 242, \"generation\": 6, \"legendary\": 0, \"type\": \"Bug\"}, {\"num\": 667, \"name\": \"Litleo\", \"hp\": 62, \"attack\": 50, \"defense\": 58, \"sp_atk\": 73, \"sp_def\": 54, \"speed\": 72, \"total\": 235, \"generation\": 6, \"legendary\": 0, \"type\": \"Fire\"}, {\"num\": 668, \"name\": \"Pyroar\", \"hp\": 86, \"attack\": 68, \"defense\": 72, \"sp_atk\": 109, \"sp_def\": 66, \"speed\": 106, \"total\": 315, \"generation\": 6, \"legendary\": 0, \"type\": \"Fire\"}, {\"num\": 669, \"name\": \"Flab\\u00c3\\u00a9b\\u00c3\\u00a9\", \"hp\": 44, \"attack\": 38, \"defense\": 39, \"sp_atk\": 61, \"sp_def\": 79, \"speed\": 42, \"total\": 217, \"generation\": 6, \"legendary\": 0, \"type\": \"Fairy\"}, {\"num\": 670, \"name\": \"Floette\", \"hp\": 54, \"attack\": 45, \"defense\": 47, \"sp_atk\": 75, \"sp_def\": 98, \"speed\": 52, \"total\": 265, \"generation\": 6, \"legendary\": 0, \"type\": \"Fairy\"}, {\"num\": 671, \"name\": \"Florges\", \"hp\": 78, \"attack\": 65, \"defense\": 68, \"sp_atk\": 112, \"sp_def\": 154, \"speed\": 75, \"total\": 399, \"generation\": 6, \"legendary\": 0, \"type\": \"Fairy\"}, {\"num\": 672, \"name\": \"Skiddo\", \"hp\": 66, \"attack\": 65, \"defense\": 48, \"sp_atk\": 62, \"sp_def\": 57, \"speed\": 52, \"total\": 232, \"generation\": 6, \"legendary\": 0, \"type\": \"Grass\"}, {\"num\": 673, \"name\": \"Gogoat\", \"hp\": 123, \"attack\": 100, \"defense\": 62, \"sp_atk\": 97, \"sp_def\": 81, \"speed\": 68, \"total\": 340, \"generation\": 6, \"legendary\": 0, \"type\": \"Grass\"}, {\"num\": 674, \"name\": \"Pancham\", \"hp\": 67, \"attack\": 82, \"defense\": 62, \"sp_atk\": 46, \"sp_def\": 48, \"speed\": 43, \"total\": 238, \"generation\": 6, \"legendary\": 0, \"type\": \"Fighting\"}, {\"num\": 675, \"name\": \"Pangoro\", \"hp\": 95, \"attack\": 124, \"defense\": 78, \"sp_atk\": 69, \"sp_def\": 71, \"speed\": 58, \"total\": 342, \"generation\": 6, \"legendary\": 0, \"type\": \"Fighting\"}, {\"num\": 676, \"name\": \"Furfrou\", \"hp\": 75, \"attack\": 80, \"defense\": 60, \"sp_atk\": 65, \"sp_def\": 90, \"speed\": 102, \"total\": 295, \"generation\": 6, \"legendary\": 0, \"type\": \"Normal\"}, {\"num\": 677, \"name\": \"Espurr\", \"hp\": 62, \"attack\": 48, \"defense\": 54, \"sp_atk\": 63, \"sp_def\": 60, \"speed\": 68, \"total\": 225, \"generation\": 6, \"legendary\": 0, \"type\": \"Psychic\"}, {\"num\": 678, \"name\": \"MeowsticMale\", \"hp\": 74, \"attack\": 48, \"defense\": 76, \"sp_atk\": 83, \"sp_def\": 81, \"speed\": 104, \"total\": 288, \"generation\": 6, \"legendary\": 0, \"type\": \"Psychic\"}, {\"num\": 678, \"name\": \"MeowsticFemale\", \"hp\": 74, \"attack\": 48, \"defense\": 76, \"sp_atk\": 83, \"sp_def\": 81, \"speed\": 104, \"total\": 288, \"generation\": 6, \"legendary\": 0, \"type\": \"Psychic\"}, {\"num\": 679, \"name\": \"Honedge\", \"hp\": 45, \"attack\": 80, \"defense\": 100, \"sp_atk\": 35, \"sp_def\": 37, \"speed\": 28, \"total\": 252, \"generation\": 6, \"legendary\": 0, \"type\": \"Steel\"}, {\"num\": 680, \"name\": \"Doublade\", \"hp\": 59, \"attack\": 110, \"defense\": 150, \"sp_atk\": 45, \"sp_def\": 49, \"speed\": 35, \"total\": 354, \"generation\": 6, \"legendary\": 0, \"type\": \"Steel\"}, {\"num\": 681, \"name\": \"AegislashBlade Forme\", \"hp\": 60, \"attack\": 150, \"defense\": 50, \"sp_atk\": 150, \"sp_def\": 50, \"speed\": 60, \"total\": 400, \"generation\": 6, \"legendary\": 0, \"type\": \"Steel\"}, {\"num\": 681, \"name\": \"AegislashShield Forme\", \"hp\": 60, \"attack\": 50, \"defense\": 150, \"sp_atk\": 50, \"sp_def\": 150, \"speed\": 60, \"total\": 400, \"generation\": 6, \"legendary\": 0, \"type\": \"Steel\"}, {\"num\": 682, \"name\": \"Spritzee\", \"hp\": 78, \"attack\": 52, \"defense\": 60, \"sp_atk\": 63, \"sp_def\": 65, \"speed\": 23, \"total\": 240, \"generation\": 6, \"legendary\": 0, \"type\": \"Fairy\"}, {\"num\": 683, \"name\": \"Aromatisse\", \"hp\": 101, \"attack\": 72, \"defense\": 72, \"sp_atk\": 99, \"sp_def\": 89, \"speed\": 29, \"total\": 332, \"generation\": 6, \"legendary\": 0, \"type\": \"Fairy\"}, {\"num\": 684, \"name\": \"Swirlix\", \"hp\": 62, \"attack\": 48, \"defense\": 66, \"sp_atk\": 59, \"sp_def\": 57, \"speed\": 49, \"total\": 230, \"generation\": 6, \"legendary\": 0, \"type\": \"Fairy\"}, {\"num\": 685, \"name\": \"Slurpuff\", \"hp\": 82, \"attack\": 80, \"defense\": 86, \"sp_atk\": 85, \"sp_def\": 75, \"speed\": 72, \"total\": 326, \"generation\": 6, \"legendary\": 0, \"type\": \"Fairy\"}, {\"num\": 686, \"name\": \"Inkay\", \"hp\": 53, \"attack\": 54, \"defense\": 53, \"sp_atk\": 37, \"sp_def\": 46, \"speed\": 45, \"total\": 190, \"generation\": 6, \"legendary\": 0, \"type\": \"Dark\"}, {\"num\": 687, \"name\": \"Malamar\", \"hp\": 86, \"attack\": 92, \"defense\": 88, \"sp_atk\": 68, \"sp_def\": 75, \"speed\": 73, \"total\": 323, \"generation\": 6, \"legendary\": 0, \"type\": \"Dark\"}, {\"num\": 688, \"name\": \"Binacle\", \"hp\": 42, \"attack\": 52, \"defense\": 67, \"sp_atk\": 39, \"sp_def\": 56, \"speed\": 50, \"total\": 214, \"generation\": 6, \"legendary\": 0, \"type\": \"Rock\"}, {\"num\": 689, \"name\": \"Barbaracle\", \"hp\": 72, \"attack\": 105, \"defense\": 115, \"sp_atk\": 54, \"sp_def\": 86, \"speed\": 68, \"total\": 360, \"generation\": 6, \"legendary\": 0, \"type\": \"Rock\"}, {\"num\": 690, \"name\": \"Skrelp\", \"hp\": 50, \"attack\": 60, \"defense\": 60, \"sp_atk\": 60, \"sp_def\": 60, \"speed\": 30, \"total\": 240, \"generation\": 6, \"legendary\": 0, \"type\": \"Poison\"}, {\"num\": 691, \"name\": \"Dragalge\", \"hp\": 65, \"attack\": 75, \"defense\": 90, \"sp_atk\": 97, \"sp_def\": 123, \"speed\": 44, \"total\": 385, \"generation\": 6, \"legendary\": 0, \"type\": \"Poison\"}, {\"num\": 692, \"name\": \"Clauncher\", \"hp\": 50, \"attack\": 53, \"defense\": 62, \"sp_atk\": 58, \"sp_def\": 63, \"speed\": 44, \"total\": 236, \"generation\": 6, \"legendary\": 0, \"type\": \"Water\"}, {\"num\": 693, \"name\": \"Clawitzer\", \"hp\": 71, \"attack\": 73, \"defense\": 88, \"sp_atk\": 120, \"sp_def\": 89, \"speed\": 59, \"total\": 370, \"generation\": 6, \"legendary\": 0, \"type\": \"Water\"}, {\"num\": 694, \"name\": \"Helioptile\", \"hp\": 44, \"attack\": 38, \"defense\": 33, \"sp_atk\": 61, \"sp_def\": 43, \"speed\": 70, \"total\": 175, \"generation\": 6, \"legendary\": 0, \"type\": \"Electric\"}, {\"num\": 695, \"name\": \"Heliolisk\", \"hp\": 62, \"attack\": 55, \"defense\": 52, \"sp_atk\": 109, \"sp_def\": 94, \"speed\": 109, \"total\": 310, \"generation\": 6, \"legendary\": 0, \"type\": \"Electric\"}, {\"num\": 696, \"name\": \"Tyrunt\", \"hp\": 58, \"attack\": 89, \"defense\": 77, \"sp_atk\": 45, \"sp_def\": 45, \"speed\": 48, \"total\": 256, \"generation\": 6, \"legendary\": 0, \"type\": \"Rock\"}, {\"num\": 697, \"name\": \"Tyrantrum\", \"hp\": 82, \"attack\": 121, \"defense\": 119, \"sp_atk\": 69, \"sp_def\": 59, \"speed\": 71, \"total\": 368, \"generation\": 6, \"legendary\": 0, \"type\": \"Rock\"}, {\"num\": 698, \"name\": \"Amaura\", \"hp\": 77, \"attack\": 59, \"defense\": 50, \"sp_atk\": 67, \"sp_def\": 63, \"speed\": 46, \"total\": 239, \"generation\": 6, \"legendary\": 0, \"type\": \"Rock\"}, {\"num\": 699, \"name\": \"Aurorus\", \"hp\": 123, \"attack\": 77, \"defense\": 72, \"sp_atk\": 99, \"sp_def\": 92, \"speed\": 58, \"total\": 340, \"generation\": 6, \"legendary\": 0, \"type\": \"Rock\"}, {\"num\": 700, \"name\": \"Sylveon\", \"hp\": 95, \"attack\": 65, \"defense\": 65, \"sp_atk\": 110, \"sp_def\": 130, \"speed\": 60, \"total\": 370, \"generation\": 6, \"legendary\": 0, \"type\": \"Fairy\"}, {\"num\": 701, \"name\": \"Hawlucha\", \"hp\": 78, \"attack\": 92, \"defense\": 75, \"sp_atk\": 74, \"sp_def\": 63, \"speed\": 118, \"total\": 304, \"generation\": 6, \"legendary\": 0, \"type\": \"Fighting\"}, {\"num\": 702, \"name\": \"Dedenne\", \"hp\": 67, \"attack\": 58, \"defense\": 57, \"sp_atk\": 81, \"sp_def\": 67, \"speed\": 101, \"total\": 263, \"generation\": 6, \"legendary\": 0, \"type\": \"Electric\"}, {\"num\": 703, \"name\": \"Carbink\", \"hp\": 50, \"attack\": 50, \"defense\": 150, \"sp_atk\": 50, \"sp_def\": 150, \"speed\": 50, \"total\": 400, \"generation\": 6, \"legendary\": 0, \"type\": \"Rock\"}, {\"num\": 704, \"name\": \"Goomy\", \"hp\": 45, \"attack\": 50, \"defense\": 35, \"sp_atk\": 55, \"sp_def\": 75, \"speed\": 40, \"total\": 215, \"generation\": 6, \"legendary\": 0, \"type\": \"Dragon\"}, {\"num\": 705, \"name\": \"Sliggoo\", \"hp\": 68, \"attack\": 75, \"defense\": 53, \"sp_atk\": 83, \"sp_def\": 113, \"speed\": 60, \"total\": 324, \"generation\": 6, \"legendary\": 0, \"type\": \"Dragon\"}, {\"num\": 706, \"name\": \"Goodra\", \"hp\": 90, \"attack\": 100, \"defense\": 70, \"sp_atk\": 110, \"sp_def\": 150, \"speed\": 80, \"total\": 430, \"generation\": 6, \"legendary\": 0, \"type\": \"Dragon\"}, {\"num\": 707, \"name\": \"Klefki\", \"hp\": 57, \"attack\": 80, \"defense\": 91, \"sp_atk\": 80, \"sp_def\": 87, \"speed\": 75, \"total\": 338, \"generation\": 6, \"legendary\": 0, \"type\": \"Steel\"}, {\"num\": 708, \"name\": \"Phantump\", \"hp\": 43, \"attack\": 70, \"defense\": 48, \"sp_atk\": 50, \"sp_def\": 60, \"speed\": 38, \"total\": 228, \"generation\": 6, \"legendary\": 0, \"type\": \"Ghost\"}, {\"num\": 709, \"name\": \"Trevenant\", \"hp\": 85, \"attack\": 110, \"defense\": 76, \"sp_atk\": 65, \"sp_def\": 82, \"speed\": 56, \"total\": 333, \"generation\": 6, \"legendary\": 0, \"type\": \"Ghost\"}, {\"num\": 710, \"name\": \"PumpkabooAverage Size\", \"hp\": 49, \"attack\": 66, \"defense\": 70, \"sp_atk\": 44, \"sp_def\": 55, \"speed\": 51, \"total\": 235, \"generation\": 6, \"legendary\": 0, \"type\": \"Ghost\"}, {\"num\": 710, \"name\": \"PumpkabooSmall Size\", \"hp\": 44, \"attack\": 66, \"defense\": 70, \"sp_atk\": 44, \"sp_def\": 55, \"speed\": 56, \"total\": 235, \"generation\": 6, \"legendary\": 0, \"type\": \"Ghost\"}, {\"num\": 710, \"name\": \"PumpkabooLarge Size\", \"hp\": 54, \"attack\": 66, \"defense\": 70, \"sp_atk\": 44, \"sp_def\": 55, \"speed\": 46, \"total\": 235, \"generation\": 6, \"legendary\": 0, \"type\": \"Ghost\"}, {\"num\": 710, \"name\": \"PumpkabooSuper Size\", \"hp\": 59, \"attack\": 66, \"defense\": 70, \"sp_atk\": 44, \"sp_def\": 55, \"speed\": 41, \"total\": 235, \"generation\": 6, \"legendary\": 0, \"type\": \"Ghost\"}, {\"num\": 711, \"name\": \"GourgeistAverage Size\", \"hp\": 65, \"attack\": 90, \"defense\": 122, \"sp_atk\": 58, \"sp_def\": 75, \"speed\": 84, \"total\": 345, \"generation\": 6, \"legendary\": 0, \"type\": \"Ghost\"}, {\"num\": 711, \"name\": \"GourgeistSmall Size\", \"hp\": 55, \"attack\": 85, \"defense\": 122, \"sp_atk\": 58, \"sp_def\": 75, \"speed\": 99, \"total\": 340, \"generation\": 6, \"legendary\": 0, \"type\": \"Ghost\"}, {\"num\": 711, \"name\": \"GourgeistLarge Size\", \"hp\": 75, \"attack\": 95, \"defense\": 122, \"sp_atk\": 58, \"sp_def\": 75, \"speed\": 69, \"total\": 350, \"generation\": 6, \"legendary\": 0, \"type\": \"Ghost\"}, {\"num\": 711, \"name\": \"GourgeistSuper Size\", \"hp\": 85, \"attack\": 100, \"defense\": 122, \"sp_atk\": 58, \"sp_def\": 75, \"speed\": 54, \"total\": 355, \"generation\": 6, \"legendary\": 0, \"type\": \"Ghost\"}, {\"num\": 712, \"name\": \"Bergmite\", \"hp\": 55, \"attack\": 69, \"defense\": 85, \"sp_atk\": 32, \"sp_def\": 35, \"speed\": 28, \"total\": 221, \"generation\": 6, \"legendary\": 0, \"type\": \"Ice\"}, {\"num\": 713, \"name\": \"Avalugg\", \"hp\": 95, \"attack\": 117, \"defense\": 184, \"sp_atk\": 44, \"sp_def\": 46, \"speed\": 28, \"total\": 391, \"generation\": 6, \"legendary\": 0, \"type\": \"Ice\"}, {\"num\": 714, \"name\": \"Noibat\", \"hp\": 40, \"attack\": 30, \"defense\": 35, \"sp_atk\": 45, \"sp_def\": 40, \"speed\": 55, \"total\": 150, \"generation\": 6, \"legendary\": 0, \"type\": \"Flying\"}, {\"num\": 715, \"name\": \"Noivern\", \"hp\": 85, \"attack\": 70, \"defense\": 80, \"sp_atk\": 97, \"sp_def\": 80, \"speed\": 123, \"total\": 327, \"generation\": 6, \"legendary\": 0, \"type\": \"Flying\"}, {\"num\": 716, \"name\": \"Xerneas\", \"hp\": 126, \"attack\": 131, \"defense\": 95, \"sp_atk\": 131, \"sp_def\": 98, \"speed\": 99, \"total\": 455, \"generation\": 6, \"legendary\": 1, \"type\": \"Fairy\"}, {\"num\": 717, \"name\": \"Yveltal\", \"hp\": 126, \"attack\": 131, \"defense\": 95, \"sp_atk\": 131, \"sp_def\": 98, \"speed\": 99, \"total\": 455, \"generation\": 6, \"legendary\": 1, \"type\": \"Dark\"}, {\"num\": 718, \"name\": \"Zygarde50% Forme\", \"hp\": 108, \"attack\": 100, \"defense\": 121, \"sp_atk\": 81, \"sp_def\": 95, \"speed\": 95, \"total\": 397, \"generation\": 6, \"legendary\": 1, \"type\": \"Dragon\"}, {\"num\": 719, \"name\": \"Diancie\", \"hp\": 50, \"attack\": 100, \"defense\": 150, \"sp_atk\": 100, \"sp_def\": 150, \"speed\": 50, \"total\": 500, \"generation\": 6, \"legendary\": 1, \"type\": \"Rock\"}, {\"num\": 719, \"name\": \"DiancieMega Diancie\", \"hp\": 50, \"attack\": 160, \"defense\": 110, \"sp_atk\": 160, \"sp_def\": 110, \"speed\": 110, \"total\": 540, \"generation\": 6, \"legendary\": 1, \"type\": \"Rock\"}, {\"num\": 720, \"name\": \"HoopaHoopa Confined\", \"hp\": 80, \"attack\": 110, \"defense\": 60, \"sp_atk\": 150, \"sp_def\": 130, \"speed\": 70, \"total\": 450, \"generation\": 6, \"legendary\": 1, \"type\": \"Psychic\"}, {\"num\": 720, \"name\": \"HoopaHoopa Unbound\", \"hp\": 80, \"attack\": 160, \"defense\": 60, \"sp_atk\": 170, \"sp_def\": 130, \"speed\": 80, \"total\": 520, \"generation\": 6, \"legendary\": 1, \"type\": \"Psychic\"}, {\"num\": 721, \"name\": \"Volcanion\", \"hp\": 80, \"attack\": 110, \"defense\": 120, \"sp_atk\": 130, \"sp_def\": 90, \"speed\": 70, \"total\": 450, \"generation\": 6, \"legendary\": 1, \"type\": \"Fire\"}]}}, {\"mode\": \"vega-lite\"});\n",
       "</script>"
      ],
      "text/plain": [
       "alt.VConcatChart(...)"
      ]
     },
     "metadata": {},
     "output_type": "display_data"
    }
   ],
   "source": [
    "figure_dict = dict()\n",
    "for feature in feature_list :\n",
    "    figure_dict.update({feature : plot_histogram(pokemon, feature, target = 'legendary', maxbins = 50)})\n",
    "figure_panel = alt.vconcat(*figure_dict.values())\n",
    "display(figure_panel)"
   ]
  },
  {
   "cell_type": "code",
   "execution_count": 188,
   "metadata": {
    "deletable": false,
    "editable": false,
    "nbgrader": {
     "cell_type": "code",
     "checksum": "62b23c7ccaacb83317bad0d8699e1822",
     "grade": true,
     "grade_id": "cell-2af5a0a27251f86b",
     "locked": true,
     "points": 1,
     "schema_version": 3,
     "solution": false,
     "task": false
    }
   },
   "outputs": [
    {
     "data": {
      "text/plain": [
       "'Success'"
      ]
     },
     "execution_count": 188,
     "metadata": {},
     "output_type": "execute_result"
    }
   ],
   "source": [
    "t.test_3_3(plot_histogram,figure_panel,figure_dict)"
   ]
  },
  {
   "cell_type": "markdown",
   "metadata": {},
   "source": [
    "***Side Exploration***"
   ]
  },
  {
   "cell_type": "code",
   "execution_count": 189,
   "metadata": {},
   "outputs": [
    {
     "data": {
      "text/html": [
       "<div>\n",
       "<style scoped>\n",
       "    .dataframe tbody tr th:only-of-type {\n",
       "        vertical-align: middle;\n",
       "    }\n",
       "\n",
       "    .dataframe tbody tr th {\n",
       "        vertical-align: top;\n",
       "    }\n",
       "\n",
       "    .dataframe thead th {\n",
       "        text-align: right;\n",
       "    }\n",
       "</style>\n",
       "<table border=\"1\" class=\"dataframe\">\n",
       "  <thead>\n",
       "    <tr style=\"text-align: right;\">\n",
       "      <th></th>\n",
       "      <th>num</th>\n",
       "      <th>name</th>\n",
       "      <th>hp</th>\n",
       "      <th>attack</th>\n",
       "      <th>defense</th>\n",
       "      <th>sp_atk</th>\n",
       "      <th>sp_def</th>\n",
       "      <th>speed</th>\n",
       "      <th>total</th>\n",
       "      <th>generation</th>\n",
       "      <th>legendary</th>\n",
       "      <th>type</th>\n",
       "    </tr>\n",
       "  </thead>\n",
       "  <tbody>\n",
       "    <tr>\n",
       "      <th>156</th>\n",
       "      <td>144</td>\n",
       "      <td>Articuno</td>\n",
       "      <td>90</td>\n",
       "      <td>85</td>\n",
       "      <td>100</td>\n",
       "      <td>95</td>\n",
       "      <td>125</td>\n",
       "      <td>85</td>\n",
       "      <td>405</td>\n",
       "      <td>1</td>\n",
       "      <td>1</td>\n",
       "      <td>Ice</td>\n",
       "    </tr>\n",
       "    <tr>\n",
       "      <th>157</th>\n",
       "      <td>145</td>\n",
       "      <td>Zapdos</td>\n",
       "      <td>90</td>\n",
       "      <td>90</td>\n",
       "      <td>85</td>\n",
       "      <td>125</td>\n",
       "      <td>90</td>\n",
       "      <td>100</td>\n",
       "      <td>390</td>\n",
       "      <td>1</td>\n",
       "      <td>1</td>\n",
       "      <td>Electric</td>\n",
       "    </tr>\n",
       "    <tr>\n",
       "      <th>158</th>\n",
       "      <td>146</td>\n",
       "      <td>Moltres</td>\n",
       "      <td>90</td>\n",
       "      <td>100</td>\n",
       "      <td>90</td>\n",
       "      <td>125</td>\n",
       "      <td>85</td>\n",
       "      <td>90</td>\n",
       "      <td>400</td>\n",
       "      <td>1</td>\n",
       "      <td>1</td>\n",
       "      <td>Fire</td>\n",
       "    </tr>\n",
       "    <tr>\n",
       "      <th>162</th>\n",
       "      <td>150</td>\n",
       "      <td>Mewtwo</td>\n",
       "      <td>106</td>\n",
       "      <td>110</td>\n",
       "      <td>90</td>\n",
       "      <td>154</td>\n",
       "      <td>90</td>\n",
       "      <td>130</td>\n",
       "      <td>444</td>\n",
       "      <td>1</td>\n",
       "      <td>1</td>\n",
       "      <td>Psychic</td>\n",
       "    </tr>\n",
       "    <tr>\n",
       "      <th>163</th>\n",
       "      <td>150</td>\n",
       "      <td>MewtwoMega Mewtwo X</td>\n",
       "      <td>106</td>\n",
       "      <td>190</td>\n",
       "      <td>100</td>\n",
       "      <td>154</td>\n",
       "      <td>100</td>\n",
       "      <td>130</td>\n",
       "      <td>544</td>\n",
       "      <td>1</td>\n",
       "      <td>1</td>\n",
       "      <td>Psychic</td>\n",
       "    </tr>\n",
       "    <tr>\n",
       "      <th>...</th>\n",
       "      <td>...</td>\n",
       "      <td>...</td>\n",
       "      <td>...</td>\n",
       "      <td>...</td>\n",
       "      <td>...</td>\n",
       "      <td>...</td>\n",
       "      <td>...</td>\n",
       "      <td>...</td>\n",
       "      <td>...</td>\n",
       "      <td>...</td>\n",
       "      <td>...</td>\n",
       "      <td>...</td>\n",
       "    </tr>\n",
       "    <tr>\n",
       "      <th>795</th>\n",
       "      <td>719</td>\n",
       "      <td>Diancie</td>\n",
       "      <td>50</td>\n",
       "      <td>100</td>\n",
       "      <td>150</td>\n",
       "      <td>100</td>\n",
       "      <td>150</td>\n",
       "      <td>50</td>\n",
       "      <td>500</td>\n",
       "      <td>6</td>\n",
       "      <td>1</td>\n",
       "      <td>Rock</td>\n",
       "    </tr>\n",
       "    <tr>\n",
       "      <th>796</th>\n",
       "      <td>719</td>\n",
       "      <td>DiancieMega Diancie</td>\n",
       "      <td>50</td>\n",
       "      <td>160</td>\n",
       "      <td>110</td>\n",
       "      <td>160</td>\n",
       "      <td>110</td>\n",
       "      <td>110</td>\n",
       "      <td>540</td>\n",
       "      <td>6</td>\n",
       "      <td>1</td>\n",
       "      <td>Rock</td>\n",
       "    </tr>\n",
       "    <tr>\n",
       "      <th>797</th>\n",
       "      <td>720</td>\n",
       "      <td>HoopaHoopa Confined</td>\n",
       "      <td>80</td>\n",
       "      <td>110</td>\n",
       "      <td>60</td>\n",
       "      <td>150</td>\n",
       "      <td>130</td>\n",
       "      <td>70</td>\n",
       "      <td>450</td>\n",
       "      <td>6</td>\n",
       "      <td>1</td>\n",
       "      <td>Psychic</td>\n",
       "    </tr>\n",
       "    <tr>\n",
       "      <th>798</th>\n",
       "      <td>720</td>\n",
       "      <td>HoopaHoopa Unbound</td>\n",
       "      <td>80</td>\n",
       "      <td>160</td>\n",
       "      <td>60</td>\n",
       "      <td>170</td>\n",
       "      <td>130</td>\n",
       "      <td>80</td>\n",
       "      <td>520</td>\n",
       "      <td>6</td>\n",
       "      <td>1</td>\n",
       "      <td>Psychic</td>\n",
       "    </tr>\n",
       "    <tr>\n",
       "      <th>799</th>\n",
       "      <td>721</td>\n",
       "      <td>Volcanion</td>\n",
       "      <td>80</td>\n",
       "      <td>110</td>\n",
       "      <td>120</td>\n",
       "      <td>130</td>\n",
       "      <td>90</td>\n",
       "      <td>70</td>\n",
       "      <td>450</td>\n",
       "      <td>6</td>\n",
       "      <td>1</td>\n",
       "      <td>Fire</td>\n",
       "    </tr>\n",
       "  </tbody>\n",
       "</table>\n",
       "<p>65 rows × 12 columns</p>\n",
       "</div>"
      ],
      "text/plain": [
       "     num                 name   hp  attack  defense  sp_atk  sp_def  speed  \\\n",
       "156  144             Articuno   90      85      100      95     125     85   \n",
       "157  145               Zapdos   90      90       85     125      90    100   \n",
       "158  146              Moltres   90     100       90     125      85     90   \n",
       "162  150               Mewtwo  106     110       90     154      90    130   \n",
       "163  150  MewtwoMega Mewtwo X  106     190      100     154     100    130   \n",
       "..   ...                  ...  ...     ...      ...     ...     ...    ...   \n",
       "795  719              Diancie   50     100      150     100     150     50   \n",
       "796  719  DiancieMega Diancie   50     160      110     160     110    110   \n",
       "797  720  HoopaHoopa Confined   80     110       60     150     130     70   \n",
       "798  720   HoopaHoopa Unbound   80     160       60     170     130     80   \n",
       "799  721            Volcanion   80     110      120     130      90     70   \n",
       "\n",
       "     total  generation  legendary      type  \n",
       "156    405           1          1       Ice  \n",
       "157    390           1          1  Electric  \n",
       "158    400           1          1      Fire  \n",
       "162    444           1          1   Psychic  \n",
       "163    544           1          1   Psychic  \n",
       "..     ...         ...        ...       ...  \n",
       "795    500           6          1      Rock  \n",
       "796    540           6          1      Rock  \n",
       "797    450           6          1   Psychic  \n",
       "798    520           6          1   Psychic  \n",
       "799    450           6          1      Fire  \n",
       "\n",
       "[65 rows x 12 columns]"
      ]
     },
     "metadata": {},
     "output_type": "display_data"
    }
   ],
   "source": [
    "display(pokemon.query('legendary == 1'))"
   ]
  },
  {
   "cell_type": "code",
   "execution_count": 190,
   "metadata": {},
   "outputs": [
    {
     "data": {
      "text/html": [
       "<div>\n",
       "<style scoped>\n",
       "    .dataframe tbody tr th:only-of-type {\n",
       "        vertical-align: middle;\n",
       "    }\n",
       "\n",
       "    .dataframe tbody tr th {\n",
       "        vertical-align: top;\n",
       "    }\n",
       "\n",
       "    .dataframe thead th {\n",
       "        text-align: right;\n",
       "    }\n",
       "</style>\n",
       "<table border=\"1\" class=\"dataframe\">\n",
       "  <thead>\n",
       "    <tr style=\"text-align: right;\">\n",
       "      <th></th>\n",
       "      <th>legendary</th>\n",
       "      <th>num</th>\n",
       "      <th>name</th>\n",
       "      <th>hp</th>\n",
       "      <th>attack</th>\n",
       "      <th>defense</th>\n",
       "      <th>sp_atk</th>\n",
       "      <th>sp_def</th>\n",
       "      <th>speed</th>\n",
       "      <th>total</th>\n",
       "      <th>generation</th>\n",
       "      <th>type</th>\n",
       "    </tr>\n",
       "  </thead>\n",
       "  <tbody>\n",
       "    <tr>\n",
       "      <th>0</th>\n",
       "      <td>False</td>\n",
       "      <td>735</td>\n",
       "      <td>735</td>\n",
       "      <td>735</td>\n",
       "      <td>735</td>\n",
       "      <td>735</td>\n",
       "      <td>735</td>\n",
       "      <td>735</td>\n",
       "      <td>735</td>\n",
       "      <td>735</td>\n",
       "      <td>735</td>\n",
       "      <td>735</td>\n",
       "    </tr>\n",
       "    <tr>\n",
       "      <th>1</th>\n",
       "      <td>True</td>\n",
       "      <td>65</td>\n",
       "      <td>65</td>\n",
       "      <td>65</td>\n",
       "      <td>65</td>\n",
       "      <td>65</td>\n",
       "      <td>65</td>\n",
       "      <td>65</td>\n",
       "      <td>65</td>\n",
       "      <td>65</td>\n",
       "      <td>65</td>\n",
       "      <td>65</td>\n",
       "    </tr>\n",
       "  </tbody>\n",
       "</table>\n",
       "</div>"
      ],
      "text/plain": [
       "   legendary  num  name   hp  attack  defense  sp_atk  sp_def  speed  total  \\\n",
       "0      False  735   735  735     735      735     735     735    735    735   \n",
       "1       True   65    65   65      65       65      65      65     65     65   \n",
       "\n",
       "   generation  type  \n",
       "0         735   735  \n",
       "1          65    65  "
      ]
     },
     "metadata": {},
     "output_type": "display_data"
    }
   ],
   "source": [
    "chart_df = pokemon.copy() \n",
    "chart_df['legendary'] = chart_df['legendary'].astype('bool')\n",
    "chart_df = chart_df.groupby('legendary').count().reset_index()\n",
    "display(chart_df)"
   ]
  },
  {
   "cell_type": "code",
   "execution_count": 191,
   "metadata": {},
   "outputs": [
    {
     "name": "stderr",
     "output_type": "stream",
     "text": [
      "c:\\Users\\Muntakim\\AppData\\Local\\Programs\\Python\\Python310\\lib\\site-packages\\altair\\utils\\core.py:317: FutureWarning: iteritems is deprecated and will be removed in a future version. Use .items instead.\n",
      "  for col_name, dtype in df.dtypes.iteritems():\n"
     ]
    },
    {
     "data": {
      "text/html": [
       "\n",
       "<div id=\"altair-viz-333dd99fb02d4290aa43ff35b59fa402\"></div>\n",
       "<script type=\"text/javascript\">\n",
       "  var VEGA_DEBUG = (typeof VEGA_DEBUG == \"undefined\") ? {} : VEGA_DEBUG;\n",
       "  (function(spec, embedOpt){\n",
       "    let outputDiv = document.currentScript.previousElementSibling;\n",
       "    if (outputDiv.id !== \"altair-viz-333dd99fb02d4290aa43ff35b59fa402\") {\n",
       "      outputDiv = document.getElementById(\"altair-viz-333dd99fb02d4290aa43ff35b59fa402\");\n",
       "    }\n",
       "    const paths = {\n",
       "      \"vega\": \"https://cdn.jsdelivr.net/npm//vega@5?noext\",\n",
       "      \"vega-lib\": \"https://cdn.jsdelivr.net/npm//vega-lib?noext\",\n",
       "      \"vega-lite\": \"https://cdn.jsdelivr.net/npm//vega-lite@4.17.0?noext\",\n",
       "      \"vega-embed\": \"https://cdn.jsdelivr.net/npm//vega-embed@6?noext\",\n",
       "    };\n",
       "\n",
       "    function maybeLoadScript(lib, version) {\n",
       "      var key = `${lib.replace(\"-\", \"\")}_version`;\n",
       "      return (VEGA_DEBUG[key] == version) ?\n",
       "        Promise.resolve(paths[lib]) :\n",
       "        new Promise(function(resolve, reject) {\n",
       "          var s = document.createElement('script');\n",
       "          document.getElementsByTagName(\"head\")[0].appendChild(s);\n",
       "          s.async = true;\n",
       "          s.onload = () => {\n",
       "            VEGA_DEBUG[key] = version;\n",
       "            return resolve(paths[lib]);\n",
       "          };\n",
       "          s.onerror = () => reject(`Error loading script: ${paths[lib]}`);\n",
       "          s.src = paths[lib];\n",
       "        });\n",
       "    }\n",
       "\n",
       "    function showError(err) {\n",
       "      outputDiv.innerHTML = `<div class=\"error\" style=\"color:red;\">${err}</div>`;\n",
       "      throw err;\n",
       "    }\n",
       "\n",
       "    function displayChart(vegaEmbed) {\n",
       "      vegaEmbed(outputDiv, spec, embedOpt)\n",
       "        .catch(err => showError(`Javascript Error: ${err.message}<br>This usually means there's a typo in your chart specification. See the javascript console for the full traceback.`));\n",
       "    }\n",
       "\n",
       "    if(typeof define === \"function\" && define.amd) {\n",
       "      requirejs.config({paths});\n",
       "      require([\"vega-embed\"], displayChart, err => showError(`Error loading script: ${err.message}`));\n",
       "    } else {\n",
       "      maybeLoadScript(\"vega\", \"5\")\n",
       "        .then(() => maybeLoadScript(\"vega-lite\", \"4.17.0\"))\n",
       "        .then(() => maybeLoadScript(\"vega-embed\", \"6\"))\n",
       "        .catch(showError)\n",
       "        .then(() => displayChart(vegaEmbed));\n",
       "    }\n",
       "  })({\"config\": {\"view\": {\"continuousWidth\": 400, \"continuousHeight\": 300}}, \"data\": {\"name\": \"data-a91242fca95561ab4b952932418b6cdc\"}, \"mark\": \"arc\", \"encoding\": {\"color\": {\"field\": \"legendary\", \"legend\": {\"title\": \"isLegendary\"}, \"scale\": {\"domain\": [false, true], \"range\": [\"gray\", \"green\"]}, \"type\": \"nominal\"}, \"theta\": {\"field\": \"num\", \"stack\": true, \"type\": \"quantitative\"}}, \"title\": \"Legendary Statuses\", \"$schema\": \"https://vega.github.io/schema/vega-lite/v4.17.0.json\", \"datasets\": {\"data-a91242fca95561ab4b952932418b6cdc\": [{\"legendary\": false, \"num\": 735, \"name\": 735, \"hp\": 735, \"attack\": 735, \"defense\": 735, \"sp_atk\": 735, \"sp_def\": 735, \"speed\": 735, \"total\": 735, \"generation\": 735, \"type\": 735}, {\"legendary\": true, \"num\": 65, \"name\": 65, \"hp\": 65, \"attack\": 65, \"defense\": 65, \"sp_atk\": 65, \"sp_def\": 65, \"speed\": 65, \"total\": 65, \"generation\": 65, \"type\": 65}]}}, {\"mode\": \"vega-lite\"});\n",
       "</script>"
      ],
      "text/plain": [
       "alt.Chart(...)"
      ]
     },
     "metadata": {},
     "output_type": "display_data"
    }
   ],
   "source": [
    "legendary_chart = alt.Chart(chart_df).mark_arc().encode(\n",
    "    theta = alt.Theta(\"num:Q\", stack = True), \n",
    "    color = alt.Color(\n",
    "        'legendary:N', scale = alt.Scale(\n",
    "            domain = [False, True], \n",
    "            range = ['gray', 'green']\n",
    "        ), legend = alt.Legend(title = 'isLegendary')\n",
    "    )\n",
    ").properties(\n",
    "    title = \"Legendary Statuses\"\n",
    ")\n",
    "\n",
    "display(legendary_chart)"
   ]
  },
  {
   "cell_type": "markdown",
   "metadata": {},
   "source": [
    "**Question 3.4** \n",
    "<br> {points: 2}\n",
    "\n",
    "Which feature appears to be the most useful in differentiating the target classes?\n",
    "\n",
    "\n",
    "*Answer in the cell below by putting the feature name between `\"\"` and assign it to an object called `answer3_4`.*"
   ]
  },
  {
   "cell_type": "code",
   "execution_count": 192,
   "metadata": {
    "deletable": false,
    "nbgrader": {
     "cell_type": "code",
     "checksum": "43338a9ba8f0063fc703912226aecb36",
     "grade": false,
     "grade_id": "cell-3d33f2d26cb35d1c",
     "locked": false,
     "schema_version": 3,
     "solution": true,
     "task": false
    }
   },
   "outputs": [],
   "source": [
    "answer3_4 = 'total'"
   ]
  },
  {
   "cell_type": "code",
   "execution_count": 193,
   "metadata": {
    "deletable": false,
    "editable": false,
    "nbgrader": {
     "cell_type": "code",
     "checksum": "5ec8a5e065dfd8bd71d8c01d993ccc88",
     "grade": true,
     "grade_id": "cell-6fa7879b55024120",
     "locked": true,
     "points": 2,
     "schema_version": 3,
     "solution": false,
     "task": false
    }
   },
   "outputs": [],
   "source": [
    "# check that the variable exists\n",
    "assert 'answer3_4' in globals(\n",
    "), \"Please make sure that your solution is named 'answer3_4'\"\n",
    "\n",
    "# This test has been intentionally hidden. It will be up to you to decide if your solution\n",
    "# is sufficiently good."
   ]
  },
  {
   "cell_type": "markdown",
   "metadata": {},
   "source": [
    "**Question 3.5** \n",
    "<br> {points: 1}\n",
    "\n",
    "Suppose for a particular feature, the histograms of that feature are identical for the two target classes. Does that mean the feature is not useful for predicting the target class?\n",
    "\n",
    "A) If the histograms are identical then there is no way differentiate each target value and so the feature is not useful. \n",
    "\n",
    "B) If the histograms are identical then we only need to use that feature for predicting the target value.\n",
    "\n",
    "C) If the histograms are identical, the feature might still be useful because it may be predictive in conjunction with other features.\n",
    "\n",
    "D) If the histograms are identical, the feature might still be useful but only with other models.  \n",
    "\n",
    "\n",
    "*Answer in the cell below using the uppercase letter associated with your answer. Place your answer between `\"\"`, assign the correct answer to an object called `answer3_5`.*\n"
   ]
  },
  {
   "cell_type": "code",
   "execution_count": 194,
   "metadata": {
    "deletable": false,
    "nbgrader": {
     "cell_type": "code",
     "checksum": "365b420656384b8f16d4ea1fd6615934",
     "grade": false,
     "grade_id": "cell-b48cbd8184242f20",
     "locked": false,
     "schema_version": 3,
     "solution": true,
     "task": false
    }
   },
   "outputs": [],
   "source": [
    "answer3_5 = 'C'"
   ]
  },
  {
   "cell_type": "code",
   "execution_count": 195,
   "metadata": {
    "deletable": false,
    "editable": false,
    "nbgrader": {
     "cell_type": "code",
     "checksum": "b85e8279067ec33586ff5b17e8ef4d65",
     "grade": true,
     "grade_id": "cell-1f3265959c6bf456",
     "locked": true,
     "points": 1,
     "schema_version": 3,
     "solution": false,
     "task": false
    }
   },
   "outputs": [
    {
     "data": {
      "text/plain": [
       "'Success'"
      ]
     },
     "execution_count": 195,
     "metadata": {},
     "output_type": "execute_result"
    }
   ],
   "source": [
    "t.test_3_5(answer3_5)"
   ]
  },
  {
   "cell_type": "markdown",
   "metadata": {},
   "source": [
    "**Question 3.6** \n",
    "<br> {points: 1}\n",
    "\n",
    "Note that the dataset includes a categorical features labeled `type`. Do you think this feature could be useful in predicting whether the pokemon was legendary or not and would there be any difficulty in using it in our decision tree?\n",
    "\n",
    "A) Yes, it would be useful but adding categorical features into a model needs special attention.\n",
    "\n",
    "B) Yes, it would be useful and we shouldn't have any difficulty adding them into our model. \n",
    "\n",
    "C) No, We have enough features to predict with, the added `type` column would not add anything significant.\n",
    "\n",
    "D) No, and categorical features would need special attention to add to our model.\n",
    "\n",
    "\n",
    "*Answer in the cell below using the uppercase letter associated with your answer. Place your answer between `\"\"`, assign the correct answer to an object called `answer3_6`.*\n"
   ]
  },
  {
   "cell_type": "code",
   "execution_count": 196,
   "metadata": {
    "deletable": false,
    "nbgrader": {
     "cell_type": "code",
     "checksum": "08fb041e1f61fa1597b0ce3e60d7a40b",
     "grade": false,
     "grade_id": "cell-85fd53a022f51dd4",
     "locked": false,
     "schema_version": 3,
     "solution": true,
     "task": false
    }
   },
   "outputs": [],
   "source": [
    "answer3_6 = 'A'"
   ]
  },
  {
   "cell_type": "code",
   "execution_count": 197,
   "metadata": {
    "deletable": false,
    "editable": false,
    "nbgrader": {
     "cell_type": "code",
     "checksum": "8be70c1ea049413adb0e2865936c5ea8",
     "grade": true,
     "grade_id": "cell-f16d1e8638f8e8e3",
     "locked": true,
     "points": 1,
     "schema_version": 3,
     "solution": false,
     "task": false
    }
   },
   "outputs": [
    {
     "data": {
      "text/plain": [
       "'Success'"
      ]
     },
     "execution_count": 197,
     "metadata": {},
     "output_type": "execute_result"
    }
   ],
   "source": [
    "t.test_3_6(answer3_6)"
   ]
  },
  {
   "cell_type": "markdown",
   "metadata": {},
   "source": [
    "# 4. Hyperparameters"
   ]
  },
  {
   "cell_type": "markdown",
   "metadata": {},
   "source": [
    "**Question 4.1** \n",
    "<br> {points: 1}\n",
    "\n",
    "Create your $X$ and $y$ objects so that you X dataframe contains the columns: \n",
    "- `hp`\n",
    "- `attack`\n",
    "- `defense`\n",
    "- `sp_atk`\n",
    "- `sp_def`\n",
    "- `speed`\n",
    "- `total`\n",
    "- `generation`\n",
    "\n",
    "and your $y$ dataframe is the `legendary` column.\n",
    "\n",
    "*Save each in the respective object names `X` and `y`* "
   ]
  },
  {
   "cell_type": "code",
   "execution_count": 198,
   "metadata": {
    "deletable": false,
    "nbgrader": {
     "cell_type": "code",
     "checksum": "044fa336c70f94ab3925bd6288a6eb60",
     "grade": false,
     "grade_id": "cell-45a7609572560222",
     "locked": false,
     "schema_version": 3,
     "solution": true,
     "task": false
    }
   },
   "outputs": [],
   "source": [
    "X = pokemon[['hp', 'attack', 'defense', 'sp_atk', 'sp_def', 'speed', 'total', 'generation']]\n",
    "y = pokemon['legendary']"
   ]
  },
  {
   "cell_type": "code",
   "execution_count": 199,
   "metadata": {
    "deletable": false,
    "editable": false,
    "nbgrader": {
     "cell_type": "code",
     "checksum": "eaa4bdf518f486df2054bc2968bf496d",
     "grade": true,
     "grade_id": "cell-3fa8141e49ac3579",
     "locked": true,
     "points": 1,
     "schema_version": 3,
     "solution": false,
     "task": false
    }
   },
   "outputs": [
    {
     "data": {
      "text/plain": [
       "'Success'"
      ]
     },
     "execution_count": 199,
     "metadata": {},
     "output_type": "execute_result"
    }
   ],
   "source": [
    "t.test_4_1(X,y)"
   ]
  },
  {
   "cell_type": "markdown",
   "metadata": {},
   "source": [
    "**Question 4.2** \n",
    "<br> {points: 3}\n",
    "\n",
    "In this exercise, you'll explore the `max_depth` hyperparameter within the range 1 to 15. See the [`DecisionTreeClassifier` documentation](https://scikit-learn.org/stable/modules/generated/sklearn.tree.DecisionTreeClassifier.html) for more details.\n",
    "\n",
    "To do so, you will need to make a for loop for each value between 1-15 that: \n",
    "- Creates a model named `pokemon_tree`.\n",
    "- Sets the `max_depth` hyperparameter to the value it's iterating on. \n",
    "- Sets the argument `random_state=8`. \n",
    "- Fits each model on X and y.\n",
    "- Appends the model's score to the list depth_accuracy..\n",
    "\n"
   ]
  },
  {
   "cell_type": "code",
   "execution_count": 200,
   "metadata": {},
   "outputs": [
    {
     "data": {
      "text/plain": [
       "[0.91875,\n",
       " 0.95,\n",
       " 0.95,\n",
       " 0.96125,\n",
       " 0.98,\n",
       " 0.98875,\n",
       " 0.99125,\n",
       " 0.995,\n",
       " 0.995,\n",
       " 0.995,\n",
       " 0.99625,\n",
       " 0.9975,\n",
       " 0.99875,\n",
       " 0.99875,\n",
       " 0.99875]"
      ]
     },
     "metadata": {},
     "output_type": "display_data"
    }
   ],
   "source": [
    "depth_accuracy = [DecisionTreeClassifier(random_state = 8, max_depth = i).fit(X, y).score(X, y) for i in range(1, 15 + 1)]\n",
    "display(depth_accuracy)"
   ]
  },
  {
   "cell_type": "code",
   "execution_count": 201,
   "metadata": {
    "deletable": false,
    "editable": false,
    "nbgrader": {
     "cell_type": "code",
     "checksum": "168fb2994d426e88d2d6fb664bdf8658",
     "grade": true,
     "grade_id": "cell-6283fe60af1dab79",
     "locked": true,
     "points": 3,
     "schema_version": 3,
     "solution": false,
     "task": false
    }
   },
   "outputs": [
    {
     "data": {
      "text/plain": [
       "'Success'"
      ]
     },
     "execution_count": 201,
     "metadata": {},
     "output_type": "execute_result"
    }
   ],
   "source": [
    "t.test_4_2(depth_accuracy)"
   ]
  },
  {
   "cell_type": "markdown",
   "metadata": {},
   "source": [
    "**Question 4.3** <br>\n",
    "{points: 3} <br> \n",
    "\n",
    "Make a dataframe that contains the tree depth and scores and name it `depth_scores_df`\n",
    "\n",
    "It should look something like this:\n",
    "\n",
    "|    | max_depth      |   accuracy |\n",
    "|---:|:--------------|-----------:|\n",
    "|  0 | 1    |       # |\n",
    "|  1 | 2 |       # |\n",
    "|  2 | 3       |       # |\n",
    "| ...| ...|...|\n",
    "| 14 |15|#|\n"
   ]
  },
  {
   "cell_type": "code",
   "execution_count": 202,
   "metadata": {
    "deletable": false,
    "nbgrader": {
     "cell_type": "code",
     "checksum": "a8a37b596e726e9ced2c264b391413eb",
     "grade": false,
     "grade_id": "cell-8c8afdbb26186293",
     "locked": false,
     "schema_version": 3,
     "solution": true,
     "task": false
    }
   },
   "outputs": [
    {
     "data": {
      "text/html": [
       "<div>\n",
       "<style scoped>\n",
       "    .dataframe tbody tr th:only-of-type {\n",
       "        vertical-align: middle;\n",
       "    }\n",
       "\n",
       "    .dataframe tbody tr th {\n",
       "        vertical-align: top;\n",
       "    }\n",
       "\n",
       "    .dataframe thead th {\n",
       "        text-align: right;\n",
       "    }\n",
       "</style>\n",
       "<table border=\"1\" class=\"dataframe\">\n",
       "  <thead>\n",
       "    <tr style=\"text-align: right;\">\n",
       "      <th></th>\n",
       "      <th>max_depth</th>\n",
       "      <th>accuracy</th>\n",
       "    </tr>\n",
       "  </thead>\n",
       "  <tbody>\n",
       "    <tr>\n",
       "      <th>0</th>\n",
       "      <td>1</td>\n",
       "      <td>0.91875</td>\n",
       "    </tr>\n",
       "    <tr>\n",
       "      <th>1</th>\n",
       "      <td>2</td>\n",
       "      <td>0.95000</td>\n",
       "    </tr>\n",
       "    <tr>\n",
       "      <th>2</th>\n",
       "      <td>3</td>\n",
       "      <td>0.95000</td>\n",
       "    </tr>\n",
       "    <tr>\n",
       "      <th>3</th>\n",
       "      <td>4</td>\n",
       "      <td>0.96125</td>\n",
       "    </tr>\n",
       "    <tr>\n",
       "      <th>4</th>\n",
       "      <td>5</td>\n",
       "      <td>0.98000</td>\n",
       "    </tr>\n",
       "    <tr>\n",
       "      <th>5</th>\n",
       "      <td>6</td>\n",
       "      <td>0.98875</td>\n",
       "    </tr>\n",
       "    <tr>\n",
       "      <th>6</th>\n",
       "      <td>7</td>\n",
       "      <td>0.99125</td>\n",
       "    </tr>\n",
       "    <tr>\n",
       "      <th>7</th>\n",
       "      <td>8</td>\n",
       "      <td>0.99500</td>\n",
       "    </tr>\n",
       "    <tr>\n",
       "      <th>8</th>\n",
       "      <td>9</td>\n",
       "      <td>0.99500</td>\n",
       "    </tr>\n",
       "    <tr>\n",
       "      <th>9</th>\n",
       "      <td>10</td>\n",
       "      <td>0.99500</td>\n",
       "    </tr>\n",
       "    <tr>\n",
       "      <th>10</th>\n",
       "      <td>11</td>\n",
       "      <td>0.99625</td>\n",
       "    </tr>\n",
       "    <tr>\n",
       "      <th>11</th>\n",
       "      <td>12</td>\n",
       "      <td>0.99750</td>\n",
       "    </tr>\n",
       "    <tr>\n",
       "      <th>12</th>\n",
       "      <td>13</td>\n",
       "      <td>0.99875</td>\n",
       "    </tr>\n",
       "    <tr>\n",
       "      <th>13</th>\n",
       "      <td>14</td>\n",
       "      <td>0.99875</td>\n",
       "    </tr>\n",
       "    <tr>\n",
       "      <th>14</th>\n",
       "      <td>15</td>\n",
       "      <td>0.99875</td>\n",
       "    </tr>\n",
       "  </tbody>\n",
       "</table>\n",
       "</div>"
      ],
      "text/plain": [
       "    max_depth  accuracy\n",
       "0           1   0.91875\n",
       "1           2   0.95000\n",
       "2           3   0.95000\n",
       "3           4   0.96125\n",
       "4           5   0.98000\n",
       "5           6   0.98875\n",
       "6           7   0.99125\n",
       "7           8   0.99500\n",
       "8           9   0.99500\n",
       "9          10   0.99500\n",
       "10         11   0.99625\n",
       "11         12   0.99750\n",
       "12         13   0.99875\n",
       "13         14   0.99875\n",
       "14         15   0.99875"
      ]
     },
     "metadata": {},
     "output_type": "display_data"
    }
   ],
   "source": [
    "depth_scores_df = pd.DataFrame({'max_depth' : range(1, 15 + 1), 'accuracy' : depth_accuracy})\n",
    "display(depth_scores_df)"
   ]
  },
  {
   "cell_type": "code",
   "execution_count": 203,
   "metadata": {
    "deletable": false,
    "editable": false,
    "nbgrader": {
     "cell_type": "code",
     "checksum": "16118a295eba5e8428c3a1b1bb5e0e55",
     "grade": true,
     "grade_id": "cell-5a53c6de3f6dbf9c",
     "locked": true,
     "points": 3,
     "schema_version": 3,
     "solution": false,
     "task": false
    }
   },
   "outputs": [
    {
     "data": {
      "text/plain": [
       "'Success'"
      ]
     },
     "execution_count": 203,
     "metadata": {},
     "output_type": "execute_result"
    }
   ],
   "source": [
    "t.test_4_3(depth_scores_df)"
   ]
  },
  {
   "cell_type": "markdown",
   "metadata": {},
   "source": [
    "**Question 4.4** <br>\n",
    " {points: 1} <br>\n",
    " \n",
    "Using altair, make a `mark_line()` plot which displays the depth of the decision tree on the *x*-axis and the `depth_accuracy` on the *y*-axis.\n",
    "Make sure it has the dimensions `width=500, height=300`. Don't forget to give it a title and the plot `depth_acc_plot`\n"
   ]
  },
  {
   "cell_type": "code",
   "execution_count": 204,
   "metadata": {},
   "outputs": [
    {
     "name": "stdout",
     "output_type": "stream",
     "text": [
      "\u001b[1;31mInit signature:\u001b[0m\n",
      "\u001b[0malt\u001b[0m\u001b[1;33m.\u001b[0m\u001b[0mScale\u001b[0m\u001b[1;33m(\u001b[0m\u001b[1;33m\n",
      "\u001b[0m    \u001b[0malign\u001b[0m\u001b[1;33m=\u001b[0m\u001b[0mUndefined\u001b[0m\u001b[1;33m,\u001b[0m\u001b[1;33m\n",
      "\u001b[0m    \u001b[0mbase\u001b[0m\u001b[1;33m=\u001b[0m\u001b[0mUndefined\u001b[0m\u001b[1;33m,\u001b[0m\u001b[1;33m\n",
      "\u001b[0m    \u001b[0mbins\u001b[0m\u001b[1;33m=\u001b[0m\u001b[0mUndefined\u001b[0m\u001b[1;33m,\u001b[0m\u001b[1;33m\n",
      "\u001b[0m    \u001b[0mclamp\u001b[0m\u001b[1;33m=\u001b[0m\u001b[0mUndefined\u001b[0m\u001b[1;33m,\u001b[0m\u001b[1;33m\n",
      "\u001b[0m    \u001b[0mconstant\u001b[0m\u001b[1;33m=\u001b[0m\u001b[0mUndefined\u001b[0m\u001b[1;33m,\u001b[0m\u001b[1;33m\n",
      "\u001b[0m    \u001b[0mdomain\u001b[0m\u001b[1;33m=\u001b[0m\u001b[0mUndefined\u001b[0m\u001b[1;33m,\u001b[0m\u001b[1;33m\n",
      "\u001b[0m    \u001b[0mdomainMax\u001b[0m\u001b[1;33m=\u001b[0m\u001b[0mUndefined\u001b[0m\u001b[1;33m,\u001b[0m\u001b[1;33m\n",
      "\u001b[0m    \u001b[0mdomainMid\u001b[0m\u001b[1;33m=\u001b[0m\u001b[0mUndefined\u001b[0m\u001b[1;33m,\u001b[0m\u001b[1;33m\n",
      "\u001b[0m    \u001b[0mdomainMin\u001b[0m\u001b[1;33m=\u001b[0m\u001b[0mUndefined\u001b[0m\u001b[1;33m,\u001b[0m\u001b[1;33m\n",
      "\u001b[0m    \u001b[0mexponent\u001b[0m\u001b[1;33m=\u001b[0m\u001b[0mUndefined\u001b[0m\u001b[1;33m,\u001b[0m\u001b[1;33m\n",
      "\u001b[0m    \u001b[0minterpolate\u001b[0m\u001b[1;33m=\u001b[0m\u001b[0mUndefined\u001b[0m\u001b[1;33m,\u001b[0m\u001b[1;33m\n",
      "\u001b[0m    \u001b[0mnice\u001b[0m\u001b[1;33m=\u001b[0m\u001b[0mUndefined\u001b[0m\u001b[1;33m,\u001b[0m\u001b[1;33m\n",
      "\u001b[0m    \u001b[0mpadding\u001b[0m\u001b[1;33m=\u001b[0m\u001b[0mUndefined\u001b[0m\u001b[1;33m,\u001b[0m\u001b[1;33m\n",
      "\u001b[0m    \u001b[0mpaddingInner\u001b[0m\u001b[1;33m=\u001b[0m\u001b[0mUndefined\u001b[0m\u001b[1;33m,\u001b[0m\u001b[1;33m\n",
      "\u001b[0m    \u001b[0mpaddingOuter\u001b[0m\u001b[1;33m=\u001b[0m\u001b[0mUndefined\u001b[0m\u001b[1;33m,\u001b[0m\u001b[1;33m\n",
      "\u001b[0m    \u001b[0mrange\u001b[0m\u001b[1;33m=\u001b[0m\u001b[0mUndefined\u001b[0m\u001b[1;33m,\u001b[0m\u001b[1;33m\n",
      "\u001b[0m    \u001b[0mrangeMax\u001b[0m\u001b[1;33m=\u001b[0m\u001b[0mUndefined\u001b[0m\u001b[1;33m,\u001b[0m\u001b[1;33m\n",
      "\u001b[0m    \u001b[0mrangeMin\u001b[0m\u001b[1;33m=\u001b[0m\u001b[0mUndefined\u001b[0m\u001b[1;33m,\u001b[0m\u001b[1;33m\n",
      "\u001b[0m    \u001b[0mreverse\u001b[0m\u001b[1;33m=\u001b[0m\u001b[0mUndefined\u001b[0m\u001b[1;33m,\u001b[0m\u001b[1;33m\n",
      "\u001b[0m    \u001b[0mround\u001b[0m\u001b[1;33m=\u001b[0m\u001b[0mUndefined\u001b[0m\u001b[1;33m,\u001b[0m\u001b[1;33m\n",
      "\u001b[0m    \u001b[0mscheme\u001b[0m\u001b[1;33m=\u001b[0m\u001b[0mUndefined\u001b[0m\u001b[1;33m,\u001b[0m\u001b[1;33m\n",
      "\u001b[0m    \u001b[0mtype\u001b[0m\u001b[1;33m=\u001b[0m\u001b[0mUndefined\u001b[0m\u001b[1;33m,\u001b[0m\u001b[1;33m\n",
      "\u001b[0m    \u001b[0mzero\u001b[0m\u001b[1;33m=\u001b[0m\u001b[0mUndefined\u001b[0m\u001b[1;33m,\u001b[0m\u001b[1;33m\n",
      "\u001b[0m    \u001b[1;33m**\u001b[0m\u001b[0mkwds\u001b[0m\u001b[1;33m,\u001b[0m\u001b[1;33m\n",
      "\u001b[0m\u001b[1;33m)\u001b[0m\u001b[1;33m\u001b[0m\u001b[1;33m\u001b[0m\u001b[0m\n",
      "\u001b[1;31mDocstring:\u001b[0m     \n",
      "Scale schema wrapper\n",
      "\n",
      "Mapping(required=[])\n",
      "\n",
      "Attributes\n",
      "----------\n",
      "\n",
      "align : anyOf(float, :class:`ExprRef`)\n",
      "    The alignment of the steps within the scale range.\n",
      "\n",
      "    This value must lie in the range ``[0,1]``. A value of ``0.5`` indicates that the\n",
      "    steps should be centered within the range. A value of ``0`` or ``1`` may be used to\n",
      "    shift the bands to one side, say to position them adjacent to an axis.\n",
      "\n",
      "    **Default value:** ``0.5``\n",
      "base : anyOf(float, :class:`ExprRef`)\n",
      "    The logarithm base of the ``log`` scale (default ``10`` ).\n",
      "bins : :class:`ScaleBins`\n",
      "    Bin boundaries can be provided to scales as either an explicit array of bin\n",
      "    boundaries or as a bin specification object. The legal values are: - An `array\n",
      "    <../types/#Array>`__ literal of bin boundary values. For example, ``[0, 5, 10, 15,\n",
      "    20]``. The array must include both starting and ending boundaries. The previous\n",
      "    example uses five values to indicate a total of four bin intervals: [0-5), [5-10),\n",
      "    [10-15), [15-20]. Array literals may include signal references as elements. - A `bin\n",
      "    specification object <https://vega.github.io/vega-lite/docs/scale.html#bins>`__ that\n",
      "    indicates the bin *step* size, and optionally the *start* and *stop* boundaries. -\n",
      "    An array of bin boundaries over the scale domain. If provided, axes and legends will\n",
      "    use the bin boundaries to inform the choice of tick marks and text labels.\n",
      "clamp : anyOf(boolean, :class:`ExprRef`)\n",
      "    If ``true``, values that exceed the data domain are clamped to either the minimum or\n",
      "    maximum range value\n",
      "\n",
      "    **Default value:** derived from the `scale config\n",
      "    <https://vega.github.io/vega-lite/docs/config.html#scale-config>`__ 's ``clamp`` (\n",
      "    ``true`` by default).\n",
      "constant : anyOf(float, :class:`ExprRef`)\n",
      "    A constant determining the slope of the symlog function around zero. Only used for\n",
      "    ``symlog`` scales.\n",
      "\n",
      "    **Default value:** ``1``\n",
      "domain : anyOf(List(anyOf(None, string, float, boolean, :class:`DateTime`,\n",
      ":class:`ExprRef`)), string, :class:`SelectionExtent`, :class:`DomainUnionWith`,\n",
      ":class:`ExprRef`)\n",
      "    Customized domain values in the form of constant values or dynamic values driven by\n",
      "    a selection.\n",
      "\n",
      "    1) Constant ``domain`` for *quantitative* fields can take one of the following\n",
      "    forms:\n",
      "\n",
      "\n",
      "    * A two-element array with minimum and maximum values. To create a diverging scale,\n",
      "      this two-element array can be combined with the ``domainMid`` property. - An array\n",
      "      with more than two entries, for `Piecewise quantitative scales\n",
      "      <https://vega.github.io/vega-lite/docs/scale.html#piecewise>`__. - A string value\n",
      "      ``\"unaggregated\"``, if the input field is aggregated, to indicate that the domain\n",
      "      should include the raw data values prior to the aggregation.\n",
      "\n",
      "    2) Constant ``domain`` for *temporal* fields can be a two-element array with minimum\n",
      "    and maximum values, in the form of either timestamps or the `DateTime definition\n",
      "    objects <https://vega.github.io/vega-lite/docs/types.html#datetime>`__.\n",
      "\n",
      "    3) Constant ``domain`` for *ordinal* and *nominal* fields can be an array that lists\n",
      "    valid input values.\n",
      "\n",
      "    4) To combine (union) specified constant domain with the field's values, ``domain``\n",
      "    can be an object with a ``unionWith`` property that specify constant domain to be\n",
      "    combined. For example, ``domain: {unionWith: [0, 100]}`` for a quantitative scale\n",
      "    means that the scale domain always includes ``[0, 100]``, but will include other\n",
      "    values in the fields beyond ``[0, 100]``.\n",
      "\n",
      "    5) Domain can also takes an object defining a field or encoding of a selection that\n",
      "    `interactively determines\n",
      "    <https://vega.github.io/vega-lite/docs/selection.html#scale-domains>`__ the scale\n",
      "    domain.\n",
      "domainMax : anyOf(float, :class:`DateTime`, :class:`ExprRef`)\n",
      "    Sets the maximum value in the scale domain, overriding the ``domain`` property. This\n",
      "    property is only intended for use with scales having continuous domains.\n",
      "domainMid : anyOf(float, :class:`ExprRef`)\n",
      "    Inserts a single mid-point value into a two-element domain. The mid-point value must\n",
      "    lie between the domain minimum and maximum values. This property can be useful for\n",
      "    setting a midpoint for `diverging color scales\n",
      "    <https://vega.github.io/vega-lite/docs/scale.html#piecewise>`__. The domainMid\n",
      "    property is only intended for use with scales supporting continuous, piecewise\n",
      "    domains.\n",
      "domainMin : anyOf(float, :class:`DateTime`, :class:`ExprRef`)\n",
      "    Sets the minimum value in the scale domain, overriding the domain property. This\n",
      "    property is only intended for use with scales having continuous domains.\n",
      "exponent : anyOf(float, :class:`ExprRef`)\n",
      "    The exponent of the ``pow`` scale.\n",
      "interpolate : anyOf(:class:`ScaleInterpolateEnum`, :class:`ExprRef`,\n",
      ":class:`ScaleInterpolateParams`)\n",
      "    The interpolation method for range values. By default, a general interpolator for\n",
      "    numbers, dates, strings and colors (in HCL space) is used. For color ranges, this\n",
      "    property allows interpolation in alternative color spaces. Legal values include\n",
      "    ``rgb``, ``hsl``, ``hsl-long``, ``lab``, ``hcl``, ``hcl-long``, ``cubehelix`` and\n",
      "    ``cubehelix-long`` ('-long' variants use longer paths in polar coordinate spaces).\n",
      "    If object-valued, this property accepts an object with a string-valued *type*\n",
      "    property and an optional numeric *gamma* property applicable to rgb and cubehelix\n",
      "    interpolators. For more, see the `d3-interpolate documentation\n",
      "    <https://github.com/d3/d3-interpolate>`__.\n",
      "\n",
      "\n",
      "    * **Default value:** ``hcl``\n",
      "nice : anyOf(boolean, float, :class:`TimeInterval`, :class:`TimeIntervalStep`,\n",
      ":class:`ExprRef`)\n",
      "    Extending the domain so that it starts and ends on nice round values. This method\n",
      "    typically modifies the scale’s domain, and may only extend the bounds to the nearest\n",
      "    round value. Nicing is useful if the domain is computed from data and may be\n",
      "    irregular. For example, for a domain of *[0.201479…, 0.996679…]*, a nice domain\n",
      "    might be *[0.2, 1.0]*.\n",
      "\n",
      "    For quantitative scales such as linear, ``nice`` can be either a boolean flag or a\n",
      "    number. If ``nice`` is a number, it will represent a desired tick count. This allows\n",
      "    greater control over the step size used to extend the bounds, guaranteeing that the\n",
      "    returned ticks will exactly cover the domain.\n",
      "\n",
      "    For temporal fields with time and utc scales, the ``nice`` value can be a string\n",
      "    indicating the desired time interval. Legal values are ``\"millisecond\"``,\n",
      "    ``\"second\"``, ``\"minute\"``, ``\"hour\"``, ``\"day\"``, ``\"week\"``, ``\"month\"``, and\n",
      "    ``\"year\"``. Alternatively, ``time`` and ``utc`` scales can accept an object-valued\n",
      "    interval specifier of the form ``{\"interval\": \"month\", \"step\": 3}``, which includes\n",
      "    a desired number of interval steps. Here, the domain would snap to quarter (Jan,\n",
      "    Apr, Jul, Oct) boundaries.\n",
      "\n",
      "    **Default value:** ``true`` for unbinned *quantitative* fields; ``false`` otherwise.\n",
      "padding : anyOf(float, :class:`ExprRef`)\n",
      "    For * `continuous <https://vega.github.io/vega-lite/docs/scale.html#continuous>`__ *\n",
      "    scales, expands the scale domain to accommodate the specified number of pixels on\n",
      "    each of the scale range. The scale range must represent pixels for this parameter to\n",
      "    function as intended. Padding adjustment is performed prior to all other\n",
      "    adjustments, including the effects of the  ``zero``,  ``nice``,  ``domainMin``, and\n",
      "    ``domainMax``  properties.\n",
      "\n",
      "    For * `band <https://vega.github.io/vega-lite/docs/scale.html#band>`__ * scales,\n",
      "    shortcut for setting ``paddingInner`` and ``paddingOuter`` to the same value.\n",
      "\n",
      "    For * `point <https://vega.github.io/vega-lite/docs/scale.html#point>`__ * scales,\n",
      "    alias for ``paddingOuter``.\n",
      "\n",
      "    **Default value:** For *continuous* scales, derived from the `scale config\n",
      "    <https://vega.github.io/vega-lite/docs/scale.html#config>`__ 's\n",
      "    ``continuousPadding``. For *band and point* scales, see ``paddingInner`` and\n",
      "    ``paddingOuter``. By default, Vega-Lite sets padding such that *width/height =\n",
      "    number of unique values * step*.\n",
      "paddingInner : anyOf(float, :class:`ExprRef`)\n",
      "    The inner padding (spacing) within each band step of band scales, as a fraction of\n",
      "    the step size. This value must lie in the range [0,1].\n",
      "\n",
      "    For point scale, this property is invalid as point scales do not have internal band\n",
      "    widths (only step sizes between bands).\n",
      "\n",
      "    **Default value:** derived from the `scale config\n",
      "    <https://vega.github.io/vega-lite/docs/scale.html#config>`__ 's\n",
      "    ``bandPaddingInner``.\n",
      "paddingOuter : anyOf(float, :class:`ExprRef`)\n",
      "    The outer padding (spacing) at the ends of the range of band and point scales, as a\n",
      "    fraction of the step size. This value must lie in the range [0,1].\n",
      "\n",
      "    **Default value:** derived from the `scale config\n",
      "    <https://vega.github.io/vega-lite/docs/scale.html#config>`__ 's ``bandPaddingOuter``\n",
      "    for band scales and ``pointPadding`` for point scales. By default, Vega-Lite sets\n",
      "    outer padding such that *width/height = number of unique values * step*.\n",
      "range : anyOf(:class:`RangeEnum`, List(anyOf(float, string, List(float), :class:`ExprRef`)),\n",
      "Mapping(required=[field]))\n",
      "    The range of the scale. One of:\n",
      "\n",
      "\n",
      "    A string indicating a `pre-defined named scale range\n",
      "    <https://vega.github.io/vega-lite/docs/scale.html#range-config>`__ (e.g., example,\n",
      "    ``\"symbol\"``, or ``\"diverging\"`` ).\n",
      "\n",
      "    For `continuous scales\n",
      "    <https://vega.github.io/vega-lite/docs/scale.html#continuous>`__, two-element array\n",
      "    indicating  minimum and maximum values, or an array with more than two entries for\n",
      "    specifying a `piecewise scale\n",
      "    <https://vega.github.io/vega-lite/docs/scale.html#piecewise>`__.\n",
      "\n",
      "    For `discrete <https://vega.github.io/vega-lite/docs/scale.html#discrete>`__ and\n",
      "    `discretizing <https://vega.github.io/vega-lite/docs/scale.html#discretizing>`__\n",
      "    scales, an array of desired output values or an object with a ``field`` property\n",
      "    representing the range values.  For example, if a field ``color`` contains CSS color\n",
      "    names, we can set ``range`` to ``{field: \"color\"}``.\n",
      "\n",
      "    **Notes:**\n",
      "\n",
      "    1) For color scales you can also specify a color `scheme\n",
      "    <https://vega.github.io/vega-lite/docs/scale.html#scheme>`__ instead of ``range``.\n",
      "\n",
      "    2) Any directly specified ``range`` for ``x`` and ``y`` channels will be ignored.\n",
      "    Range can be customized via the view's corresponding `size\n",
      "    <https://vega.github.io/vega-lite/docs/size.html>`__ ( ``width`` and ``height`` ).\n",
      "rangeMax : anyOf(float, string, :class:`ExprRef`)\n",
      "    Sets the maximum value in the scale range, overriding the ``range`` property or the\n",
      "    default range. This property is only intended for use with scales having continuous\n",
      "    ranges.\n",
      "rangeMin : anyOf(float, string, :class:`ExprRef`)\n",
      "    Sets the minimum value in the scale range, overriding the ``range`` property or the\n",
      "    default range. This property is only intended for use with scales having continuous\n",
      "    ranges.\n",
      "reverse : anyOf(boolean, :class:`ExprRef`)\n",
      "    If true, reverses the order of the scale range. **Default value:** ``false``.\n",
      "round : anyOf(boolean, :class:`ExprRef`)\n",
      "    If ``true``, rounds numeric output values to integers. This can be helpful for\n",
      "    snapping to the pixel grid.\n",
      "\n",
      "    **Default value:** ``false``.\n",
      "scheme : anyOf(string, :class:`SchemeParams`, :class:`ExprRef`)\n",
      "    A string indicating a color `scheme\n",
      "    <https://vega.github.io/vega-lite/docs/scale.html#scheme>`__ name (e.g.,\n",
      "    ``\"category10\"`` or ``\"blues\"`` ) or a `scheme parameter object\n",
      "    <https://vega.github.io/vega-lite/docs/scale.html#scheme-params>`__.\n",
      "\n",
      "    Discrete color schemes may be used with `discrete\n",
      "    <https://vega.github.io/vega-lite/docs/scale.html#discrete>`__ or `discretizing\n",
      "    <https://vega.github.io/vega-lite/docs/scale.html#discretizing>`__ scales.\n",
      "    Continuous color schemes are intended for use with color scales.\n",
      "\n",
      "    For the full list of supported schemes, please refer to the `Vega Scheme\n",
      "    <https://vega.github.io/vega/docs/schemes/#reference>`__ reference.\n",
      "type : :class:`ScaleType`\n",
      "    The type of scale. Vega-Lite supports the following categories of scale types:\n",
      "\n",
      "    1) `Continuous Scales\n",
      "    <https://vega.github.io/vega-lite/docs/scale.html#continuous>`__ -- mapping\n",
      "    continuous domains to continuous output ranges ( `\"linear\"\n",
      "    <https://vega.github.io/vega-lite/docs/scale.html#linear>`__, `\"pow\"\n",
      "    <https://vega.github.io/vega-lite/docs/scale.html#pow>`__, `\"sqrt\"\n",
      "    <https://vega.github.io/vega-lite/docs/scale.html#sqrt>`__, `\"symlog\"\n",
      "    <https://vega.github.io/vega-lite/docs/scale.html#symlog>`__, `\"log\"\n",
      "    <https://vega.github.io/vega-lite/docs/scale.html#log>`__, `\"time\"\n",
      "    <https://vega.github.io/vega-lite/docs/scale.html#time>`__, `\"utc\"\n",
      "    <https://vega.github.io/vega-lite/docs/scale.html#utc>`__.\n",
      "\n",
      "    2) `Discrete Scales <https://vega.github.io/vega-lite/docs/scale.html#discrete>`__\n",
      "    -- mapping discrete domains to discrete ( `\"ordinal\"\n",
      "    <https://vega.github.io/vega-lite/docs/scale.html#ordinal>`__ ) or continuous (\n",
      "    `\"band\" <https://vega.github.io/vega-lite/docs/scale.html#band>`__ and `\"point\"\n",
      "    <https://vega.github.io/vega-lite/docs/scale.html#point>`__ ) output ranges.\n",
      "\n",
      "    3) `Discretizing Scales\n",
      "    <https://vega.github.io/vega-lite/docs/scale.html#discretizing>`__ -- mapping\n",
      "    continuous domains to discrete output ranges `\"bin-ordinal\"\n",
      "    <https://vega.github.io/vega-lite/docs/scale.html#bin-ordinal>`__, `\"quantile\"\n",
      "    <https://vega.github.io/vega-lite/docs/scale.html#quantile>`__, `\"quantize\"\n",
      "    <https://vega.github.io/vega-lite/docs/scale.html#quantize>`__ and `\"threshold\"\n",
      "    <https://vega.github.io/vega-lite/docs/scale.html#threshold>`__.\n",
      "\n",
      "    **Default value:** please see the `scale type table\n",
      "    <https://vega.github.io/vega-lite/docs/scale.html#type>`__.\n",
      "zero : anyOf(boolean, :class:`ExprRef`)\n",
      "    If ``true``, ensures that a zero baseline value is included in the scale domain.\n",
      "\n",
      "    **Default value:** ``true`` for x and y channels if the quantitative field is not\n",
      "    binned and no custom ``domain`` is provided; ``false`` otherwise.\n",
      "\n",
      "    **Note:** Log, time, and utc scales do not support ``zero``.\n",
      "\u001b[1;31mFile:\u001b[0m           c:\\users\\muntakim\\appdata\\local\\programs\\python\\python310\\lib\\site-packages\\altair\\vegalite\\v4\\schema\\core.py\n",
      "\u001b[1;31mType:\u001b[0m           type\n",
      "\u001b[1;31mSubclasses:\u001b[0m     \n"
     ]
    }
   ],
   "source": [
    "?alt.Scale"
   ]
  },
  {
   "cell_type": "code",
   "execution_count": 205,
   "metadata": {
    "deletable": false,
    "nbgrader": {
     "cell_type": "code",
     "checksum": "8edd376e3ea321f3829c7cb36a0d6524",
     "grade": false,
     "grade_id": "cell-78fc242b565e53ce",
     "locked": false,
     "schema_version": 3,
     "solution": true,
     "task": false
    }
   },
   "outputs": [
    {
     "name": "stderr",
     "output_type": "stream",
     "text": [
      "c:\\Users\\Muntakim\\AppData\\Local\\Programs\\Python\\Python310\\lib\\site-packages\\altair\\utils\\core.py:317: FutureWarning: iteritems is deprecated and will be removed in a future version. Use .items instead.\n",
      "  for col_name, dtype in df.dtypes.iteritems():\n"
     ]
    },
    {
     "data": {
      "text/html": [
       "\n",
       "<div id=\"altair-viz-afa4da06674947b7bfcd78fb1a297186\"></div>\n",
       "<script type=\"text/javascript\">\n",
       "  var VEGA_DEBUG = (typeof VEGA_DEBUG == \"undefined\") ? {} : VEGA_DEBUG;\n",
       "  (function(spec, embedOpt){\n",
       "    let outputDiv = document.currentScript.previousElementSibling;\n",
       "    if (outputDiv.id !== \"altair-viz-afa4da06674947b7bfcd78fb1a297186\") {\n",
       "      outputDiv = document.getElementById(\"altair-viz-afa4da06674947b7bfcd78fb1a297186\");\n",
       "    }\n",
       "    const paths = {\n",
       "      \"vega\": \"https://cdn.jsdelivr.net/npm//vega@5?noext\",\n",
       "      \"vega-lib\": \"https://cdn.jsdelivr.net/npm//vega-lib?noext\",\n",
       "      \"vega-lite\": \"https://cdn.jsdelivr.net/npm//vega-lite@4.17.0?noext\",\n",
       "      \"vega-embed\": \"https://cdn.jsdelivr.net/npm//vega-embed@6?noext\",\n",
       "    };\n",
       "\n",
       "    function maybeLoadScript(lib, version) {\n",
       "      var key = `${lib.replace(\"-\", \"\")}_version`;\n",
       "      return (VEGA_DEBUG[key] == version) ?\n",
       "        Promise.resolve(paths[lib]) :\n",
       "        new Promise(function(resolve, reject) {\n",
       "          var s = document.createElement('script');\n",
       "          document.getElementsByTagName(\"head\")[0].appendChild(s);\n",
       "          s.async = true;\n",
       "          s.onload = () => {\n",
       "            VEGA_DEBUG[key] = version;\n",
       "            return resolve(paths[lib]);\n",
       "          };\n",
       "          s.onerror = () => reject(`Error loading script: ${paths[lib]}`);\n",
       "          s.src = paths[lib];\n",
       "        });\n",
       "    }\n",
       "\n",
       "    function showError(err) {\n",
       "      outputDiv.innerHTML = `<div class=\"error\" style=\"color:red;\">${err}</div>`;\n",
       "      throw err;\n",
       "    }\n",
       "\n",
       "    function displayChart(vegaEmbed) {\n",
       "      vegaEmbed(outputDiv, spec, embedOpt)\n",
       "        .catch(err => showError(`Javascript Error: ${err.message}<br>This usually means there's a typo in your chart specification. See the javascript console for the full traceback.`));\n",
       "    }\n",
       "\n",
       "    if(typeof define === \"function\" && define.amd) {\n",
       "      requirejs.config({paths});\n",
       "      require([\"vega-embed\"], displayChart, err => showError(`Error loading script: ${err.message}`));\n",
       "    } else {\n",
       "      maybeLoadScript(\"vega\", \"5\")\n",
       "        .then(() => maybeLoadScript(\"vega-lite\", \"4.17.0\"))\n",
       "        .then(() => maybeLoadScript(\"vega-embed\", \"6\"))\n",
       "        .catch(showError)\n",
       "        .then(() => displayChart(vegaEmbed));\n",
       "    }\n",
       "  })({\"config\": {\"view\": {\"continuousWidth\": 400, \"continuousHeight\": 300}}, \"data\": {\"name\": \"data-ac6755c418106516feaf35019eeeb497\"}, \"mark\": \"line\", \"encoding\": {\"x\": {\"field\": \"max_depth\", \"title\": \"Max Depth\", \"type\": \"quantitative\"}, \"y\": {\"field\": \"accuracy\", \"scale\": {\"zero\": false}, \"title\": \"Depth Accuracy\", \"type\": \"quantitative\"}}, \"height\": 300, \"title\": \"Accuracy by Max Depth\", \"width\": 500, \"$schema\": \"https://vega.github.io/schema/vega-lite/v4.17.0.json\", \"datasets\": {\"data-ac6755c418106516feaf35019eeeb497\": [{\"max_depth\": 1, \"accuracy\": 0.91875}, {\"max_depth\": 2, \"accuracy\": 0.95}, {\"max_depth\": 3, \"accuracy\": 0.95}, {\"max_depth\": 4, \"accuracy\": 0.96125}, {\"max_depth\": 5, \"accuracy\": 0.98}, {\"max_depth\": 6, \"accuracy\": 0.98875}, {\"max_depth\": 7, \"accuracy\": 0.99125}, {\"max_depth\": 8, \"accuracy\": 0.995}, {\"max_depth\": 9, \"accuracy\": 0.995}, {\"max_depth\": 10, \"accuracy\": 0.995}, {\"max_depth\": 11, \"accuracy\": 0.99625}, {\"max_depth\": 12, \"accuracy\": 0.9975}, {\"max_depth\": 13, \"accuracy\": 0.99875}, {\"max_depth\": 14, \"accuracy\": 0.99875}, {\"max_depth\": 15, \"accuracy\": 0.99875}]}}, {\"mode\": \"vega-lite\"});\n",
       "</script>"
      ],
      "text/plain": [
       "alt.Chart(...)"
      ]
     },
     "metadata": {},
     "output_type": "display_data"
    }
   ],
   "source": [
    "depth_acc_plot = alt.Chart(depth_scores_df).mark_line().encode(\n",
    "    x = alt.X('max_depth:Q', title = 'Max Depth'),\n",
    "    y = alt.Y('accuracy:Q', title = 'Depth Accuracy', scale = alt.Scale(zero = False))\n",
    ").properties(\n",
    "    width = 500,\n",
    "    height = 300,\n",
    "    title = 'Accuracy by Max Depth'\n",
    ")\n",
    "\n",
    "display(depth_acc_plot)"
   ]
  },
  {
   "cell_type": "code",
   "execution_count": 206,
   "metadata": {
    "deletable": false,
    "editable": false,
    "nbgrader": {
     "cell_type": "code",
     "checksum": "57ee3727e42d045e7ea18ec70ca8bb0f",
     "grade": true,
     "grade_id": "cell-372019731f861393",
     "locked": true,
     "points": 1,
     "schema_version": 3,
     "solution": false,
     "task": false
    }
   },
   "outputs": [
    {
     "data": {
      "text/plain": [
       "'Success'"
      ]
     },
     "execution_count": 206,
     "metadata": {},
     "output_type": "execute_result"
    }
   ],
   "source": [
    "t.test_4_4(depth_acc_plot)"
   ]
  },
  {
   "cell_type": "markdown",
   "metadata": {},
   "source": [
    "# 5 Decision Tree Regressor"
   ]
  },
  {
   "cell_type": "markdown",
   "metadata": {},
   "source": [
    "Let's use the real estate data set that we saw in Assignment 1 and see if we can improve our $R^2$ from last time. \n",
    "\n",
    "For this question we are using a dataset obtained from [The UCI Machine Learning Repository](https://archive.ics.uci.edu/ml/datasets/Real+estate+valuation+data+set) that contains the market historical data of real estate valuation collected from Sindian District, New Taipei City in Taiwan.\n",
    "\n",
    "The columns in the dataset can be explained as follows: \n",
    "\n",
    "- `date`: the transaction date (for example, 2013.250=2013 March, 2013.500=2013 June, etc.)\n",
    "- `house_age`: the house age (unit: year)\n",
    "- `distance_station`: the distance to the nearest Mass Rapid Transit (MRT) station (unit: meter)\n",
    "- `num_stores`: the number of convenience stores in the living circle on foot (integer)(a ***living circle*** is a residential space with similar local characteristics, and daily behaviors)\n",
    "- `latitude`: the geographic coordinate, latitude. (unit: degree)\n",
    "- `longitude`: the geographic coordinate, longitude. (unit: degree)\n",
    "- `price`: house price per unit area (10000 New Taiwan Dollar/Ping,where Ping is a local unit of area, 1 Ping = 3.3 meter squared)\n"
   ]
  },
  {
   "cell_type": "code",
   "execution_count": 207,
   "metadata": {},
   "outputs": [
    {
     "data": {
      "text/html": [
       "<div>\n",
       "<style scoped>\n",
       "    .dataframe tbody tr th:only-of-type {\n",
       "        vertical-align: middle;\n",
       "    }\n",
       "\n",
       "    .dataframe tbody tr th {\n",
       "        vertical-align: top;\n",
       "    }\n",
       "\n",
       "    .dataframe thead th {\n",
       "        text-align: right;\n",
       "    }\n",
       "</style>\n",
       "<table border=\"1\" class=\"dataframe\">\n",
       "  <thead>\n",
       "    <tr style=\"text-align: right;\">\n",
       "      <th></th>\n",
       "      <th>house_age</th>\n",
       "      <th>distance_station</th>\n",
       "      <th>num_stores</th>\n",
       "      <th>latitude</th>\n",
       "      <th>longitude</th>\n",
       "      <th>price</th>\n",
       "    </tr>\n",
       "  </thead>\n",
       "  <tbody>\n",
       "    <tr>\n",
       "      <th>0</th>\n",
       "      <td>32.0</td>\n",
       "      <td>84.87882</td>\n",
       "      <td>10</td>\n",
       "      <td>24.98298</td>\n",
       "      <td>121.54024</td>\n",
       "      <td>37.9</td>\n",
       "    </tr>\n",
       "    <tr>\n",
       "      <th>1</th>\n",
       "      <td>19.5</td>\n",
       "      <td>306.59470</td>\n",
       "      <td>9</td>\n",
       "      <td>24.98034</td>\n",
       "      <td>121.53951</td>\n",
       "      <td>42.2</td>\n",
       "    </tr>\n",
       "    <tr>\n",
       "      <th>2</th>\n",
       "      <td>13.3</td>\n",
       "      <td>561.98450</td>\n",
       "      <td>5</td>\n",
       "      <td>24.98746</td>\n",
       "      <td>121.54391</td>\n",
       "      <td>47.3</td>\n",
       "    </tr>\n",
       "    <tr>\n",
       "      <th>3</th>\n",
       "      <td>13.3</td>\n",
       "      <td>561.98450</td>\n",
       "      <td>5</td>\n",
       "      <td>24.98746</td>\n",
       "      <td>121.54391</td>\n",
       "      <td>54.8</td>\n",
       "    </tr>\n",
       "    <tr>\n",
       "      <th>4</th>\n",
       "      <td>5.0</td>\n",
       "      <td>390.56840</td>\n",
       "      <td>5</td>\n",
       "      <td>24.97937</td>\n",
       "      <td>121.54245</td>\n",
       "      <td>43.1</td>\n",
       "    </tr>\n",
       "  </tbody>\n",
       "</table>\n",
       "</div>"
      ],
      "text/plain": [
       "   house_age  distance_station  num_stores  latitude  longitude  price\n",
       "0       32.0          84.87882          10  24.98298  121.54024   37.9\n",
       "1       19.5         306.59470           9  24.98034  121.53951   42.2\n",
       "2       13.3         561.98450           5  24.98746  121.54391   47.3\n",
       "3       13.3         561.98450           5  24.98746  121.54391   54.8\n",
       "4        5.0         390.56840           5  24.97937  121.54245   43.1"
      ]
     },
     "metadata": {},
     "output_type": "display_data"
    }
   ],
   "source": [
    "housing_df = pd.read_csv('data/real_estate.csv')\n",
    "display(housing_df.head())"
   ]
  },
  {
   "cell_type": "markdown",
   "metadata": {},
   "source": [
    "**Question 5.1** \n",
    "<br> {points: 1}\n",
    "\n",
    "Create your $X$ and $y$ objects.   \n",
    "For the `X` dataframe make sure that you are not including `price`. Since our `y` (target) is the `price` column.        \n",
    "\n",
    "*Save each in the respective object names `X` and `y`* "
   ]
  },
  {
   "cell_type": "code",
   "execution_count": 208,
   "metadata": {
    "deletable": false,
    "nbgrader": {
     "cell_type": "code",
     "checksum": "f10c91510b7fd8a3ded726f8cbe4b9e6",
     "grade": false,
     "grade_id": "cell-02dcf742239390fd",
     "locked": false,
     "schema_version": 3,
     "solution": true,
     "task": false
    }
   },
   "outputs": [],
   "source": [
    "X = housing_df.drop(columns = ['price'])\n",
    "y = housing_df['price']"
   ]
  },
  {
   "cell_type": "code",
   "execution_count": 209,
   "metadata": {
    "deletable": false,
    "editable": false,
    "nbgrader": {
     "cell_type": "code",
     "checksum": "26036fa54be8e5f677f1096c8687087f",
     "grade": true,
     "grade_id": "cell-a44e3702c7bb8014",
     "locked": true,
     "points": 1,
     "schema_version": 3,
     "solution": false,
     "task": false
    }
   },
   "outputs": [
    {
     "data": {
      "text/plain": [
       "'Success'"
      ]
     },
     "execution_count": 209,
     "metadata": {},
     "output_type": "execute_result"
    }
   ],
   "source": [
    "t.test_5_1(X,y)"
   ]
  },
  {
   "cell_type": "markdown",
   "metadata": {},
   "source": [
    "**Question 5.2** \n",
    "<br> {points: 1}\n",
    "\n",
    "Build a Decision tree Regressor named `tree_reg`. Make sure to import DecisionTreeRegressor from  the sklearn.tree library. \n",
    "Train it on the variables `X` and `y` that we made in question 5.1. Save the score in a variable named `tree_score`. "
   ]
  },
  {
   "cell_type": "code",
   "execution_count": 210,
   "metadata": {},
   "outputs": [],
   "source": [
    "from sklearn.tree import DecisionTreeRegressor"
   ]
  },
  {
   "cell_type": "code",
   "execution_count": 211,
   "metadata": {
    "deletable": false,
    "nbgrader": {
     "cell_type": "code",
     "checksum": "aecf21b04194fc5b2650a5b0ff661a3e",
     "grade": false,
     "grade_id": "cell-2f6c9462cbd447dc",
     "locked": false,
     "schema_version": 3,
     "solution": true,
     "task": false
    }
   },
   "outputs": [
    {
     "data": {
      "text/plain": [
       "0.9893300488110535"
      ]
     },
     "metadata": {},
     "output_type": "display_data"
    }
   ],
   "source": [
    "tree_reg = DecisionTreeRegressor(random_state = 1)\n",
    "tree_reg.fit(X, y)\n",
    "tree_score = tree_reg.score(X, y)\n",
    "\n",
    "display(tree_score)"
   ]
  },
  {
   "cell_type": "code",
   "execution_count": 212,
   "metadata": {
    "deletable": false,
    "editable": false,
    "nbgrader": {
     "cell_type": "code",
     "checksum": "54b0d74a1195c700bb04b3799f757d52",
     "grade": true,
     "grade_id": "cell-d27128554c92c5f8",
     "locked": true,
     "points": 1,
     "schema_version": 3,
     "solution": false,
     "task": false
    }
   },
   "outputs": [
    {
     "data": {
      "text/plain": [
       "'Success'"
      ]
     },
     "execution_count": 212,
     "metadata": {},
     "output_type": "execute_result"
    }
   ],
   "source": [
    "t.test_5_2(tree_score)"
   ]
  },
  {
   "cell_type": "markdown",
   "metadata": {},
   "source": [
    "**Question 5.3** \n",
    "<br> {points: 2}\n",
    "\n",
    "Does the model do better than the Dummy Regressor we used in assignment 1? \n",
    "\n",
    "A) Both models Dummy Regressor and Decision Tree Regressor do about the same.\n",
    "\n",
    "B) Dummy Regressor does moderately better.\n",
    "\n",
    "C) Decision Tree Regressor does moderately better.\n",
    "\n",
    "D) Dummy Regressor does much better than the Decision Tree Regressor.\n",
    "\n",
    "E) Decision Tree Regressor does much better than the Dummy Regressor.\n",
    "\n",
    "\n",
    "\n",
    "*Answer in the cell below using the uppercase letter associated with your answer. Place your answer between `\"\"`, assign the correct answer to an object called `answer5_3`.*\n"
   ]
  },
  {
   "cell_type": "code",
   "execution_count": 213,
   "metadata": {
    "deletable": false,
    "nbgrader": {
     "cell_type": "code",
     "checksum": "e0683f31f8af84856ccb826efb2f15b4",
     "grade": false,
     "grade_id": "cell-6f58980f170cc823",
     "locked": false,
     "schema_version": 3,
     "solution": true,
     "task": false
    }
   },
   "outputs": [],
   "source": [
    "answer5_3 = 'E'"
   ]
  },
  {
   "cell_type": "code",
   "execution_count": 214,
   "metadata": {
    "deletable": false,
    "editable": false,
    "nbgrader": {
     "cell_type": "code",
     "checksum": "e717ff1e01a2b7f7ad5d310e69d0f8af",
     "grade": true,
     "grade_id": "cell-2a8b64d5335bdce1",
     "locked": true,
     "points": 2,
     "schema_version": 3,
     "solution": false,
     "task": false
    }
   },
   "outputs": [],
   "source": [
    "# check that the variable exists\n",
    "assert 'answer5_3' in globals(\n",
    "), \"Please make sure that your solution is named 'answer5_3'\"\n",
    "\n",
    "# This test has been intentionally hidden. It will be up to you to decide if your solution\n",
    "# is sufficiently good."
   ]
  },
  {
   "cell_type": "markdown",
   "metadata": {},
   "source": [
    "## Before Submitting \n",
    "\n",
    "Before submitting your assignment please do the following:\n",
    "\n",
    "- Read through your solutions\n",
    "- **Restart your kernel and clear output and rerun your cells from top to bottom** \n",
    "- Makes sure that none of your code is broken \n",
    "- Verify that the tests from the questions you answered have obtained the output \"Success\"\n",
    "\n",
    "This is a simple way to make sure that you are submitting all the variables needed to mark the assignment. This method should help avoid losing marks due to changes in your environment.  "
   ]
  },
  {
   "cell_type": "markdown",
   "metadata": {},
   "source": [
    "## Attributions\n",
    "- Fertitily Diagnosis Dataset: - [The UCI Machine Learning Repository](https://archive.ics.uci.edu/ml/datasets/Fertility)\n",
    "\n",
    "*David Gil, Jose Luis Girela, Joaquin De Juan, M. Jose Gomez-Torres, and\n",
    "Magnus Johnsson. Predicting seminal quality with artificial intelligence\n",
    "methods. Expert Systems with Applications, 39(16):12564 â€“ 12573, 2012*\n",
    "\n",
    "- Real Estate Dataset - [The UCI Machine Learning Repository](https://archive.ics.uci.edu/ml/datasets/Real+estate+valuation+data+set)\n",
    "\n",
    "*Yeh, I. C., & Hsu, T. K. (2018). Building real estate valuation models with comparative approach through case-based reasoning. Applied Soft Computing, 65, 260-271.*\n",
    "\n",
    "\n",
    "- MDS DSCI 571 - Supervised Learning I - [MDS's GitHub website](https://github.com/UBC-MDS/DSCI_571_sup-learn-1) \n"
   ]
  }
 ],
 "metadata": {
  "kernelspec": {
   "display_name": "Python 3.10.4 64-bit",
   "language": "python",
   "name": "python3"
  },
  "language_info": {
   "codemirror_mode": {
    "name": "ipython",
    "version": 3
   },
   "file_extension": ".py",
   "mimetype": "text/x-python",
   "name": "python",
   "nbconvert_exporter": "python",
   "pygments_lexer": "ipython3",
   "version": "3.10.4"
  },
  "vscode": {
   "interpreter": {
    "hash": "98e2f3d2dd73e88fe48fb6a6de651cd001c0152773ca91edda490fb6b3cd2dfa"
   }
  }
 },
 "nbformat": 4,
 "nbformat_minor": 2
}

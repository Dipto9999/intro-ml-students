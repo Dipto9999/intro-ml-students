{
 "cells": [
  {
   "cell_type": "markdown",
   "metadata": {},
   "source": [
    "## Introduction to Machine Learning  \n",
    "\n",
    "## Assignment 7: Assessment and Measurements"
   ]
  },
  {
   "cell_type": "markdown",
   "metadata": {},
   "source": [
    "You can't learn technical subjects without hands-on practice. The assignments are an important part of the course. To submit this assignment you will need to make sure that you save your Jupyter notebook. \n",
    "\n",
    "Below are the links of 2 videos that explain:\n",
    "\n",
    "1. [How to save your Jupyter notebook](https://youtu.be/0aoLgBoAUSA) and,       \n",
    "2. [How to answer a question in a Jupyter notebook assignment](https://youtu.be/7j0WKhI3W4s)."
   ]
  },
  {
   "cell_type": "markdown",
   "metadata": {},
   "source": [
    "### Assignment Learning Goals:\n",
    "\n",
    "By the end of the module, students are expected to:\n",
    "\n",
    "- Explain why accuracy is not always the best metric in ML.\n",
    "- Explain components of a confusion matrix.\n",
    "- Define precision, recall, and f1-score and use them to evaluate different classifiers.\n",
    "- Identify whether there is class imbalance and whether you need to deal with it.\n",
    "- Explain `class_weight` and use it to deal with data imbalance.\n",
    "- Appropriately select a scoring metric given a regression problem.\n",
    "- Interpret and communicate the meanings of different scoring metrics on regression problems. MSE, RMSE, $R^2$, MAPE.\n",
    "- Apply different scoring functions with `cross_validate` and `GridSearchCV` and `RandomizedSearchCV`.\n",
    "\n",
    "\n",
    "This assignment covers [Module 7](https://ml-learn.mds.ubc.ca/en/module7) of the online course. You should complete this module before attempting this assignment."
   ]
  },
  {
   "cell_type": "markdown",
   "metadata": {},
   "source": [
    "Any place you see `...`, you must fill in the function, variable, or data to complete the code. Substitute the `None` with your completed code and answers then proceed to run the cell!"
   ]
  },
  {
   "cell_type": "markdown",
   "metadata": {},
   "source": [
    "Note that some of the questions in this assignment will have hidden tests. This means that no feedback will be given as to the correctness of your solution. It will be left up to you to decide if your answer is sufficiently correct. These questions are worth 2 points."
   ]
  },
  {
   "cell_type": "code",
   "execution_count": 1,
   "metadata": {},
   "outputs": [
    {
     "data": {
      "text/plain": [
       "DataTransformerRegistry.enable('default')"
      ]
     },
     "execution_count": 1,
     "metadata": {},
     "output_type": "execute_result"
    }
   ],
   "source": [
    "# Import libraries needed for this lab\n",
    "from hashlib import sha1\n",
    "\n",
    "import altair as alt\n",
    "import graphviz\n",
    "import numpy as np\n",
    "import pandas as pd\n",
    "\n",
    "from sklearn import tree\n",
    "from sklearn.dummy import DummyClassifier\n",
    "from sklearn.tree import DecisionTreeClassifier\n",
    "from sklearn.model_selection import train_test_split, cross_validate\n",
    "from sklearn.neighbors import KNeighborsClassifier\n",
    "from sklearn.impute import SimpleImputer\n",
    "from sklearn.pipeline import Pipeline, make_pipeline\n",
    "from sklearn.compose import make_column_transformer \n",
    "from sklearn.model_selection import GridSearchCV, RandomizedSearchCV\n",
    "from sklearn.ensemble import RandomForestClassifier, RandomForestRegressor\n",
    "from sklearn.preprocessing import (\n",
    "    FunctionTransformer,\n",
    "    Normalizer,\n",
    "    OneHotEncoder,\n",
    "    StandardScaler,\n",
    "    normalize,\n",
    "    scale)\n",
    "from sklearn.metrics import make_scorer\n",
    "from sklearn.metrics import ConfusionMatrixDisplay, confusion_matrix, classification_report\n",
    "from sklearn.svm import SVC, SVR\n",
    "from sklearn import set_config\n",
    "\n",
    "import test_assignment7 as t\n",
    "#alt.renderers.enable('mimetype')\n",
    "alt.data_transformers.disable_max_rows()"
   ]
  },
  {
   "cell_type": "code",
   "execution_count": 2,
   "metadata": {},
   "outputs": [],
   "source": [
    "# Display Diagrams of Pipelines\n",
    "set_config(display = 'diagram')"
   ]
  },
  {
   "cell_type": "markdown",
   "metadata": {},
   "source": [
    "# 1. Precision, recall, and f1 score \"by hand\" (without `sklearn`)\n",
    "\n",
    "\n",
    "Consider the problem of predicting whether a patient has a disease or not. Below are confusion matrices of two machine learning models: Model A and Model B. \n",
    "\n",
    "##### Model A\n",
    "|    Actual/Predicted      | Predicted disease | Predicted no disease |\n",
    "| :------------- | -----------------------: | -----------------------: |\n",
    "| **Actual disease**       | 2 | 8 |\n",
    "| **Actual no disease**       | 0 | 100 |\n",
    "\n",
    "\n",
    "##### Model B\n",
    "|    Actual/Predicted      | Predicted disease | Predicted no disease |\n",
    "| :------------- | -----------------------: | -----------------------: |\n",
    "| **Actual disease**       | 6 | 4 |\n",
    "| **Actual no disease**       | 10 | 90 |"
   ]
  },
  {
   "cell_type": "markdown",
   "metadata": {},
   "source": [
    "**Question 1.1** <br> {points: 1}  \n",
    "\n",
    "Precision, recall, and f1 score depend crucially upon which class is considered \"positive\", that is the thing you wish to find. In the example above, which class is likely to be the \"positive\" class?\n",
    "\n",
    "Save the label name in a string object named `answer_1_1`."
   ]
  },
  {
   "cell_type": "code",
   "execution_count": 3,
   "metadata": {
    "deletable": false,
    "nbgrader": {
     "cell_type": "code",
     "checksum": "9eb12811100c161cf3c213fe35709f21",
     "grade": false,
     "grade_id": "cell-10bccd38560266fa",
     "locked": false,
     "schema_version": 3,
     "solution": true,
     "task": false
    }
   },
   "outputs": [],
   "source": [
    "answer_1_1 = 'Actual disease'"
   ]
  },
  {
   "cell_type": "code",
   "execution_count": 4,
   "metadata": {
    "deletable": false,
    "editable": false,
    "nbgrader": {
     "cell_type": "code",
     "checksum": "adbcee21c3dfdda7bdf609a0bba2836d",
     "grade": true,
     "grade_id": "cell-58c8cbee8ef77632",
     "locked": true,
     "points": 1,
     "schema_version": 3,
     "solution": false,
     "task": false
    }
   },
   "outputs": [
    {
     "data": {
      "text/plain": [
       "'Success'"
      ]
     },
     "execution_count": 4,
     "metadata": {},
     "output_type": "execute_result"
    }
   ],
   "source": [
    "t.test_1_1(answer_1_1)"
   ]
  },
  {
   "cell_type": "markdown",
   "metadata": {},
   "source": [
    "**Question 1.2** <br> {points: 3}  \n",
    "\n",
    "Calculate accuracies for Model A and Model B. \n",
    "\n",
    "Save the values of each calculations as a fraction in objects name `model_a_acc` and `model_b_acc` respectively. "
   ]
  },
  {
   "cell_type": "code",
   "execution_count": 5,
   "metadata": {},
   "outputs": [
    {
     "name": "stdout",
     "output_type": "stream",
     "text": [
      "The accuracy of model A is 0.9272727272727272.\n"
     ]
    }
   ],
   "source": [
    "TP_a, FN_a, FP_a, TN_a = 2, 8, 0, 100 \n",
    "\n",
    "model_a_acc = (TP_a + TN_a) / (TP_a + FP_a + TN_a + FN_a) \n",
    "\n",
    "print(f'The accuracy of model A is {model_a_acc}.')"
   ]
  },
  {
   "cell_type": "code",
   "execution_count": 6,
   "metadata": {
    "deletable": false,
    "nbgrader": {
     "cell_type": "code",
     "checksum": "f758987de44065f042166873d2d03e4a",
     "grade": false,
     "grade_id": "cell-da59f7cfdbd13642",
     "locked": false,
     "schema_version": 3,
     "solution": true,
     "task": false
    }
   },
   "outputs": [
    {
     "name": "stdout",
     "output_type": "stream",
     "text": [
      "The accuracy of model B is 0.8727272727272727.\n"
     ]
    }
   ],
   "source": [
    "TP_b, FN_b, FP_b, TN_b = 6, 4, 10, 90\n",
    "\n",
    "model_b_acc = (TP_b + TN_b) / (TP_b + FP_b + TN_b + FN_b)\n",
    "\n",
    "print(f'The accuracy of model B is {model_b_acc}.')"
   ]
  },
  {
   "cell_type": "code",
   "execution_count": 7,
   "metadata": {
    "deletable": false,
    "editable": false,
    "nbgrader": {
     "cell_type": "code",
     "checksum": "5da7b795c782fad3ecd1b4a46e86a3f1",
     "grade": true,
     "grade_id": "cell-112a1f1642f468fa",
     "locked": true,
     "points": 1,
     "schema_version": 3,
     "solution": false,
     "task": false
    }
   },
   "outputs": [
    {
     "data": {
      "text/plain": [
       "'Success'"
      ]
     },
     "execution_count": 7,
     "metadata": {},
     "output_type": "execute_result"
    }
   ],
   "source": [
    "t.test_1_2_1(model_a_acc)"
   ]
  },
  {
   "cell_type": "code",
   "execution_count": 8,
   "metadata": {
    "deletable": false,
    "editable": false,
    "nbgrader": {
     "cell_type": "code",
     "checksum": "5439fe795a81ef68b4669b3f249316dd",
     "grade": true,
     "grade_id": "cell-7adaec399eb35deb",
     "locked": true,
     "points": 2,
     "schema_version": 3,
     "solution": false,
     "task": false
    }
   },
   "outputs": [],
   "source": [
    "# check that the variable exists\n",
    "assert 'model_b_acc' in globals(\n",
    "), \"Please make sure that your solution is named 'model_b_acc'\"\n",
    "\n",
    "# This test has been intentionally hidden. It will be up to you to decide if your solution\n",
    "# is sufficiently good."
   ]
  },
  {
   "cell_type": "markdown",
   "metadata": {},
   "source": [
    "**Question 1.3** <br> {points: 1}  \n",
    "\n",
    "Which model would you pick simply based on the accuracy metric? \n",
    "\n",
    "Save either \"Model A\" or \"Model B\" in an object named `answer_1_3`."
   ]
  },
  {
   "cell_type": "code",
   "execution_count": 9,
   "metadata": {
    "deletable": false,
    "nbgrader": {
     "cell_type": "code",
     "checksum": "9df5766cefde9a9e9fa02bb2c9228a74",
     "grade": false,
     "grade_id": "cell-88e8a579efb8b86f",
     "locked": false,
     "schema_version": 3,
     "solution": true,
     "task": false
    }
   },
   "outputs": [],
   "source": [
    "answer_1_3 = 'Model A'"
   ]
  },
  {
   "cell_type": "code",
   "execution_count": 10,
   "metadata": {
    "deletable": false,
    "editable": false,
    "nbgrader": {
     "cell_type": "code",
     "checksum": "695f0efead049219fb2dcfc351bdb71a",
     "grade": true,
     "grade_id": "cell-6d1051aef2f7edba",
     "locked": true,
     "points": 1,
     "schema_version": 3,
     "solution": false,
     "task": false
    }
   },
   "outputs": [
    {
     "data": {
      "text/plain": [
       "'Success'"
      ]
     },
     "execution_count": 10,
     "metadata": {},
     "output_type": "execute_result"
    }
   ],
   "source": [
    "t.test_1_3(answer_1_3)"
   ]
  },
  {
   "cell_type": "markdown",
   "metadata": {},
   "source": [
    "**Question 1.4** <br> {points: 3}  \n",
    "\n",
    "Calculate precision, recall, f1-score for **Model A** by designating the appropriate fraction to objects named `a_precision`, `a_recall` and `a_f1`. \n",
    "\n",
    "You can use the objects `a_precision` and `a_recall` to use in your `a_f1` calculation."
   ]
  },
  {
   "cell_type": "code",
   "execution_count": 11,
   "metadata": {
    "deletable": false,
    "nbgrader": {
     "cell_type": "code",
     "checksum": "49c3b792195c18ca1862fac873a0ebbd",
     "grade": false,
     "grade_id": "cell-4f35b1710839f096",
     "locked": false,
     "schema_version": 3,
     "solution": true,
     "task": false
    }
   },
   "outputs": [
    {
     "name": "stdout",
     "output_type": "stream",
     "text": [
      "The precision of model A is 1.00.\n",
      "The recall of model A is 0.20.\n",
      "The F1 score of model A is 0.33.\n"
     ]
    }
   ],
   "source": [
    "a_precision = TP_a / (TP_a + FP_a) \n",
    "a_recall = TP_a / (TP_a + FN_a)\n",
    "a_f1 = 2 * (a_precision * a_recall) / (a_precision + a_recall)    \n",
    "\n",
    "print(f'The precision of model A is {a_precision :.2f}.')\n",
    "print(f'The recall of model A is {a_recall :.2f}.')\n",
    "print(f'The F1 score of model A is {a_f1 :.2f}.')"
   ]
  },
  {
   "cell_type": "code",
   "execution_count": 12,
   "metadata": {
    "deletable": false,
    "editable": false,
    "nbgrader": {
     "cell_type": "code",
     "checksum": "eb4920f56cf39a031adf747b2edb144d",
     "grade": true,
     "grade_id": "cell-ebc2c04c38d967f8",
     "locked": true,
     "points": 1,
     "schema_version": 3,
     "solution": false,
     "task": false
    }
   },
   "outputs": [
    {
     "data": {
      "text/plain": [
       "'Success'"
      ]
     },
     "execution_count": 12,
     "metadata": {},
     "output_type": "execute_result"
    }
   ],
   "source": [
    "t.test_1_4_1(a_precision)"
   ]
  },
  {
   "cell_type": "code",
   "execution_count": 13,
   "metadata": {
    "deletable": false,
    "editable": false,
    "nbgrader": {
     "cell_type": "code",
     "checksum": "e4a6fd12459d024e700bac427d0588bd",
     "grade": true,
     "grade_id": "cell-e6873091826ecbfe",
     "locked": true,
     "points": 1,
     "schema_version": 3,
     "solution": false,
     "task": false
    }
   },
   "outputs": [
    {
     "data": {
      "text/plain": [
       "'Success'"
      ]
     },
     "execution_count": 13,
     "metadata": {},
     "output_type": "execute_result"
    }
   ],
   "source": [
    "t.test_1_4_2(a_recall)"
   ]
  },
  {
   "cell_type": "code",
   "execution_count": 14,
   "metadata": {
    "deletable": false,
    "editable": false,
    "nbgrader": {
     "cell_type": "code",
     "checksum": "bf10040bc55dcb1d892339cacec1f878",
     "grade": true,
     "grade_id": "cell-22acb42332686294",
     "locked": true,
     "points": 1,
     "schema_version": 3,
     "solution": false,
     "task": false
    }
   },
   "outputs": [
    {
     "data": {
      "text/plain": [
       "'Success'"
      ]
     },
     "execution_count": 14,
     "metadata": {},
     "output_type": "execute_result"
    }
   ],
   "source": [
    "t.test_1_4_3(a_f1)"
   ]
  },
  {
   "cell_type": "markdown",
   "metadata": {},
   "source": [
    "**Question 1.5** <br> {points: 3}  \n",
    "\n",
    "Calculate precision, recall, f1-score for **Model B** by designating the appropriate fraction to objects named `b_precision`, `b_recall` and `b_f1`. \n",
    "\n",
    "You can use the objects `b_precision` and `b_recall` to use in your `b_f1` calculation."
   ]
  },
  {
   "cell_type": "code",
   "execution_count": 15,
   "metadata": {
    "deletable": false,
    "nbgrader": {
     "cell_type": "code",
     "checksum": "86355ab435db5480187ba8edc86054b0",
     "grade": false,
     "grade_id": "cell-1464d82d29d554be",
     "locked": false,
     "schema_version": 3,
     "solution": true,
     "task": false
    }
   },
   "outputs": [
    {
     "name": "stdout",
     "output_type": "stream",
     "text": [
      "The precision of model B is 0.38.\n",
      "The recall of model B is 0.60.\n",
      "The F1 score of model B is 0.46.\n"
     ]
    }
   ],
   "source": [
    "b_precision = TP_b / (TP_b + FP_b)\n",
    "b_recall = TP_b / (TP_b + FN_b)\n",
    "b_f1 = 2 * (b_precision * b_recall) / (b_precision + b_recall)\n",
    "\n",
    "print(f'The precision of model B is {b_precision :.2f}.')\n",
    "print(f'The recall of model B is {b_recall :.2f}.')\n",
    "print(f'The F1 score of model B is {b_f1 :.2f}.')"
   ]
  },
  {
   "cell_type": "code",
   "execution_count": 16,
   "metadata": {
    "deletable": false,
    "editable": false,
    "nbgrader": {
     "cell_type": "code",
     "checksum": "6a8846c7780c15cd0ba596718f2c0ce1",
     "grade": true,
     "grade_id": "cell-c41145a09c7bfc8b",
     "locked": true,
     "points": 1,
     "schema_version": 3,
     "solution": false,
     "task": false
    }
   },
   "outputs": [
    {
     "data": {
      "text/plain": [
       "'Success'"
      ]
     },
     "execution_count": 16,
     "metadata": {},
     "output_type": "execute_result"
    }
   ],
   "source": [
    "t.test_1_5_1(b_precision)"
   ]
  },
  {
   "cell_type": "code",
   "execution_count": 17,
   "metadata": {
    "deletable": false,
    "editable": false,
    "nbgrader": {
     "cell_type": "code",
     "checksum": "20a1bbdd0ae50247b9003023be15fa83",
     "grade": true,
     "grade_id": "cell-6564d4b3d12c0f51",
     "locked": true,
     "points": 1,
     "schema_version": 3,
     "solution": false,
     "task": false
    }
   },
   "outputs": [
    {
     "data": {
      "text/plain": [
       "'Success'"
      ]
     },
     "execution_count": 17,
     "metadata": {},
     "output_type": "execute_result"
    }
   ],
   "source": [
    "t.test_1_5_2(b_recall)"
   ]
  },
  {
   "cell_type": "code",
   "execution_count": 18,
   "metadata": {
    "deletable": false,
    "editable": false,
    "nbgrader": {
     "cell_type": "code",
     "checksum": "61278e395335b95ca3af119b70169b1b",
     "grade": true,
     "grade_id": "cell-a97d0ee2aa39b97c",
     "locked": true,
     "points": 1,
     "schema_version": 3,
     "solution": false,
     "task": false
    }
   },
   "outputs": [
    {
     "data": {
      "text/plain": [
       "'Success'"
      ]
     },
     "execution_count": 18,
     "metadata": {},
     "output_type": "execute_result"
    }
   ],
   "source": [
    "t.test_1_5_3(b_f1)"
   ]
  },
  {
   "cell_type": "markdown",
   "metadata": {},
   "source": [
    "**Question 1.6** <br> {points: 1}  \n",
    "\n",
    "Which metric is more informative in this case?\n",
    "\n",
    "i) Accuracy\n",
    "\n",
    "ii) Precision\n",
    "\n",
    "iii) Recall\n",
    "\n",
    "iv) f1\n",
    "\n",
    "\n",
    "\n",
    "Select all that apply and add them into a list named `answer_1_6`. \n",
    "For example if statement i and iv are both true, your solution will look like this: \n",
    "\n",
    "```\n",
    "answer_1_6 = [\"i\", \"iv\"] \n",
    "```\n"
   ]
  },
  {
   "cell_type": "code",
   "execution_count": 19,
   "metadata": {
    "deletable": false,
    "nbgrader": {
     "cell_type": "code",
     "checksum": "fb0b62c5b0974c0126f91063234f13bc",
     "grade": false,
     "grade_id": "cell-94a5d47d39c26a6e",
     "locked": false,
     "schema_version": 3,
     "solution": true,
     "task": false
    }
   },
   "outputs": [],
   "source": [
    "answer_1_6 = ['iii', 'iv']"
   ]
  },
  {
   "cell_type": "code",
   "execution_count": 20,
   "metadata": {
    "deletable": false,
    "editable": false,
    "nbgrader": {
     "cell_type": "code",
     "checksum": "02f02a17203cdb6875af1c4ba573b101",
     "grade": true,
     "grade_id": "cell-40689573c4b45ba7",
     "locked": true,
     "points": 1,
     "schema_version": 3,
     "solution": false,
     "task": false
    }
   },
   "outputs": [
    {
     "data": {
      "text/plain": [
       "'Success'"
      ]
     },
     "execution_count": 20,
     "metadata": {},
     "output_type": "execute_result"
    }
   ],
   "source": [
    "t.test_1_6(answer_1_6)"
   ]
  },
  {
   "cell_type": "markdown",
   "metadata": {},
   "source": [
    "**Question 1.7** <br> {points: 1}  \n",
    "\n",
    "Which model would you pick based on this information? \n",
    "\n",
    "Save either \"Model A\" or \"Model B\" in an object named `answer_1_7`."
   ]
  },
  {
   "cell_type": "code",
   "execution_count": 21,
   "metadata": {
    "deletable": false,
    "nbgrader": {
     "cell_type": "code",
     "checksum": "f0e1d55a4feedcd1b09a39cbc1b56428",
     "grade": false,
     "grade_id": "cell-4dd94c25673682b2",
     "locked": false,
     "schema_version": 3,
     "solution": true,
     "task": false
    }
   },
   "outputs": [],
   "source": [
    "answer_1_7 = 'Model B'"
   ]
  },
  {
   "cell_type": "code",
   "execution_count": 22,
   "metadata": {
    "deletable": false,
    "editable": false,
    "nbgrader": {
     "cell_type": "code",
     "checksum": "c67be0c0ff2a40c752c9078d6ee1ac1d",
     "grade": true,
     "grade_id": "cell-3b1fd3696243d2e6",
     "locked": true,
     "points": 1,
     "schema_version": 3,
     "solution": false,
     "task": false
    }
   },
   "outputs": [
    {
     "data": {
      "text/plain": [
       "'Success'"
      ]
     },
     "execution_count": 22,
     "metadata": {},
     "output_type": "execute_result"
    }
   ],
   "source": [
    "t.test_1_7(answer_1_7)"
   ]
  },
  {
   "cell_type": "markdown",
   "metadata": {},
   "source": [
    "# 2. Classification evaluation metrics using `sklearn`"
   ]
  },
  {
   "cell_type": "markdown",
   "metadata": {},
   "source": [
    "In general, when a dataset is imbalanced, accuracy does not provide the whole story. In the module material, we looked at a credit card fraud dataset which is a classic example of an imbalanced dataset. Another example is customer churn datasets. For the next questions, you will be using a [bank customer churn dataset](https://www.kaggle.com/shubh0799/churn-modelling) from Kaggle. In this question, we will be concentrating on the target label `Exited`. "
   ]
  },
  {
   "cell_type": "code",
   "execution_count": 23,
   "metadata": {},
   "outputs": [
    {
     "data": {
      "text/html": [
       "<div>\n",
       "<style scoped>\n",
       "    .dataframe tbody tr th:only-of-type {\n",
       "        vertical-align: middle;\n",
       "    }\n",
       "\n",
       "    .dataframe tbody tr th {\n",
       "        vertical-align: top;\n",
       "    }\n",
       "\n",
       "    .dataframe thead th {\n",
       "        text-align: right;\n",
       "    }\n",
       "</style>\n",
       "<table border=\"1\" class=\"dataframe\">\n",
       "  <thead>\n",
       "    <tr style=\"text-align: right;\">\n",
       "      <th></th>\n",
       "      <th>CustomerId</th>\n",
       "      <th>CreditScore</th>\n",
       "      <th>Geography</th>\n",
       "      <th>Gender</th>\n",
       "      <th>Age</th>\n",
       "      <th>Tenure</th>\n",
       "      <th>Balance</th>\n",
       "      <th>NumOfProducts</th>\n",
       "      <th>HasCrCard</th>\n",
       "      <th>IsActiveMember</th>\n",
       "      <th>EstimatedSalary</th>\n",
       "      <th>Exited</th>\n",
       "    </tr>\n",
       "  </thead>\n",
       "  <tbody>\n",
       "    <tr>\n",
       "      <th>3144</th>\n",
       "      <td>15638003</td>\n",
       "      <td>648</td>\n",
       "      <td>Spain</td>\n",
       "      <td>Male</td>\n",
       "      <td>55</td>\n",
       "      <td>1</td>\n",
       "      <td>81370.07</td>\n",
       "      <td>1</td>\n",
       "      <td>0</td>\n",
       "      <td>1</td>\n",
       "      <td>181534.04</td>\n",
       "      <td>0</td>\n",
       "    </tr>\n",
       "    <tr>\n",
       "      <th>9939</th>\n",
       "      <td>15808971</td>\n",
       "      <td>693</td>\n",
       "      <td>Spain</td>\n",
       "      <td>Female</td>\n",
       "      <td>57</td>\n",
       "      <td>9</td>\n",
       "      <td>0.00</td>\n",
       "      <td>2</td>\n",
       "      <td>1</td>\n",
       "      <td>1</td>\n",
       "      <td>135502.77</td>\n",
       "      <td>0</td>\n",
       "    </tr>\n",
       "    <tr>\n",
       "      <th>7925</th>\n",
       "      <td>15800482</td>\n",
       "      <td>586</td>\n",
       "      <td>Spain</td>\n",
       "      <td>Female</td>\n",
       "      <td>33</td>\n",
       "      <td>7</td>\n",
       "      <td>0.00</td>\n",
       "      <td>2</td>\n",
       "      <td>1</td>\n",
       "      <td>1</td>\n",
       "      <td>168261.40</td>\n",
       "      <td>0</td>\n",
       "    </tr>\n",
       "    <tr>\n",
       "      <th>309</th>\n",
       "      <td>15746726</td>\n",
       "      <td>438</td>\n",
       "      <td>Germany</td>\n",
       "      <td>Male</td>\n",
       "      <td>31</td>\n",
       "      <td>8</td>\n",
       "      <td>78398.69</td>\n",
       "      <td>1</td>\n",
       "      <td>1</td>\n",
       "      <td>0</td>\n",
       "      <td>44937.01</td>\n",
       "      <td>0</td>\n",
       "    </tr>\n",
       "    <tr>\n",
       "      <th>9415</th>\n",
       "      <td>15750407</td>\n",
       "      <td>768</td>\n",
       "      <td>Germany</td>\n",
       "      <td>Female</td>\n",
       "      <td>43</td>\n",
       "      <td>2</td>\n",
       "      <td>129264.05</td>\n",
       "      <td>2</td>\n",
       "      <td>0</td>\n",
       "      <td>0</td>\n",
       "      <td>19150.14</td>\n",
       "      <td>0</td>\n",
       "    </tr>\n",
       "  </tbody>\n",
       "</table>\n",
       "</div>"
      ],
      "text/plain": [
       "      CustomerId  CreditScore Geography  Gender  Age  Tenure    Balance  \\\n",
       "3144    15638003          648     Spain    Male   55       1   81370.07   \n",
       "9939    15808971          693     Spain  Female   57       9       0.00   \n",
       "7925    15800482          586     Spain  Female   33       7       0.00   \n",
       "309     15746726          438   Germany    Male   31       8   78398.69   \n",
       "9415    15750407          768   Germany  Female   43       2  129264.05   \n",
       "\n",
       "      NumOfProducts  HasCrCard  IsActiveMember  EstimatedSalary  Exited  \n",
       "3144              1          0               1        181534.04       0  \n",
       "9939              2          1               1        135502.77       0  \n",
       "7925              2          1               1        168261.40       0  \n",
       "309               1          1               0         44937.01       0  \n",
       "9415              2          0               0         19150.14       0  "
      ]
     },
     "metadata": {},
     "output_type": "display_data"
    }
   ],
   "source": [
    "churn_df = pd.read_csv(\"data/churn.csv\")\n",
    "train_df, test_df = train_test_split(churn_df, test_size=0.3, random_state=123)\n",
    "display(train_df.head())"
   ]
  },
  {
   "cell_type": "markdown",
   "metadata": {},
   "source": [
    "**Question 2.1** <br> {points: 1}  \n",
    "\n",
    "What is the distribution of target values (`Exited`) in the train split? Your answer should be of type Pandas Series and saved in an object named `class_dist`."
   ]
  },
  {
   "cell_type": "code",
   "execution_count": 24,
   "metadata": {
    "deletable": false,
    "nbgrader": {
     "cell_type": "code",
     "checksum": "44665c095202fa383686378d2c4c1883",
     "grade": false,
     "grade_id": "cell-8fee174efb95046b",
     "locked": false,
     "schema_version": 3,
     "solution": true,
     "task": false
    }
   },
   "outputs": [
    {
     "data": {
      "text/plain": [
       "0    5568\n",
       "1    1432\n",
       "Name: Exited, dtype: int64"
      ]
     },
     "metadata": {},
     "output_type": "display_data"
    }
   ],
   "source": [
    "class_dist = train_df['Exited'].value_counts()\n",
    "display(class_dist)\n"
   ]
  },
  {
   "cell_type": "code",
   "execution_count": 25,
   "metadata": {
    "deletable": false,
    "editable": false,
    "nbgrader": {
     "cell_type": "code",
     "checksum": "fa37bbafe6269aa3afd61bfa4b599abb",
     "grade": true,
     "grade_id": "cell-9693a3487c29667f",
     "locked": true,
     "points": 1,
     "schema_version": 3,
     "solution": false,
     "task": false
    }
   },
   "outputs": [
    {
     "data": {
      "text/plain": [
       "'Success'"
      ]
     },
     "execution_count": 25,
     "metadata": {},
     "output_type": "execute_result"
    }
   ],
   "source": [
    "t.test_2_1(class_dist)"
   ]
  },
  {
   "cell_type": "markdown",
   "metadata": {},
   "source": [
    "**Question 2.2** <br> {points: 1}  \n",
    "\n",
    "Let's now separate our feature vectors from the target.\n",
    "\n",
    "Use all the columns except for `Exited` as your `X` and the `Exited` column as your target `y`. \n",
    "\n",
    "You will need to split both `train_df` and `test_df`. \n",
    "\n",
    "Save the results in objects named `X_train`, `y_train`, `X_test` and `y_test`. "
   ]
  },
  {
   "cell_type": "code",
   "execution_count": 26,
   "metadata": {
    "deletable": false,
    "nbgrader": {
     "cell_type": "code",
     "checksum": "d7222433fd61a1eb03f0ef20132bb45f",
     "grade": false,
     "grade_id": "cell-912921e7e74800fb",
     "locked": false,
     "schema_version": 3,
     "solution": true,
     "task": false
    }
   },
   "outputs": [
    {
     "data": {
      "text/html": [
       "<div>\n",
       "<style scoped>\n",
       "    .dataframe tbody tr th:only-of-type {\n",
       "        vertical-align: middle;\n",
       "    }\n",
       "\n",
       "    .dataframe tbody tr th {\n",
       "        vertical-align: top;\n",
       "    }\n",
       "\n",
       "    .dataframe thead th {\n",
       "        text-align: right;\n",
       "    }\n",
       "</style>\n",
       "<table border=\"1\" class=\"dataframe\">\n",
       "  <thead>\n",
       "    <tr style=\"text-align: right;\">\n",
       "      <th></th>\n",
       "      <th>CustomerId</th>\n",
       "      <th>CreditScore</th>\n",
       "      <th>Geography</th>\n",
       "      <th>Gender</th>\n",
       "      <th>Age</th>\n",
       "      <th>Tenure</th>\n",
       "      <th>Balance</th>\n",
       "      <th>NumOfProducts</th>\n",
       "      <th>HasCrCard</th>\n",
       "      <th>IsActiveMember</th>\n",
       "      <th>EstimatedSalary</th>\n",
       "    </tr>\n",
       "  </thead>\n",
       "  <tbody>\n",
       "    <tr>\n",
       "      <th>3144</th>\n",
       "      <td>15638003</td>\n",
       "      <td>648</td>\n",
       "      <td>Spain</td>\n",
       "      <td>Male</td>\n",
       "      <td>55</td>\n",
       "      <td>1</td>\n",
       "      <td>81370.07</td>\n",
       "      <td>1</td>\n",
       "      <td>0</td>\n",
       "      <td>1</td>\n",
       "      <td>181534.04</td>\n",
       "    </tr>\n",
       "    <tr>\n",
       "      <th>9939</th>\n",
       "      <td>15808971</td>\n",
       "      <td>693</td>\n",
       "      <td>Spain</td>\n",
       "      <td>Female</td>\n",
       "      <td>57</td>\n",
       "      <td>9</td>\n",
       "      <td>0.00</td>\n",
       "      <td>2</td>\n",
       "      <td>1</td>\n",
       "      <td>1</td>\n",
       "      <td>135502.77</td>\n",
       "    </tr>\n",
       "    <tr>\n",
       "      <th>7925</th>\n",
       "      <td>15800482</td>\n",
       "      <td>586</td>\n",
       "      <td>Spain</td>\n",
       "      <td>Female</td>\n",
       "      <td>33</td>\n",
       "      <td>7</td>\n",
       "      <td>0.00</td>\n",
       "      <td>2</td>\n",
       "      <td>1</td>\n",
       "      <td>1</td>\n",
       "      <td>168261.40</td>\n",
       "    </tr>\n",
       "    <tr>\n",
       "      <th>309</th>\n",
       "      <td>15746726</td>\n",
       "      <td>438</td>\n",
       "      <td>Germany</td>\n",
       "      <td>Male</td>\n",
       "      <td>31</td>\n",
       "      <td>8</td>\n",
       "      <td>78398.69</td>\n",
       "      <td>1</td>\n",
       "      <td>1</td>\n",
       "      <td>0</td>\n",
       "      <td>44937.01</td>\n",
       "    </tr>\n",
       "    <tr>\n",
       "      <th>9415</th>\n",
       "      <td>15750407</td>\n",
       "      <td>768</td>\n",
       "      <td>Germany</td>\n",
       "      <td>Female</td>\n",
       "      <td>43</td>\n",
       "      <td>2</td>\n",
       "      <td>129264.05</td>\n",
       "      <td>2</td>\n",
       "      <td>0</td>\n",
       "      <td>0</td>\n",
       "      <td>19150.14</td>\n",
       "    </tr>\n",
       "  </tbody>\n",
       "</table>\n",
       "</div>"
      ],
      "text/plain": [
       "      CustomerId  CreditScore Geography  Gender  Age  Tenure    Balance  \\\n",
       "3144    15638003          648     Spain    Male   55       1   81370.07   \n",
       "9939    15808971          693     Spain  Female   57       9       0.00   \n",
       "7925    15800482          586     Spain  Female   33       7       0.00   \n",
       "309     15746726          438   Germany    Male   31       8   78398.69   \n",
       "9415    15750407          768   Germany  Female   43       2  129264.05   \n",
       "\n",
       "      NumOfProducts  HasCrCard  IsActiveMember  EstimatedSalary  \n",
       "3144              1          0               1        181534.04  \n",
       "9939              2          1               1        135502.77  \n",
       "7925              2          1               1        168261.40  \n",
       "309               1          1               0         44937.01  \n",
       "9415              2          0               0         19150.14  "
      ]
     },
     "metadata": {},
     "output_type": "display_data"
    }
   ],
   "source": [
    "X_train = train_df.drop('Exited', axis = 1)\n",
    "y_train = train_df['Exited']\n",
    "\n",
    "X_test = test_df.drop('Exited', axis = 1)\n",
    "y_test = test_df['Exited']\n",
    "\n",
    "display(X_train.head())"
   ]
  },
  {
   "cell_type": "code",
   "execution_count": 27,
   "metadata": {
    "deletable": false,
    "editable": false,
    "nbgrader": {
     "cell_type": "code",
     "checksum": "6568c622b7399949d5a1464f03764be0",
     "grade": true,
     "grade_id": "cell-f7c38b0ae6f70af2",
     "locked": true,
     "points": 1,
     "schema_version": 3,
     "solution": false,
     "task": false
    }
   },
   "outputs": [
    {
     "data": {
      "text/plain": [
       "'Success'"
      ]
     },
     "execution_count": 27,
     "metadata": {},
     "output_type": "execute_result"
    }
   ],
   "source": [
    "t.test_2_2(X_train, X_test, y_train, y_test)"
   ]
  },
  {
   "cell_type": "markdown",
   "metadata": {},
   "source": [
    "**Question 2.3** <br> {points: 1} \n",
    "\n",
    "Carry out cross-validation with `DummyClassifier` using the `stratified` strategy. Pass the following `scoring` metrics to `cross_validate`. \n",
    "- accuracy\n",
    "- f1\n",
    "- recall\n",
    "- precision\n",
    "\n",
    "Make sure you use  `return_train_score=True` and 5-fold cross-validation.\n",
    "\n",
    "Save your results in a dataframe named `dummy_scores`. "
   ]
  },
  {
   "cell_type": "code",
   "execution_count": 28,
   "metadata": {
    "deletable": false,
    "nbgrader": {
     "cell_type": "code",
     "checksum": "7b8dce2b95c43593a7a04bf25b0be9b9",
     "grade": false,
     "grade_id": "cell-c6682256ddbc4a46",
     "locked": false,
     "schema_version": 3,
     "solution": true,
     "task": false
    }
   },
   "outputs": [
    {
     "data": {
      "text/html": [
       "<div>\n",
       "<style scoped>\n",
       "    .dataframe tbody tr th:only-of-type {\n",
       "        vertical-align: middle;\n",
       "    }\n",
       "\n",
       "    .dataframe tbody tr th {\n",
       "        vertical-align: top;\n",
       "    }\n",
       "\n",
       "    .dataframe thead th {\n",
       "        text-align: right;\n",
       "    }\n",
       "</style>\n",
       "<table border=\"1\" class=\"dataframe\">\n",
       "  <thead>\n",
       "    <tr style=\"text-align: right;\">\n",
       "      <th></th>\n",
       "      <th>fit_time</th>\n",
       "      <th>score_time</th>\n",
       "      <th>test_accuracy</th>\n",
       "      <th>train_accuracy</th>\n",
       "      <th>test_precision</th>\n",
       "      <th>train_precision</th>\n",
       "      <th>test_recall</th>\n",
       "      <th>train_recall</th>\n",
       "      <th>test_f1</th>\n",
       "      <th>train_f1</th>\n",
       "    </tr>\n",
       "  </thead>\n",
       "  <tbody>\n",
       "    <tr>\n",
       "      <th>0</th>\n",
       "      <td>0.007986</td>\n",
       "      <td>0.023738</td>\n",
       "      <td>0.666429</td>\n",
       "      <td>0.675893</td>\n",
       "      <td>0.186851</td>\n",
       "      <td>0.208877</td>\n",
       "      <td>0.188811</td>\n",
       "      <td>0.209424</td>\n",
       "      <td>0.187826</td>\n",
       "      <td>0.209150</td>\n",
       "    </tr>\n",
       "    <tr>\n",
       "      <th>1</th>\n",
       "      <td>0.005346</td>\n",
       "      <td>0.018665</td>\n",
       "      <td>0.663571</td>\n",
       "      <td>0.671786</td>\n",
       "      <td>0.198697</td>\n",
       "      <td>0.200173</td>\n",
       "      <td>0.213287</td>\n",
       "      <td>0.201571</td>\n",
       "      <td>0.205734</td>\n",
       "      <td>0.200870</td>\n",
       "    </tr>\n",
       "    <tr>\n",
       "      <th>2</th>\n",
       "      <td>0.004205</td>\n",
       "      <td>0.016011</td>\n",
       "      <td>0.659286</td>\n",
       "      <td>0.674286</td>\n",
       "      <td>0.182724</td>\n",
       "      <td>0.208763</td>\n",
       "      <td>0.192308</td>\n",
       "      <td>0.212042</td>\n",
       "      <td>0.187394</td>\n",
       "      <td>0.210390</td>\n",
       "    </tr>\n",
       "    <tr>\n",
       "      <th>3</th>\n",
       "      <td>0.003004</td>\n",
       "      <td>0.016041</td>\n",
       "      <td>0.662857</td>\n",
       "      <td>0.667857</td>\n",
       "      <td>0.190635</td>\n",
       "      <td>0.200837</td>\n",
       "      <td>0.198606</td>\n",
       "      <td>0.209607</td>\n",
       "      <td>0.194539</td>\n",
       "      <td>0.205128</td>\n",
       "    </tr>\n",
       "    <tr>\n",
       "      <th>4</th>\n",
       "      <td>0.004999</td>\n",
       "      <td>0.020768</td>\n",
       "      <td>0.678571</td>\n",
       "      <td>0.676429</td>\n",
       "      <td>0.227425</td>\n",
       "      <td>0.201966</td>\n",
       "      <td>0.236934</td>\n",
       "      <td>0.197380</td>\n",
       "      <td>0.232082</td>\n",
       "      <td>0.199647</td>\n",
       "    </tr>\n",
       "  </tbody>\n",
       "</table>\n",
       "</div>"
      ],
      "text/plain": [
       "   fit_time  score_time  test_accuracy  train_accuracy  test_precision  \\\n",
       "0  0.007986    0.023738       0.666429        0.675893        0.186851   \n",
       "1  0.005346    0.018665       0.663571        0.671786        0.198697   \n",
       "2  0.004205    0.016011       0.659286        0.674286        0.182724   \n",
       "3  0.003004    0.016041       0.662857        0.667857        0.190635   \n",
       "4  0.004999    0.020768       0.678571        0.676429        0.227425   \n",
       "\n",
       "   train_precision  test_recall  train_recall   test_f1  train_f1  \n",
       "0         0.208877     0.188811      0.209424  0.187826  0.209150  \n",
       "1         0.200173     0.213287      0.201571  0.205734  0.200870  \n",
       "2         0.208763     0.192308      0.212042  0.187394  0.210390  \n",
       "3         0.200837     0.198606      0.209607  0.194539  0.205128  \n",
       "4         0.201966     0.236934      0.197380  0.232082  0.199647  "
      ]
     },
     "metadata": {},
     "output_type": "display_data"
    }
   ],
   "source": [
    "dummy_scores = pd.DataFrame(\n",
    "    cross_validate(\n",
    "        estimator = DummyClassifier(strategy = 'stratified'), \n",
    "        X = X_train, y = y_train, \n",
    "        cv = 5, return_train_score = True,\n",
    "        scoring = ['accuracy', 'precision', 'recall', 'f1']\n",
    "    )\n",
    ")\n",
    "\n",
    "display(dummy_scores)"
   ]
  },
  {
   "cell_type": "code",
   "execution_count": 29,
   "metadata": {
    "deletable": false,
    "editable": false,
    "nbgrader": {
     "cell_type": "code",
     "checksum": "33b2620699332d7a72bfbbf4d5090a9c",
     "grade": true,
     "grade_id": "cell-f74782b5290c5565",
     "locked": true,
     "points": 1,
     "schema_version": 3,
     "solution": false,
     "task": false
    }
   },
   "outputs": [
    {
     "data": {
      "text/plain": [
       "'Success'"
      ]
     },
     "execution_count": 29,
     "metadata": {},
     "output_type": "execute_result"
    }
   ],
   "source": [
    "t.test_2_3(dummy_scores)"
   ]
  },
  {
   "cell_type": "markdown",
   "metadata": {},
   "source": [
    "**Question 2.4** <br> {points: 1} \n",
    "\n",
    "What is the mean of each column in `dummy_scores`?\n",
    "\n",
    "\n",
    "Save your result in an object named `dummy_mean`. "
   ]
  },
  {
   "cell_type": "code",
   "execution_count": 30,
   "metadata": {
    "deletable": false,
    "nbgrader": {
     "cell_type": "code",
     "checksum": "2d74ea25a828ef05c7e99569d8315da4",
     "grade": false,
     "grade_id": "cell-99de59fe13557284",
     "locked": false,
     "schema_version": 3,
     "solution": true,
     "task": false
    }
   },
   "outputs": [
    {
     "data": {
      "text/plain": [
       "fit_time           0.005108\n",
       "score_time         0.019045\n",
       "test_accuracy      0.666143\n",
       "train_accuracy     0.673250\n",
       "test_precision     0.197267\n",
       "train_precision    0.204123\n",
       "test_recall        0.205989\n",
       "train_recall       0.206005\n",
       "test_f1            0.201515\n",
       "train_f1           0.205037\n",
       "dtype: float64"
      ]
     },
     "metadata": {},
     "output_type": "display_data"
    }
   ],
   "source": [
    "dummy_mean = dummy_scores.mean()\n",
    "\n",
    "display(dummy_mean)"
   ]
  },
  {
   "cell_type": "code",
   "execution_count": 31,
   "metadata": {
    "deletable": false,
    "editable": false,
    "nbgrader": {
     "cell_type": "code",
     "checksum": "ad18f1577384e05167832bde2092cf42",
     "grade": true,
     "grade_id": "cell-57af51df99cb0bdf",
     "locked": true,
     "points": 1,
     "schema_version": 3,
     "solution": false,
     "task": false
    }
   },
   "outputs": [
    {
     "data": {
      "text/plain": [
       "'Success'"
      ]
     },
     "execution_count": 31,
     "metadata": {},
     "output_type": "execute_result"
    }
   ],
   "source": [
    "t.test_2_4(dummy_mean)"
   ]
  },
  {
   "cell_type": "markdown",
   "metadata": {},
   "source": [
    "**Question 2.5** <br> {points: 5}  \n",
    "\n",
    "Using either `.describe(include=\"all\")`, `.info()` or looking at the data, split it into 4 types of features; numeric, categorical, binary and `drop_features`. \n",
    "\n",
    "- Add the labels of the numeric column(s) (as type string) to a list name `numeric_features`.\n",
    "- Add the labels of the categorical column(s) (as type string) to a list name `categorical_features`.\n",
    "- Add the labels of the binary column(s) (as type string) to a list name `binary_features`.\n",
    "- Add the labels of the column that should be excluded from the model fitting to a list named `drop_features`. _(Hint: which of the columns is a unique identifier for the examples?)_\n",
    "\n",
    "Identify different feature types (e.g., numeric, categorical, binary, drop features).\n",
    "train_df.info()"
   ]
  },
  {
   "cell_type": "code",
   "execution_count": 32,
   "metadata": {},
   "outputs": [
    {
     "data": {
      "text/html": [
       "<div>\n",
       "<style scoped>\n",
       "    .dataframe tbody tr th:only-of-type {\n",
       "        vertical-align: middle;\n",
       "    }\n",
       "\n",
       "    .dataframe tbody tr th {\n",
       "        vertical-align: top;\n",
       "    }\n",
       "\n",
       "    .dataframe thead th {\n",
       "        text-align: right;\n",
       "    }\n",
       "</style>\n",
       "<table border=\"1\" class=\"dataframe\">\n",
       "  <thead>\n",
       "    <tr style=\"text-align: right;\">\n",
       "      <th></th>\n",
       "      <th>CustomerId</th>\n",
       "      <th>CreditScore</th>\n",
       "      <th>Geography</th>\n",
       "      <th>Gender</th>\n",
       "      <th>Age</th>\n",
       "      <th>Tenure</th>\n",
       "      <th>Balance</th>\n",
       "      <th>NumOfProducts</th>\n",
       "      <th>HasCrCard</th>\n",
       "      <th>IsActiveMember</th>\n",
       "      <th>EstimatedSalary</th>\n",
       "    </tr>\n",
       "  </thead>\n",
       "  <tbody>\n",
       "    <tr>\n",
       "      <th>count</th>\n",
       "      <td>7.000000e+03</td>\n",
       "      <td>7000.000000</td>\n",
       "      <td>7000</td>\n",
       "      <td>7000</td>\n",
       "      <td>7000.000000</td>\n",
       "      <td>7000.000000</td>\n",
       "      <td>7000.000000</td>\n",
       "      <td>7000.000000</td>\n",
       "      <td>7000.000000</td>\n",
       "      <td>7000.000000</td>\n",
       "      <td>7000.000000</td>\n",
       "    </tr>\n",
       "    <tr>\n",
       "      <th>unique</th>\n",
       "      <td>NaN</td>\n",
       "      <td>NaN</td>\n",
       "      <td>3</td>\n",
       "      <td>2</td>\n",
       "      <td>NaN</td>\n",
       "      <td>NaN</td>\n",
       "      <td>NaN</td>\n",
       "      <td>NaN</td>\n",
       "      <td>NaN</td>\n",
       "      <td>NaN</td>\n",
       "      <td>NaN</td>\n",
       "    </tr>\n",
       "    <tr>\n",
       "      <th>top</th>\n",
       "      <td>NaN</td>\n",
       "      <td>NaN</td>\n",
       "      <td>France</td>\n",
       "      <td>Male</td>\n",
       "      <td>NaN</td>\n",
       "      <td>NaN</td>\n",
       "      <td>NaN</td>\n",
       "      <td>NaN</td>\n",
       "      <td>NaN</td>\n",
       "      <td>NaN</td>\n",
       "      <td>NaN</td>\n",
       "    </tr>\n",
       "    <tr>\n",
       "      <th>freq</th>\n",
       "      <td>NaN</td>\n",
       "      <td>NaN</td>\n",
       "      <td>3512</td>\n",
       "      <td>3833</td>\n",
       "      <td>NaN</td>\n",
       "      <td>NaN</td>\n",
       "      <td>NaN</td>\n",
       "      <td>NaN</td>\n",
       "      <td>NaN</td>\n",
       "      <td>NaN</td>\n",
       "      <td>NaN</td>\n",
       "    </tr>\n",
       "    <tr>\n",
       "      <th>mean</th>\n",
       "      <td>1.569106e+07</td>\n",
       "      <td>650.144571</td>\n",
       "      <td>NaN</td>\n",
       "      <td>NaN</td>\n",
       "      <td>38.942571</td>\n",
       "      <td>5.020143</td>\n",
       "      <td>76448.489407</td>\n",
       "      <td>1.534429</td>\n",
       "      <td>0.705429</td>\n",
       "      <td>0.515286</td>\n",
       "      <td>99934.226306</td>\n",
       "    </tr>\n",
       "    <tr>\n",
       "      <th>std</th>\n",
       "      <td>7.176223e+04</td>\n",
       "      <td>96.554892</td>\n",
       "      <td>NaN</td>\n",
       "      <td>NaN</td>\n",
       "      <td>10.612389</td>\n",
       "      <td>2.894639</td>\n",
       "      <td>62700.899244</td>\n",
       "      <td>0.582855</td>\n",
       "      <td>0.455882</td>\n",
       "      <td>0.499802</td>\n",
       "      <td>57555.469387</td>\n",
       "    </tr>\n",
       "    <tr>\n",
       "      <th>min</th>\n",
       "      <td>1.556570e+07</td>\n",
       "      <td>350.000000</td>\n",
       "      <td>NaN</td>\n",
       "      <td>NaN</td>\n",
       "      <td>18.000000</td>\n",
       "      <td>0.000000</td>\n",
       "      <td>0.000000</td>\n",
       "      <td>1.000000</td>\n",
       "      <td>0.000000</td>\n",
       "      <td>0.000000</td>\n",
       "      <td>11.580000</td>\n",
       "    </tr>\n",
       "    <tr>\n",
       "      <th>25%</th>\n",
       "      <td>1.562887e+07</td>\n",
       "      <td>583.000000</td>\n",
       "      <td>NaN</td>\n",
       "      <td>NaN</td>\n",
       "      <td>32.000000</td>\n",
       "      <td>3.000000</td>\n",
       "      <td>0.000000</td>\n",
       "      <td>1.000000</td>\n",
       "      <td>0.000000</td>\n",
       "      <td>0.000000</td>\n",
       "      <td>50743.832500</td>\n",
       "    </tr>\n",
       "    <tr>\n",
       "      <th>50%</th>\n",
       "      <td>1.569096e+07</td>\n",
       "      <td>652.000000</td>\n",
       "      <td>NaN</td>\n",
       "      <td>NaN</td>\n",
       "      <td>37.000000</td>\n",
       "      <td>5.000000</td>\n",
       "      <td>96889.925000</td>\n",
       "      <td>1.000000</td>\n",
       "      <td>1.000000</td>\n",
       "      <td>1.000000</td>\n",
       "      <td>99729.890000</td>\n",
       "    </tr>\n",
       "    <tr>\n",
       "      <th>75%</th>\n",
       "      <td>1.575365e+07</td>\n",
       "      <td>717.000000</td>\n",
       "      <td>NaN</td>\n",
       "      <td>NaN</td>\n",
       "      <td>44.000000</td>\n",
       "      <td>8.000000</td>\n",
       "      <td>127838.535000</td>\n",
       "      <td>2.000000</td>\n",
       "      <td>1.000000</td>\n",
       "      <td>1.000000</td>\n",
       "      <td>149458.040000</td>\n",
       "    </tr>\n",
       "    <tr>\n",
       "      <th>max</th>\n",
       "      <td>1.581569e+07</td>\n",
       "      <td>850.000000</td>\n",
       "      <td>NaN</td>\n",
       "      <td>NaN</td>\n",
       "      <td>92.000000</td>\n",
       "      <td>10.000000</td>\n",
       "      <td>238387.560000</td>\n",
       "      <td>4.000000</td>\n",
       "      <td>1.000000</td>\n",
       "      <td>1.000000</td>\n",
       "      <td>199992.480000</td>\n",
       "    </tr>\n",
       "  </tbody>\n",
       "</table>\n",
       "</div>"
      ],
      "text/plain": [
       "          CustomerId  CreditScore Geography Gender          Age       Tenure  \\\n",
       "count   7.000000e+03  7000.000000      7000   7000  7000.000000  7000.000000   \n",
       "unique           NaN          NaN         3      2          NaN          NaN   \n",
       "top              NaN          NaN    France   Male          NaN          NaN   \n",
       "freq             NaN          NaN      3512   3833          NaN          NaN   \n",
       "mean    1.569106e+07   650.144571       NaN    NaN    38.942571     5.020143   \n",
       "std     7.176223e+04    96.554892       NaN    NaN    10.612389     2.894639   \n",
       "min     1.556570e+07   350.000000       NaN    NaN    18.000000     0.000000   \n",
       "25%     1.562887e+07   583.000000       NaN    NaN    32.000000     3.000000   \n",
       "50%     1.569096e+07   652.000000       NaN    NaN    37.000000     5.000000   \n",
       "75%     1.575365e+07   717.000000       NaN    NaN    44.000000     8.000000   \n",
       "max     1.581569e+07   850.000000       NaN    NaN    92.000000    10.000000   \n",
       "\n",
       "              Balance  NumOfProducts    HasCrCard  IsActiveMember  \\\n",
       "count     7000.000000    7000.000000  7000.000000     7000.000000   \n",
       "unique            NaN            NaN          NaN             NaN   \n",
       "top               NaN            NaN          NaN             NaN   \n",
       "freq              NaN            NaN          NaN             NaN   \n",
       "mean     76448.489407       1.534429     0.705429        0.515286   \n",
       "std      62700.899244       0.582855     0.455882        0.499802   \n",
       "min          0.000000       1.000000     0.000000        0.000000   \n",
       "25%          0.000000       1.000000     0.000000        0.000000   \n",
       "50%      96889.925000       1.000000     1.000000        1.000000   \n",
       "75%     127838.535000       2.000000     1.000000        1.000000   \n",
       "max     238387.560000       4.000000     1.000000        1.000000   \n",
       "\n",
       "        EstimatedSalary  \n",
       "count       7000.000000  \n",
       "unique              NaN  \n",
       "top                 NaN  \n",
       "freq                NaN  \n",
       "mean       99934.226306  \n",
       "std        57555.469387  \n",
       "min           11.580000  \n",
       "25%        50743.832500  \n",
       "50%        99729.890000  \n",
       "75%       149458.040000  \n",
       "max       199992.480000  "
      ]
     },
     "metadata": {},
     "output_type": "display_data"
    }
   ],
   "source": [
    "display(X_train.describe(include = 'all'))"
   ]
  },
  {
   "cell_type": "code",
   "execution_count": 33,
   "metadata": {},
   "outputs": [
    {
     "name": "stdout",
     "output_type": "stream",
     "text": [
      "<class 'pandas.core.frame.DataFrame'>\n",
      "Int64Index: 7000 entries, 3144 to 3582\n",
      "Data columns (total 11 columns):\n",
      " #   Column           Non-Null Count  Dtype  \n",
      "---  ------           --------------  -----  \n",
      " 0   CustomerId       7000 non-null   int64  \n",
      " 1   CreditScore      7000 non-null   int64  \n",
      " 2   Geography        7000 non-null   object \n",
      " 3   Gender           7000 non-null   object \n",
      " 4   Age              7000 non-null   int64  \n",
      " 5   Tenure           7000 non-null   int64  \n",
      " 6   Balance          7000 non-null   float64\n",
      " 7   NumOfProducts    7000 non-null   int64  \n",
      " 8   HasCrCard        7000 non-null   int64  \n",
      " 9   IsActiveMember   7000 non-null   int64  \n",
      " 10  EstimatedSalary  7000 non-null   float64\n",
      "dtypes: float64(2), int64(7), object(2)\n",
      "memory usage: 656.2+ KB\n"
     ]
    },
    {
     "data": {
      "text/plain": [
       "None"
      ]
     },
     "metadata": {},
     "output_type": "display_data"
    }
   ],
   "source": [
    "display(X_train.info())"
   ]
  },
  {
   "cell_type": "code",
   "execution_count": 34,
   "metadata": {},
   "outputs": [
    {
     "data": {
      "text/html": [
       "<div>\n",
       "<style scoped>\n",
       "    .dataframe tbody tr th:only-of-type {\n",
       "        vertical-align: middle;\n",
       "    }\n",
       "\n",
       "    .dataframe tbody tr th {\n",
       "        vertical-align: top;\n",
       "    }\n",
       "\n",
       "    .dataframe thead th {\n",
       "        text-align: right;\n",
       "    }\n",
       "</style>\n",
       "<table border=\"1\" class=\"dataframe\">\n",
       "  <thead>\n",
       "    <tr style=\"text-align: right;\">\n",
       "      <th></th>\n",
       "      <th>CustomerId</th>\n",
       "      <th>CreditScore</th>\n",
       "      <th>Geography</th>\n",
       "      <th>Gender</th>\n",
       "      <th>Age</th>\n",
       "      <th>Tenure</th>\n",
       "      <th>Balance</th>\n",
       "      <th>NumOfProducts</th>\n",
       "      <th>HasCrCard</th>\n",
       "      <th>IsActiveMember</th>\n",
       "      <th>EstimatedSalary</th>\n",
       "    </tr>\n",
       "  </thead>\n",
       "  <tbody>\n",
       "    <tr>\n",
       "      <th>3144</th>\n",
       "      <td>15638003</td>\n",
       "      <td>648</td>\n",
       "      <td>Spain</td>\n",
       "      <td>Male</td>\n",
       "      <td>55</td>\n",
       "      <td>1</td>\n",
       "      <td>81370.07</td>\n",
       "      <td>1</td>\n",
       "      <td>0</td>\n",
       "      <td>1</td>\n",
       "      <td>181534.04</td>\n",
       "    </tr>\n",
       "    <tr>\n",
       "      <th>9939</th>\n",
       "      <td>15808971</td>\n",
       "      <td>693</td>\n",
       "      <td>Spain</td>\n",
       "      <td>Female</td>\n",
       "      <td>57</td>\n",
       "      <td>9</td>\n",
       "      <td>0.00</td>\n",
       "      <td>2</td>\n",
       "      <td>1</td>\n",
       "      <td>1</td>\n",
       "      <td>135502.77</td>\n",
       "    </tr>\n",
       "    <tr>\n",
       "      <th>7925</th>\n",
       "      <td>15800482</td>\n",
       "      <td>586</td>\n",
       "      <td>Spain</td>\n",
       "      <td>Female</td>\n",
       "      <td>33</td>\n",
       "      <td>7</td>\n",
       "      <td>0.00</td>\n",
       "      <td>2</td>\n",
       "      <td>1</td>\n",
       "      <td>1</td>\n",
       "      <td>168261.40</td>\n",
       "    </tr>\n",
       "    <tr>\n",
       "      <th>309</th>\n",
       "      <td>15746726</td>\n",
       "      <td>438</td>\n",
       "      <td>Germany</td>\n",
       "      <td>Male</td>\n",
       "      <td>31</td>\n",
       "      <td>8</td>\n",
       "      <td>78398.69</td>\n",
       "      <td>1</td>\n",
       "      <td>1</td>\n",
       "      <td>0</td>\n",
       "      <td>44937.01</td>\n",
       "    </tr>\n",
       "    <tr>\n",
       "      <th>9415</th>\n",
       "      <td>15750407</td>\n",
       "      <td>768</td>\n",
       "      <td>Germany</td>\n",
       "      <td>Female</td>\n",
       "      <td>43</td>\n",
       "      <td>2</td>\n",
       "      <td>129264.05</td>\n",
       "      <td>2</td>\n",
       "      <td>0</td>\n",
       "      <td>0</td>\n",
       "      <td>19150.14</td>\n",
       "    </tr>\n",
       "  </tbody>\n",
       "</table>\n",
       "</div>"
      ],
      "text/plain": [
       "      CustomerId  CreditScore Geography  Gender  Age  Tenure    Balance  \\\n",
       "3144    15638003          648     Spain    Male   55       1   81370.07   \n",
       "9939    15808971          693     Spain  Female   57       9       0.00   \n",
       "7925    15800482          586     Spain  Female   33       7       0.00   \n",
       "309     15746726          438   Germany    Male   31       8   78398.69   \n",
       "9415    15750407          768   Germany  Female   43       2  129264.05   \n",
       "\n",
       "      NumOfProducts  HasCrCard  IsActiveMember  EstimatedSalary  \n",
       "3144              1          0               1        181534.04  \n",
       "9939              2          1               1        135502.77  \n",
       "7925              2          1               1        168261.40  \n",
       "309               1          1               0         44937.01  \n",
       "9415              2          0               0         19150.14  "
      ]
     },
     "metadata": {},
     "output_type": "display_data"
    }
   ],
   "source": [
    "display(X_train.head())"
   ]
  },
  {
   "cell_type": "code",
   "execution_count": 35,
   "metadata": {
    "deletable": false,
    "nbgrader": {
     "cell_type": "code",
     "checksum": "276c576ccc6e6b210cd4ba1ae0cc7360",
     "grade": false,
     "grade_id": "cell-66dbf242bf1a9faa",
     "locked": false,
     "schema_version": 3,
     "solution": true,
     "task": false
    }
   },
   "outputs": [],
   "source": [
    "numeric_features = ['CreditScore', 'Age', 'Tenure', 'Balance', 'NumOfProducts', 'HasCrCard', 'IsActiveMember', 'EstimatedSalary']\n",
    "categorical_features = ['Geography']  \n",
    "drop_features = ['CustomerId']\n",
    "binary_features = ['Gender']"
   ]
  },
  {
   "cell_type": "code",
   "execution_count": 36,
   "metadata": {
    "deletable": false,
    "editable": false,
    "nbgrader": {
     "cell_type": "code",
     "checksum": "3e01d54db20b8c570ddc3c2e4bf8c4ef",
     "grade": true,
     "grade_id": "cell-b422078fdd00a9a8",
     "locked": true,
     "points": 1,
     "schema_version": 3,
     "solution": false,
     "task": false
    }
   },
   "outputs": [
    {
     "data": {
      "text/plain": [
       "'Success'"
      ]
     },
     "execution_count": 36,
     "metadata": {},
     "output_type": "execute_result"
    }
   ],
   "source": [
    "t.test_2_5_1(numeric_features)"
   ]
  },
  {
   "cell_type": "code",
   "execution_count": 37,
   "metadata": {
    "deletable": false,
    "editable": false,
    "nbgrader": {
     "cell_type": "code",
     "checksum": "6593b949763776cecf0d519875726fbb",
     "grade": true,
     "grade_id": "cell-fd94cbdf40c54387",
     "locked": true,
     "points": 2,
     "schema_version": 3,
     "solution": false,
     "task": false
    }
   },
   "outputs": [],
   "source": [
    "# check that the variable exists\n",
    "assert 'categorical_features' in globals(\n",
    "), \"Please make sure that your solution is named 'categorical_features'\"\n",
    "\n",
    "# This test has been intentionally hidden. It will be up to you to decide if your solution\n",
    "# is sufficiently good."
   ]
  },
  {
   "cell_type": "code",
   "execution_count": 38,
   "metadata": {
    "deletable": false,
    "editable": false,
    "nbgrader": {
     "cell_type": "code",
     "checksum": "b319e1c5c2143f1c1facad9f2661aa27",
     "grade": true,
     "grade_id": "cell-9260945a70a8df44",
     "locked": true,
     "points": 1,
     "schema_version": 3,
     "solution": false,
     "task": false
    }
   },
   "outputs": [
    {
     "data": {
      "text/plain": [
       "'Success'"
      ]
     },
     "execution_count": 38,
     "metadata": {},
     "output_type": "execute_result"
    }
   ],
   "source": [
    "t.test_2_5_3(drop_features)"
   ]
  },
  {
   "cell_type": "code",
   "execution_count": 39,
   "metadata": {
    "deletable": false,
    "editable": false,
    "nbgrader": {
     "cell_type": "code",
     "checksum": "ba41741e8cd540f315c47d432d8e1294",
     "grade": true,
     "grade_id": "cell-8a7d80a0f3f69e0b",
     "locked": true,
     "points": 1,
     "schema_version": 3,
     "solution": false,
     "task": false
    }
   },
   "outputs": [
    {
     "data": {
      "text/plain": [
       "'Success'"
      ]
     },
     "execution_count": 39,
     "metadata": {},
     "output_type": "execute_result"
    }
   ],
   "source": [
    "t.test_2_5_4(binary_features)"
   ]
  },
  {
   "cell_type": "markdown",
   "metadata": {},
   "source": [
    "Since we have no null values we can skip the individual pipelines and make our column transforming with just a single transformation. \n",
    "\n",
    "Because everyone needs a little help once in a while, we are going to do this part for you! "
   ]
  },
  {
   "cell_type": "code",
   "execution_count": 40,
   "metadata": {},
   "outputs": [],
   "source": [
    "# We don't need to perform imputation on each feature type.\n",
    "\n",
    "preprocessor = make_column_transformer(\n",
    "    (\"drop\", drop_features),\n",
    "    (StandardScaler(), numeric_features),\n",
    "    (OneHotEncoder(handle_unknown = \"ignore\"), categorical_features),\n",
    "    (OneHotEncoder(handle_unknown = \"error\", drop = \"if_binary\"), binary_features)\n",
    ")"
   ]
  },
  {
   "cell_type": "markdown",
   "metadata": {},
   "source": [
    "**Question 2.6** <br> {points: 2}  \n",
    "\n",
    "In this question, you will be using the [`RandomForestClassifier`](https://scikit-learn.org/stable/modules/generated/sklearn.ensemble.RandomForestClassifier.html) which you haven't studied yet but did see in assignment 3.  You should feel comfortable using models with our usual ML workflow even if you haven't seen them before. \n",
    "\n",
    "\n",
    "Build a pipeline named `unbalanced_pipe` that first preprocesses `preprocessor` and then builds a  `RandomForestClassifier` using a random_state of 77. \n",
    "\n",
    "Carry out cross-validation on `unbalanced_pipe` and the training set using the `cross_validate` function and the following evaluation metrics:\n",
    "- `accuracy`\n",
    "- `precision`\n",
    "- `recall`\n",
    "- `f1`\n",
    "\n",
    "Note that you can pass multiple [scoring metrics](https://scikit-learn.org/stable/modules/model_evaluation.html#scoring-parameter) as a list or a dict to the `scoring` parameter. \n",
    "\n",
    "Save the results of the cross-validation in a dataframe named`rf_unbalanced_scores`."
   ]
  },
  {
   "cell_type": "code",
   "execution_count": 41,
   "metadata": {
    "deletable": false,
    "nbgrader": {
     "cell_type": "code",
     "checksum": "c9e544e4a429e0c47241b64eb1eb8d2e",
     "grade": false,
     "grade_id": "cell-0de662581b33ae12",
     "locked": false,
     "schema_version": 3,
     "solution": true,
     "task": false
    }
   },
   "outputs": [
    {
     "data": {
      "text/html": [
       "<div>\n",
       "<style scoped>\n",
       "    .dataframe tbody tr th:only-of-type {\n",
       "        vertical-align: middle;\n",
       "    }\n",
       "\n",
       "    .dataframe tbody tr th {\n",
       "        vertical-align: top;\n",
       "    }\n",
       "\n",
       "    .dataframe thead th {\n",
       "        text-align: right;\n",
       "    }\n",
       "</style>\n",
       "<table border=\"1\" class=\"dataframe\">\n",
       "  <thead>\n",
       "    <tr style=\"text-align: right;\">\n",
       "      <th></th>\n",
       "      <th>fit_time</th>\n",
       "      <th>score_time</th>\n",
       "      <th>test_accuracy</th>\n",
       "      <th>train_accuracy</th>\n",
       "      <th>test_precision</th>\n",
       "      <th>train_precision</th>\n",
       "      <th>test_recall</th>\n",
       "      <th>train_recall</th>\n",
       "      <th>test_f1</th>\n",
       "      <th>train_f1</th>\n",
       "    </tr>\n",
       "  </thead>\n",
       "  <tbody>\n",
       "    <tr>\n",
       "      <th>0</th>\n",
       "      <td>2.930581</td>\n",
       "      <td>0.187446</td>\n",
       "      <td>0.858571</td>\n",
       "      <td>1.0</td>\n",
       "      <td>0.744444</td>\n",
       "      <td>1.0</td>\n",
       "      <td>0.468531</td>\n",
       "      <td>1.0</td>\n",
       "      <td>0.575107</td>\n",
       "      <td>1.0</td>\n",
       "    </tr>\n",
       "    <tr>\n",
       "      <th>1</th>\n",
       "      <td>2.702435</td>\n",
       "      <td>0.247491</td>\n",
       "      <td>0.842143</td>\n",
       "      <td>1.0</td>\n",
       "      <td>0.721088</td>\n",
       "      <td>1.0</td>\n",
       "      <td>0.370629</td>\n",
       "      <td>1.0</td>\n",
       "      <td>0.489607</td>\n",
       "      <td>1.0</td>\n",
       "    </tr>\n",
       "    <tr>\n",
       "      <th>2</th>\n",
       "      <td>3.093207</td>\n",
       "      <td>0.242700</td>\n",
       "      <td>0.868571</td>\n",
       "      <td>1.0</td>\n",
       "      <td>0.810976</td>\n",
       "      <td>1.0</td>\n",
       "      <td>0.465035</td>\n",
       "      <td>1.0</td>\n",
       "      <td>0.591111</td>\n",
       "      <td>1.0</td>\n",
       "    </tr>\n",
       "    <tr>\n",
       "      <th>3</th>\n",
       "      <td>4.091995</td>\n",
       "      <td>0.234395</td>\n",
       "      <td>0.843571</td>\n",
       "      <td>1.0</td>\n",
       "      <td>0.680851</td>\n",
       "      <td>1.0</td>\n",
       "      <td>0.445993</td>\n",
       "      <td>1.0</td>\n",
       "      <td>0.538947</td>\n",
       "      <td>1.0</td>\n",
       "    </tr>\n",
       "    <tr>\n",
       "      <th>4</th>\n",
       "      <td>4.955261</td>\n",
       "      <td>0.299654</td>\n",
       "      <td>0.872857</td>\n",
       "      <td>1.0</td>\n",
       "      <td>0.834356</td>\n",
       "      <td>1.0</td>\n",
       "      <td>0.473868</td>\n",
       "      <td>1.0</td>\n",
       "      <td>0.604444</td>\n",
       "      <td>1.0</td>\n",
       "    </tr>\n",
       "  </tbody>\n",
       "</table>\n",
       "</div>"
      ],
      "text/plain": [
       "   fit_time  score_time  test_accuracy  train_accuracy  test_precision  \\\n",
       "0  2.930581    0.187446       0.858571             1.0        0.744444   \n",
       "1  2.702435    0.247491       0.842143             1.0        0.721088   \n",
       "2  3.093207    0.242700       0.868571             1.0        0.810976   \n",
       "3  4.091995    0.234395       0.843571             1.0        0.680851   \n",
       "4  4.955261    0.299654       0.872857             1.0        0.834356   \n",
       "\n",
       "   train_precision  test_recall  train_recall   test_f1  train_f1  \n",
       "0              1.0     0.468531           1.0  0.575107       1.0  \n",
       "1              1.0     0.370629           1.0  0.489607       1.0  \n",
       "2              1.0     0.465035           1.0  0.591111       1.0  \n",
       "3              1.0     0.445993           1.0  0.538947       1.0  \n",
       "4              1.0     0.473868           1.0  0.604444       1.0  "
      ]
     },
     "metadata": {},
     "output_type": "display_data"
    }
   ],
   "source": [
    "unbalanced_pipe = make_pipeline(\n",
    "    preprocessor,\n",
    "    RandomForestClassifier(random_state = 77)\n",
    ")\n",
    "\n",
    "\n",
    "rf_unbalanced_scores = pd.DataFrame(\n",
    "    cross_validate(\n",
    "        estimator = unbalanced_pipe,\n",
    "        X = X_train, y = y_train,\n",
    "        cv = 5, return_train_score = True,\n",
    "        scoring = ['accuracy', 'precision', 'recall', 'f1']\n",
    "    )\n",
    ")\n",
    "\n",
    "display(rf_unbalanced_scores)"
   ]
  },
  {
   "cell_type": "code",
   "execution_count": 42,
   "metadata": {
    "deletable": false,
    "editable": false,
    "nbgrader": {
     "cell_type": "code",
     "checksum": "cf19a4f79b7fb0b22960cae2227b3a22",
     "grade": true,
     "grade_id": "cell-e578cb24650f0946",
     "locked": true,
     "points": 1,
     "schema_version": 3,
     "solution": false,
     "task": false
    }
   },
   "outputs": [
    {
     "data": {
      "text/plain": [
       "'Success'"
      ]
     },
     "execution_count": 42,
     "metadata": {},
     "output_type": "execute_result"
    }
   ],
   "source": [
    "t.test_2_6(rf_unbalanced_scores)"
   ]
  },
  {
   "cell_type": "markdown",
   "metadata": {},
   "source": [
    "**Question 2.7** <br> {points: 1} \n",
    "\n",
    "What is the mean of each column in `rf_unbalanced_scores`?\n",
    "\n",
    "\n",
    "Save your result in an object named `rf_unbalanced_mean`. "
   ]
  },
  {
   "cell_type": "code",
   "execution_count": 43,
   "metadata": {
    "deletable": false,
    "nbgrader": {
     "cell_type": "code",
     "checksum": "3689cb896183d89fb73b66b95b686e08",
     "grade": false,
     "grade_id": "cell-22fba680c83299d9",
     "locked": false,
     "schema_version": 3,
     "solution": true,
     "task": false
    }
   },
   "outputs": [
    {
     "data": {
      "text/plain": [
       "fit_time           3.554696\n",
       "score_time         0.242337\n",
       "test_accuracy      0.857143\n",
       "train_accuracy     1.000000\n",
       "test_precision     0.758343\n",
       "train_precision    1.000000\n",
       "test_recall        0.444811\n",
       "train_recall       1.000000\n",
       "test_f1            0.559844\n",
       "train_f1           1.000000\n",
       "dtype: float64"
      ]
     },
     "metadata": {},
     "output_type": "display_data"
    }
   ],
   "source": [
    "rf_unbalanced_mean = rf_unbalanced_scores.mean()\n",
    "\n",
    "display(rf_unbalanced_mean)"
   ]
  },
  {
   "cell_type": "code",
   "execution_count": 44,
   "metadata": {
    "deletable": false,
    "editable": false,
    "nbgrader": {
     "cell_type": "code",
     "checksum": "686881db3c233c199a755d522cff5785",
     "grade": true,
     "grade_id": "cell-472ac701d5761924",
     "locked": true,
     "points": 1,
     "schema_version": 3,
     "solution": false,
     "task": false
    }
   },
   "outputs": [
    {
     "data": {
      "text/plain": [
       "'Success'"
      ]
     },
     "execution_count": 44,
     "metadata": {},
     "output_type": "execute_result"
    }
   ],
   "source": [
    "t.test_2_7(rf_unbalanced_mean)"
   ]
  },
  {
   "cell_type": "markdown",
   "metadata": {},
   "source": [
    "**Question 2.8** <br> {points: 2}  \n",
    "\n",
    "Repeat question 6 above but this time set `class_weight=\"balanced\"` in the `RandomForestClassifier`. \n",
    "Save the new pipeline in an object named `balanced_pipe`. Don't forget to use `random_state=77`for the classifier. \n",
    "\n",
    "Carry out cross-validation on `balanced_pipe` but this time save the scores in a dataframe named `rf_balanced_scores`."
   ]
  },
  {
   "cell_type": "code",
   "execution_count": 45,
   "metadata": {
    "deletable": false,
    "nbgrader": {
     "cell_type": "code",
     "checksum": "202526d1904a72b94b36106669929ff9",
     "grade": false,
     "grade_id": "cell-1c4687b4a9a6aac8",
     "locked": false,
     "schema_version": 3,
     "solution": true,
     "task": false
    }
   },
   "outputs": [
    {
     "data": {
      "text/html": [
       "<div>\n",
       "<style scoped>\n",
       "    .dataframe tbody tr th:only-of-type {\n",
       "        vertical-align: middle;\n",
       "    }\n",
       "\n",
       "    .dataframe tbody tr th {\n",
       "        vertical-align: top;\n",
       "    }\n",
       "\n",
       "    .dataframe thead th {\n",
       "        text-align: right;\n",
       "    }\n",
       "</style>\n",
       "<table border=\"1\" class=\"dataframe\">\n",
       "  <thead>\n",
       "    <tr style=\"text-align: right;\">\n",
       "      <th></th>\n",
       "      <th>fit_time</th>\n",
       "      <th>score_time</th>\n",
       "      <th>test_accuracy</th>\n",
       "      <th>train_accuracy</th>\n",
       "      <th>test_precision</th>\n",
       "      <th>train_precision</th>\n",
       "      <th>test_recall</th>\n",
       "      <th>train_recall</th>\n",
       "      <th>test_f1</th>\n",
       "      <th>train_f1</th>\n",
       "    </tr>\n",
       "  </thead>\n",
       "  <tbody>\n",
       "    <tr>\n",
       "      <th>0</th>\n",
       "      <td>3.933444</td>\n",
       "      <td>0.296894</td>\n",
       "      <td>0.856429</td>\n",
       "      <td>1.0</td>\n",
       "      <td>0.751479</td>\n",
       "      <td>1.0</td>\n",
       "      <td>0.444056</td>\n",
       "      <td>1.0</td>\n",
       "      <td>0.558242</td>\n",
       "      <td>1.0</td>\n",
       "    </tr>\n",
       "    <tr>\n",
       "      <th>1</th>\n",
       "      <td>3.635341</td>\n",
       "      <td>0.244916</td>\n",
       "      <td>0.839286</td>\n",
       "      <td>1.0</td>\n",
       "      <td>0.729323</td>\n",
       "      <td>1.0</td>\n",
       "      <td>0.339161</td>\n",
       "      <td>1.0</td>\n",
       "      <td>0.463007</td>\n",
       "      <td>1.0</td>\n",
       "    </tr>\n",
       "    <tr>\n",
       "      <th>2</th>\n",
       "      <td>3.823553</td>\n",
       "      <td>0.247167</td>\n",
       "      <td>0.868571</td>\n",
       "      <td>1.0</td>\n",
       "      <td>0.840000</td>\n",
       "      <td>1.0</td>\n",
       "      <td>0.440559</td>\n",
       "      <td>1.0</td>\n",
       "      <td>0.577982</td>\n",
       "      <td>1.0</td>\n",
       "    </tr>\n",
       "    <tr>\n",
       "      <th>3</th>\n",
       "      <td>3.688452</td>\n",
       "      <td>0.271237</td>\n",
       "      <td>0.847143</td>\n",
       "      <td>1.0</td>\n",
       "      <td>0.706215</td>\n",
       "      <td>1.0</td>\n",
       "      <td>0.435540</td>\n",
       "      <td>1.0</td>\n",
       "      <td>0.538793</td>\n",
       "      <td>1.0</td>\n",
       "    </tr>\n",
       "    <tr>\n",
       "      <th>4</th>\n",
       "      <td>3.197311</td>\n",
       "      <td>0.209775</td>\n",
       "      <td>0.862857</td>\n",
       "      <td>1.0</td>\n",
       "      <td>0.806452</td>\n",
       "      <td>1.0</td>\n",
       "      <td>0.435540</td>\n",
       "      <td>1.0</td>\n",
       "      <td>0.565611</td>\n",
       "      <td>1.0</td>\n",
       "    </tr>\n",
       "  </tbody>\n",
       "</table>\n",
       "</div>"
      ],
      "text/plain": [
       "   fit_time  score_time  test_accuracy  train_accuracy  test_precision  \\\n",
       "0  3.933444    0.296894       0.856429             1.0        0.751479   \n",
       "1  3.635341    0.244916       0.839286             1.0        0.729323   \n",
       "2  3.823553    0.247167       0.868571             1.0        0.840000   \n",
       "3  3.688452    0.271237       0.847143             1.0        0.706215   \n",
       "4  3.197311    0.209775       0.862857             1.0        0.806452   \n",
       "\n",
       "   train_precision  test_recall  train_recall   test_f1  train_f1  \n",
       "0              1.0     0.444056           1.0  0.558242       1.0  \n",
       "1              1.0     0.339161           1.0  0.463007       1.0  \n",
       "2              1.0     0.440559           1.0  0.577982       1.0  \n",
       "3              1.0     0.435540           1.0  0.538793       1.0  \n",
       "4              1.0     0.435540           1.0  0.565611       1.0  "
      ]
     },
     "metadata": {},
     "output_type": "display_data"
    }
   ],
   "source": [
    "balanced_pipe = make_pipeline(\n",
    "    preprocessor,\n",
    "    RandomForestClassifier(random_state = 77, class_weight = 'balanced')\n",
    ")\n",
    "\n",
    "rf_balanced_scores = pd.DataFrame(\n",
    "    cross_validate(\n",
    "        estimator = balanced_pipe,\n",
    "        X = X_train, y = y_train,\n",
    "        cv = 5, return_train_score = True,\n",
    "        scoring = ['accuracy', 'precision', 'recall', 'f1']\n",
    "    )\n",
    ")\n",
    "\n",
    "display(rf_balanced_scores)"
   ]
  },
  {
   "cell_type": "code",
   "execution_count": 46,
   "metadata": {
    "deletable": false,
    "editable": false,
    "nbgrader": {
     "cell_type": "code",
     "checksum": "7a7620a4c80f3634f445ffa7ae772dcd",
     "grade": true,
     "grade_id": "cell-49f5395fd9aa9edd",
     "locked": true,
     "points": 2,
     "schema_version": 3,
     "solution": false,
     "task": false
    }
   },
   "outputs": [
    {
     "data": {
      "text/plain": [
       "'Success'"
      ]
     },
     "execution_count": 46,
     "metadata": {},
     "output_type": "execute_result"
    }
   ],
   "source": [
    "t.test_2_8(rf_balanced_scores)"
   ]
  },
  {
   "cell_type": "markdown",
   "metadata": {},
   "source": [
    "**Question 2.9** <br> {points: 1} \n",
    "\n",
    "What is the mean of each column in `rf_balanced_scores`?\n",
    "\n",
    "\n",
    "Save your result in an object named `rf_balanced_mean`. "
   ]
  },
  {
   "cell_type": "code",
   "execution_count": 47,
   "metadata": {
    "deletable": false,
    "nbgrader": {
     "cell_type": "code",
     "checksum": "0fd2ed2b7e126bb421670acc51b7e679",
     "grade": false,
     "grade_id": "cell-1d3c898d4c72428c",
     "locked": false,
     "schema_version": 3,
     "solution": true,
     "task": false
    }
   },
   "outputs": [
    {
     "data": {
      "text/plain": [
       "fit_time           3.655620\n",
       "score_time         0.253998\n",
       "test_accuracy      0.854857\n",
       "train_accuracy     1.000000\n",
       "test_precision     0.766694\n",
       "train_precision    1.000000\n",
       "test_recall        0.418971\n",
       "train_recall       1.000000\n",
       "test_f1            0.540727\n",
       "train_f1           1.000000\n",
       "dtype: float64"
      ]
     },
     "metadata": {},
     "output_type": "display_data"
    }
   ],
   "source": [
    "rf_balanced_mean = rf_balanced_scores.mean()\n",
    "\n",
    "display(rf_balanced_mean)"
   ]
  },
  {
   "cell_type": "code",
   "execution_count": 48,
   "metadata": {
    "deletable": false,
    "editable": false,
    "nbgrader": {
     "cell_type": "code",
     "checksum": "f3cf89f57851f482b3300f32b64441b5",
     "grade": true,
     "grade_id": "cell-f57fbaf001a3bd23",
     "locked": true,
     "points": 1,
     "schema_version": 3,
     "solution": false,
     "task": false
    }
   },
   "outputs": [
    {
     "data": {
      "text/plain": [
       "'Success'"
      ]
     },
     "execution_count": 48,
     "metadata": {},
     "output_type": "execute_result"
    }
   ],
   "source": [
    "t.test_2_9(rf_balanced_mean)"
   ]
  },
  {
   "cell_type": "markdown",
   "metadata": {},
   "source": [
    "**Question 2.10** <br> {points: 1} \n",
    "\n",
    "Look at your results above. Which of the following statements are true? \n",
    "\n",
    "i) Both random forest models have better mean validation accuracy performance than the dummy classifier.\n",
    "\n",
    "ii) The balanced class random forest model has a better mean validation recall score than the unbalanced random forest model. \n",
    "\n",
    "iii) The balanced class random forest model has a better mean validation precision score than the unbalanced random forest model.  \n",
    "\n",
    "iv) Mean validation precision and recall scores only increased in the balanced class random forest model.\n",
    "\n",
    "v) Both random forest models show higher validation precision scores than validation recall scores. \n",
    "\n",
    "\n",
    "Select all that apply and add them into a list named `answer_2_10`. \n",
    "For example if statement i and iv are both true, your solution will look like this: \n",
    "\n",
    "```\n",
    "answer_2_10 = [\"i\", \"iv\"] \n",
    "```\n"
   ]
  },
  {
   "cell_type": "code",
   "execution_count": 49,
   "metadata": {
    "deletable": false,
    "nbgrader": {
     "cell_type": "code",
     "checksum": "0f28fc9c7029911084e74b483324d565",
     "grade": false,
     "grade_id": "cell-6de147c823c76215",
     "locked": false,
     "schema_version": 3,
     "solution": true,
     "task": false
    }
   },
   "outputs": [],
   "source": [
    "answer_2_10 = ['i', 'iii', 'v'] "
   ]
  },
  {
   "cell_type": "code",
   "execution_count": 50,
   "metadata": {
    "deletable": false,
    "editable": false,
    "nbgrader": {
     "cell_type": "code",
     "checksum": "9277f4f016fc9760497d21a42eee8b91",
     "grade": true,
     "grade_id": "cell-fd3c4b417ac834cf",
     "locked": true,
     "points": 1,
     "schema_version": 3,
     "solution": false,
     "task": false
    }
   },
   "outputs": [
    {
     "data": {
      "text/plain": [
       "'Success'"
      ]
     },
     "execution_count": 50,
     "metadata": {},
     "output_type": "execute_result"
    }
   ],
   "source": [
    "t.test_2_10(answer_2_10)"
   ]
  },
  {
   "cell_type": "markdown",
   "metadata": {},
   "source": [
    "**Question 2.11** <br> {points: 1} \n",
    "\n",
    "For this next question, we have given you the majority of the code to hyperparameter tune the balanced `RandomForestClassifier`. \n",
    "\n",
    "Copy and paste the contents of the cell below into the following cell where the solution should be. Fill in the `....` blanks below so that it executes and returns the output. "
   ]
  },
  {
   "cell_type": "code",
   "execution_count": 51,
   "metadata": {},
   "outputs": [],
   "source": [
    "import scipy\n",
    "from scipy.stats import randint"
   ]
  },
  {
   "cell_type": "code",
   "execution_count": 52,
   "metadata": {
    "deletable": false,
    "nbgrader": {
     "cell_type": "code",
     "checksum": "2691f370f4b4058d046810f8b60b25f7",
     "grade": false,
     "grade_id": "cell-02e169611793d840",
     "locked": false,
     "schema_version": 3,
     "solution": true,
     "task": false
    }
   },
   "outputs": [
    {
     "data": {
      "text/plain": [
       "'\\nrf_pipeline = make_pipeline(\\n    preprocessor, ....(class_weight=...., random_state=123)\\n)\\n\\nparam_dist = {\\n    \"randomforestclassifier__n_estimators\": scipy.stats.randint(low=10, high=300),\\n    \"randomforestclassifier__max_depth\": scipy.stats.randint(low=2, high=20),\\n}\\n\\nrandom_search = ....(\\n    ....,\\n    ....,\\n    n_iter=50,\\n    cv=3,\\n    verbose=1,\\n    n_jobs=-1,\\n    ....=\"f1\",\\n    random_state=123,\\n)\\nrandom_search.....(X_train, y_train)\\n'"
      ]
     },
     "execution_count": 52,
     "metadata": {},
     "output_type": "execute_result"
    }
   ],
   "source": [
    "'''\n",
    "rf_pipeline = make_pipeline(\n",
    "    preprocessor, ....(class_weight=...., random_state=123)\n",
    ")\n",
    "\n",
    "param_dist = {\n",
    "    \"randomforestclassifier__n_estimators\": scipy.stats.randint(low=10, high=300),\n",
    "    \"randomforestclassifier__max_depth\": scipy.stats.randint(low=2, high=20),\n",
    "}\n",
    "\n",
    "random_search = ....(\n",
    "    ....,\n",
    "    ....,\n",
    "    n_iter=50,\n",
    "    cv=3,\n",
    "    verbose=1,\n",
    "    n_jobs=-1,\n",
    "    ....=\"f1\",\n",
    "    random_state=123,\n",
    ")\n",
    "random_search.....(X_train, y_train)\n",
    "'''"
   ]
  },
  {
   "cell_type": "code",
   "execution_count": 53,
   "metadata": {},
   "outputs": [
    {
     "name": "stdout",
     "output_type": "stream",
     "text": [
      "Fitting 3 folds for each of 50 candidates, totalling 150 fits\n"
     ]
    },
    {
     "data": {
      "text/html": [
       "<style>#sk-container-id-1 {color: black;background-color: white;}#sk-container-id-1 pre{padding: 0;}#sk-container-id-1 div.sk-toggleable {background-color: white;}#sk-container-id-1 label.sk-toggleable__label {cursor: pointer;display: block;width: 100%;margin-bottom: 0;padding: 0.3em;box-sizing: border-box;text-align: center;}#sk-container-id-1 label.sk-toggleable__label-arrow:before {content: \"▸\";float: left;margin-right: 0.25em;color: #696969;}#sk-container-id-1 label.sk-toggleable__label-arrow:hover:before {color: black;}#sk-container-id-1 div.sk-estimator:hover label.sk-toggleable__label-arrow:before {color: black;}#sk-container-id-1 div.sk-toggleable__content {max-height: 0;max-width: 0;overflow: hidden;text-align: left;background-color: #f0f8ff;}#sk-container-id-1 div.sk-toggleable__content pre {margin: 0.2em;color: black;border-radius: 0.25em;background-color: #f0f8ff;}#sk-container-id-1 input.sk-toggleable__control:checked~div.sk-toggleable__content {max-height: 200px;max-width: 100%;overflow: auto;}#sk-container-id-1 input.sk-toggleable__control:checked~label.sk-toggleable__label-arrow:before {content: \"▾\";}#sk-container-id-1 div.sk-estimator input.sk-toggleable__control:checked~label.sk-toggleable__label {background-color: #d4ebff;}#sk-container-id-1 div.sk-label input.sk-toggleable__control:checked~label.sk-toggleable__label {background-color: #d4ebff;}#sk-container-id-1 input.sk-hidden--visually {border: 0;clip: rect(1px 1px 1px 1px);clip: rect(1px, 1px, 1px, 1px);height: 1px;margin: -1px;overflow: hidden;padding: 0;position: absolute;width: 1px;}#sk-container-id-1 div.sk-estimator {font-family: monospace;background-color: #f0f8ff;border: 1px dotted black;border-radius: 0.25em;box-sizing: border-box;margin-bottom: 0.5em;}#sk-container-id-1 div.sk-estimator:hover {background-color: #d4ebff;}#sk-container-id-1 div.sk-parallel-item::after {content: \"\";width: 100%;border-bottom: 1px solid gray;flex-grow: 1;}#sk-container-id-1 div.sk-label:hover label.sk-toggleable__label {background-color: #d4ebff;}#sk-container-id-1 div.sk-serial::before {content: \"\";position: absolute;border-left: 1px solid gray;box-sizing: border-box;top: 0;bottom: 0;left: 50%;z-index: 0;}#sk-container-id-1 div.sk-serial {display: flex;flex-direction: column;align-items: center;background-color: white;padding-right: 0.2em;padding-left: 0.2em;position: relative;}#sk-container-id-1 div.sk-item {position: relative;z-index: 1;}#sk-container-id-1 div.sk-parallel {display: flex;align-items: stretch;justify-content: center;background-color: white;position: relative;}#sk-container-id-1 div.sk-item::before, #sk-container-id-1 div.sk-parallel-item::before {content: \"\";position: absolute;border-left: 1px solid gray;box-sizing: border-box;top: 0;bottom: 0;left: 50%;z-index: -1;}#sk-container-id-1 div.sk-parallel-item {display: flex;flex-direction: column;z-index: 1;position: relative;background-color: white;}#sk-container-id-1 div.sk-parallel-item:first-child::after {align-self: flex-end;width: 50%;}#sk-container-id-1 div.sk-parallel-item:last-child::after {align-self: flex-start;width: 50%;}#sk-container-id-1 div.sk-parallel-item:only-child::after {width: 0;}#sk-container-id-1 div.sk-dashed-wrapped {border: 1px dashed gray;margin: 0 0.4em 0.5em 0.4em;box-sizing: border-box;padding-bottom: 0.4em;background-color: white;}#sk-container-id-1 div.sk-label label {font-family: monospace;font-weight: bold;display: inline-block;line-height: 1.2em;}#sk-container-id-1 div.sk-label-container {text-align: center;}#sk-container-id-1 div.sk-container {/* jupyter's `normalize.less` sets `[hidden] { display: none; }` but bootstrap.min.css set `[hidden] { display: none !important; }` so we also need the `!important` here to be able to override the default hidden behavior on the sphinx rendered scikit-learn.org. See: https://github.com/scikit-learn/scikit-learn/issues/21755 */display: inline-block !important;position: relative;}#sk-container-id-1 div.sk-text-repr-fallback {display: none;}</style><div id=\"sk-container-id-1\" class=\"sk-top-container\"><div class=\"sk-text-repr-fallback\"><pre>RandomizedSearchCV(cv=3,\n",
       "                   estimator=Pipeline(steps=[(&#x27;columntransformer&#x27;,\n",
       "                                              ColumnTransformer(transformers=[(&#x27;drop&#x27;,\n",
       "                                                                               &#x27;drop&#x27;,\n",
       "                                                                               [&#x27;CustomerId&#x27;]),\n",
       "                                                                              (&#x27;standardscaler&#x27;,\n",
       "                                                                               StandardScaler(),\n",
       "                                                                               [&#x27;CreditScore&#x27;,\n",
       "                                                                                &#x27;Age&#x27;,\n",
       "                                                                                &#x27;Tenure&#x27;,\n",
       "                                                                                &#x27;Balance&#x27;,\n",
       "                                                                                &#x27;NumOfProducts&#x27;,\n",
       "                                                                                &#x27;HasCrCard&#x27;,\n",
       "                                                                                &#x27;IsActiveMember&#x27;,\n",
       "                                                                                &#x27;EstimatedSalary&#x27;]),\n",
       "                                                                              (&#x27;onehotencoder-1&#x27;,\n",
       "                                                                               OneHotEncoder(handle_unknown=&#x27;ignore&#x27;),\n",
       "                                                                               [&#x27;Geography&#x27;]),\n",
       "                                                                              (&#x27;o...\n",
       "                                              RandomForestClassifier(class_weight=&#x27;balanced&#x27;,\n",
       "                                                                     random_state=123))]),\n",
       "                   n_iter=50, n_jobs=-1,\n",
       "                   param_distributions={&#x27;randomforestclassifier__max_depth&#x27;: &lt;scipy.stats._distn_infrastructure.rv_discrete_frozen object at 0x000001E551EF3280&gt;,\n",
       "                                        &#x27;randomforestclassifier__n_estimators&#x27;: &lt;scipy.stats._distn_infrastructure.rv_discrete_frozen object at 0x000001E551EF3A30&gt;},\n",
       "                   random_state=123, scoring=&#x27;f1&#x27;, verbose=1)</pre><b>In a Jupyter environment, please rerun this cell to show the HTML representation or trust the notebook. <br />On GitHub, the HTML representation is unable to render, please try loading this page with nbviewer.org.</b></div><div class=\"sk-container\" hidden><div class=\"sk-item sk-dashed-wrapped\"><div class=\"sk-label-container\"><div class=\"sk-label sk-toggleable\"><input class=\"sk-toggleable__control sk-hidden--visually\" id=\"sk-estimator-id-1\" type=\"checkbox\" ><label for=\"sk-estimator-id-1\" class=\"sk-toggleable__label sk-toggleable__label-arrow\">RandomizedSearchCV</label><div class=\"sk-toggleable__content\"><pre>RandomizedSearchCV(cv=3,\n",
       "                   estimator=Pipeline(steps=[(&#x27;columntransformer&#x27;,\n",
       "                                              ColumnTransformer(transformers=[(&#x27;drop&#x27;,\n",
       "                                                                               &#x27;drop&#x27;,\n",
       "                                                                               [&#x27;CustomerId&#x27;]),\n",
       "                                                                              (&#x27;standardscaler&#x27;,\n",
       "                                                                               StandardScaler(),\n",
       "                                                                               [&#x27;CreditScore&#x27;,\n",
       "                                                                                &#x27;Age&#x27;,\n",
       "                                                                                &#x27;Tenure&#x27;,\n",
       "                                                                                &#x27;Balance&#x27;,\n",
       "                                                                                &#x27;NumOfProducts&#x27;,\n",
       "                                                                                &#x27;HasCrCard&#x27;,\n",
       "                                                                                &#x27;IsActiveMember&#x27;,\n",
       "                                                                                &#x27;EstimatedSalary&#x27;]),\n",
       "                                                                              (&#x27;onehotencoder-1&#x27;,\n",
       "                                                                               OneHotEncoder(handle_unknown=&#x27;ignore&#x27;),\n",
       "                                                                               [&#x27;Geography&#x27;]),\n",
       "                                                                              (&#x27;o...\n",
       "                                              RandomForestClassifier(class_weight=&#x27;balanced&#x27;,\n",
       "                                                                     random_state=123))]),\n",
       "                   n_iter=50, n_jobs=-1,\n",
       "                   param_distributions={&#x27;randomforestclassifier__max_depth&#x27;: &lt;scipy.stats._distn_infrastructure.rv_discrete_frozen object at 0x000001E551EF3280&gt;,\n",
       "                                        &#x27;randomforestclassifier__n_estimators&#x27;: &lt;scipy.stats._distn_infrastructure.rv_discrete_frozen object at 0x000001E551EF3A30&gt;},\n",
       "                   random_state=123, scoring=&#x27;f1&#x27;, verbose=1)</pre></div></div></div><div class=\"sk-parallel\"><div class=\"sk-parallel-item\"><div class=\"sk-item\"><div class=\"sk-label-container\"><div class=\"sk-label sk-toggleable\"><input class=\"sk-toggleable__control sk-hidden--visually\" id=\"sk-estimator-id-2\" type=\"checkbox\" ><label for=\"sk-estimator-id-2\" class=\"sk-toggleable__label sk-toggleable__label-arrow\">estimator: Pipeline</label><div class=\"sk-toggleable__content\"><pre>Pipeline(steps=[(&#x27;columntransformer&#x27;,\n",
       "                 ColumnTransformer(transformers=[(&#x27;drop&#x27;, &#x27;drop&#x27;,\n",
       "                                                  [&#x27;CustomerId&#x27;]),\n",
       "                                                 (&#x27;standardscaler&#x27;,\n",
       "                                                  StandardScaler(),\n",
       "                                                  [&#x27;CreditScore&#x27;, &#x27;Age&#x27;,\n",
       "                                                   &#x27;Tenure&#x27;, &#x27;Balance&#x27;,\n",
       "                                                   &#x27;NumOfProducts&#x27;, &#x27;HasCrCard&#x27;,\n",
       "                                                   &#x27;IsActiveMember&#x27;,\n",
       "                                                   &#x27;EstimatedSalary&#x27;]),\n",
       "                                                 (&#x27;onehotencoder-1&#x27;,\n",
       "                                                  OneHotEncoder(handle_unknown=&#x27;ignore&#x27;),\n",
       "                                                  [&#x27;Geography&#x27;]),\n",
       "                                                 (&#x27;onehotencoder-2&#x27;,\n",
       "                                                  OneHotEncoder(drop=&#x27;if_binary&#x27;),\n",
       "                                                  [&#x27;Gender&#x27;])])),\n",
       "                (&#x27;randomforestclassifier&#x27;,\n",
       "                 RandomForestClassifier(class_weight=&#x27;balanced&#x27;,\n",
       "                                        random_state=123))])</pre></div></div></div><div class=\"sk-serial\"><div class=\"sk-item\"><div class=\"sk-serial\"><div class=\"sk-item sk-dashed-wrapped\"><div class=\"sk-label-container\"><div class=\"sk-label sk-toggleable\"><input class=\"sk-toggleable__control sk-hidden--visually\" id=\"sk-estimator-id-3\" type=\"checkbox\" ><label for=\"sk-estimator-id-3\" class=\"sk-toggleable__label sk-toggleable__label-arrow\">columntransformer: ColumnTransformer</label><div class=\"sk-toggleable__content\"><pre>ColumnTransformer(transformers=[(&#x27;drop&#x27;, &#x27;drop&#x27;, [&#x27;CustomerId&#x27;]),\n",
       "                                (&#x27;standardscaler&#x27;, StandardScaler(),\n",
       "                                 [&#x27;CreditScore&#x27;, &#x27;Age&#x27;, &#x27;Tenure&#x27;, &#x27;Balance&#x27;,\n",
       "                                  &#x27;NumOfProducts&#x27;, &#x27;HasCrCard&#x27;,\n",
       "                                  &#x27;IsActiveMember&#x27;, &#x27;EstimatedSalary&#x27;]),\n",
       "                                (&#x27;onehotencoder-1&#x27;,\n",
       "                                 OneHotEncoder(handle_unknown=&#x27;ignore&#x27;),\n",
       "                                 [&#x27;Geography&#x27;]),\n",
       "                                (&#x27;onehotencoder-2&#x27;,\n",
       "                                 OneHotEncoder(drop=&#x27;if_binary&#x27;), [&#x27;Gender&#x27;])])</pre></div></div></div><div class=\"sk-parallel\"><div class=\"sk-parallel-item\"><div class=\"sk-item\"><div class=\"sk-label-container\"><div class=\"sk-label sk-toggleable\"><input class=\"sk-toggleable__control sk-hidden--visually\" id=\"sk-estimator-id-4\" type=\"checkbox\" ><label for=\"sk-estimator-id-4\" class=\"sk-toggleable__label sk-toggleable__label-arrow\">drop</label><div class=\"sk-toggleable__content\"><pre>[&#x27;CustomerId&#x27;]</pre></div></div></div><div class=\"sk-serial\"><div class=\"sk-item\"><div class=\"sk-estimator sk-toggleable\"><input class=\"sk-toggleable__control sk-hidden--visually\" id=\"sk-estimator-id-5\" type=\"checkbox\" ><label for=\"sk-estimator-id-5\" class=\"sk-toggleable__label sk-toggleable__label-arrow\">drop</label><div class=\"sk-toggleable__content\"><pre>drop</pre></div></div></div></div></div></div><div class=\"sk-parallel-item\"><div class=\"sk-item\"><div class=\"sk-label-container\"><div class=\"sk-label sk-toggleable\"><input class=\"sk-toggleable__control sk-hidden--visually\" id=\"sk-estimator-id-6\" type=\"checkbox\" ><label for=\"sk-estimator-id-6\" class=\"sk-toggleable__label sk-toggleable__label-arrow\">standardscaler</label><div class=\"sk-toggleable__content\"><pre>[&#x27;CreditScore&#x27;, &#x27;Age&#x27;, &#x27;Tenure&#x27;, &#x27;Balance&#x27;, &#x27;NumOfProducts&#x27;, &#x27;HasCrCard&#x27;, &#x27;IsActiveMember&#x27;, &#x27;EstimatedSalary&#x27;]</pre></div></div></div><div class=\"sk-serial\"><div class=\"sk-item\"><div class=\"sk-estimator sk-toggleable\"><input class=\"sk-toggleable__control sk-hidden--visually\" id=\"sk-estimator-id-7\" type=\"checkbox\" ><label for=\"sk-estimator-id-7\" class=\"sk-toggleable__label sk-toggleable__label-arrow\">StandardScaler</label><div class=\"sk-toggleable__content\"><pre>StandardScaler()</pre></div></div></div></div></div></div><div class=\"sk-parallel-item\"><div class=\"sk-item\"><div class=\"sk-label-container\"><div class=\"sk-label sk-toggleable\"><input class=\"sk-toggleable__control sk-hidden--visually\" id=\"sk-estimator-id-8\" type=\"checkbox\" ><label for=\"sk-estimator-id-8\" class=\"sk-toggleable__label sk-toggleable__label-arrow\">onehotencoder-1</label><div class=\"sk-toggleable__content\"><pre>[&#x27;Geography&#x27;]</pre></div></div></div><div class=\"sk-serial\"><div class=\"sk-item\"><div class=\"sk-estimator sk-toggleable\"><input class=\"sk-toggleable__control sk-hidden--visually\" id=\"sk-estimator-id-9\" type=\"checkbox\" ><label for=\"sk-estimator-id-9\" class=\"sk-toggleable__label sk-toggleable__label-arrow\">OneHotEncoder</label><div class=\"sk-toggleable__content\"><pre>OneHotEncoder(handle_unknown=&#x27;ignore&#x27;)</pre></div></div></div></div></div></div><div class=\"sk-parallel-item\"><div class=\"sk-item\"><div class=\"sk-label-container\"><div class=\"sk-label sk-toggleable\"><input class=\"sk-toggleable__control sk-hidden--visually\" id=\"sk-estimator-id-10\" type=\"checkbox\" ><label for=\"sk-estimator-id-10\" class=\"sk-toggleable__label sk-toggleable__label-arrow\">onehotencoder-2</label><div class=\"sk-toggleable__content\"><pre>[&#x27;Gender&#x27;]</pre></div></div></div><div class=\"sk-serial\"><div class=\"sk-item\"><div class=\"sk-estimator sk-toggleable\"><input class=\"sk-toggleable__control sk-hidden--visually\" id=\"sk-estimator-id-11\" type=\"checkbox\" ><label for=\"sk-estimator-id-11\" class=\"sk-toggleable__label sk-toggleable__label-arrow\">OneHotEncoder</label><div class=\"sk-toggleable__content\"><pre>OneHotEncoder(drop=&#x27;if_binary&#x27;)</pre></div></div></div></div></div></div></div></div><div class=\"sk-item\"><div class=\"sk-estimator sk-toggleable\"><input class=\"sk-toggleable__control sk-hidden--visually\" id=\"sk-estimator-id-12\" type=\"checkbox\" ><label for=\"sk-estimator-id-12\" class=\"sk-toggleable__label sk-toggleable__label-arrow\">RandomForestClassifier</label><div class=\"sk-toggleable__content\"><pre>RandomForestClassifier(class_weight=&#x27;balanced&#x27;, random_state=123)</pre></div></div></div></div></div></div></div></div></div></div></div></div>"
      ],
      "text/plain": [
       "RandomizedSearchCV(cv=3,\n",
       "                   estimator=Pipeline(steps=[('columntransformer',\n",
       "                                              ColumnTransformer(transformers=[('drop',\n",
       "                                                                               'drop',\n",
       "                                                                               ['CustomerId']),\n",
       "                                                                              ('standardscaler',\n",
       "                                                                               StandardScaler(),\n",
       "                                                                               ['CreditScore',\n",
       "                                                                                'Age',\n",
       "                                                                                'Tenure',\n",
       "                                                                                'Balance',\n",
       "                                                                                'NumOfProducts',\n",
       "                                                                                'HasCrCard',\n",
       "                                                                                'IsActiveMember',\n",
       "                                                                                'EstimatedSalary']),\n",
       "                                                                              ('onehotencoder-1',\n",
       "                                                                               OneHotEncoder(handle_unknown='ignore'),\n",
       "                                                                               ['Geography']),\n",
       "                                                                              ('o...\n",
       "                                              RandomForestClassifier(class_weight='balanced',\n",
       "                                                                     random_state=123))]),\n",
       "                   n_iter=50, n_jobs=-1,\n",
       "                   param_distributions={'randomforestclassifier__max_depth': <scipy.stats._distn_infrastructure.rv_discrete_frozen object at 0x000001E551EF3280>,\n",
       "                                        'randomforestclassifier__n_estimators': <scipy.stats._distn_infrastructure.rv_discrete_frozen object at 0x000001E551EF3A30>},\n",
       "                   random_state=123, scoring='f1', verbose=1)"
      ]
     },
     "execution_count": 53,
     "metadata": {},
     "output_type": "execute_result"
    }
   ],
   "source": [
    "rf_pipeline = make_pipeline(\n",
    "    preprocessor, RandomForestClassifier(class_weight = 'balanced', random_state = 123)\n",
    ")\n",
    "\n",
    "param_dist = {\n",
    "    \"randomforestclassifier__n_estimators\": scipy.stats.randint(low = 10, high = 300),\n",
    "    \"randomforestclassifier__max_depth\": scipy.stats.randint(low = 2, high = 20),\n",
    "}\n",
    "\n",
    "random_search = RandomizedSearchCV(\n",
    "    estimator = rf_pipeline,\n",
    "    param_distributions = param_dist,\n",
    "    n_iter = 50, cv = 3,\n",
    "    verbose = 1,\n",
    "    n_jobs = -1,\n",
    "    scoring = 'f1',\n",
    "    random_state = 123,\n",
    ")\n",
    "\n",
    "random_search.fit(X_train, y_train)"
   ]
  },
  {
   "cell_type": "code",
   "execution_count": 54,
   "metadata": {
    "deletable": false,
    "editable": false,
    "nbgrader": {
     "cell_type": "code",
     "checksum": "2fcb352063b684bc4bbf4808ab24923c",
     "grade": true,
     "grade_id": "cell-329ba0ee56f73721",
     "locked": true,
     "points": 1,
     "schema_version": 3,
     "solution": false,
     "task": false
    }
   },
   "outputs": [
    {
     "data": {
      "text/plain": [
       "'Success'"
      ]
     },
     "execution_count": 54,
     "metadata": {},
     "output_type": "execute_result"
    }
   ],
   "source": [
    "t.test_2_11(rf_pipeline, random_search)"
   ]
  },
  {
   "cell_type": "markdown",
   "metadata": {},
   "source": [
    "**Question 2.12** <br> {points: 3}\n",
    "\n",
    "What are the best hyperparameter value for `n_estimators` and `max_depth`. Save it in an object named `optimal_parameters` (The auto-grader is expecting a dictionary object). \n",
    "\n",
    "What was the corresponding validation score? Save this in an object named `optimal_score`. \n",
    "\n",
    "*Hint: `.best_params_`  and `.best_score_` are helpful here.* \n"
   ]
  },
  {
   "cell_type": "code",
   "execution_count": 55,
   "metadata": {
    "deletable": false,
    "nbgrader": {
     "cell_type": "code",
     "checksum": "bc6c6575c2fc2f9b1689150b0ec3740a",
     "grade": false,
     "grade_id": "cell-e5054e9f65a2ecdc",
     "locked": false,
     "schema_version": 3,
     "solution": true,
     "task": false
    }
   },
   "outputs": [
    {
     "name": "stdout",
     "output_type": "stream",
     "text": [
      "The optimal parameters are: {'randomforestclassifier__max_depth': 10, 'randomforestclassifier__n_estimators': 266}\n",
      "The optimal score is: 0.6008852888381612\n"
     ]
    }
   ],
   "source": [
    "optimal_parameters = random_search.best_params_\n",
    "optimal_score = random_search.best_score_\n",
    "\n",
    "print(f'The optimal parameters are: {optimal_parameters}')\n",
    "print(f'The optimal score is: {optimal_score}')"
   ]
  },
  {
   "cell_type": "code",
   "execution_count": 56,
   "metadata": {
    "deletable": false,
    "editable": false,
    "nbgrader": {
     "cell_type": "code",
     "checksum": "5d4f2e85d105299fdd9f45122c039b41",
     "grade": true,
     "grade_id": "cell-f6d885ec6d0c2d90",
     "locked": true,
     "points": 1,
     "schema_version": 3,
     "solution": false,
     "task": false
    }
   },
   "outputs": [
    {
     "data": {
      "text/plain": [
       "'Success'"
      ]
     },
     "execution_count": 56,
     "metadata": {},
     "output_type": "execute_result"
    }
   ],
   "source": [
    "t. test_2_12_1(random_search, optimal_parameters)"
   ]
  },
  {
   "cell_type": "code",
   "execution_count": 57,
   "metadata": {
    "deletable": false,
    "editable": false,
    "nbgrader": {
     "cell_type": "code",
     "checksum": "12d70590bfd258cf23c9fc2abd48421f",
     "grade": true,
     "grade_id": "cell-1f755ca4548b90ca",
     "locked": true,
     "points": 2,
     "schema_version": 3,
     "solution": false,
     "task": false
    }
   },
   "outputs": [],
   "source": [
    "# check that the variable exists\n",
    "assert 'optimal_score' in globals(\n",
    "), \"Please make sure that your solution is named 'optimal_score'\"\n",
    "\n",
    "# This test has been intentionally hidden. It will be up to you to decide if your solution\n",
    "# is sufficiently good."
   ]
  },
  {
   "cell_type": "markdown",
   "metadata": {},
   "source": [
    "**Question 2.13** <br> {points: 2} \n",
    "\n",
    "What is the train and test score of the best scoring model? Save the result in objects named `training_score`, and `testing_score` respectively."
   ]
  },
  {
   "cell_type": "code",
   "execution_count": 58,
   "metadata": {},
   "outputs": [
    {
     "name": "stdout",
     "output_type": "stream",
     "text": [
      "The training score is: 0.7914191419141915\n"
     ]
    }
   ],
   "source": [
    "training_score = random_search.score(X_train, y_train)\n",
    "\n",
    "print(f'The training score is: {training_score}')"
   ]
  },
  {
   "cell_type": "code",
   "execution_count": 59,
   "metadata": {
    "deletable": false,
    "nbgrader": {
     "cell_type": "code",
     "checksum": "cd39d4e92a20e66646b0ddc210d40c63",
     "grade": false,
     "grade_id": "cell-f0ab8c39cbe9ed7b",
     "locked": false,
     "schema_version": 3,
     "solution": true,
     "task": false
    }
   },
   "outputs": [
    {
     "name": "stdout",
     "output_type": "stream",
     "text": [
      "The testing score is: 0.6501597444089456\n"
     ]
    }
   ],
   "source": [
    "testing_score = random_search.score(X_test, y_test)\n",
    "\n",
    "print(f'The testing score is: {testing_score}')"
   ]
  },
  {
   "cell_type": "code",
   "execution_count": 60,
   "metadata": {
    "deletable": false,
    "editable": false,
    "nbgrader": {
     "cell_type": "code",
     "checksum": "8c5a5380d2510a56431c43e886784c89",
     "grade": true,
     "grade_id": "cell-b8e8776e62548a4e",
     "locked": true,
     "points": 1,
     "schema_version": 3,
     "solution": false,
     "task": false
    }
   },
   "outputs": [
    {
     "data": {
      "text/plain": [
       "'Success'"
      ]
     },
     "execution_count": 60,
     "metadata": {},
     "output_type": "execute_result"
    }
   ],
   "source": [
    "t.test_2_13_1(random_search, training_score, X_train, y_train)"
   ]
  },
  {
   "cell_type": "code",
   "execution_count": 61,
   "metadata": {
    "deletable": false,
    "editable": false,
    "nbgrader": {
     "cell_type": "code",
     "checksum": "bd8d66705c6ca034c8a1edacf2411d9d",
     "grade": true,
     "grade_id": "cell-61c66a15b802b184",
     "locked": true,
     "points": 1,
     "schema_version": 3,
     "solution": false,
     "task": false
    }
   },
   "outputs": [
    {
     "data": {
      "text/plain": [
       "'Success'"
      ]
     },
     "execution_count": 61,
     "metadata": {},
     "output_type": "execute_result"
    }
   ],
   "source": [
    "t.test_2_13_2(random_search, testing_score, X_test, y_test)"
   ]
  },
  {
   "cell_type": "markdown",
   "metadata": {},
   "source": [
    "**Question 2.14** <br> {points: 0} \n",
    "\n",
    "Import the appropriate libraries to plot a confusion matrix and print a classification report. "
   ]
  },
  {
   "cell_type": "code",
   "execution_count": 62,
   "metadata": {
    "deletable": false,
    "nbgrader": {
     "cell_type": "code",
     "checksum": "509809b5c20010d132e2e040d1da4301",
     "grade": false,
     "grade_id": "cell-1329e2207ccdb878",
     "locked": false,
     "schema_version": 3,
     "solution": true,
     "task": false
    }
   },
   "outputs": [],
   "source": [
    "from sklearn.metrics import confusion_matrix, plot_confusion_matrix, classification_report\n",
    "import matplotlib.pyplot as plt"
   ]
  },
  {
   "cell_type": "code",
   "execution_count": 63,
   "metadata": {
    "deletable": false,
    "editable": false,
    "nbgrader": {
     "cell_type": "code",
     "checksum": "dc8ba5f4ad79ed0617fb09b6fbd31be1",
     "grade": true,
     "grade_id": "cell-519ec2aa08990341",
     "locked": true,
     "points": 0,
     "schema_version": 3,
     "solution": false,
     "task": false
    }
   },
   "outputs": [
    {
     "data": {
      "text/plain": [
       "'Success'"
      ]
     },
     "execution_count": 63,
     "metadata": {},
     "output_type": "execute_result"
    }
   ],
   "source": [
    "t.test_2_14()"
   ]
  },
  {
   "cell_type": "markdown",
   "metadata": {},
   "source": [
    "**Question 2.15** <br> {points: 1} \n",
    "\n",
    "\n",
    "Plot a confusion matrix on the test set using the object `random_search` as your estimator and \"normalize\" all your results (see the [documentation](https://scikit-learn.org/stable/modules/generated/sklearn.metrics.plot_confusion_matrix.html) for more help here).\n",
    "\n",
    "Name the plot `cm_plot`. "
   ]
  },
  {
   "cell_type": "code",
   "execution_count": 64,
   "metadata": {},
   "outputs": [
    {
     "data": {
      "text/plain": [
       "array([0, 0, 0, ..., 0, 0, 0], dtype=int64)"
      ]
     },
     "execution_count": 64,
     "metadata": {},
     "output_type": "execute_result"
    }
   ],
   "source": [
    "random_search.predict(X_test)"
   ]
  },
  {
   "cell_type": "code",
   "execution_count": 65,
   "metadata": {
    "deletable": false,
    "nbgrader": {
     "cell_type": "code",
     "checksum": "480e44315ece9604fa6621ffc40c4328",
     "grade": false,
     "grade_id": "cell-d4ee02e8d0ad2f1f",
     "locked": false,
     "schema_version": 3,
     "solution": true,
     "task": false
    }
   },
   "outputs": [
    {
     "data": {
      "text/plain": [
       "<sklearn.metrics._plot.confusion_matrix.ConfusionMatrixDisplay at 0x1e5207835e0>"
      ]
     },
     "execution_count": 65,
     "metadata": {},
     "output_type": "execute_result"
    },
    {
     "data": {
      "image/png": "[encoded data removed]",
      "text/plain": [
       "<Figure size 640x480 with 2 Axes>"
      ]
     },
     "metadata": {},
     "output_type": "display_data"
    }
   ],
   "source": [
    "cm_plot = ConfusionMatrixDisplay(\n",
    "    confusion_matrix = confusion_matrix(\n",
    "        y_true = y_test, y_pred = random_search.predict(X_test),\n",
    "        normalize = 'true'\n",
    "    )\n",
    ")\n",
    "\n",
    "cm_plot.plot(cmap = 'Blues')"
   ]
  },
  {
   "cell_type": "code",
   "execution_count": 66,
   "metadata": {
    "deletable": false,
    "editable": false,
    "nbgrader": {
     "cell_type": "code",
     "checksum": "7e85bf1634b99ccb557f223da6ba10cf",
     "grade": true,
     "grade_id": "cell-e926b5a0a1f975c5",
     "locked": true,
     "points": 1,
     "schema_version": 3,
     "solution": false,
     "task": false
    }
   },
   "outputs": [
    {
     "data": {
      "text/plain": [
       "'Success'"
      ]
     },
     "execution_count": 66,
     "metadata": {},
     "output_type": "execute_result"
    }
   ],
   "source": [
    "t.test_2_15(cm_plot)"
   ]
  },
  {
   "cell_type": "markdown",
   "metadata": {},
   "source": [
    "**Question 2.16** <br> {points: 3} \n",
    "\n",
    "Below print a classification report on the `X_test` predictions of `random_search`'s best model. Use this information to answer the questions below."
   ]
  },
  {
   "cell_type": "code",
   "execution_count": 67,
   "metadata": {},
   "outputs": [
    {
     "name": "stdout",
     "output_type": "stream",
     "text": [
      "              precision    recall  f1-score   support\n",
      "\n",
      "    No Churn       0.92      0.90      0.91      2395\n",
      "       Churn       0.63      0.67      0.65       605\n",
      "\n",
      "    accuracy                           0.85      3000\n",
      "   macro avg       0.77      0.79      0.78      3000\n",
      "weighted avg       0.86      0.85      0.86      3000\n",
      "\n"
     ]
    }
   ],
   "source": [
    "report = classification_report(\n",
    "    y_true = y_test,\n",
    "    y_pred = random_search.predict(X_test),\n",
    "    target_names = ['Churn' if x == 1 else 'No Churn' for x in random_search.classes_]\n",
    ")\n",
    "\n",
    "print(report)"
   ]
  },
  {
   "cell_type": "code",
   "execution_count": 68,
   "metadata": {},
   "outputs": [
    {
     "data": {
      "text/plain": [
       "array([[2155,  240],\n",
       "       [ 198,  407]], dtype=int64)"
      ]
     },
     "metadata": {},
     "output_type": "display_data"
    }
   ],
   "source": [
    "matrix_test = confusion_matrix(\n",
    "    y_true = y_test,\n",
    "    y_pred = random_search.predict(X_test),\n",
    "    labels = random_search.classes_\n",
    ")\n",
    "\n",
    "display(matrix_test)"
   ]
  },
  {
   "cell_type": "markdown",
   "metadata": {},
   "source": [
    "\n",
    "\n",
    "A) What is the recall considering that `Exited`(=1) is our \"positive\" class? Save the result to two decimal places in an object named `answer2_16a`. \n",
    "\n",
    "B) What is the precision weighted average? Save the result to two decimal places in an object named `answer2_16b`. \n",
    "\n",
    "C) How many customers exited in this test set? Save the result as an integer in an object named `answer2_16c`."
   ]
  },
  {
   "cell_type": "code",
   "execution_count": 69,
   "metadata": {},
   "outputs": [],
   "source": [
    "TN_test, FP_test = matrix_test[0, 0], matrix_test[0, 1]\n",
    "TP_test, FN_test = matrix_test[1, 1], matrix_test[1, 0]"
   ]
  },
  {
   "cell_type": "code",
   "execution_count": 70,
   "metadata": {
    "deletable": false,
    "nbgrader": {
     "cell_type": "code",
     "checksum": "bd6111addf2a810a4a507c9a53c947f3",
     "grade": false,
     "grade_id": "cell-2a0327eb7dbf23a9",
     "locked": false,
     "schema_version": 3,
     "solution": true,
     "task": false
    }
   },
   "outputs": [
    {
     "name": "stdout",
     "output_type": "stream",
     "text": [
      "The recall is: 0.67.\n",
      "The precision is: 0.63.\n",
      "The accuracy is: 605.\n"
     ]
    }
   ],
   "source": [
    "answer2_16a = round(TP_test / (TP_test + FN_test), 2)\n",
    "answer2_16b = round(TP_test / (TP_test + FP_test), 2)\n",
    "answer2_16c = TP_test + FN_test\n",
    "\n",
    "print(f'The recall is: {answer2_16a}.')\n",
    "print(f'The precision is: {answer2_16b}.')\n",
    "print(f'The accuracy is: {answer2_16c}.')"
   ]
  },
  {
   "cell_type": "code",
   "execution_count": 71,
   "metadata": {
    "deletable": false,
    "editable": false,
    "nbgrader": {
     "cell_type": "code",
     "checksum": "302ef6c3fc4b82d6f5181781ce1b5da8",
     "grade": true,
     "grade_id": "cell-b4b39de2552f60bc",
     "locked": true,
     "points": 1,
     "schema_version": 3,
     "solution": false,
     "task": false
    }
   },
   "outputs": [
    {
     "data": {
      "text/plain": [
       "'Success'"
      ]
     },
     "execution_count": 71,
     "metadata": {},
     "output_type": "execute_result"
    }
   ],
   "source": [
    "t.test_2_16_1(answer2_16a)"
   ]
  },
  {
   "cell_type": "code",
   "execution_count": 72,
   "metadata": {
    "deletable": false,
    "editable": false,
    "nbgrader": {
     "cell_type": "code",
     "checksum": "b52becccfbd8d1295c376954dbeb3928",
     "grade": true,
     "grade_id": "cell-c4325891305a9cae",
     "locked": true,
     "points": 1,
     "schema_version": 3,
     "solution": false,
     "task": false
    }
   },
   "outputs": [
    {
     "data": {
      "text/plain": [
       "'Success'"
      ]
     },
     "execution_count": 72,
     "metadata": {},
     "output_type": "execute_result"
    }
   ],
   "source": [
    "t.test_2_16_2(answer2_16b)"
   ]
  },
  {
   "cell_type": "code",
   "execution_count": 73,
   "metadata": {
    "deletable": false,
    "editable": false,
    "nbgrader": {
     "cell_type": "code",
     "checksum": "e8062b3be0407e75ee0d135a3599d875",
     "grade": true,
     "grade_id": "cell-13dafcb469b21ef5",
     "locked": true,
     "points": 1,
     "schema_version": 3,
     "solution": false,
     "task": false
    }
   },
   "outputs": [
    {
     "data": {
      "text/plain": [
       "'Success'"
      ]
     },
     "execution_count": 73,
     "metadata": {},
     "output_type": "execute_result"
    }
   ],
   "source": [
    "t.test_2_16_3(answer2_16c)"
   ]
  },
  {
   "cell_type": "markdown",
   "metadata": {},
   "source": [
    "**Question 2.17** <br> {points: 1} \n",
    "\n",
    "What's happened to our model since we have tuned our hyperparameters?\n",
    "\n",
    "A) We have sacrificed some of our precision score for a better recall score.\n",
    "\n",
    "B) Our accuracy has decreased.\n",
    "\n",
    "C) We have likely increased the number of falsely identified exited customers.\n",
    "\n",
    "D) All of the above.\n",
    "\n",
    "*Answer in the cell below using the uppercase letter associated with your answer. Place your answer between `\"\"`, assign the correct answer to an object called `answer2_17`.*"
   ]
  },
  {
   "cell_type": "code",
   "execution_count": 74,
   "metadata": {},
   "outputs": [
    {
     "data": {
      "text/plain": [
       "fit_time           3.655620\n",
       "score_time         0.253998\n",
       "test_accuracy      0.854857\n",
       "train_accuracy     1.000000\n",
       "test_precision     0.766694\n",
       "train_precision    1.000000\n",
       "test_recall        0.418971\n",
       "train_recall       1.000000\n",
       "test_f1            0.540727\n",
       "train_f1           1.000000\n",
       "dtype: float64"
      ]
     },
     "metadata": {},
     "output_type": "display_data"
    }
   ],
   "source": [
    "display(rf_balanced_mean)"
   ]
  },
  {
   "cell_type": "code",
   "execution_count": 75,
   "metadata": {},
   "outputs": [
    {
     "name": "stderr",
     "output_type": "stream",
     "text": [
      "C:\\Users\\Muntakim\\AppData\\Local\\Temp\\ipykernel_2112\\3049188844.py:5: FutureWarning: The default value of numeric_only in DataFrame.mean is deprecated. In a future version, it will default to False. In addition, specifying 'numeric_only=None' is deprecated. Select only valid columns or specify the value of numeric_only to silence this warning.\n",
      "  optimal_df = optimal_df.mean()\n"
     ]
    },
    {
     "data": {
      "text/plain": [
       "mean_fit_time                                  11.616992\n",
       "std_fit_time                                    0.705298\n",
       "mean_score_time                                 0.829465\n",
       "std_score_time                                  0.097071\n",
       "param_randomforestclassifier__max_depth        10.000000\n",
       "param_randomforestclassifier__n_estimators    266.000000\n",
       "split0_test_score                               0.574236\n",
       "split1_test_score                               0.603939\n",
       "split2_test_score                               0.624481\n",
       "mean_test_score                                 0.600885\n",
       "std_test_score                                  0.020626\n",
       "rank_test_score                                 1.000000\n",
       "dtype: float64"
      ]
     },
     "metadata": {},
     "output_type": "display_data"
    }
   ],
   "source": [
    "optimal_df = pd.DataFrame(random_search.cv_results_)\n",
    "optimal_df = optimal_df.query(f'param_randomforestclassifier__n_estimators == {optimal_parameters[\"randomforestclassifier__n_estimators\"]}')\n",
    "optimal_df = optimal_df.query(f'param_randomforestclassifier__max_depth == {optimal_parameters[\"randomforestclassifier__max_depth\"]}')\n",
    "\n",
    "optimal_df = optimal_df.mean()\n",
    "display(optimal_df)"
   ]
  },
  {
   "cell_type": "code",
   "execution_count": 76,
   "metadata": {},
   "outputs": [
    {
     "data": {
      "text/plain": [
       "array([[5169,  399],\n",
       "       [ 233, 1199]], dtype=int64)"
      ]
     },
     "metadata": {},
     "output_type": "display_data"
    }
   ],
   "source": [
    "matrix_train = confusion_matrix(\n",
    "    y_true = y_train,\n",
    "    y_pred = random_search.predict(X_train),\n",
    "    labels = random_search.classes_\n",
    ")\n",
    "\n",
    "display(matrix_train)"
   ]
  },
  {
   "cell_type": "code",
   "execution_count": 77,
   "metadata": {},
   "outputs": [],
   "source": [
    "TN_train, FP_train = matrix_train[0, 0], matrix_train[0, 1]\n",
    "TP_train, FN_train = matrix_train[1, 1], matrix_train[1, 0]"
   ]
  },
  {
   "cell_type": "code",
   "execution_count": 78,
   "metadata": {},
   "outputs": [
    {
     "name": "stderr",
     "output_type": "stream",
     "text": [
      "C:\\Users\\Muntakim\\AppData\\Local\\Temp\\ipykernel_2112\\2558217939.py:1: FutureWarning: The default dtype for empty Series will be 'object' instead of 'float64' in a future version. Specify a dtype explicitly to silence this warning.\n",
      "  optimal_mean = pd.Series(index = rf_balanced_mean.index)\n"
     ]
    },
    {
     "data": {
      "text/plain": [
       "fit_time           11.616992\n",
       "score_time          0.829465\n",
       "test_accuracy       0.854000\n",
       "train_accuracy      0.909714\n",
       "test_precision      0.629057\n",
       "train_precision     0.750313\n",
       "test_recall         0.672727\n",
       "train_recall        0.837291\n",
       "test_f1             0.650160\n",
       "train_f1            0.791419\n",
       "dtype: float64"
      ]
     },
     "metadata": {},
     "output_type": "display_data"
    }
   ],
   "source": [
    "optimal_mean = pd.Series(index = rf_balanced_mean.index)\n",
    "\n",
    "optimal_mean['fit_time'] = optimal_df['mean_fit_time']\n",
    "optimal_mean['score_time'] = optimal_df['mean_score_time']\n",
    "\n",
    "optimal_mean['test_accuracy'] = (TP_test + TN_test) / (TP_test + TN_test + FP_test + FN_test)\n",
    "optimal_mean['train_accuracy'] = (TP_train + TN_train) / (TP_train + TN_train + FP_train + FN_train)\n",
    "\n",
    "optimal_mean['test_precision'] = TP_test / (TP_test + FP_test)\n",
    "optimal_mean['train_precision'] = TP_train / (TP_train + FP_train)\n",
    "\n",
    "optimal_mean['test_recall'] = TP_test / (TP_test + FN_test)\n",
    "optimal_mean['train_recall'] = TP_train / (TP_train + FN_train)\n",
    "\n",
    "optimal_mean['test_f1'] = 2 * (optimal_mean['test_precision'] * optimal_mean['test_recall']) / (optimal_mean['test_precision'] + optimal_mean['test_recall'])\n",
    "optimal_mean['train_f1'] = 2 * (optimal_mean['train_precision'] * optimal_mean['train_recall']) / (optimal_mean['train_precision'] + optimal_mean['train_recall'])\n",
    "\n",
    "display(optimal_mean)"
   ]
  },
  {
   "cell_type": "code",
   "execution_count": 79,
   "metadata": {
    "deletable": false,
    "nbgrader": {
     "cell_type": "code",
     "checksum": "ace948d39a7b28eb7e874780ca05db55",
     "grade": false,
     "grade_id": "cell-edf2e1be7eceed82",
     "locked": false,
     "schema_version": 3,
     "solution": true,
     "task": false
    }
   },
   "outputs": [],
   "source": [
    "answer2_17 = 'D'"
   ]
  },
  {
   "cell_type": "code",
   "execution_count": 80,
   "metadata": {
    "deletable": false,
    "editable": false,
    "nbgrader": {
     "cell_type": "code",
     "checksum": "e75cf6d8e572e548aa27b98b0a251896",
     "grade": true,
     "grade_id": "cell-f0db9a56f75d6b9a",
     "locked": true,
     "points": 1,
     "schema_version": 3,
     "solution": false,
     "task": false
    }
   },
   "outputs": [
    {
     "data": {
      "text/plain": [
       "'Success'"
      ]
     },
     "execution_count": 80,
     "metadata": {},
     "output_type": "execute_result"
    }
   ],
   "source": [
    "t.test_2_17(answer2_17)"
   ]
  },
  {
   "cell_type": "markdown",
   "metadata": {},
   "source": [
    "# 3. Regression Metrics"
   ]
  },
  {
   "cell_type": "markdown",
   "metadata": {},
   "source": [
    "For this exercise, we will bring back the [Taiwan real estate valuation dataset](https://archive.ics.uci.edu/ml/datasets/Real+estate+valuation+data+set) that we saw in assignment 1. \n",
    "\n",
    "We are doing the first part for you. "
   ]
  },
  {
   "cell_type": "code",
   "execution_count": 81,
   "metadata": {},
   "outputs": [
    {
     "data": {
      "text/html": [
       "<div>\n",
       "<style scoped>\n",
       "    .dataframe tbody tr th:only-of-type {\n",
       "        vertical-align: middle;\n",
       "    }\n",
       "\n",
       "    .dataframe tbody tr th {\n",
       "        vertical-align: top;\n",
       "    }\n",
       "\n",
       "    .dataframe thead th {\n",
       "        text-align: right;\n",
       "    }\n",
       "</style>\n",
       "<table border=\"1\" class=\"dataframe\">\n",
       "  <thead>\n",
       "    <tr style=\"text-align: right;\">\n",
       "      <th></th>\n",
       "      <th>house_age</th>\n",
       "      <th>distance_station</th>\n",
       "      <th>num_stores</th>\n",
       "      <th>latitude</th>\n",
       "      <th>longitude</th>\n",
       "      <th>price</th>\n",
       "    </tr>\n",
       "  </thead>\n",
       "  <tbody>\n",
       "    <tr>\n",
       "      <th>82</th>\n",
       "      <td>13.2</td>\n",
       "      <td>150.9347</td>\n",
       "      <td>7</td>\n",
       "      <td>24.96725</td>\n",
       "      <td>121.54252</td>\n",
       "      <td>48.1</td>\n",
       "    </tr>\n",
       "    <tr>\n",
       "      <th>307</th>\n",
       "      <td>10.3</td>\n",
       "      <td>3079.8900</td>\n",
       "      <td>0</td>\n",
       "      <td>24.95460</td>\n",
       "      <td>121.56627</td>\n",
       "      <td>24.7</td>\n",
       "    </tr>\n",
       "    <tr>\n",
       "      <th>267</th>\n",
       "      <td>34.7</td>\n",
       "      <td>482.7581</td>\n",
       "      <td>5</td>\n",
       "      <td>24.97433</td>\n",
       "      <td>121.53863</td>\n",
       "      <td>41.1</td>\n",
       "    </tr>\n",
       "    <tr>\n",
       "      <th>310</th>\n",
       "      <td>16.4</td>\n",
       "      <td>1643.4990</td>\n",
       "      <td>2</td>\n",
       "      <td>24.95394</td>\n",
       "      <td>121.55174</td>\n",
       "      <td>24.7</td>\n",
       "    </tr>\n",
       "    <tr>\n",
       "      <th>203</th>\n",
       "      <td>15.6</td>\n",
       "      <td>289.3248</td>\n",
       "      <td>5</td>\n",
       "      <td>24.98203</td>\n",
       "      <td>121.54348</td>\n",
       "      <td>46.1</td>\n",
       "    </tr>\n",
       "  </tbody>\n",
       "</table>\n",
       "</div>"
      ],
      "text/plain": [
       "     house_age  distance_station  num_stores  latitude  longitude  price\n",
       "82        13.2          150.9347           7  24.96725  121.54252   48.1\n",
       "307       10.3         3079.8900           0  24.95460  121.56627   24.7\n",
       "267       34.7          482.7581           5  24.97433  121.53863   41.1\n",
       "310       16.4         1643.4990           2  24.95394  121.55174   24.7\n",
       "203       15.6          289.3248           5  24.98203  121.54348   46.1"
      ]
     },
     "metadata": {},
     "output_type": "display_data"
    }
   ],
   "source": [
    "housing_df = pd.read_csv('data/real_estate.csv')\n",
    "train_df, test_df = train_test_split(housing_df, test_size=0.2, random_state=123)\n",
    "display(train_df.head())"
   ]
  },
  {
   "cell_type": "code",
   "execution_count": 82,
   "metadata": {},
   "outputs": [],
   "source": [
    "X_train = train_df.drop(columns = ['price'])\n",
    "y_train = train_df['price']\n",
    "\n",
    "X_test = test_df.drop(columns = ['price'])\n",
    "y_test = test_df['price']"
   ]
  },
  {
   "cell_type": "markdown",
   "metadata": {},
   "source": [
    "**Question 3.1** <br> {points: 1}  \n",
    "\n",
    "Since we have seen this dataset already, we know there are only numeric features and no missing values so we can skip quite a few steps here. \n",
    "\n",
    "Make a single pipeline using `make_pipeline` named `reg_pipe` that first uses `StandardScaler()`.\n"
   ]
  },
  {
   "cell_type": "code",
   "execution_count": 83,
   "metadata": {
    "deletable": false,
    "nbgrader": {
     "cell_type": "code",
     "checksum": "e9af4530f8eb18b97eb08ec40d3a2bf9",
     "grade": false,
     "grade_id": "cell-69d4e91a504c1837",
     "locked": false,
     "schema_version": 3,
     "solution": true,
     "task": false
    }
   },
   "outputs": [],
   "source": [
    "reg_pipe = make_pipeline(StandardScaler(), SVR())"
   ]
  },
  {
   "cell_type": "code",
   "execution_count": 84,
   "metadata": {
    "deletable": false,
    "editable": false,
    "nbgrader": {
     "cell_type": "code",
     "checksum": "4612d4f03ef95081fd478e668f33a43c",
     "grade": true,
     "grade_id": "cell-d8d5d76226e3a145",
     "locked": true,
     "points": 1,
     "schema_version": 3,
     "solution": false,
     "task": false
    }
   },
   "outputs": [
    {
     "data": {
      "text/plain": [
       "'Success'"
      ]
     },
     "execution_count": 84,
     "metadata": {},
     "output_type": "execute_result"
    }
   ],
   "source": [
    "t.test_3_1(reg_pipe)"
   ]
  },
  {
   "cell_type": "markdown",
   "metadata": {},
   "source": [
    "**Question 3.2** <br> {points: 1}  \n",
    "\n",
    "Given the MAPE function we have given below, create a scorer function that we can pass into cross-validation. (look [here](https://scikit-learn.org/stable/modules/generated/sklearn.metrics.make_scorer.html?highlight=make_scorer#sklearn.metrics.make_scorer) for help). \n",
    "\n",
    "Save it in an object named `mape_scorer`. Remember that MAPE is an error measure so we must use `greater_is_better=False` as an argument. \n"
   ]
  },
  {
   "cell_type": "code",
   "execution_count": 85,
   "metadata": {
    "deletable": false,
    "nbgrader": {
     "cell_type": "code",
     "checksum": "fde6497e6e3e0a29d03f941ef910781f",
     "grade": false,
     "grade_id": "cell-bfca9f71be42499d",
     "locked": false,
     "schema_version": 3,
     "solution": true,
     "task": false
    }
   },
   "outputs": [],
   "source": [
    "def mape(true, pred):\n",
    "    return 100.0 * np.mean(np.abs((pred - true) / true))"
   ]
  },
  {
   "cell_type": "code",
   "execution_count": 86,
   "metadata": {},
   "outputs": [
    {
     "data": {
      "text/plain": [
       "make_scorer(mape, greater_is_better=False)"
      ]
     },
     "metadata": {},
     "output_type": "display_data"
    }
   ],
   "source": [
    "mape_scorer = make_scorer(mape, greater_is_better = False)\n",
    "\n",
    "display(mape_scorer)"
   ]
  },
  {
   "cell_type": "code",
   "execution_count": 87,
   "metadata": {
    "deletable": false,
    "editable": false,
    "nbgrader": {
     "cell_type": "code",
     "checksum": "f81e0134de01413a96b383f142c636e8",
     "grade": true,
     "grade_id": "cell-8a3cf905241ca8b0",
     "locked": true,
     "points": 1,
     "schema_version": 3,
     "solution": false,
     "task": false
    }
   },
   "outputs": [
    {
     "data": {
      "text/plain": [
       "'Success'"
      ]
     },
     "execution_count": 87,
     "metadata": {},
     "output_type": "execute_result"
    }
   ],
   "source": [
    "t.test_3_2(mape_scorer)"
   ]
  },
  {
   "cell_type": "markdown",
   "metadata": {},
   "source": [
    "**Question 3.3** <br> {points: 1}  \n",
    "\n",
    "Make a dictionary named `scoring_dict` consisting the following metrics: \n",
    "\n",
    "- `neg_mean_squared_error`\n",
    "- `neg_root_mean_square_error`\n",
    "- `neg_mean_absolute_error`\n",
    "- `r2`\n",
    "- `mape_scorer`\n",
    "\n",
    "The key-value pairs in this dictionary should be identical. (Aka the item to the left of the colon is the same as the right side of the colon - we have started it for you just in case.)\n",
    "\n",
    "Remember that `mape_scorer` is a variable and should **NOT** be called as a string. (Although we need to name it as a string value for the dictionary's key; See slide 6 of exercise 21 for help.)"
   ]
  },
  {
   "cell_type": "code",
   "execution_count": 88,
   "metadata": {
    "deletable": false,
    "nbgrader": {
     "cell_type": "code",
     "checksum": "3c3641b48327a66e14164e8ad1a67466",
     "grade": false,
     "grade_id": "cell-b824fb2b08c194e2",
     "locked": false,
     "schema_version": 3,
     "solution": true,
     "task": false
    }
   },
   "outputs": [],
   "source": [
    "scoring_dict = {\n",
    "    'neg_mean_squared_error' : 'neg_mean_squared_error',\n",
    "    'neg_root_mean_square_error' : 'neg_root_mean_squared_error',\n",
    "    'neg_mean_absolute_error' : 'neg_mean_absolute_error',\n",
    "    'r2' : 'r2',\n",
    "    'mape_scorer' : mape_scorer\n",
    "}"
   ]
  },
  {
   "cell_type": "code",
   "execution_count": 89,
   "metadata": {
    "deletable": false,
    "editable": false,
    "nbgrader": {
     "cell_type": "code",
     "checksum": "01f9e8795770ec95137b9ccb85f8cd6c",
     "grade": true,
     "grade_id": "cell-2262d2645f47df97",
     "locked": true,
     "points": 1,
     "schema_version": 3,
     "solution": false,
     "task": false
    }
   },
   "outputs": [
    {
     "data": {
      "text/plain": [
       "'Success'"
      ]
     },
     "execution_count": 89,
     "metadata": {},
     "output_type": "execute_result"
    }
   ],
   "source": [
    "t.test_3_3(scoring_dict)"
   ]
  },
  {
   "cell_type": "markdown",
   "metadata": {},
   "source": [
    "**Question 3.4** <br> {points: 1}  \n",
    "\n",
    "Carry out cross-validation on `reg_pipe` and the training set using the `cross_validate` function.\n",
    "\n",
    "Make sure to set `return_train_score=True` and assign our `scoring_dict` to the `scoring` argument.\n",
    "\n",
    "\n",
    "Save the results of the cross-validation in a dataframe named `regression_scores`."
   ]
  },
  {
   "cell_type": "code",
   "execution_count": 90,
   "metadata": {
    "deletable": false,
    "nbgrader": {
     "cell_type": "code",
     "checksum": "2527d12fdfdf960f1d3acab42c5ddb5f",
     "grade": false,
     "grade_id": "cell-457e7772f822ea07",
     "locked": false,
     "schema_version": 3,
     "solution": true,
     "task": false
    }
   },
   "outputs": [
    {
     "data": {
      "text/html": [
       "<div>\n",
       "<style scoped>\n",
       "    .dataframe tbody tr th:only-of-type {\n",
       "        vertical-align: middle;\n",
       "    }\n",
       "\n",
       "    .dataframe tbody tr th {\n",
       "        vertical-align: top;\n",
       "    }\n",
       "\n",
       "    .dataframe thead th {\n",
       "        text-align: right;\n",
       "    }\n",
       "</style>\n",
       "<table border=\"1\" class=\"dataframe\">\n",
       "  <thead>\n",
       "    <tr style=\"text-align: right;\">\n",
       "      <th></th>\n",
       "      <th>fit_time</th>\n",
       "      <th>score_time</th>\n",
       "      <th>test_neg_mean_squared_error</th>\n",
       "      <th>train_neg_mean_squared_error</th>\n",
       "      <th>test_neg_root_mean_square_error</th>\n",
       "      <th>train_neg_root_mean_square_error</th>\n",
       "      <th>test_neg_mean_absolute_error</th>\n",
       "      <th>train_neg_mean_absolute_error</th>\n",
       "      <th>test_r2</th>\n",
       "      <th>train_r2</th>\n",
       "      <th>test_mape_scorer</th>\n",
       "      <th>train_mape_scorer</th>\n",
       "    </tr>\n",
       "  </thead>\n",
       "  <tbody>\n",
       "    <tr>\n",
       "      <th>0</th>\n",
       "      <td>0.022985</td>\n",
       "      <td>0.014000</td>\n",
       "      <td>-51.770992</td>\n",
       "      <td>-89.378376</td>\n",
       "      <td>-7.195206</td>\n",
       "      <td>-9.454014</td>\n",
       "      <td>-5.143214</td>\n",
       "      <td>-5.893161</td>\n",
       "      <td>0.642393</td>\n",
       "      <td>0.544464</td>\n",
       "      <td>-12.531763</td>\n",
       "      <td>-17.800519</td>\n",
       "    </tr>\n",
       "    <tr>\n",
       "      <th>1</th>\n",
       "      <td>0.017991</td>\n",
       "      <td>0.011005</td>\n",
       "      <td>-67.990528</td>\n",
       "      <td>-84.527725</td>\n",
       "      <td>-8.245637</td>\n",
       "      <td>-9.193896</td>\n",
       "      <td>-5.969532</td>\n",
       "      <td>-5.723566</td>\n",
       "      <td>0.660132</td>\n",
       "      <td>0.536472</td>\n",
       "      <td>-20.185804</td>\n",
       "      <td>-16.637512</td>\n",
       "    </tr>\n",
       "    <tr>\n",
       "      <th>2</th>\n",
       "      <td>0.015963</td>\n",
       "      <td>0.010035</td>\n",
       "      <td>-37.858863</td>\n",
       "      <td>-90.483537</td>\n",
       "      <td>-6.152956</td>\n",
       "      <td>-9.512283</td>\n",
       "      <td>-4.899578</td>\n",
       "      <td>-5.868916</td>\n",
       "      <td>0.692046</td>\n",
       "      <td>0.551250</td>\n",
       "      <td>-13.713411</td>\n",
       "      <td>-17.498790</td>\n",
       "    </tr>\n",
       "    <tr>\n",
       "      <th>3</th>\n",
       "      <td>0.015994</td>\n",
       "      <td>0.010005</td>\n",
       "      <td>-63.846806</td>\n",
       "      <td>-81.002011</td>\n",
       "      <td>-7.990420</td>\n",
       "      <td>-9.000112</td>\n",
       "      <td>-5.532826</td>\n",
       "      <td>-5.658821</td>\n",
       "      <td>0.612303</td>\n",
       "      <td>0.574322</td>\n",
       "      <td>-17.381394</td>\n",
       "      <td>-17.090115</td>\n",
       "    </tr>\n",
       "    <tr>\n",
       "      <th>4</th>\n",
       "      <td>0.014954</td>\n",
       "      <td>0.010998</td>\n",
       "      <td>-197.275789</td>\n",
       "      <td>-53.292369</td>\n",
       "      <td>-14.045490</td>\n",
       "      <td>-7.300162</td>\n",
       "      <td>-8.115725</td>\n",
       "      <td>-5.157088</td>\n",
       "      <td>0.325115</td>\n",
       "      <td>0.664975</td>\n",
       "      <td>-24.880064</td>\n",
       "      <td>-14.847449</td>\n",
       "    </tr>\n",
       "  </tbody>\n",
       "</table>\n",
       "</div>"
      ],
      "text/plain": [
       "   fit_time  score_time  test_neg_mean_squared_error  \\\n",
       "0  0.022985    0.014000                   -51.770992   \n",
       "1  0.017991    0.011005                   -67.990528   \n",
       "2  0.015963    0.010035                   -37.858863   \n",
       "3  0.015994    0.010005                   -63.846806   \n",
       "4  0.014954    0.010998                  -197.275789   \n",
       "\n",
       "   train_neg_mean_squared_error  test_neg_root_mean_square_error  \\\n",
       "0                    -89.378376                        -7.195206   \n",
       "1                    -84.527725                        -8.245637   \n",
       "2                    -90.483537                        -6.152956   \n",
       "3                    -81.002011                        -7.990420   \n",
       "4                    -53.292369                       -14.045490   \n",
       "\n",
       "   train_neg_root_mean_square_error  test_neg_mean_absolute_error  \\\n",
       "0                         -9.454014                     -5.143214   \n",
       "1                         -9.193896                     -5.969532   \n",
       "2                         -9.512283                     -4.899578   \n",
       "3                         -9.000112                     -5.532826   \n",
       "4                         -7.300162                     -8.115725   \n",
       "\n",
       "   train_neg_mean_absolute_error   test_r2  train_r2  test_mape_scorer  \\\n",
       "0                      -5.893161  0.642393  0.544464        -12.531763   \n",
       "1                      -5.723566  0.660132  0.536472        -20.185804   \n",
       "2                      -5.868916  0.692046  0.551250        -13.713411   \n",
       "3                      -5.658821  0.612303  0.574322        -17.381394   \n",
       "4                      -5.157088  0.325115  0.664975        -24.880064   \n",
       "\n",
       "   train_mape_scorer  \n",
       "0         -17.800519  \n",
       "1         -16.637512  \n",
       "2         -17.498790  \n",
       "3         -17.090115  \n",
       "4         -14.847449  "
      ]
     },
     "metadata": {},
     "output_type": "display_data"
    }
   ],
   "source": [
    "regression_scores = pd.DataFrame(\n",
    "    cross_validate(\n",
    "        estimator = reg_pipe,\n",
    "        X = X_train, y = y_train,\n",
    "        cv = 5, scoring = scoring_dict,\n",
    "        return_train_score = True\n",
    "    )\n",
    ")\n",
    "\n",
    "display(regression_scores)"
   ]
  },
  {
   "cell_type": "code",
   "execution_count": 91,
   "metadata": {
    "deletable": false,
    "editable": false,
    "nbgrader": {
     "cell_type": "code",
     "checksum": "dd455c6298edcf13a392ef3405e5012a",
     "grade": true,
     "grade_id": "cell-db06848393467bff",
     "locked": true,
     "points": 1,
     "schema_version": 3,
     "solution": false,
     "task": false
    }
   },
   "outputs": [
    {
     "data": {
      "text/plain": [
       "'Success'"
      ]
     },
     "execution_count": 91,
     "metadata": {},
     "output_type": "execute_result"
    }
   ],
   "source": [
    "t.test_3_4(regression_scores)"
   ]
  },
  {
   "cell_type": "markdown",
   "metadata": {},
   "source": [
    "**Question 3.5** <br> {points: 1} \n",
    "\n",
    "What is the mean of each column in `regression_scores`?\n",
    "\n",
    "\n",
    "Save your result in an object named `regression_mean`. "
   ]
  },
  {
   "cell_type": "code",
   "execution_count": 92,
   "metadata": {
    "deletable": false,
    "nbgrader": {
     "cell_type": "code",
     "checksum": "4d3a064443139b53c79cf608f0aab5f0",
     "grade": false,
     "grade_id": "cell-cfb55ddae37d8d25",
     "locked": false,
     "schema_version": 3,
     "solution": true,
     "task": false
    }
   },
   "outputs": [
    {
     "data": {
      "text/plain": [
       "fit_time                             0.017578\n",
       "score_time                           0.011209\n",
       "test_neg_mean_squared_error        -83.748596\n",
       "train_neg_mean_squared_error       -79.736804\n",
       "test_neg_root_mean_square_error     -8.725942\n",
       "train_neg_root_mean_square_error    -8.892093\n",
       "test_neg_mean_absolute_error        -5.932175\n",
       "train_neg_mean_absolute_error       -5.660310\n",
       "test_r2                              0.586398\n",
       "train_r2                             0.574297\n",
       "test_mape_scorer                   -17.738487\n",
       "train_mape_scorer                  -16.774877\n",
       "dtype: float64"
      ]
     },
     "metadata": {},
     "output_type": "display_data"
    }
   ],
   "source": [
    "regression_mean = regression_scores.mean()\n",
    "\n",
    "display(regression_mean)"
   ]
  },
  {
   "cell_type": "code",
   "execution_count": 93,
   "metadata": {
    "deletable": false,
    "editable": false,
    "nbgrader": {
     "cell_type": "code",
     "checksum": "25375c0d00b9b4c14317da96188d4586",
     "grade": true,
     "grade_id": "cell-4993cba10fcfe8c5",
     "locked": true,
     "points": 1,
     "schema_version": 3,
     "solution": false,
     "task": false
    }
   },
   "outputs": [
    {
     "data": {
      "text/plain": [
       "'Success'"
      ]
     },
     "execution_count": 93,
     "metadata": {},
     "output_type": "execute_result"
    }
   ],
   "source": [
    "t.test_3_5(regression_mean)"
   ]
  },
  {
   "cell_type": "markdown",
   "metadata": {},
   "source": [
    "**Question 3.6** <br> {points: 2} \n",
    "\n",
    "What is the model's mean validation MAPE score? \n",
    "\n",
    "Save your answer to 2 decimal places in an object named `mean_reg_mape`. "
   ]
  },
  {
   "cell_type": "code",
   "execution_count": 94,
   "metadata": {
    "deletable": false,
    "nbgrader": {
     "cell_type": "code",
     "checksum": "c594f14a6dc459dbbc2fd63f43fb5970",
     "grade": false,
     "grade_id": "cell-9cfd9da29de1973e",
     "locked": false,
     "schema_version": 3,
     "solution": true,
     "task": false
    }
   },
   "outputs": [
    {
     "data": {
      "text/plain": [
       "-17.74"
      ]
     },
     "metadata": {},
     "output_type": "display_data"
    }
   ],
   "source": [
    "mean_reg_mape = round(regression_mean['test_mape_scorer'], 2)\n",
    "\n",
    "display(mean_reg_mape)"
   ]
  },
  {
   "cell_type": "code",
   "execution_count": 95,
   "metadata": {
    "deletable": false,
    "editable": false,
    "nbgrader": {
     "cell_type": "code",
     "checksum": "29975a2ec1f868886a0f90d1f13875f9",
     "grade": true,
     "grade_id": "cell-763f0a302ba20680",
     "locked": true,
     "points": 2,
     "schema_version": 3,
     "solution": false,
     "task": false
    }
   },
   "outputs": [],
   "source": [
    "# check that the variable exists\n",
    "assert 'mean_reg_mape' in globals(\n",
    "), \"Please make sure that your solution is named 'mean_reg_mape'\"\n",
    "\n",
    "# This test has been intentionally hidden. It will be up to you to decide if your solution\n",
    "# is sufficiently good."
   ]
  },
  {
   "cell_type": "markdown",
   "metadata": {},
   "source": [
    "## Attributions\n",
    "- The Bank Customer Churn DataSet - [Kaggle](https://www.kaggle.com/shubh0799/churn-modelling)\n",
    "\n",
    "- Real Estate Dataset - [The UCI Machine Learning Repository](https://archive.ics.uci.edu/ml/datasets/Real+estate+valuation+data+set)\n",
    "\n",
    "*Yeh, I. C., & Hsu, T. K. (2018). Building real estate valuation models with comparative approach through case-based reasoning. Applied Soft Computing, 65, 260-271.*\n",
    "\n",
    "\n",
    "- MDS DSCI 573 - Feature & Model Selection  - [MDS's GitHub website](https://github.com/UBC-MDS/DSCI_573_feat-model-select) \n"
   ]
  },
  {
   "cell_type": "markdown",
   "metadata": {},
   "source": [
    "## Before Submitting \n",
    "\n",
    "Before submitting your assignment please do the following:\n",
    "\n",
    "- Read through your solutions\n",
    "- **Restart your kernel and clear output and rerun your cells from top to bottom** \n",
    "- Makes sure that none of your code is broken \n",
    "- Verify that the tests from the questions you answered have obtained the output \"Success\"\n",
    "\n",
    "This is a simple way to make sure that you are submitting all the variables needed to mark the assignment. This method should help avoid losing marks due to changes in your environment.  "
   ]
  }
 ],
 "metadata": {
  "kernelspec": {
   "display_name": "Python 3.10.4 64-bit",
   "language": "python",
   "name": "python3"
  },
  "language_info": {
   "codemirror_mode": {
    "name": "ipython",
    "version": 3
   },
   "file_extension": ".py",
   "mimetype": "text/x-python",
   "name": "python",
   "nbconvert_exporter": "python",
   "pygments_lexer": "ipython3",
   "version": "3.10.4"
  },
  "vscode": {
   "interpreter": {
    "hash": "98e2f3d2dd73e88fe48fb6a6de651cd001c0152773ca91edda490fb6b3cd2dfa"
   }
  }
 },
 "nbformat": 4,
 "nbformat_minor": 4
}

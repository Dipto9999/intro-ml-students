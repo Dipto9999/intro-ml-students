{
 "cells": [
  {
   "cell_type": "markdown",
   "metadata": {},
   "source": [
    "## Introduction to Machine Learning  \n",
    "\n",
    "## Assignment 8: Linear Models"
   ]
  },
  {
   "cell_type": "markdown",
   "metadata": {},
   "source": [
    "You can't learn technical subjects without hands-on practice. The assignments are an important part of the course. To submit this assignment you will need to make sure that you save your Jupyter notebook. \n",
    "\n",
    "Below are the links of 2 videos that explain:\n",
    "\n",
    "1. [How to save your Jupyter notebook](https://youtu.be/0aoLgBoAUSA) and,       \n",
    "2. [How to answer a question in a Jupyter notebook assignment](https://youtu.be/7j0WKhI3W4s)."
   ]
  },
  {
   "cell_type": "markdown",
   "metadata": {},
   "source": [
    "### Assignment Learning Goals:\n",
    "\n",
    "By the end of the module, students are expected to:\n",
    "\n",
    "- Explain the general intuition behind linear models.\n",
    "- Explain the `fit` and `predict` paradigm of linear models.\n",
    "- Use `scikit-learn`'s `LogisticRegression` classifier.\n",
    "    - Use `fit`, `predict` and `predict_proba`.   \n",
    "    - Use `coef_` to interpret the model weights.\n",
    "- Explain the advantages and limitations of linear classifiers. \n",
    "- Apply scikit-learn regression model (e.g., Ridge) to regression problems.\n",
    "- Relate the Ridge hyperparameter `alpha` to the `LogisticRegression` hyperparameter `C`.\n",
    "\n",
    "\n",
    "This assignment covers [Module 8](https://ml-learn.mds.ubc.ca/en/module8) of the online course. You should complete this module before attempting this assignment."
   ]
  },
  {
   "cell_type": "markdown",
   "metadata": {},
   "source": [
    "Any place you see `...`, you must fill in the function, variable, or data to complete the code. Substitute the `None` with your completed code and answers then proceed to run the cell!"
   ]
  },
  {
   "cell_type": "markdown",
   "metadata": {},
   "source": [
    "Note that some of the questions in this assignment will have hidden tests. This means that no feedback will be given as to the correctness of your solution. It will be left up to you to decide if your answer is sufficiently correct. These questions are worth 2 points."
   ]
  },
  {
   "cell_type": "code",
   "execution_count": 47,
   "metadata": {},
   "outputs": [
    {
     "data": {
      "text/plain": [
       "DataTransformerRegistry.enable('default')"
      ]
     },
     "execution_count": 47,
     "metadata": {},
     "output_type": "execute_result"
    }
   ],
   "source": [
    "# Import libraries needed for this lab\n",
    "from hashlib import sha1\n",
    "\n",
    "import altair as alt\n",
    "import graphviz\n",
    "import numpy as np\n",
    "import pandas as pd\n",
    "import string\n",
    "from sklearn import tree\n",
    "from sklearn.dummy import DummyClassifier\n",
    "from sklearn.tree import DecisionTreeClassifier\n",
    "from sklearn.model_selection import train_test_split, cross_validate\n",
    "from sklearn.neighbors import KNeighborsClassifier\n",
    "from sklearn.impute import SimpleImputer\n",
    "from sklearn.pipeline import Pipeline, make_pipeline\n",
    "from sklearn.compose import make_column_transformer \n",
    "from sklearn.model_selection import GridSearchCV, RandomizedSearchCV\n",
    "from sklearn.ensemble import RandomForestClassifier, RandomForestRegressor\n",
    "from sklearn.preprocessing import (\n",
    "    FunctionTransformer,\n",
    "    Normalizer,\n",
    "    OneHotEncoder,\n",
    "    StandardScaler,\n",
    "    normalize,\n",
    "    scale)\n",
    "from sklearn.metrics import ConfusionMatrixDisplay, confusion_matrix, classification_report\n",
    "from sklearn.svm import SVC, SVR\n",
    "from sklearn import set_config\n",
    "\n",
    "from scipy.stats import lognorm, loguniform, randint\n",
    "\n",
    "import test_assignment8 as t\n",
    "#alt.renderers.enable('mimetype')\n",
    "alt.data_transformers.disable_max_rows()"
   ]
  },
  {
   "cell_type": "markdown",
   "metadata": {},
   "source": [
    "# 1. Sentiment analysis on the IMDB dataset \n",
    "\n",
    "<img src=\"https://ia.media-imdb.com/images/M/MV5BMTk3ODA4Mjc0NF5BMl5BcG5nXkFtZTgwNDc1MzQ2OTE@._V1_.png\"  width = \"40%\" alt=\"404 image\" />\n",
    "\n",
    "In this exercise, you will carry out sentiment analysis on a real corpus, [the IMDB movie review dataset](https://www.kaggle.com/utathya/imdb-review-dataset).\n",
    "The starter code below loads the data CSV file (assuming that it's in the data directory) as a pandas DataFrame called `imdb_df`.\n",
    "\n",
    "We have done a bit of preprocessing on the dataset and we will use the train/test split that's already provided."
   ]
  },
  {
   "cell_type": "code",
   "execution_count": 48,
   "metadata": {},
   "outputs": [
    {
     "data": {
      "text/html": [
       "<div>\n",
       "<style scoped>\n",
       "    .dataframe tbody tr th:only-of-type {\n",
       "        vertical-align: middle;\n",
       "    }\n",
       "\n",
       "    .dataframe tbody tr th {\n",
       "        vertical-align: top;\n",
       "    }\n",
       "\n",
       "    .dataframe thead th {\n",
       "        text-align: right;\n",
       "    }\n",
       "</style>\n",
       "<table border=\"1\" class=\"dataframe\">\n",
       "  <thead>\n",
       "    <tr style=\"text-align: right;\">\n",
       "      <th></th>\n",
       "      <th>type</th>\n",
       "      <th>review</th>\n",
       "      <th>label</th>\n",
       "    </tr>\n",
       "  </thead>\n",
       "  <tbody>\n",
       "    <tr>\n",
       "      <th>0</th>\n",
       "      <td>train</td>\n",
       "      <td>The world is facing imminent destruction and a...</td>\n",
       "      <td>neg</td>\n",
       "    </tr>\n",
       "    <tr>\n",
       "      <th>1</th>\n",
       "      <td>train</td>\n",
       "      <td>What a horrible comedy. Totally lame. The supp...</td>\n",
       "      <td>neg</td>\n",
       "    </tr>\n",
       "    <tr>\n",
       "      <th>2</th>\n",
       "      <td>train</td>\n",
       "      <td>Follow-up to 1973's far better \"Cleopatra Jone...</td>\n",
       "      <td>neg</td>\n",
       "    </tr>\n",
       "    <tr>\n",
       "      <th>3</th>\n",
       "      <td>train</td>\n",
       "      <td>It was the Sixties, and anyone with long hair ...</td>\n",
       "      <td>neg</td>\n",
       "    </tr>\n",
       "    <tr>\n",
       "      <th>4</th>\n",
       "      <td>train</td>\n",
       "      <td>this movie begins with an ordinary funeral... ...</td>\n",
       "      <td>neg</td>\n",
       "    </tr>\n",
       "  </tbody>\n",
       "</table>\n",
       "</div>"
      ],
      "text/plain": [
       "    type                                             review label\n",
       "0  train  The world is facing imminent destruction and a...   neg\n",
       "1  train  What a horrible comedy. Totally lame. The supp...   neg\n",
       "2  train  Follow-up to 1973's far better \"Cleopatra Jone...   neg\n",
       "3  train  It was the Sixties, and anyone with long hair ...   neg\n",
       "4  train  this movie begins with an ordinary funeral... ...   neg"
      ]
     },
     "metadata": {},
     "output_type": "display_data"
    }
   ],
   "source": [
    "imdb_df = pd.read_csv(\"data/imdb_speed.csv\")\n",
    "train_df = imdb_df[imdb_df['type'] == \"train\"]\n",
    "test_df = imdb_df[imdb_df['type'] == \"test\"]\n",
    "display(train_df.head())"
   ]
  },
  {
   "cell_type": "markdown",
   "metadata": {},
   "source": [
    "**Question 1.1** <br> {points: 1}  \n",
    "\n",
    "Let's now separate our feature vectors from the target.\n",
    "\n",
    "Use the column `review` as your `X` and the `label` column as your target `y`. \n",
    "\n",
    "You will need to do this for both `train_df` and `test_df`.\n",
    "\n",
    "Save the results in objects named `X_train`, `y_train`, `X_test` and `y_test`. \n",
    "\n",
    "(Makes sure that all 4 of these objects are of type Pandas Series. We will be using `CountVectorizer` for future questions and this transformation requires an input of Pandas Series)"
   ]
  },
  {
   "cell_type": "code",
   "execution_count": 49,
   "metadata": {
    "deletable": false,
    "nbgrader": {
     "cell_type": "code",
     "checksum": "0e78c6cf5da63d77e76227158eb6161f",
     "grade": false,
     "grade_id": "cell-e2813ca2b1b4df7d",
     "locked": false,
     "schema_version": 3,
     "solution": true,
     "task": false
    }
   },
   "outputs": [],
   "source": [
    "X_train, y_train = train_df['review'], train_df['label']\n",
    "X_test, y_test = test_df['review'], test_df['label']"
   ]
  },
  {
   "cell_type": "code",
   "execution_count": 50,
   "metadata": {
    "deletable": false,
    "editable": false,
    "nbgrader": {
     "cell_type": "code",
     "checksum": "3d10e6491bf23a70f3fac0144b0d694a",
     "grade": true,
     "grade_id": "cell-de9b99c573bdb428",
     "locked": true,
     "points": 1,
     "schema_version": 3,
     "solution": false,
     "task": false
    }
   },
   "outputs": [
    {
     "data": {
      "text/plain": [
       "'Success'"
      ]
     },
     "execution_count": 50,
     "metadata": {},
     "output_type": "execute_result"
    }
   ],
   "source": [
    "t.test_1_1(X_train, y_train, X_test, y_test)"
   ]
  },
  {
   "cell_type": "markdown",
   "metadata": {},
   "source": [
    "**Question 1.2** <br> {points: 1}  \n",
    "\n",
    "What is the distribution of target values (`label`) in the train split? Your answer should be of type Pandas Series and saved in an object named `class_dist`."
   ]
  },
  {
   "cell_type": "code",
   "execution_count": 51,
   "metadata": {
    "deletable": false,
    "nbgrader": {
     "cell_type": "code",
     "checksum": "c8ec1841722fab35463d9646f3264757",
     "grade": false,
     "grade_id": "cell-a4221b3dc49430cc",
     "locked": false,
     "schema_version": 3,
     "solution": true,
     "task": false
    }
   },
   "outputs": [
    {
     "data": {
      "text/plain": [
       "neg    5000\n",
       "pos    5000\n",
       "Name: label, dtype: int64"
      ]
     },
     "metadata": {},
     "output_type": "display_data"
    }
   ],
   "source": [
    "class_dist = y_train.value_counts()\n",
    "\n",
    "display(class_dist)"
   ]
  },
  {
   "cell_type": "code",
   "execution_count": 52,
   "metadata": {
    "deletable": false,
    "editable": false,
    "nbgrader": {
     "cell_type": "code",
     "checksum": "80393b3a0e1a87ae8695e9170599e303",
     "grade": true,
     "grade_id": "cell-dc5e6a320bf78d16",
     "locked": true,
     "points": 1,
     "schema_version": 3,
     "solution": false,
     "task": false
    }
   },
   "outputs": [
    {
     "data": {
      "text/plain": [
       "'Success'"
      ]
     },
     "execution_count": 52,
     "metadata": {},
     "output_type": "execute_result"
    }
   ],
   "source": [
    "t.test_1_2(class_dist)"
   ]
  },
  {
   "cell_type": "markdown",
   "metadata": {},
   "source": [
    "**Question 1.3** <br> {points: 1}  \n",
    "\n",
    "Do any of your columns have any null values? \n",
    "\n",
    "A) Yes\n",
    "\n",
    "B) No\n",
    "\n",
    "*Answer in the cell below using the uppercase letter associated with your answer. Place your answer between `\"\"`, assign the correct answer to an object called `answer1_3`.*"
   ]
  },
  {
   "cell_type": "code",
   "execution_count": 53,
   "metadata": {
    "deletable": false,
    "nbgrader": {
     "cell_type": "code",
     "checksum": "91d22cd3e69d89097fb7c970754e7632",
     "grade": false,
     "grade_id": "cell-a80b52675ea3f75e",
     "locked": false,
     "schema_version": 3,
     "solution": true,
     "task": false
    }
   },
   "outputs": [
    {
     "data": {
      "text/plain": [
       "'No'"
      ]
     },
     "metadata": {},
     "output_type": "display_data"
    }
   ],
   "source": [
    "if X_train.isnull().sum() > 0 :\n",
    "    answer1_3 = \"Yes\"\n",
    "else :\n",
    "    answer1_3 = \"No\"\n",
    "\n",
    "display(answer1_3)"
   ]
  },
  {
   "cell_type": "code",
   "execution_count": 54,
   "metadata": {
    "deletable": false,
    "editable": false,
    "nbgrader": {
     "cell_type": "code",
     "checksum": "ab1054bc7d56380cece8dceb22a3a3cc",
     "grade": true,
     "grade_id": "cell-afed4860b4dadd44",
     "locked": true,
     "points": 1,
     "schema_version": 3,
     "solution": false,
     "task": false
    }
   },
   "outputs": [],
   "source": [
    "# t.test_1_3(answer1_3)"
   ]
  },
  {
   "cell_type": "markdown",
   "metadata": {},
   "source": [
    "**Question 1.4** <br> {points: 2}  \n",
    "\n",
    "***Challenge question!***\n",
    "\n",
    "How many words are present in each review? \n",
    "\n",
    "Add a column `review_wordcount` to the `train_df` dataframe and save this new dataframe as an object named `review_length_df`.\n"
   ]
  },
  {
   "cell_type": "code",
   "execution_count": 55,
   "metadata": {
    "deletable": false,
    "nbgrader": {
     "cell_type": "code",
     "checksum": "3067a827edf8e5513b87b108ea751bc7",
     "grade": false,
     "grade_id": "cell-1726fe6021386d28",
     "locked": false,
     "schema_version": 3,
     "solution": true,
     "task": false
    }
   },
   "outputs": [
    {
     "data": {
      "text/html": [
       "<div>\n",
       "<style scoped>\n",
       "    .dataframe tbody tr th:only-of-type {\n",
       "        vertical-align: middle;\n",
       "    }\n",
       "\n",
       "    .dataframe tbody tr th {\n",
       "        vertical-align: top;\n",
       "    }\n",
       "\n",
       "    .dataframe thead th {\n",
       "        text-align: right;\n",
       "    }\n",
       "</style>\n",
       "<table border=\"1\" class=\"dataframe\">\n",
       "  <thead>\n",
       "    <tr style=\"text-align: right;\">\n",
       "      <th></th>\n",
       "      <th>type</th>\n",
       "      <th>review</th>\n",
       "      <th>label</th>\n",
       "      <th>review_wordcount</th>\n",
       "    </tr>\n",
       "  </thead>\n",
       "  <tbody>\n",
       "    <tr>\n",
       "      <th>0</th>\n",
       "      <td>train</td>\n",
       "      <td>The world is facing imminent destruction and a...</td>\n",
       "      <td>neg</td>\n",
       "      <td>662</td>\n",
       "    </tr>\n",
       "    <tr>\n",
       "      <th>1</th>\n",
       "      <td>train</td>\n",
       "      <td>What a horrible comedy. Totally lame. The supp...</td>\n",
       "      <td>neg</td>\n",
       "      <td>46</td>\n",
       "    </tr>\n",
       "    <tr>\n",
       "      <th>2</th>\n",
       "      <td>train</td>\n",
       "      <td>Follow-up to 1973's far better \"Cleopatra Jone...</td>\n",
       "      <td>neg</td>\n",
       "      <td>109</td>\n",
       "    </tr>\n",
       "    <tr>\n",
       "      <th>3</th>\n",
       "      <td>train</td>\n",
       "      <td>It was the Sixties, and anyone with long hair ...</td>\n",
       "      <td>neg</td>\n",
       "      <td>601</td>\n",
       "    </tr>\n",
       "    <tr>\n",
       "      <th>4</th>\n",
       "      <td>train</td>\n",
       "      <td>this movie begins with an ordinary funeral... ...</td>\n",
       "      <td>neg</td>\n",
       "      <td>116</td>\n",
       "    </tr>\n",
       "  </tbody>\n",
       "</table>\n",
       "</div>"
      ],
      "text/plain": [
       "    type                                             review label  \\\n",
       "0  train  The world is facing imminent destruction and a...   neg   \n",
       "1  train  What a horrible comedy. Totally lame. The supp...   neg   \n",
       "2  train  Follow-up to 1973's far better \"Cleopatra Jone...   neg   \n",
       "3  train  It was the Sixties, and anyone with long hair ...   neg   \n",
       "4  train  this movie begins with an ordinary funeral... ...   neg   \n",
       "\n",
       "   review_wordcount  \n",
       "0               662  \n",
       "1                46  \n",
       "2               109  \n",
       "3               601  \n",
       "4               116  "
      ]
     },
     "metadata": {},
     "output_type": "display_data"
    }
   ],
   "source": [
    "review_length_df = train_df.assign(review_wordcount = train_df['review'].str.split().str.len())\n",
    "\n",
    "display(review_length_df.head())"
   ]
  },
  {
   "cell_type": "code",
   "execution_count": 56,
   "metadata": {
    "deletable": false,
    "editable": false,
    "nbgrader": {
     "cell_type": "code",
     "checksum": "de075eafcb94246e6e5f7944d362c57d",
     "grade": true,
     "grade_id": "cell-b38989bc28be88a3",
     "locked": true,
     "points": 2,
     "schema_version": 3,
     "solution": false,
     "task": false
    }
   },
   "outputs": [
    {
     "data": {
      "text/plain": [
       "'Success'"
      ]
     },
     "execution_count": 56,
     "metadata": {},
     "output_type": "execute_result"
    }
   ],
   "source": [
    "t.test_1_4(review_length_df)"
   ]
  },
  {
   "cell_type": "markdown",
   "metadata": {},
   "source": [
    "**Question 1.5** <br> {points: 3}  \n",
    "\n",
    "What is the average word count for each review label (pos and neg)?\n",
    "\n",
    "Save the average negative label word count and the average positive label word count to the nearest full number in objects named `neg_wc_avg` and `pos_wc_avg` respectively."
   ]
  },
  {
   "cell_type": "code",
   "execution_count": 57,
   "metadata": {},
   "outputs": [
    {
     "name": "stderr",
     "output_type": "stream",
     "text": [
      "C:\\Users\\Muntakim\\AppData\\Local\\Temp\\ipykernel_600\\1829772948.py:1: FutureWarning: The default value of numeric_only in DataFrameGroupBy.mean is deprecated. In a future version, numeric_only will default to False. Either specify numeric_only or select only columns which should be valid for the function.\n",
      "  mean_length_df = review_length_df.groupby('label').mean()\n"
     ]
    },
    {
     "data": {
      "text/html": [
       "<div>\n",
       "<style scoped>\n",
       "    .dataframe tbody tr th:only-of-type {\n",
       "        vertical-align: middle;\n",
       "    }\n",
       "\n",
       "    .dataframe tbody tr th {\n",
       "        vertical-align: top;\n",
       "    }\n",
       "\n",
       "    .dataframe thead th {\n",
       "        text-align: right;\n",
       "    }\n",
       "</style>\n",
       "<table border=\"1\" class=\"dataframe\">\n",
       "  <thead>\n",
       "    <tr style=\"text-align: right;\">\n",
       "      <th></th>\n",
       "      <th>review_wordcount</th>\n",
       "    </tr>\n",
       "    <tr>\n",
       "      <th>label</th>\n",
       "      <th></th>\n",
       "    </tr>\n",
       "  </thead>\n",
       "  <tbody>\n",
       "    <tr>\n",
       "      <th>neg</th>\n",
       "      <td>233.6754</td>\n",
       "    </tr>\n",
       "    <tr>\n",
       "      <th>pos</th>\n",
       "      <td>237.8132</td>\n",
       "    </tr>\n",
       "  </tbody>\n",
       "</table>\n",
       "</div>"
      ],
      "text/plain": [
       "       review_wordcount\n",
       "label                  \n",
       "neg            233.6754\n",
       "pos            237.8132"
      ]
     },
     "metadata": {},
     "output_type": "display_data"
    }
   ],
   "source": [
    "mean_length_df = review_length_df.groupby('label').mean()\n",
    "\n",
    "display(mean_length_df)"
   ]
  },
  {
   "cell_type": "code",
   "execution_count": 58,
   "metadata": {
    "deletable": false,
    "nbgrader": {
     "cell_type": "code",
     "checksum": "27b8d8a06bcbe59e64e1434d555c0897",
     "grade": false,
     "grade_id": "cell-ccb66cda36fd0f91",
     "locked": false,
     "schema_version": 3,
     "solution": true,
     "task": false
    }
   },
   "outputs": [
    {
     "name": "stdout",
     "output_type": "stream",
     "text": [
      "Average word count for negative reviews: 234.0\n",
      "Average word count for positive reviews: 238.0\n"
     ]
    }
   ],
   "source": [
    "neg_wc_avg = round(mean_length_df.at['neg', 'review_wordcount'], 0)\n",
    "pos_wc_avg = round(mean_length_df.at['pos', 'review_wordcount'], 0)\n",
    "\n",
    "print(f'Average word count for negative reviews: {neg_wc_avg}')\n",
    "print(f'Average word count for positive reviews: {pos_wc_avg}')"
   ]
  },
  {
   "cell_type": "code",
   "execution_count": 59,
   "metadata": {
    "deletable": false,
    "editable": false,
    "nbgrader": {
     "cell_type": "code",
     "checksum": "e72262f36389dfd86f56c252845ddbdd",
     "grade": true,
     "grade_id": "cell-4e4215014acc2d2e",
     "locked": true,
     "points": 2,
     "schema_version": 3,
     "solution": false,
     "task": false
    }
   },
   "outputs": [],
   "source": [
    "# check that the variable exists\n",
    "assert 'neg_wc_avg' in globals(\n",
    "), \"Please make sure that your solution is named 'neg_wc_avg'\"\n",
    "\n",
    "# This test has been intentionally hidden. It will be up to you to decide if your solution\n",
    "# is sufficiently good."
   ]
  },
  {
   "cell_type": "code",
   "execution_count": 60,
   "metadata": {
    "deletable": false,
    "editable": false,
    "nbgrader": {
     "cell_type": "code",
     "checksum": "29f3019b4ecef97d60dab3561c735937",
     "grade": true,
     "grade_id": "cell-dfdf48541df7774c",
     "locked": true,
     "points": 1,
     "schema_version": 3,
     "solution": false,
     "task": false
    }
   },
   "outputs": [
    {
     "data": {
      "text/plain": [
       "'Success'"
      ]
     },
     "execution_count": 60,
     "metadata": {},
     "output_type": "execute_result"
    }
   ],
   "source": [
    "t.test_1_5_2(pos_wc_avg)"
   ]
  },
  {
   "cell_type": "markdown",
   "metadata": {},
   "source": [
    "**Question 1.6** <br> {points: 2}  \n",
    "\n",
    "Plot the average review wordcount per label in a bar chart. \n",
    "\n",
    "Save the plot in an object named `plot_avg_wc`.\n",
    "\n",
    "Remember to provide a title to your plot as well.\n",
    "\n",
    "*Hint: remember you can plot `groupby` objects and when you do so, you'll need to reset your index.*"
   ]
  },
  {
   "cell_type": "code",
   "execution_count": 61,
   "metadata": {
    "deletable": false,
    "nbgrader": {
     "cell_type": "code",
     "checksum": "1110148e238db09fb436e03e03ec2aca",
     "grade": false,
     "grade_id": "cell-70cb229b2af4e588",
     "locked": false,
     "schema_version": 3,
     "solution": true,
     "task": false
    }
   },
   "outputs": [
    {
     "data": {
      "text/html": [
       "\n",
       "<div id=\"altair-viz-792973d46b084b0397351c3c6c750a2b\"></div>\n",
       "<script type=\"text/javascript\">\n",
       "  var VEGA_DEBUG = (typeof VEGA_DEBUG == \"undefined\") ? {} : VEGA_DEBUG;\n",
       "  (function(spec, embedOpt){\n",
       "    let outputDiv = document.currentScript.previousElementSibling;\n",
       "    if (outputDiv.id !== \"altair-viz-792973d46b084b0397351c3c6c750a2b\") {\n",
       "      outputDiv = document.getElementById(\"altair-viz-792973d46b084b0397351c3c6c750a2b\");\n",
       "    }\n",
       "    const paths = {\n",
       "      \"vega\": \"https://cdn.jsdelivr.net/npm//vega@5?noext\",\n",
       "      \"vega-lib\": \"https://cdn.jsdelivr.net/npm//vega-lib?noext\",\n",
       "      \"vega-lite\": \"https://cdn.jsdelivr.net/npm//vega-lite@4.17.0?noext\",\n",
       "      \"vega-embed\": \"https://cdn.jsdelivr.net/npm//vega-embed@6?noext\",\n",
       "    };\n",
       "\n",
       "    function maybeLoadScript(lib, version) {\n",
       "      var key = `${lib.replace(\"-\", \"\")}_version`;\n",
       "      return (VEGA_DEBUG[key] == version) ?\n",
       "        Promise.resolve(paths[lib]) :\n",
       "        new Promise(function(resolve, reject) {\n",
       "          var s = document.createElement('script');\n",
       "          document.getElementsByTagName(\"head\")[0].appendChild(s);\n",
       "          s.async = true;\n",
       "          s.onload = () => {\n",
       "            VEGA_DEBUG[key] = version;\n",
       "            return resolve(paths[lib]);\n",
       "          };\n",
       "          s.onerror = () => reject(`Error loading script: ${paths[lib]}`);\n",
       "          s.src = paths[lib];\n",
       "        });\n",
       "    }\n",
       "\n",
       "    function showError(err) {\n",
       "      outputDiv.innerHTML = `<div class=\"error\" style=\"color:red;\">${err}</div>`;\n",
       "      throw err;\n",
       "    }\n",
       "\n",
       "    function displayChart(vegaEmbed) {\n",
       "      vegaEmbed(outputDiv, spec, embedOpt)\n",
       "        .catch(err => showError(`Javascript Error: ${err.message}<br>This usually means there's a typo in your chart specification. See the javascript console for the full traceback.`));\n",
       "    }\n",
       "\n",
       "    if(typeof define === \"function\" && define.amd) {\n",
       "      requirejs.config({paths});\n",
       "      require([\"vega-embed\"], displayChart, err => showError(`Error loading script: ${err.message}`));\n",
       "    } else {\n",
       "      maybeLoadScript(\"vega\", \"5\")\n",
       "        .then(() => maybeLoadScript(\"vega-lite\", \"4.17.0\"))\n",
       "        .then(() => maybeLoadScript(\"vega-embed\", \"6\"))\n",
       "        .catch(showError)\n",
       "        .then(() => displayChart(vegaEmbed));\n",
       "    }\n",
       "  })({\"config\": {\"view\": {\"continuousWidth\": 400, \"continuousHeight\": 300}, \"axis\": {\"labelFontSize\": 12, \"titleFontSize\": 15}}, \"data\": {\"name\": \"data-dc2bd0aa4a626915603d909710a0041b\"}, \"mark\": \"bar\", \"encoding\": {\"color\": {\"field\": \"label\", \"title\": \"Review Label\", \"type\": \"nominal\"}, \"x\": {\"field\": \"label\", \"title\": \"Review Label\", \"type\": \"nominal\"}, \"y\": {\"field\": \"review_wordcount\", \"scale\": {\"domain\": [223.6754, 247.8132]}, \"title\": \"Average Word Count\", \"type\": \"quantitative\"}}, \"height\": 450, \"title\": {\"text\": \"Average Word Count by Review Label\", \"anchor\": \"middle\", \"fontSize\": 20}, \"width\": 300, \"$schema\": \"https://vega.github.io/schema/vega-lite/v4.17.0.json\", \"datasets\": {\"data-dc2bd0aa4a626915603d909710a0041b\": [{\"label\": \"neg\", \"review_wordcount\": 233.6754}, {\"label\": \"pos\", \"review_wordcount\": 237.8132}]}}, {\"mode\": \"vega-lite\"});\n",
       "</script>"
      ],
      "text/plain": [
       "alt.Chart(...)"
      ]
     },
     "metadata": {},
     "output_type": "display_data"
    }
   ],
   "source": [
    "plot_avg_wc = alt.Chart(mean_length_df.reset_index()).mark_bar().encode(\n",
    "    x = alt.X(shorthand = 'label', title = 'Review Label'),\n",
    "    y = alt.Y(\n",
    "        shorthand = 'review_wordcount', \n",
    "        title = 'Average Word Count', \n",
    "        scale = alt.Scale(domain = [mean_length_df['review_wordcount'].min() - 10, mean_length_df['review_wordcount'].max() + 10])\n",
    "    ),\n",
    "    color = alt.Color('label', title = 'Review Label')\n",
    ").properties(\n",
    "    title = alt.TitleParams(\n",
    "        text = 'Average Word Count by Review Label',\n",
    "        fontSize = 20,\n",
    "        anchor = 'middle'\n",
    "    ),\n",
    "    width = 300, height = 450\n",
    ").configure_axis(\n",
    "    titleFontSize = 15, labelFontSize = 12\n",
    ")\n",
    "\n",
    "display(plot_avg_wc)"
   ]
  },
  {
   "cell_type": "code",
   "execution_count": 62,
   "metadata": {
    "deletable": false,
    "editable": false,
    "nbgrader": {
     "cell_type": "code",
     "checksum": "fe854b84fbd3713378248aeee52cbed5",
     "grade": true,
     "grade_id": "cell-d15d6ded8ce42ef9",
     "locked": true,
     "points": 2,
     "schema_version": 3,
     "solution": false,
     "task": false
    }
   },
   "outputs": [
    {
     "data": {
      "text/plain": [
       "'Success'"
      ]
     },
     "execution_count": 62,
     "metadata": {},
     "output_type": "execute_result"
    }
   ],
   "source": [
    "t.test_1_6(plot_avg_wc)"
   ]
  },
  {
   "cell_type": "markdown",
   "metadata": {},
   "source": [
    "**Question 1.7** <br> {points: 1}  \n",
    "\n",
    "Let's make a baseline model using `DummyClassifier`.\n",
    "\n",
    "Build a `DummyClassifier` named `dummy` using `strategy='most_frequent'`. Perform cross-validation on the training portion. Make sure that you return the training score using `return_train_score=True`. \n",
    "\n",
    "Save the results in a dataframe named `dummy_scores`."
   ]
  },
  {
   "cell_type": "code",
   "execution_count": 63,
   "metadata": {
    "deletable": false,
    "nbgrader": {
     "cell_type": "code",
     "checksum": "1fcd19a7d929b20d476a50130b92d4dd",
     "grade": false,
     "grade_id": "cell-21468e80688065c5",
     "locked": false,
     "schema_version": 3,
     "solution": true,
     "task": false
    }
   },
   "outputs": [
    {
     "data": {
      "text/html": [
       "<div>\n",
       "<style scoped>\n",
       "    .dataframe tbody tr th:only-of-type {\n",
       "        vertical-align: middle;\n",
       "    }\n",
       "\n",
       "    .dataframe tbody tr th {\n",
       "        vertical-align: top;\n",
       "    }\n",
       "\n",
       "    .dataframe thead th {\n",
       "        text-align: right;\n",
       "    }\n",
       "</style>\n",
       "<table border=\"1\" class=\"dataframe\">\n",
       "  <thead>\n",
       "    <tr style=\"text-align: right;\">\n",
       "      <th></th>\n",
       "      <th>fit_time</th>\n",
       "      <th>score_time</th>\n",
       "      <th>test_score</th>\n",
       "      <th>train_score</th>\n",
       "    </tr>\n",
       "  </thead>\n",
       "  <tbody>\n",
       "    <tr>\n",
       "      <th>0</th>\n",
       "      <td>0.016008</td>\n",
       "      <td>0.007991</td>\n",
       "      <td>0.5</td>\n",
       "      <td>0.5</td>\n",
       "    </tr>\n",
       "    <tr>\n",
       "      <th>1</th>\n",
       "      <td>0.009007</td>\n",
       "      <td>0.006988</td>\n",
       "      <td>0.5</td>\n",
       "      <td>0.5</td>\n",
       "    </tr>\n",
       "    <tr>\n",
       "      <th>2</th>\n",
       "      <td>0.008000</td>\n",
       "      <td>0.010999</td>\n",
       "      <td>0.5</td>\n",
       "      <td>0.5</td>\n",
       "    </tr>\n",
       "    <tr>\n",
       "      <th>3</th>\n",
       "      <td>0.008001</td>\n",
       "      <td>0.006999</td>\n",
       "      <td>0.5</td>\n",
       "      <td>0.5</td>\n",
       "    </tr>\n",
       "    <tr>\n",
       "      <th>4</th>\n",
       "      <td>0.006996</td>\n",
       "      <td>0.011002</td>\n",
       "      <td>0.5</td>\n",
       "      <td>0.5</td>\n",
       "    </tr>\n",
       "  </tbody>\n",
       "</table>\n",
       "</div>"
      ],
      "text/plain": [
       "   fit_time  score_time  test_score  train_score\n",
       "0  0.016008    0.007991         0.5          0.5\n",
       "1  0.009007    0.006988         0.5          0.5\n",
       "2  0.008000    0.010999         0.5          0.5\n",
       "3  0.008001    0.006999         0.5          0.5\n",
       "4  0.006996    0.011002         0.5          0.5"
      ]
     },
     "metadata": {},
     "output_type": "display_data"
    }
   ],
   "source": [
    "dummy = DummyClassifier(strategy = 'most_frequent')\n",
    "\n",
    "dummy_scores = pd.DataFrame(cross_validate(\n",
    "        estimator = dummy, \n",
    "        X = X_train, y = y_train, \n",
    "        cv = 5, return_train_score = True\n",
    "    )\n",
    ")\n",
    "\n",
    "display(dummy_scores)"
   ]
  },
  {
   "cell_type": "code",
   "execution_count": 64,
   "metadata": {
    "deletable": false,
    "editable": false,
    "nbgrader": {
     "cell_type": "code",
     "checksum": "a01f0f9b2e76ca787f247a51e6df471d",
     "grade": true,
     "grade_id": "cell-3ae4f9a2e6cc1453",
     "locked": true,
     "points": 1,
     "schema_version": 3,
     "solution": false,
     "task": false
    }
   },
   "outputs": [
    {
     "data": {
      "text/plain": [
       "'Success'"
      ]
     },
     "execution_count": 64,
     "metadata": {},
     "output_type": "execute_result"
    }
   ],
   "source": [
    "t.test_1_7(dummy_scores)"
   ]
  },
  {
   "cell_type": "markdown",
   "metadata": {},
   "source": [
    "**Question 1.8** <br> {points: 0}\n",
    "\n",
    "Import `CountVectorizer` and `LogisticRegression`."
   ]
  },
  {
   "cell_type": "code",
   "execution_count": 65,
   "metadata": {
    "deletable": false,
    "nbgrader": {
     "cell_type": "code",
     "checksum": "1b942243d97b0ab0b1975ed832e9d68c",
     "grade": false,
     "grade_id": "cell-bb57d43dab2cdbf5",
     "locked": false,
     "schema_version": 3,
     "solution": true,
     "task": false
    }
   },
   "outputs": [],
   "source": [
    "from sklearn.feature_extraction.text import CountVectorizer \n",
    "from sklearn.linear_model import LogisticRegression"
   ]
  },
  {
   "cell_type": "code",
   "execution_count": 66,
   "metadata": {
    "deletable": false,
    "editable": false,
    "nbgrader": {
     "cell_type": "code",
     "checksum": "c39a7ac636cf6caa2840a5fe532e2bee",
     "grade": true,
     "grade_id": "cell-884574d9f3ed3195",
     "locked": true,
     "points": 0,
     "schema_version": 3,
     "solution": false,
     "task": false
    }
   },
   "outputs": [
    {
     "data": {
      "text/plain": [
       "'Success'"
      ]
     },
     "execution_count": 66,
     "metadata": {},
     "output_type": "execute_result"
    }
   ],
   "source": [
    "t.test_1_8()"
   ]
  },
  {
   "cell_type": "markdown",
   "metadata": {},
   "source": [
    "**Question 1.9** <br> {points: 1}  \n",
    "\n",
    "Build a pipeline named `lr_pipe` that uses the `CountVectorizer()` transformer followed by the logistic regression model (set `max_iter=2000` this will help avoid any warnings).\n",
    "\n",
    "Perform 5 fold cross-validation on the training set using `lr_pipe` and return the training score. Save the results in a dataframe named `lr_scores`."
   ]
  },
  {
   "cell_type": "code",
   "execution_count": 67,
   "metadata": {
    "deletable": false,
    "nbgrader": {
     "cell_type": "code",
     "checksum": "4bf8bd17a8cc7af7cfe278d76a916c14",
     "grade": false,
     "grade_id": "cell-5f01df846f98b34f",
     "locked": false,
     "schema_version": 3,
     "solution": true,
     "task": false
    }
   },
   "outputs": [
    {
     "data": {
      "text/html": [
       "<div>\n",
       "<style scoped>\n",
       "    .dataframe tbody tr th:only-of-type {\n",
       "        vertical-align: middle;\n",
       "    }\n",
       "\n",
       "    .dataframe tbody tr th {\n",
       "        vertical-align: top;\n",
       "    }\n",
       "\n",
       "    .dataframe thead th {\n",
       "        text-align: right;\n",
       "    }\n",
       "</style>\n",
       "<table border=\"1\" class=\"dataframe\">\n",
       "  <thead>\n",
       "    <tr style=\"text-align: right;\">\n",
       "      <th></th>\n",
       "      <th>fit_time</th>\n",
       "      <th>score_time</th>\n",
       "      <th>test_score</th>\n",
       "      <th>train_score</th>\n",
       "    </tr>\n",
       "  </thead>\n",
       "  <tbody>\n",
       "    <tr>\n",
       "      <th>0</th>\n",
       "      <td>9.783894</td>\n",
       "      <td>2.390386</td>\n",
       "      <td>0.7180</td>\n",
       "      <td>0.741250</td>\n",
       "    </tr>\n",
       "    <tr>\n",
       "      <th>1</th>\n",
       "      <td>10.163881</td>\n",
       "      <td>2.363406</td>\n",
       "      <td>0.7235</td>\n",
       "      <td>0.738000</td>\n",
       "    </tr>\n",
       "    <tr>\n",
       "      <th>2</th>\n",
       "      <td>9.905911</td>\n",
       "      <td>2.455375</td>\n",
       "      <td>0.7275</td>\n",
       "      <td>0.741250</td>\n",
       "    </tr>\n",
       "    <tr>\n",
       "      <th>3</th>\n",
       "      <td>10.055899</td>\n",
       "      <td>2.265384</td>\n",
       "      <td>0.7320</td>\n",
       "      <td>0.735625</td>\n",
       "    </tr>\n",
       "    <tr>\n",
       "      <th>4</th>\n",
       "      <td>10.619047</td>\n",
       "      <td>2.249241</td>\n",
       "      <td>0.7300</td>\n",
       "      <td>0.736875</td>\n",
       "    </tr>\n",
       "  </tbody>\n",
       "</table>\n",
       "</div>"
      ],
      "text/plain": [
       "    fit_time  score_time  test_score  train_score\n",
       "0   9.783894    2.390386      0.7180     0.741250\n",
       "1  10.163881    2.363406      0.7235     0.738000\n",
       "2   9.905911    2.455375      0.7275     0.741250\n",
       "3  10.055899    2.265384      0.7320     0.735625\n",
       "4  10.619047    2.249241      0.7300     0.736875"
      ]
     },
     "metadata": {},
     "output_type": "display_data"
    }
   ],
   "source": [
    "lr_pipe = make_pipeline(\n",
    "    CountVectorizer(max_features = 100),\n",
    "    LogisticRegression(max_iter = 2000)\n",
    ")\n",
    "\n",
    "lr_scores = pd.DataFrame(\n",
    "    cross_validate(\n",
    "        estimator = lr_pipe,\n",
    "        X = X_train, y = y_train,\n",
    "        cv = 5, return_train_score = True,\n",
    "        n_jobs = -1\n",
    "    )\n",
    ")\n",
    "\n",
    "display(lr_scores)"
   ]
  },
  {
   "cell_type": "code",
   "execution_count": 68,
   "metadata": {
    "deletable": false,
    "editable": false,
    "nbgrader": {
     "cell_type": "code",
     "checksum": "6fd5d3aa00d2db3f30b56180bd95da74",
     "grade": true,
     "grade_id": "cell-62e4194474333507",
     "locked": true,
     "points": 1,
     "schema_version": 3,
     "solution": false,
     "task": false
    }
   },
   "outputs": [
    {
     "data": {
      "text/plain": [
       "'Success'"
      ]
     },
     "execution_count": 68,
     "metadata": {},
     "output_type": "execute_result"
    }
   ],
   "source": [
    "t.test_1_9(lr_pipe, lr_scores)"
   ]
  },
  {
   "cell_type": "markdown",
   "metadata": {},
   "source": [
    "**Question 1.10** <br> {points: 1} \n",
    "\n",
    "What is the mean of each column in `lr_scores`?\n",
    "\n",
    "Save your result in an object named `lr_mean`. "
   ]
  },
  {
   "cell_type": "code",
   "execution_count": 69,
   "metadata": {
    "deletable": false,
    "nbgrader": {
     "cell_type": "code",
     "checksum": "d765dba1dd19717ec97ff364b57e3afb",
     "grade": false,
     "grade_id": "cell-49d3f6f99089b4dd",
     "locked": false,
     "schema_version": 3,
     "solution": true,
     "task": false
    }
   },
   "outputs": [
    {
     "data": {
      "text/plain": [
       "fit_time       10.105727\n",
       "score_time      2.344758\n",
       "test_score      0.726200\n",
       "train_score     0.738600\n",
       "dtype: float64"
      ]
     },
     "metadata": {},
     "output_type": "display_data"
    }
   ],
   "source": [
    "lr_mean = lr_scores.mean()\n",
    "\n",
    "display(lr_mean)"
   ]
  },
  {
   "cell_type": "code",
   "execution_count": 70,
   "metadata": {
    "deletable": false,
    "editable": false,
    "nbgrader": {
     "cell_type": "code",
     "checksum": "71195c46fee15811c051238cb50780da",
     "grade": true,
     "grade_id": "cell-21515470d3758502",
     "locked": true,
     "points": 1,
     "schema_version": 3,
     "solution": false,
     "task": false
    }
   },
   "outputs": [
    {
     "data": {
      "text/plain": [
       "'Success'"
      ]
     },
     "execution_count": 70,
     "metadata": {},
     "output_type": "execute_result"
    }
   ],
   "source": [
    "t.test_1_10(lr_mean)"
   ]
  },
  {
   "cell_type": "markdown",
   "metadata": {},
   "source": [
    "**Question 1.11** <br> {points: 1}  \n",
    "\n",
    "Which model performs better? \n",
    "\n",
    "A) `DummyClassifier`\n",
    "\n",
    "B) `LogisticRegression`\n",
    "\n",
    "*Answer in the cell below using the uppercase letter associated with your answer. Place your answer between `\"\"`, assign the correct answer to an object called `answer1_11`.*"
   ]
  },
  {
   "cell_type": "code",
   "execution_count": 71,
   "metadata": {
    "deletable": false,
    "nbgrader": {
     "cell_type": "code",
     "checksum": "6797f61eb1d1c2c0b417316607d7cd92",
     "grade": false,
     "grade_id": "cell-ac18a6619cc03429",
     "locked": false,
     "schema_version": 3,
     "solution": true,
     "task": false
    }
   },
   "outputs": [
    {
     "name": "stdout",
     "output_type": "stream",
     "text": [
      "Answer 1.11 : B\n"
     ]
    }
   ],
   "source": [
    "if (lr_mean['test_score'] < dummy_scores.mean()['test_score']) :\n",
    "    answer1_11 = 'A'\n",
    "else :\n",
    "    answer1_11 = 'B'\n",
    "\n",
    "print(f'Answer 1.11 : {answer1_11}')"
   ]
  },
  {
   "cell_type": "code",
   "execution_count": 72,
   "metadata": {
    "deletable": false,
    "editable": false,
    "nbgrader": {
     "cell_type": "code",
     "checksum": "826a6045acae93adb7f33299782e6a31",
     "grade": true,
     "grade_id": "cell-5e08f691bef0f241",
     "locked": true,
     "points": 1,
     "schema_version": 3,
     "solution": false,
     "task": false
    }
   },
   "outputs": [
    {
     "data": {
      "text/plain": [
       "'Success'"
      ]
     },
     "execution_count": 72,
     "metadata": {},
     "output_type": "execute_result"
    }
   ],
   "source": [
    "t.test_1_11(answer1_11)"
   ]
  },
  {
   "cell_type": "markdown",
   "metadata": {},
   "source": [
    "**Question 1.12** <br> {points: 2} \n",
    "\n",
    "Let's see if we can optimize our model by hyperparameter tuning both `max_features` and `C`. \n",
    "\n",
    "First, let's answer the following questions. \n",
    "\n",
    "i) Does `max_features` correspond to a hyperparameter for `CountVectorizer` or `LogisticRegression`? Answer the name in an object named `max_f_hyper`.\n",
    "\n",
    "ii) Does `C` correspond to a hyperparameter for `CountVectorizer` or `LogisticRegression`? Answer the name in an object named `C_hyper`.\n",
    "\n",
    "*Answer in the cell below by specifying either \"CountVectorizer\" or \"LogisticRegression\" for the objects named in the above question. Make sure your answer is between `\"\"`."
   ]
  },
  {
   "cell_type": "code",
   "execution_count": 73,
   "metadata": {
    "deletable": false,
    "nbgrader": {
     "cell_type": "code",
     "checksum": "9607196a820e6a9d37418065019cb3f9",
     "grade": false,
     "grade_id": "cell-509fe358c804db31",
     "locked": false,
     "schema_version": 3,
     "solution": true,
     "task": false
    }
   },
   "outputs": [],
   "source": [
    "max_f_hyper = 'CountVectorizer' \n",
    "C_hyper = 'LogisticRegression'"
   ]
  },
  {
   "cell_type": "code",
   "execution_count": 74,
   "metadata": {
    "deletable": false,
    "editable": false,
    "nbgrader": {
     "cell_type": "code",
     "checksum": "c1306d02d02830248312a2b558fcc555",
     "grade": true,
     "grade_id": "cell-f78d6830b977e12e",
     "locked": true,
     "points": 1,
     "schema_version": 3,
     "solution": false,
     "task": false
    }
   },
   "outputs": [
    {
     "data": {
      "text/plain": [
       "'Success'"
      ]
     },
     "execution_count": 74,
     "metadata": {},
     "output_type": "execute_result"
    }
   ],
   "source": [
    "t.test_1_12_1(max_f_hyper)"
   ]
  },
  {
   "cell_type": "code",
   "execution_count": 75,
   "metadata": {
    "deletable": false,
    "editable": false,
    "nbgrader": {
     "cell_type": "code",
     "checksum": "d2641f5933dc0f6ff8f0b2576b120c50",
     "grade": true,
     "grade_id": "cell-f9d746773a3b8e2a",
     "locked": true,
     "points": 1,
     "schema_version": 3,
     "solution": false,
     "task": false
    }
   },
   "outputs": [
    {
     "data": {
      "text/plain": [
       "'Success'"
      ]
     },
     "execution_count": 75,
     "metadata": {},
     "output_type": "execute_result"
    }
   ],
   "source": [
    "t.test_1_12_2(C_hyper)"
   ]
  },
  {
   "cell_type": "markdown",
   "metadata": {},
   "source": [
    "**Question 1.13** <br> {points: 1} \n",
    "\n",
    "If we increase the `C` hyperparameter values, is that more likely to result in a model that is overfitted or underfitted? \n",
    "\n",
    "*Answer in the cell below by specifying either \"overfitted\" or \"underfitted\" in an object named `answer_1_13`. Make sure your answer is between `\"\"`."
   ]
  },
  {
   "cell_type": "code",
   "execution_count": 76,
   "metadata": {
    "deletable": false,
    "nbgrader": {
     "cell_type": "code",
     "checksum": "b7bd2746e0bdc65fd62d3cf9f7e2b7ed",
     "grade": false,
     "grade_id": "cell-796d393b70bee261",
     "locked": false,
     "schema_version": 3,
     "solution": true,
     "task": false
    }
   },
   "outputs": [],
   "source": [
    "answer_1_13 = 'overfitted'"
   ]
  },
  {
   "cell_type": "code",
   "execution_count": 77,
   "metadata": {
    "deletable": false,
    "editable": false,
    "nbgrader": {
     "cell_type": "code",
     "checksum": "cbaf48c17bdc01aeee23b8f878c0da41",
     "grade": true,
     "grade_id": "cell-9b51ac5ffe66192f",
     "locked": true,
     "points": 1,
     "schema_version": 3,
     "solution": false,
     "task": false
    }
   },
   "outputs": [
    {
     "data": {
      "text/plain": [
       "'Success'"
      ]
     },
     "execution_count": 77,
     "metadata": {},
     "output_type": "execute_result"
    }
   ],
   "source": [
    "t.test_1_13(answer_1_13)"
   ]
  },
  {
   "cell_type": "markdown",
   "metadata": {},
   "source": [
    "**Question 1.14** <br> {points: 1}\n",
    "\n",
    "The time has come to hyperparameter tune! Define a pipeline with `CountVectorizer` and `LogisticRegression` with `max_iter=1000`. Name the pipeline `main_pipe`. \n",
    "\n",
    "Use `RandomizedSearchCV` to jointly optimize the hyperparameters in the `params_grid` that we have provided for you. \n",
    "Name this object `random_search`. Specify `n_iter=10`, `cv=5`, `random_state=888`, `n_jobs=-1`, `verbose=3`, and `return_train_score=True`. \n",
    "Make sure to fit your model on the training portion of the IMDB dataset. \n",
    "\n",
    "This can take quite a while (10 minutes for me!) so please be patient."
   ]
  },
  {
   "cell_type": "code",
   "execution_count": 78,
   "metadata": {},
   "outputs": [],
   "source": [
    "param_grid = {\n",
    "    \"logisticregression__C\" : loguniform(0.01, 100),\n",
    "    \"countvectorizer__max_features\" : randint(10, 1000),\n",
    "}"
   ]
  },
  {
   "cell_type": "code",
   "execution_count": 79,
   "metadata": {
    "deletable": false,
    "nbgrader": {
     "cell_type": "code",
     "checksum": "b9b813ddc61ba79584347ff625b0060c",
     "grade": false,
     "grade_id": "cell-84e687666b1a490f",
     "locked": false,
     "schema_version": 3,
     "solution": true,
     "task": false
    }
   },
   "outputs": [
    {
     "name": "stdout",
     "output_type": "stream",
     "text": [
      "Fitting 5 folds for each of 10 candidates, totalling 50 fits\n"
     ]
    },
    {
     "name": "stderr",
     "output_type": "stream",
     "text": [
      "c:\\Users\\Muntakim\\AppData\\Local\\Programs\\Python\\Python310\\lib\\site-packages\\sklearn\\linear_model\\_logistic.py:458: ConvergenceWarning: lbfgs failed to converge (status=1):\n",
      "STOP: TOTAL NO. of ITERATIONS REACHED LIMIT.\n",
      "\n",
      "Increase the number of iterations (max_iter) or scale the data as shown in:\n",
      "    https://scikit-learn.org/stable/modules/preprocessing.html\n",
      "Please also refer to the documentation for alternative solver options:\n",
      "    https://scikit-learn.org/stable/modules/linear_model.html#logistic-regression\n",
      "  n_iter_i = _check_optimize_result(\n"
     ]
    },
    {
     "data": {
      "text/html": [
       "<style>#sk-container-id-3 {color: black;background-color: white;}#sk-container-id-3 pre{padding: 0;}#sk-container-id-3 div.sk-toggleable {background-color: white;}#sk-container-id-3 label.sk-toggleable__label {cursor: pointer;display: block;width: 100%;margin-bottom: 0;padding: 0.3em;box-sizing: border-box;text-align: center;}#sk-container-id-3 label.sk-toggleable__label-arrow:before {content: \"▸\";float: left;margin-right: 0.25em;color: #696969;}#sk-container-id-3 label.sk-toggleable__label-arrow:hover:before {color: black;}#sk-container-id-3 div.sk-estimator:hover label.sk-toggleable__label-arrow:before {color: black;}#sk-container-id-3 div.sk-toggleable__content {max-height: 0;max-width: 0;overflow: hidden;text-align: left;background-color: #f0f8ff;}#sk-container-id-3 div.sk-toggleable__content pre {margin: 0.2em;color: black;border-radius: 0.25em;background-color: #f0f8ff;}#sk-container-id-3 input.sk-toggleable__control:checked~div.sk-toggleable__content {max-height: 200px;max-width: 100%;overflow: auto;}#sk-container-id-3 input.sk-toggleable__control:checked~label.sk-toggleable__label-arrow:before {content: \"▾\";}#sk-container-id-3 div.sk-estimator input.sk-toggleable__control:checked~label.sk-toggleable__label {background-color: #d4ebff;}#sk-container-id-3 div.sk-label input.sk-toggleable__control:checked~label.sk-toggleable__label {background-color: #d4ebff;}#sk-container-id-3 input.sk-hidden--visually {border: 0;clip: rect(1px 1px 1px 1px);clip: rect(1px, 1px, 1px, 1px);height: 1px;margin: -1px;overflow: hidden;padding: 0;position: absolute;width: 1px;}#sk-container-id-3 div.sk-estimator {font-family: monospace;background-color: #f0f8ff;border: 1px dotted black;border-radius: 0.25em;box-sizing: border-box;margin-bottom: 0.5em;}#sk-container-id-3 div.sk-estimator:hover {background-color: #d4ebff;}#sk-container-id-3 div.sk-parallel-item::after {content: \"\";width: 100%;border-bottom: 1px solid gray;flex-grow: 1;}#sk-container-id-3 div.sk-label:hover label.sk-toggleable__label {background-color: #d4ebff;}#sk-container-id-3 div.sk-serial::before {content: \"\";position: absolute;border-left: 1px solid gray;box-sizing: border-box;top: 0;bottom: 0;left: 50%;z-index: 0;}#sk-container-id-3 div.sk-serial {display: flex;flex-direction: column;align-items: center;background-color: white;padding-right: 0.2em;padding-left: 0.2em;position: relative;}#sk-container-id-3 div.sk-item {position: relative;z-index: 1;}#sk-container-id-3 div.sk-parallel {display: flex;align-items: stretch;justify-content: center;background-color: white;position: relative;}#sk-container-id-3 div.sk-item::before, #sk-container-id-3 div.sk-parallel-item::before {content: \"\";position: absolute;border-left: 1px solid gray;box-sizing: border-box;top: 0;bottom: 0;left: 50%;z-index: -1;}#sk-container-id-3 div.sk-parallel-item {display: flex;flex-direction: column;z-index: 1;position: relative;background-color: white;}#sk-container-id-3 div.sk-parallel-item:first-child::after {align-self: flex-end;width: 50%;}#sk-container-id-3 div.sk-parallel-item:last-child::after {align-self: flex-start;width: 50%;}#sk-container-id-3 div.sk-parallel-item:only-child::after {width: 0;}#sk-container-id-3 div.sk-dashed-wrapped {border: 1px dashed gray;margin: 0 0.4em 0.5em 0.4em;box-sizing: border-box;padding-bottom: 0.4em;background-color: white;}#sk-container-id-3 div.sk-label label {font-family: monospace;font-weight: bold;display: inline-block;line-height: 1.2em;}#sk-container-id-3 div.sk-label-container {text-align: center;}#sk-container-id-3 div.sk-container {/* jupyter's `normalize.less` sets `[hidden] { display: none; }` but bootstrap.min.css set `[hidden] { display: none !important; }` so we also need the `!important` here to be able to override the default hidden behavior on the sphinx rendered scikit-learn.org. See: https://github.com/scikit-learn/scikit-learn/issues/21755 */display: inline-block !important;position: relative;}#sk-container-id-3 div.sk-text-repr-fallback {display: none;}</style><div id=\"sk-container-id-3\" class=\"sk-top-container\"><div class=\"sk-text-repr-fallback\"><pre>RandomizedSearchCV(cv=5,\n",
       "                   estimator=Pipeline(steps=[(&#x27;countvectorizer&#x27;,\n",
       "                                              CountVectorizer()),\n",
       "                                             (&#x27;logisticregression&#x27;,\n",
       "                                              LogisticRegression())]),\n",
       "                   n_jobs=-1,\n",
       "                   param_distributions={&#x27;countvectorizer__max_features&#x27;: &lt;scipy.stats._distn_infrastructure.rv_discrete_frozen object at 0x000001A5F47041F0&gt;,\n",
       "                                        &#x27;logisticregression__C&#x27;: &lt;scipy.stats._distn_infrastructure.rv_continuous_frozen object at 0x000001A5F3C73610&gt;},\n",
       "                   random_state=888, return_train_score=True, verbose=3)</pre><b>In a Jupyter environment, please rerun this cell to show the HTML representation or trust the notebook. <br />On GitHub, the HTML representation is unable to render, please try loading this page with nbviewer.org.</b></div><div class=\"sk-container\" hidden><div class=\"sk-item sk-dashed-wrapped\"><div class=\"sk-label-container\"><div class=\"sk-label sk-toggleable\"><input class=\"sk-toggleable__control sk-hidden--visually\" id=\"sk-estimator-id-8\" type=\"checkbox\" ><label for=\"sk-estimator-id-8\" class=\"sk-toggleable__label sk-toggleable__label-arrow\">RandomizedSearchCV</label><div class=\"sk-toggleable__content\"><pre>RandomizedSearchCV(cv=5,\n",
       "                   estimator=Pipeline(steps=[(&#x27;countvectorizer&#x27;,\n",
       "                                              CountVectorizer()),\n",
       "                                             (&#x27;logisticregression&#x27;,\n",
       "                                              LogisticRegression())]),\n",
       "                   n_jobs=-1,\n",
       "                   param_distributions={&#x27;countvectorizer__max_features&#x27;: &lt;scipy.stats._distn_infrastructure.rv_discrete_frozen object at 0x000001A5F47041F0&gt;,\n",
       "                                        &#x27;logisticregression__C&#x27;: &lt;scipy.stats._distn_infrastructure.rv_continuous_frozen object at 0x000001A5F3C73610&gt;},\n",
       "                   random_state=888, return_train_score=True, verbose=3)</pre></div></div></div><div class=\"sk-parallel\"><div class=\"sk-parallel-item\"><div class=\"sk-item\"><div class=\"sk-label-container\"><div class=\"sk-label sk-toggleable\"><input class=\"sk-toggleable__control sk-hidden--visually\" id=\"sk-estimator-id-9\" type=\"checkbox\" ><label for=\"sk-estimator-id-9\" class=\"sk-toggleable__label sk-toggleable__label-arrow\">estimator: Pipeline</label><div class=\"sk-toggleable__content\"><pre>Pipeline(steps=[(&#x27;countvectorizer&#x27;, CountVectorizer()),\n",
       "                (&#x27;logisticregression&#x27;, LogisticRegression())])</pre></div></div></div><div class=\"sk-serial\"><div class=\"sk-item\"><div class=\"sk-serial\"><div class=\"sk-item\"><div class=\"sk-estimator sk-toggleable\"><input class=\"sk-toggleable__control sk-hidden--visually\" id=\"sk-estimator-id-10\" type=\"checkbox\" ><label for=\"sk-estimator-id-10\" class=\"sk-toggleable__label sk-toggleable__label-arrow\">CountVectorizer</label><div class=\"sk-toggleable__content\"><pre>CountVectorizer()</pre></div></div></div><div class=\"sk-item\"><div class=\"sk-estimator sk-toggleable\"><input class=\"sk-toggleable__control sk-hidden--visually\" id=\"sk-estimator-id-11\" type=\"checkbox\" ><label for=\"sk-estimator-id-11\" class=\"sk-toggleable__label sk-toggleable__label-arrow\">LogisticRegression</label><div class=\"sk-toggleable__content\"><pre>LogisticRegression()</pre></div></div></div></div></div></div></div></div></div></div></div></div>"
      ],
      "text/plain": [
       "RandomizedSearchCV(cv=5,\n",
       "                   estimator=Pipeline(steps=[('countvectorizer',\n",
       "                                              CountVectorizer()),\n",
       "                                             ('logisticregression',\n",
       "                                              LogisticRegression())]),\n",
       "                   n_jobs=-1,\n",
       "                   param_distributions={'countvectorizer__max_features': <scipy.stats._distn_infrastructure.rv_discrete_frozen object at 0x000001A5F47041F0>,\n",
       "                                        'logisticregression__C': <scipy.stats._distn_infrastructure.rv_continuous_frozen object at 0x000001A5F3C73610>},\n",
       "                   random_state=888, return_train_score=True, verbose=3)"
      ]
     },
     "metadata": {},
     "output_type": "display_data"
    }
   ],
   "source": [
    "main_pipe = make_pipeline(\n",
    "    CountVectorizer(),\n",
    "    LogisticRegression()\n",
    ")\n",
    "\n",
    "random_search = RandomizedSearchCV(\n",
    "    estimator = main_pipe,\n",
    "    param_distributions = param_grid,\n",
    "    n_iter = 10, cv = 5,\n",
    "    random_state = 888,\n",
    "    n_jobs = -1, verbose = 3,\n",
    "    return_train_score = True\n",
    ").fit(X_train, y_train)\n",
    "\n",
    "display(random_search)"
   ]
  },
  {
   "cell_type": "code",
   "execution_count": 80,
   "metadata": {},
   "outputs": [
    {
     "data": {
      "text/html": [
       "<div>\n",
       "<style scoped>\n",
       "    .dataframe tbody tr th:only-of-type {\n",
       "        vertical-align: middle;\n",
       "    }\n",
       "\n",
       "    .dataframe tbody tr th {\n",
       "        vertical-align: top;\n",
       "    }\n",
       "\n",
       "    .dataframe thead th {\n",
       "        text-align: right;\n",
       "    }\n",
       "</style>\n",
       "<table border=\"1\" class=\"dataframe\">\n",
       "  <thead>\n",
       "    <tr style=\"text-align: right;\">\n",
       "      <th></th>\n",
       "      <th>mean_fit_time</th>\n",
       "      <th>std_fit_time</th>\n",
       "      <th>mean_score_time</th>\n",
       "      <th>std_score_time</th>\n",
       "      <th>param_countvectorizer__max_features</th>\n",
       "      <th>param_logisticregression__C</th>\n",
       "      <th>params</th>\n",
       "      <th>split0_test_score</th>\n",
       "      <th>split1_test_score</th>\n",
       "      <th>split2_test_score</th>\n",
       "      <th>...</th>\n",
       "      <th>mean_test_score</th>\n",
       "      <th>std_test_score</th>\n",
       "      <th>rank_test_score</th>\n",
       "      <th>split0_train_score</th>\n",
       "      <th>split1_train_score</th>\n",
       "      <th>split2_train_score</th>\n",
       "      <th>split3_train_score</th>\n",
       "      <th>split4_train_score</th>\n",
       "      <th>mean_train_score</th>\n",
       "      <th>std_train_score</th>\n",
       "    </tr>\n",
       "  </thead>\n",
       "  <tbody>\n",
       "    <tr>\n",
       "      <th>0</th>\n",
       "      <td>16.609447</td>\n",
       "      <td>1.289033</td>\n",
       "      <td>3.658476</td>\n",
       "      <td>0.902089</td>\n",
       "      <td>520</td>\n",
       "      <td>3.127595</td>\n",
       "      <td>{'countvectorizer__max_features': 520, 'logist...</td>\n",
       "      <td>0.8175</td>\n",
       "      <td>0.8150</td>\n",
       "      <td>0.8165</td>\n",
       "      <td>...</td>\n",
       "      <td>0.8216</td>\n",
       "      <td>0.008046</td>\n",
       "      <td>5</td>\n",
       "      <td>0.858750</td>\n",
       "      <td>0.859750</td>\n",
       "      <td>0.861250</td>\n",
       "      <td>0.861500</td>\n",
       "      <td>0.856125</td>\n",
       "      <td>0.859475</td>\n",
       "      <td>0.001953</td>\n",
       "    </tr>\n",
       "    <tr>\n",
       "      <th>1</th>\n",
       "      <td>16.696549</td>\n",
       "      <td>1.790007</td>\n",
       "      <td>3.159978</td>\n",
       "      <td>0.521252</td>\n",
       "      <td>249</td>\n",
       "      <td>0.858823</td>\n",
       "      <td>{'countvectorizer__max_features': 249, 'logist...</td>\n",
       "      <td>0.7755</td>\n",
       "      <td>0.7845</td>\n",
       "      <td>0.7905</td>\n",
       "      <td>...</td>\n",
       "      <td>0.7873</td>\n",
       "      <td>0.007132</td>\n",
       "      <td>9</td>\n",
       "      <td>0.805375</td>\n",
       "      <td>0.806750</td>\n",
       "      <td>0.805625</td>\n",
       "      <td>0.805000</td>\n",
       "      <td>0.800750</td>\n",
       "      <td>0.804700</td>\n",
       "      <td>0.002059</td>\n",
       "    </tr>\n",
       "    <tr>\n",
       "      <th>2</th>\n",
       "      <td>17.313885</td>\n",
       "      <td>1.071589</td>\n",
       "      <td>2.740227</td>\n",
       "      <td>0.549279</td>\n",
       "      <td>369</td>\n",
       "      <td>0.024076</td>\n",
       "      <td>{'countvectorizer__max_features': 369, 'logist...</td>\n",
       "      <td>0.7975</td>\n",
       "      <td>0.8090</td>\n",
       "      <td>0.8170</td>\n",
       "      <td>...</td>\n",
       "      <td>0.8097</td>\n",
       "      <td>0.007954</td>\n",
       "      <td>8</td>\n",
       "      <td>0.831250</td>\n",
       "      <td>0.826750</td>\n",
       "      <td>0.831125</td>\n",
       "      <td>0.829500</td>\n",
       "      <td>0.824250</td>\n",
       "      <td>0.828575</td>\n",
       "      <td>0.002704</td>\n",
       "    </tr>\n",
       "    <tr>\n",
       "      <th>3</th>\n",
       "      <td>18.318370</td>\n",
       "      <td>1.388453</td>\n",
       "      <td>3.342523</td>\n",
       "      <td>0.561414</td>\n",
       "      <td>710</td>\n",
       "      <td>0.016976</td>\n",
       "      <td>{'countvectorizer__max_features': 710, 'logist...</td>\n",
       "      <td>0.8310</td>\n",
       "      <td>0.8380</td>\n",
       "      <td>0.8315</td>\n",
       "      <td>...</td>\n",
       "      <td>0.8357</td>\n",
       "      <td>0.005988</td>\n",
       "      <td>3</td>\n",
       "      <td>0.866875</td>\n",
       "      <td>0.864500</td>\n",
       "      <td>0.865375</td>\n",
       "      <td>0.863375</td>\n",
       "      <td>0.863750</td>\n",
       "      <td>0.864775</td>\n",
       "      <td>0.001253</td>\n",
       "    </tr>\n",
       "    <tr>\n",
       "      <th>4</th>\n",
       "      <td>17.562092</td>\n",
       "      <td>0.812012</td>\n",
       "      <td>3.047272</td>\n",
       "      <td>0.540988</td>\n",
       "      <td>410</td>\n",
       "      <td>0.084891</td>\n",
       "      <td>{'countvectorizer__max_features': 410, 'logist...</td>\n",
       "      <td>0.8185</td>\n",
       "      <td>0.8090</td>\n",
       "      <td>0.8230</td>\n",
       "      <td>...</td>\n",
       "      <td>0.8173</td>\n",
       "      <td>0.005066</td>\n",
       "      <td>6</td>\n",
       "      <td>0.845125</td>\n",
       "      <td>0.841250</td>\n",
       "      <td>0.839125</td>\n",
       "      <td>0.840750</td>\n",
       "      <td>0.835750</td>\n",
       "      <td>0.840400</td>\n",
       "      <td>0.003047</td>\n",
       "    </tr>\n",
       "    <tr>\n",
       "      <th>5</th>\n",
       "      <td>16.753314</td>\n",
       "      <td>1.776058</td>\n",
       "      <td>3.767772</td>\n",
       "      <td>0.550293</td>\n",
       "      <td>874</td>\n",
       "      <td>0.034026</td>\n",
       "      <td>{'countvectorizer__max_features': 874, 'logist...</td>\n",
       "      <td>0.8435</td>\n",
       "      <td>0.8475</td>\n",
       "      <td>0.8445</td>\n",
       "      <td>...</td>\n",
       "      <td>0.8459</td>\n",
       "      <td>0.001715</td>\n",
       "      <td>1</td>\n",
       "      <td>0.882375</td>\n",
       "      <td>0.884000</td>\n",
       "      <td>0.885250</td>\n",
       "      <td>0.883625</td>\n",
       "      <td>0.883875</td>\n",
       "      <td>0.883825</td>\n",
       "      <td>0.000917</td>\n",
       "    </tr>\n",
       "    <tr>\n",
       "      <th>6</th>\n",
       "      <td>20.151936</td>\n",
       "      <td>1.211854</td>\n",
       "      <td>3.508227</td>\n",
       "      <td>0.250850</td>\n",
       "      <td>986</td>\n",
       "      <td>8.01031</td>\n",
       "      <td>{'countvectorizer__max_features': 986, 'logist...</td>\n",
       "      <td>0.8350</td>\n",
       "      <td>0.8285</td>\n",
       "      <td>0.8350</td>\n",
       "      <td>...</td>\n",
       "      <td>0.8330</td>\n",
       "      <td>0.002627</td>\n",
       "      <td>4</td>\n",
       "      <td>0.899125</td>\n",
       "      <td>0.902875</td>\n",
       "      <td>0.902875</td>\n",
       "      <td>0.901250</td>\n",
       "      <td>0.901750</td>\n",
       "      <td>0.901575</td>\n",
       "      <td>0.001380</td>\n",
       "    </tr>\n",
       "    <tr>\n",
       "      <th>7</th>\n",
       "      <td>17.047771</td>\n",
       "      <td>1.284603</td>\n",
       "      <td>2.770126</td>\n",
       "      <td>1.407405</td>\n",
       "      <td>413</td>\n",
       "      <td>0.098505</td>\n",
       "      <td>{'countvectorizer__max_features': 413, 'logist...</td>\n",
       "      <td>0.8150</td>\n",
       "      <td>0.8095</td>\n",
       "      <td>0.8260</td>\n",
       "      <td>...</td>\n",
       "      <td>0.8170</td>\n",
       "      <td>0.005431</td>\n",
       "      <td>7</td>\n",
       "      <td>0.845000</td>\n",
       "      <td>0.841875</td>\n",
       "      <td>0.839625</td>\n",
       "      <td>0.840000</td>\n",
       "      <td>0.837500</td>\n",
       "      <td>0.840800</td>\n",
       "      <td>0.002518</td>\n",
       "    </tr>\n",
       "    <tr>\n",
       "      <th>8</th>\n",
       "      <td>14.176965</td>\n",
       "      <td>1.964585</td>\n",
       "      <td>2.644242</td>\n",
       "      <td>0.561532</td>\n",
       "      <td>824</td>\n",
       "      <td>0.020389</td>\n",
       "      <td>{'countvectorizer__max_features': 824, 'logist...</td>\n",
       "      <td>0.8420</td>\n",
       "      <td>0.8410</td>\n",
       "      <td>0.8400</td>\n",
       "      <td>...</td>\n",
       "      <td>0.8424</td>\n",
       "      <td>0.002634</td>\n",
       "      <td>2</td>\n",
       "      <td>0.875125</td>\n",
       "      <td>0.875625</td>\n",
       "      <td>0.877500</td>\n",
       "      <td>0.875125</td>\n",
       "      <td>0.876125</td>\n",
       "      <td>0.875900</td>\n",
       "      <td>0.000882</td>\n",
       "    </tr>\n",
       "    <tr>\n",
       "      <th>9</th>\n",
       "      <td>12.511152</td>\n",
       "      <td>1.551300</td>\n",
       "      <td>2.575440</td>\n",
       "      <td>0.633379</td>\n",
       "      <td>190</td>\n",
       "      <td>31.380364</td>\n",
       "      <td>{'countvectorizer__max_features': 190, 'logist...</td>\n",
       "      <td>0.7510</td>\n",
       "      <td>0.7655</td>\n",
       "      <td>0.7690</td>\n",
       "      <td>...</td>\n",
       "      <td>0.7641</td>\n",
       "      <td>0.006651</td>\n",
       "      <td>10</td>\n",
       "      <td>0.777500</td>\n",
       "      <td>0.782250</td>\n",
       "      <td>0.775250</td>\n",
       "      <td>0.779750</td>\n",
       "      <td>0.776375</td>\n",
       "      <td>0.778225</td>\n",
       "      <td>0.002503</td>\n",
       "    </tr>\n",
       "  </tbody>\n",
       "</table>\n",
       "<p>10 rows × 22 columns</p>\n",
       "</div>"
      ],
      "text/plain": [
       "   mean_fit_time  std_fit_time  mean_score_time  std_score_time  \\\n",
       "0      16.609447      1.289033         3.658476        0.902089   \n",
       "1      16.696549      1.790007         3.159978        0.521252   \n",
       "2      17.313885      1.071589         2.740227        0.549279   \n",
       "3      18.318370      1.388453         3.342523        0.561414   \n",
       "4      17.562092      0.812012         3.047272        0.540988   \n",
       "5      16.753314      1.776058         3.767772        0.550293   \n",
       "6      20.151936      1.211854         3.508227        0.250850   \n",
       "7      17.047771      1.284603         2.770126        1.407405   \n",
       "8      14.176965      1.964585         2.644242        0.561532   \n",
       "9      12.511152      1.551300         2.575440        0.633379   \n",
       "\n",
       "  param_countvectorizer__max_features param_logisticregression__C  \\\n",
       "0                                 520                    3.127595   \n",
       "1                                 249                    0.858823   \n",
       "2                                 369                    0.024076   \n",
       "3                                 710                    0.016976   \n",
       "4                                 410                    0.084891   \n",
       "5                                 874                    0.034026   \n",
       "6                                 986                     8.01031   \n",
       "7                                 413                    0.098505   \n",
       "8                                 824                    0.020389   \n",
       "9                                 190                   31.380364   \n",
       "\n",
       "                                              params  split0_test_score  \\\n",
       "0  {'countvectorizer__max_features': 520, 'logist...             0.8175   \n",
       "1  {'countvectorizer__max_features': 249, 'logist...             0.7755   \n",
       "2  {'countvectorizer__max_features': 369, 'logist...             0.7975   \n",
       "3  {'countvectorizer__max_features': 710, 'logist...             0.8310   \n",
       "4  {'countvectorizer__max_features': 410, 'logist...             0.8185   \n",
       "5  {'countvectorizer__max_features': 874, 'logist...             0.8435   \n",
       "6  {'countvectorizer__max_features': 986, 'logist...             0.8350   \n",
       "7  {'countvectorizer__max_features': 413, 'logist...             0.8150   \n",
       "8  {'countvectorizer__max_features': 824, 'logist...             0.8420   \n",
       "9  {'countvectorizer__max_features': 190, 'logist...             0.7510   \n",
       "\n",
       "   split1_test_score  split2_test_score  ...  mean_test_score  std_test_score  \\\n",
       "0             0.8150             0.8165  ...           0.8216        0.008046   \n",
       "1             0.7845             0.7905  ...           0.7873        0.007132   \n",
       "2             0.8090             0.8170  ...           0.8097        0.007954   \n",
       "3             0.8380             0.8315  ...           0.8357        0.005988   \n",
       "4             0.8090             0.8230  ...           0.8173        0.005066   \n",
       "5             0.8475             0.8445  ...           0.8459        0.001715   \n",
       "6             0.8285             0.8350  ...           0.8330        0.002627   \n",
       "7             0.8095             0.8260  ...           0.8170        0.005431   \n",
       "8             0.8410             0.8400  ...           0.8424        0.002634   \n",
       "9             0.7655             0.7690  ...           0.7641        0.006651   \n",
       "\n",
       "   rank_test_score  split0_train_score  split1_train_score  \\\n",
       "0                5            0.858750            0.859750   \n",
       "1                9            0.805375            0.806750   \n",
       "2                8            0.831250            0.826750   \n",
       "3                3            0.866875            0.864500   \n",
       "4                6            0.845125            0.841250   \n",
       "5                1            0.882375            0.884000   \n",
       "6                4            0.899125            0.902875   \n",
       "7                7            0.845000            0.841875   \n",
       "8                2            0.875125            0.875625   \n",
       "9               10            0.777500            0.782250   \n",
       "\n",
       "   split2_train_score  split3_train_score  split4_train_score  \\\n",
       "0            0.861250            0.861500            0.856125   \n",
       "1            0.805625            0.805000            0.800750   \n",
       "2            0.831125            0.829500            0.824250   \n",
       "3            0.865375            0.863375            0.863750   \n",
       "4            0.839125            0.840750            0.835750   \n",
       "5            0.885250            0.883625            0.883875   \n",
       "6            0.902875            0.901250            0.901750   \n",
       "7            0.839625            0.840000            0.837500   \n",
       "8            0.877500            0.875125            0.876125   \n",
       "9            0.775250            0.779750            0.776375   \n",
       "\n",
       "   mean_train_score  std_train_score  \n",
       "0          0.859475         0.001953  \n",
       "1          0.804700         0.002059  \n",
       "2          0.828575         0.002704  \n",
       "3          0.864775         0.001253  \n",
       "4          0.840400         0.003047  \n",
       "5          0.883825         0.000917  \n",
       "6          0.901575         0.001380  \n",
       "7          0.840800         0.002518  \n",
       "8          0.875900         0.000882  \n",
       "9          0.778225         0.002503  \n",
       "\n",
       "[10 rows x 22 columns]"
      ]
     },
     "metadata": {},
     "output_type": "display_data"
    }
   ],
   "source": [
    "cv_results = pd.DataFrame(random_search.cv_results_)\n",
    "\n",
    "display(cv_results)"
   ]
  },
  {
   "cell_type": "code",
   "execution_count": 81,
   "metadata": {
    "deletable": false,
    "editable": false,
    "nbgrader": {
     "cell_type": "code",
     "checksum": "ebfd094cc762d4759551bc33eb71422d",
     "grade": true,
     "grade_id": "cell-d3c5d0c38998206d",
     "locked": true,
     "points": 1,
     "schema_version": 3,
     "solution": false,
     "task": false
    }
   },
   "outputs": [
    {
     "data": {
      "text/plain": [
       "'Success'"
      ]
     },
     "execution_count": 81,
     "metadata": {},
     "output_type": "execute_result"
    }
   ],
   "source": [
    "t.test_1_14(main_pipe, random_search)"
   ]
  },
  {
   "cell_type": "markdown",
   "metadata": {},
   "source": [
    "**Question 1.15** <br> {points: 3}\n",
    "\n",
    "What are the best hyperparameter values found by `RandomizedSearchCV` for `C` and `max_features`. Save it in an object named `optimal_parameters`. (The grader is expecting a dictionary object) \n",
    "\n",
    "What was the corresponding validation score? Save this in an object named `optimal_score`. \n",
    "\n",
    "*Hint: `.best_params_`  and `.best_score_` are helpful here.* \n"
   ]
  },
  {
   "cell_type": "code",
   "execution_count": 82,
   "metadata": {
    "deletable": false,
    "nbgrader": {
     "cell_type": "code",
     "checksum": "09af9afc61d82e0d5dcf5ad23d384ac4",
     "grade": false,
     "grade_id": "cell-bf31b1fe29c0d5fd",
     "locked": false,
     "schema_version": 3,
     "solution": true,
     "task": false
    }
   },
   "outputs": [
    {
     "name": "stdout",
     "output_type": "stream",
     "text": [
      "Optimal Parameters : {'countvectorizer__max_features': 874, 'logisticregression__C': 0.03402603563390611}\n",
      "Optimal Score : 0.8459\n"
     ]
    }
   ],
   "source": [
    "optimal_parameters = random_search.best_params_\n",
    "optimal_score = random_search.best_score_\n",
    "\n",
    "print(f'Optimal Parameters : {optimal_parameters}')\n",
    "print(f'Optimal Score : {optimal_score}')"
   ]
  },
  {
   "cell_type": "code",
   "execution_count": 83,
   "metadata": {
    "deletable": false,
    "editable": false,
    "nbgrader": {
     "cell_type": "code",
     "checksum": "debb32e39a383f7342d843f3cc9f8bf8",
     "grade": true,
     "grade_id": "cell-b1dca3ab89397234",
     "locked": true,
     "points": 2,
     "schema_version": 3,
     "solution": false,
     "task": false
    }
   },
   "outputs": [],
   "source": [
    "# check that the variable exists\n",
    "assert 'optimal_parameters' in globals(\n",
    "), \"Please make sure that your solution is named 'optimal_parameters'\"\n",
    "\n",
    "# This test has been intentionally hidden. It will be up to you to decide if your solution\n",
    "# is sufficiently good."
   ]
  },
  {
   "cell_type": "code",
   "execution_count": 84,
   "metadata": {
    "deletable": false,
    "editable": false,
    "nbgrader": {
     "cell_type": "code",
     "checksum": "bef3101c07c3737412d8871e65cdf9ab",
     "grade": true,
     "grade_id": "cell-d4e6b241d1082f4f",
     "locked": true,
     "points": 1,
     "schema_version": 3,
     "solution": false,
     "task": false
    }
   },
   "outputs": [
    {
     "data": {
      "text/plain": [
       "'Success'"
      ]
     },
     "execution_count": 84,
     "metadata": {},
     "output_type": "execute_result"
    }
   ],
   "source": [
    "t.test_1_15_2(random_search, optimal_score)"
   ]
  },
  {
   "cell_type": "markdown",
   "metadata": {},
   "source": [
    "**Question 1.16** <br> {points: 1}\n",
    "\n",
    "Are you getting a better mean validation score than logistic regression pipeline with default hyperparameters from 1.9? \n",
    "\n",
    "A) Yes\n",
    "\n",
    "B) No\n",
    "\n",
    "*Answer in the cell below using the uppercase letter associated with your answer. Place your answer between `\"\"`, assign the correct answer to an object called `answer1_16`.*"
   ]
  },
  {
   "cell_type": "code",
   "execution_count": 85,
   "metadata": {
    "deletable": false,
    "nbgrader": {
     "cell_type": "code",
     "checksum": "fb39e7d288c510b3078e16e638be70e6",
     "grade": false,
     "grade_id": "cell-29d75a60f3f9b0d6",
     "locked": false,
     "schema_version": 3,
     "solution": true,
     "task": false
    }
   },
   "outputs": [
    {
     "name": "stdout",
     "output_type": "stream",
     "text": [
      "Answer 1.16 : A\n"
     ]
    }
   ],
   "source": [
    "if (optimal_score > lr_mean['test_score']) :\n",
    "    answer1_16 = 'A'\n",
    "else :\n",
    "    answer1_16 = 'B'\n",
    "\n",
    "print(f'Answer 1.16 : {answer1_16}')"
   ]
  },
  {
   "cell_type": "code",
   "execution_count": 86,
   "metadata": {
    "deletable": false,
    "editable": false,
    "nbgrader": {
     "cell_type": "code",
     "checksum": "447079e2e9d939b00b97909acf2ed2aa",
     "grade": true,
     "grade_id": "cell-6ad27d5574dc3a1d",
     "locked": true,
     "points": 1,
     "schema_version": 3,
     "solution": false,
     "task": false
    }
   },
   "outputs": [
    {
     "data": {
      "text/plain": [
       "'Success'"
      ]
     },
     "execution_count": 86,
     "metadata": {},
     "output_type": "execute_result"
    }
   ],
   "source": [
    "t.test_1_16(answer1_16)"
   ]
  },
  {
   "cell_type": "markdown",
   "metadata": {},
   "source": [
    "# 2. Model Interpretation <a name=\"4\"></a>\n",
    "<hr>\n",
    "\n",
    "One of the primary advantages of linear models is their ability to interpret models in terms of important features. In this exercise, we'll explore the coefficients learned by logistic regression classifier. "
   ]
  },
  {
   "cell_type": "markdown",
   "metadata": {},
   "source": [
    "**Question 2.1** <br> {points: 1}\n",
    "\n",
    "Use `best_estimator_` to find the best estimator of `random_search` from 1.14 and save it in an object named `best_model`. \n"
   ]
  },
  {
   "cell_type": "code",
   "execution_count": 87,
   "metadata": {
    "deletable": false,
    "nbgrader": {
     "cell_type": "code",
     "checksum": "c2b40b7a030f0f20f48ea47130d21b89",
     "grade": false,
     "grade_id": "cell-5406b2e78549d105",
     "locked": false,
     "schema_version": 3,
     "solution": true,
     "task": false
    }
   },
   "outputs": [
    {
     "data": {
      "text/html": [
       "<style>#sk-container-id-4 {color: black;background-color: white;}#sk-container-id-4 pre{padding: 0;}#sk-container-id-4 div.sk-toggleable {background-color: white;}#sk-container-id-4 label.sk-toggleable__label {cursor: pointer;display: block;width: 100%;margin-bottom: 0;padding: 0.3em;box-sizing: border-box;text-align: center;}#sk-container-id-4 label.sk-toggleable__label-arrow:before {content: \"▸\";float: left;margin-right: 0.25em;color: #696969;}#sk-container-id-4 label.sk-toggleable__label-arrow:hover:before {color: black;}#sk-container-id-4 div.sk-estimator:hover label.sk-toggleable__label-arrow:before {color: black;}#sk-container-id-4 div.sk-toggleable__content {max-height: 0;max-width: 0;overflow: hidden;text-align: left;background-color: #f0f8ff;}#sk-container-id-4 div.sk-toggleable__content pre {margin: 0.2em;color: black;border-radius: 0.25em;background-color: #f0f8ff;}#sk-container-id-4 input.sk-toggleable__control:checked~div.sk-toggleable__content {max-height: 200px;max-width: 100%;overflow: auto;}#sk-container-id-4 input.sk-toggleable__control:checked~label.sk-toggleable__label-arrow:before {content: \"▾\";}#sk-container-id-4 div.sk-estimator input.sk-toggleable__control:checked~label.sk-toggleable__label {background-color: #d4ebff;}#sk-container-id-4 div.sk-label input.sk-toggleable__control:checked~label.sk-toggleable__label {background-color: #d4ebff;}#sk-container-id-4 input.sk-hidden--visually {border: 0;clip: rect(1px 1px 1px 1px);clip: rect(1px, 1px, 1px, 1px);height: 1px;margin: -1px;overflow: hidden;padding: 0;position: absolute;width: 1px;}#sk-container-id-4 div.sk-estimator {font-family: monospace;background-color: #f0f8ff;border: 1px dotted black;border-radius: 0.25em;box-sizing: border-box;margin-bottom: 0.5em;}#sk-container-id-4 div.sk-estimator:hover {background-color: #d4ebff;}#sk-container-id-4 div.sk-parallel-item::after {content: \"\";width: 100%;border-bottom: 1px solid gray;flex-grow: 1;}#sk-container-id-4 div.sk-label:hover label.sk-toggleable__label {background-color: #d4ebff;}#sk-container-id-4 div.sk-serial::before {content: \"\";position: absolute;border-left: 1px solid gray;box-sizing: border-box;top: 0;bottom: 0;left: 50%;z-index: 0;}#sk-container-id-4 div.sk-serial {display: flex;flex-direction: column;align-items: center;background-color: white;padding-right: 0.2em;padding-left: 0.2em;position: relative;}#sk-container-id-4 div.sk-item {position: relative;z-index: 1;}#sk-container-id-4 div.sk-parallel {display: flex;align-items: stretch;justify-content: center;background-color: white;position: relative;}#sk-container-id-4 div.sk-item::before, #sk-container-id-4 div.sk-parallel-item::before {content: \"\";position: absolute;border-left: 1px solid gray;box-sizing: border-box;top: 0;bottom: 0;left: 50%;z-index: -1;}#sk-container-id-4 div.sk-parallel-item {display: flex;flex-direction: column;z-index: 1;position: relative;background-color: white;}#sk-container-id-4 div.sk-parallel-item:first-child::after {align-self: flex-end;width: 50%;}#sk-container-id-4 div.sk-parallel-item:last-child::after {align-self: flex-start;width: 50%;}#sk-container-id-4 div.sk-parallel-item:only-child::after {width: 0;}#sk-container-id-4 div.sk-dashed-wrapped {border: 1px dashed gray;margin: 0 0.4em 0.5em 0.4em;box-sizing: border-box;padding-bottom: 0.4em;background-color: white;}#sk-container-id-4 div.sk-label label {font-family: monospace;font-weight: bold;display: inline-block;line-height: 1.2em;}#sk-container-id-4 div.sk-label-container {text-align: center;}#sk-container-id-4 div.sk-container {/* jupyter's `normalize.less` sets `[hidden] { display: none; }` but bootstrap.min.css set `[hidden] { display: none !important; }` so we also need the `!important` here to be able to override the default hidden behavior on the sphinx rendered scikit-learn.org. See: https://github.com/scikit-learn/scikit-learn/issues/21755 */display: inline-block !important;position: relative;}#sk-container-id-4 div.sk-text-repr-fallback {display: none;}</style><div id=\"sk-container-id-4\" class=\"sk-top-container\"><div class=\"sk-text-repr-fallback\"><pre>Pipeline(steps=[(&#x27;countvectorizer&#x27;, CountVectorizer(max_features=874)),\n",
       "                (&#x27;logisticregression&#x27;,\n",
       "                 LogisticRegression(C=0.03402603563390611))])</pre><b>In a Jupyter environment, please rerun this cell to show the HTML representation or trust the notebook. <br />On GitHub, the HTML representation is unable to render, please try loading this page with nbviewer.org.</b></div><div class=\"sk-container\" hidden><div class=\"sk-item sk-dashed-wrapped\"><div class=\"sk-label-container\"><div class=\"sk-label sk-toggleable\"><input class=\"sk-toggleable__control sk-hidden--visually\" id=\"sk-estimator-id-12\" type=\"checkbox\" ><label for=\"sk-estimator-id-12\" class=\"sk-toggleable__label sk-toggleable__label-arrow\">Pipeline</label><div class=\"sk-toggleable__content\"><pre>Pipeline(steps=[(&#x27;countvectorizer&#x27;, CountVectorizer(max_features=874)),\n",
       "                (&#x27;logisticregression&#x27;,\n",
       "                 LogisticRegression(C=0.03402603563390611))])</pre></div></div></div><div class=\"sk-serial\"><div class=\"sk-item\"><div class=\"sk-estimator sk-toggleable\"><input class=\"sk-toggleable__control sk-hidden--visually\" id=\"sk-estimator-id-13\" type=\"checkbox\" ><label for=\"sk-estimator-id-13\" class=\"sk-toggleable__label sk-toggleable__label-arrow\">CountVectorizer</label><div class=\"sk-toggleable__content\"><pre>CountVectorizer(max_features=874)</pre></div></div></div><div class=\"sk-item\"><div class=\"sk-estimator sk-toggleable\"><input class=\"sk-toggleable__control sk-hidden--visually\" id=\"sk-estimator-id-14\" type=\"checkbox\" ><label for=\"sk-estimator-id-14\" class=\"sk-toggleable__label sk-toggleable__label-arrow\">LogisticRegression</label><div class=\"sk-toggleable__content\"><pre>LogisticRegression(C=0.03402603563390611)</pre></div></div></div></div></div></div></div>"
      ],
      "text/plain": [
       "Pipeline(steps=[('countvectorizer', CountVectorizer(max_features=874)),\n",
       "                ('logisticregression',\n",
       "                 LogisticRegression(C=0.03402603563390611))])"
      ]
     },
     "metadata": {},
     "output_type": "display_data"
    }
   ],
   "source": [
    "best_model = random_search.best_estimator_\n",
    "\n",
    "display(best_model)"
   ]
  },
  {
   "cell_type": "code",
   "execution_count": 88,
   "metadata": {
    "deletable": false,
    "editable": false,
    "nbgrader": {
     "cell_type": "code",
     "checksum": "e1961c457fa94334b9d4b0009f249ce2",
     "grade": true,
     "grade_id": "cell-f539c53563023387",
     "locked": true,
     "points": 1,
     "schema_version": 3,
     "solution": false,
     "task": false
    }
   },
   "outputs": [
    {
     "data": {
      "text/plain": [
       "'Success'"
      ]
     },
     "execution_count": 88,
     "metadata": {},
     "output_type": "execute_result"
    }
   ],
   "source": [
    "t.test_2_1(best_model)"
   ]
  },
  {
   "cell_type": "markdown",
   "metadata": {},
   "source": [
    "**Question 2.2** <br> {points: 1}\n",
    "\n",
    "Use `coef_` to find the coefficients of the features. This information is exposed by the `coef_` attribute of [LogisticRegression](http://scikit-learn.org/stable/modules/generated/sklearn.linear_model.LogisticRegression.html) object. (*Hint: You'll have to reference `logisticregression` from the `best_model` object because `best_model` is a `Pipeline` object*.\n",
    "\n",
    "Name this object `lr_coeffs`. "
   ]
  },
  {
   "cell_type": "code",
   "execution_count": 89,
   "metadata": {
    "deletable": false,
    "nbgrader": {
     "cell_type": "code",
     "checksum": "1d49bf838949ed888a7a1274b5fe5294",
     "grade": false,
     "grade_id": "cell-26b0b4fa95ef0621",
     "locked": false,
     "schema_version": 3,
     "solution": true,
     "task": false
    }
   },
   "outputs": [
    {
     "data": {
      "text/plain": [
       "array([[ 1.81208342e-01, -6.22285523e-03,  1.17424694e-01,\n",
       "         4.78282985e-02,  1.05672775e-01, -8.63401270e-02,\n",
       "        -6.06840526e-03, -5.33066368e-02, -1.60385702e-01,\n",
       "         1.78487473e-01, -1.17944520e-01, -1.24905923e-01,\n",
       "        -1.71375788e-01,  2.92467650e-02, -2.21032042e-02,\n",
       "        -4.97308657e-04, -7.67391090e-03,  1.10094797e-01,\n",
       "         5.26284663e-02,  1.12897448e-01,  1.85368067e-01,\n",
       "         2.14801438e-02,  7.17339680e-02,  1.59245579e-02,\n",
       "         1.06533091e-01, -1.07221253e-01,  1.18065765e-01,\n",
       "         8.64685489e-02,  2.07519671e-01, -1.93693064e-01,\n",
       "         5.28140982e-01,  7.78953723e-02,  4.66423349e-02,\n",
       "         1.25173537e-01,  2.10088746e-02,  3.72790048e-02,\n",
       "         8.65507596e-02, -5.35829579e-01, -5.99778414e-02,\n",
       "        -1.61419458e-01,  1.12399775e-01, -1.82422078e-01,\n",
       "         1.58296990e-02, -3.31453757e-01, -1.39295600e-01,\n",
       "        -3.98710570e-02, -1.32080815e-01, -3.50454342e-02,\n",
       "         1.12037709e-01,  3.08937817e-02, -2.89854205e-02,\n",
       "         2.16761643e-01, -3.07497270e-01,  1.36818591e-01,\n",
       "        -1.87908853e-02,  2.93316613e-02, -4.64546563e-01,\n",
       "        -1.62648621e-01, -7.69784771e-01, -1.19919095e-02,\n",
       "        -4.06896371e-02, -4.93484767e-01, -2.98513386e-02,\n",
       "        -2.98181572e-01, -1.75438998e-02,  3.24339721e-01,\n",
       "         1.11965790e-02,  9.20832036e-02, -7.09467112e-03,\n",
       "        -7.00127294e-03, -1.24258317e-01, -9.02627325e-02,\n",
       "         6.92299653e-02,  1.35052984e-01,  4.17489337e-02,\n",
       "         7.75646571e-02, -2.52665427e-02, -1.71696642e-01,\n",
       "        -1.03565982e-01,  3.55920491e-01, -1.53370291e-01,\n",
       "        -7.11311047e-02, -1.98092174e-01, -2.50300583e-02,\n",
       "         3.21622320e-01, -5.29331741e-02, -2.07207959e-01,\n",
       "         3.64653653e-02, -1.31570894e-01, -6.09407241e-01,\n",
       "         2.31195741e-01,  6.25476396e-02, -1.51298880e-02,\n",
       "         4.29746381e-01,  1.01936187e-01,  1.01252964e-01,\n",
       "        -2.56625529e-02,  1.17243648e-02,  1.28745974e-01,\n",
       "        -1.07576308e-02, -1.98780936e-01, -6.43086717e-02,\n",
       "         1.78820813e-01, -3.74373680e-03, -1.93293578e-02,\n",
       "        -5.30133278e-02,  6.02626612e-02, -1.99471955e-01,\n",
       "        -4.01779565e-02, -2.08477927e-03, -1.02015789e-01,\n",
       "        -1.12425649e-01, -5.95232105e-02, -6.37943478e-02,\n",
       "         2.56538975e-02,  1.40324698e-01,  1.39229730e-01,\n",
       "         1.08297575e-01,  1.99937712e-01,  2.03050882e-02,\n",
       "         1.97107235e-02, -3.20625694e-01,  1.52521744e-01,\n",
       "         7.38562319e-02, -2.32132113e-02, -2.91517548e-01,\n",
       "         1.07298759e-01,  2.56467657e-02,  1.47162532e-01,\n",
       "        -7.23075399e-02,  2.70442198e-01, -1.30871255e-01,\n",
       "        -1.09849963e-01, -4.01502731e-01,  6.07335992e-02,\n",
       "         2.77212978e-02,  4.23652490e-02, -9.46281914e-02,\n",
       "         1.53176222e-01,  1.37450657e-01,  1.59930823e-01,\n",
       "        -1.87461596e-01, -1.69978570e-01,  4.94507836e-02,\n",
       "        -1.21923401e-01, -3.15993476e-01,  3.08348522e-02,\n",
       "         2.45727193e-02,  1.13583619e-01, -3.84838920e-01,\n",
       "         3.10842868e-01, -6.95052563e-02,  6.32792283e-02,\n",
       "         4.29148670e-02, -2.43781030e-01, -4.22992313e-02,\n",
       "         7.86561922e-02, -1.50715341e-02,  7.95669728e-03,\n",
       "        -2.61355384e-02,  1.56956845e-01,  6.18176119e-03,\n",
       "        -1.99670571e-01, -2.02914483e-03,  2.93718852e-01,\n",
       "         7.37449310e-02, -6.61845679e-02, -1.40116265e-01,\n",
       "        -5.97098389e-02, -1.23546374e-01, -5.52766098e-02,\n",
       "         1.84777039e-01, -4.99275862e-02, -6.43328498e-03,\n",
       "        -1.91027579e-01, -1.45305368e-01, -3.08592092e-01,\n",
       "        -6.57367796e-02, -1.40194772e-01,  6.08929385e-02,\n",
       "        -6.24251025e-02, -1.28528782e-01,  8.59518032e-02,\n",
       "        -1.42784934e-01, -1.21009622e-01,  1.43710763e-01,\n",
       "        -3.93258545e-02, -9.98940806e-02,  5.38933270e-02,\n",
       "         2.24481095e-02,  1.23154988e-01, -5.73281164e-01,\n",
       "         8.45046813e-02,  1.61668149e-01,  2.63404313e-01,\n",
       "        -2.87062355e-02, -6.37793959e-02,  9.37593664e-02,\n",
       "         2.68911945e-01, -2.17519998e-01, -5.98642120e-02,\n",
       "        -2.65806659e-01, -3.00237574e-01,  1.38729891e-01,\n",
       "        -2.03265309e-01,  8.95192989e-02,  2.95408725e-02,\n",
       "         7.02918339e-02, -5.60039811e-02,  8.11158673e-02,\n",
       "         3.37528546e-01,  1.97146065e-01,  3.94816509e-01,\n",
       "        -1.19116337e-01,  2.29978950e-01, -4.27855432e-02,\n",
       "        -1.78937205e-01,  1.17263627e-01,  1.52530716e-01,\n",
       "         2.58331187e-01,  3.56530176e-02, -2.59423292e-01,\n",
       "         1.54471255e-01, -3.36416852e-02,  9.80886795e-02,\n",
       "        -1.91640664e-02,  1.63040879e-01,  7.95287600e-02,\n",
       "        -1.38010231e-01, -2.13225206e-02, -2.03326739e-01,\n",
       "         6.74551991e-01, -2.84054370e-01, -6.42001637e-03,\n",
       "         2.55074506e-02, -1.22797774e-01,  1.38127803e-01,\n",
       "        -7.81477236e-04,  3.94514447e-02, -4.77782255e-02,\n",
       "        -4.46701972e-02, -1.91146048e-01,  4.54005263e-02,\n",
       "         1.41299327e-01,  1.73167833e-01,  7.37767235e-04,\n",
       "         3.58642222e-01,  8.81780482e-02, -1.37242343e-01,\n",
       "        -7.28561205e-02,  1.27621882e-01,  4.74851332e-01,\n",
       "         9.48709809e-02,  4.94138264e-02,  2.55642875e-02,\n",
       "        -1.36227906e-01, -1.54449453e-01, -4.38888209e-03,\n",
       "        -1.48559102e-01,  5.68268043e-02,  6.51750135e-02,\n",
       "         1.72800836e-02,  9.97876723e-02,  5.53412591e-02,\n",
       "        -1.08533726e-01,  1.87448079e-02,  1.43814827e-01,\n",
       "         7.23702963e-02,  2.24729672e-01,  1.26934065e-01,\n",
       "        -7.90586191e-02, -6.29621330e-03, -1.70884909e-02,\n",
       "        -4.24480697e-02,  5.94733469e-02, -8.98482193e-03,\n",
       "        -4.35923871e-02, -2.31046128e-01, -1.06357496e-01,\n",
       "         1.94478813e-01, -1.89904129e-02, -6.41574375e-03,\n",
       "         5.32708442e-02,  6.04948845e-02,  3.56688896e-01,\n",
       "        -2.74488984e-02,  1.36913494e-01,  1.65095322e-01,\n",
       "        -2.88469046e-02, -7.01726745e-02, -5.90312540e-02,\n",
       "         2.72189673e-01, -5.51032524e-02,  5.85485783e-02,\n",
       "        -1.07938198e-01, -2.14973635e-01, -6.57673073e-03,\n",
       "         5.84252552e-02, -7.31491612e-02, -4.55757931e-02,\n",
       "         2.10999531e-01, -5.01802545e-02, -2.39186722e-02,\n",
       "        -4.28816144e-02, -8.63057856e-02, -1.34950919e-03,\n",
       "         6.89663057e-02,  1.22679396e-01, -9.11325913e-03,\n",
       "         1.71504366e-01,  4.15145686e-01,  1.84683777e-01,\n",
       "        -1.82355844e-01, -2.80907301e-01, -3.30997282e-02,\n",
       "         1.59372931e-01, -4.51425691e-02, -1.92172452e-01,\n",
       "         4.63454026e-02,  1.30886649e-01,  1.06922401e-02,\n",
       "        -4.68320501e-02,  3.13991238e-01, -1.57742972e-01,\n",
       "         6.59672869e-02, -1.29791495e-02, -2.92788009e-02,\n",
       "         3.98281070e-02, -6.91492600e-02,  3.67043578e-02,\n",
       "        -1.04883271e-01,  1.74920262e-01,  2.62762008e-02,\n",
       "         2.49758888e-01, -2.06548278e-01, -4.37425295e-02,\n",
       "         3.24416771e-02, -1.76579296e-02, -7.53176010e-02,\n",
       "         1.92390582e-01,  1.08039050e-01,  4.76689369e-01,\n",
       "         2.41622069e-01,  1.76143004e-02, -2.31773293e-02,\n",
       "         2.95523687e-02,  3.47086478e-03,  1.95145935e-01,\n",
       "         5.44424282e-02,  1.11758078e-01,  2.00671911e-02,\n",
       "        -6.61325077e-01, -1.17153106e-01, -7.80444528e-02,\n",
       "        -1.46840029e-01,  4.40586234e-02,  4.85501813e-03,\n",
       "        -1.73127660e-01, -1.75349977e-01,  1.53060691e-01,\n",
       "         7.72012878e-02, -1.43918594e-01, -1.57997730e-01,\n",
       "        -9.65333812e-02, -6.28917525e-03, -8.73509248e-02,\n",
       "         1.65364675e-03,  1.20483296e-01,  2.11689274e-02,\n",
       "        -4.64129258e-01, -2.90173741e-01, -2.02000370e-01,\n",
       "        -8.44646609e-03, -5.43936537e-02,  3.49698574e-02,\n",
       "        -8.61978311e-02,  7.35974298e-02,  3.85773997e-03,\n",
       "        -2.98919920e-02,  1.55573029e-01, -7.17471654e-02,\n",
       "         1.25046624e-01,  2.00295897e-02,  3.29009554e-01,\n",
       "        -2.99754055e-02, -2.90792773e-02,  7.08584474e-03,\n",
       "        -1.41950184e-01,  1.54462268e-01,  2.14097753e-02,\n",
       "        -5.32308782e-03, -1.05715908e-01, -3.97417875e-02,\n",
       "         5.29716742e-02, -1.22682423e-01, -3.39351235e-02,\n",
       "        -8.97780034e-02,  1.16050174e-01,  5.07897716e-02,\n",
       "        -6.80135048e-02,  8.41830324e-02, -1.94681699e-01,\n",
       "        -1.14296543e-02, -5.51442778e-01,  6.10088651e-02,\n",
       "         2.01619979e-01,  8.12129310e-02,  3.55090571e-02,\n",
       "        -1.31710675e-01,  1.54353756e-02,  1.18357253e-02,\n",
       "         1.67953509e-01, -3.69051974e-01,  6.78763510e-03,\n",
       "        -9.15693454e-02, -1.18119485e-01, -1.47110294e-01,\n",
       "        -9.32644478e-03,  7.60776795e-02,  1.13875547e-01,\n",
       "        -1.59451227e-02,  3.20273004e-01,  3.09260023e-02,\n",
       "        -1.96863114e-01,  3.41135148e-02, -4.52089183e-02,\n",
       "         9.44721435e-02,  6.85219505e-02, -1.23221740e-01,\n",
       "        -1.13920367e-01,  1.47866125e-02, -4.43959727e-02,\n",
       "        -1.83018118e-01, -1.38610845e-01, -4.37548947e-01,\n",
       "        -1.10910026e-01,  4.73923092e-02,  7.19867264e-04,\n",
       "         1.90498377e-01,  4.62875398e-01, -8.42717853e-02,\n",
       "         3.02118569e-02, -1.35556373e-01, -2.49976185e-01,\n",
       "        -1.34449347e-01,  2.80974172e-01, -2.88297972e-02,\n",
       "         5.16737194e-02,  7.73722109e-03, -2.03825504e-01,\n",
       "         1.36352685e-01,  2.12704650e-01, -3.11429852e-02,\n",
       "         2.43463713e-02,  1.66439297e-02,  1.03594931e-02,\n",
       "         6.88933647e-02,  6.10350231e-02,  2.59618017e-02,\n",
       "        -2.59895068e-02,  1.61760904e-01, -5.61770579e-02,\n",
       "        -1.04518145e-01, -1.59337604e-01,  1.11266629e-01,\n",
       "        -1.39232705e-01, -1.93346463e-01,  1.70428611e-02,\n",
       "        -3.32049778e-02,  2.68603586e-02,  1.58758071e-02,\n",
       "        -3.05551182e-01, -6.77972743e-02,  1.32476057e-01,\n",
       "         6.78585704e-02, -2.11244438e-01,  4.57553222e-04,\n",
       "        -1.47553533e-02,  8.51996507e-02,  3.43363141e-01,\n",
       "         3.52916414e-02, -5.27566398e-02,  1.36577657e-01,\n",
       "         1.07514669e-01, -2.95931552e-02,  1.35165670e-01,\n",
       "         1.01388875e-01, -4.52731439e-02, -6.72631202e-03,\n",
       "        -1.33010143e-01, -2.39448969e-01,  8.70992911e-02,\n",
       "         2.75600473e-02, -9.70394276e-02, -2.59475185e-02,\n",
       "         5.48215263e-02,  9.24813763e-02,  7.99991946e-02,\n",
       "         2.52532951e-01,  1.27968484e-02, -2.29298461e-01,\n",
       "        -6.39479588e-02, -4.12277693e-01, -1.46228495e-01,\n",
       "        -6.93861113e-02, -8.25970148e-02, -4.78212976e-01,\n",
       "         6.79353963e-02,  5.38089039e-02, -7.97359730e-02,\n",
       "        -2.51523854e-01, -8.53677933e-02,  2.06489116e-03,\n",
       "        -1.73236595e-01,  1.60358578e-01, -1.82956056e-01,\n",
       "        -2.00165175e-01, -2.32114011e-01, -1.10869593e-01,\n",
       "        -9.83065887e-03,  6.36987035e-02,  4.26617099e-02,\n",
       "         5.33914617e-03, -1.50217010e-01, -1.33566213e-01,\n",
       "        -6.79528550e-02,  1.32914712e-01, -6.94422347e-02,\n",
       "        -4.86918424e-02, -3.12195321e-01,  3.89025027e-01,\n",
       "         1.19055226e-01,  6.14140159e-03,  2.07494991e-02,\n",
       "        -3.84027178e-02, -1.10574489e-01,  1.29779294e-01,\n",
       "         1.31060143e-01,  1.30480875e-01, -3.00238862e-03,\n",
       "         9.79167603e-02, -8.40723279e-02,  7.72922995e-02,\n",
       "         8.66025397e-02,  1.16156476e-01, -1.79990258e-02,\n",
       "         5.37746672e-01,  1.28768437e-01,  2.69044457e-01,\n",
       "         4.29109218e-02, -6.79891614e-03,  5.52204118e-02,\n",
       "        -1.05332336e-01,  8.02051528e-04,  4.26243388e-02,\n",
       "         6.43099945e-02, -3.05391825e-02,  1.19244335e-01,\n",
       "        -2.38227764e-02,  6.19793790e-02, -5.13748971e-02,\n",
       "         2.69990345e-02, -1.97325562e-01, -4.92516868e-02,\n",
       "        -5.23644158e-02,  7.58520725e-02, -5.67792574e-01,\n",
       "        -6.47327592e-01,  2.94836711e-02, -1.22663916e-01,\n",
       "        -1.00183216e-01, -3.66977185e-01, -1.85624726e-01,\n",
       "         2.34591680e-01, -3.87002465e-02, -6.14995500e-02,\n",
       "        -1.78136553e-01,  8.90736382e-02, -1.12735430e-01,\n",
       "        -3.18599422e-02, -6.94401255e-02,  3.94416114e-02,\n",
       "        -3.05693434e-02, -1.25365926e-02, -1.41240960e-01,\n",
       "        -3.57428813e-02,  1.63694114e-01, -1.29497749e-03,\n",
       "         1.84448152e-01,  1.54484146e-01, -8.28828644e-02,\n",
       "        -2.69110800e-03, -3.14321384e-01,  3.22203727e-01,\n",
       "        -6.68961815e-03,  1.59639138e-01,  1.25474166e-01,\n",
       "         1.14872068e-01,  1.56975247e-01, -5.82560518e-02,\n",
       "         5.29885841e-02,  1.33373689e-01, -8.92993578e-02,\n",
       "        -5.28615223e-01,  1.67794492e-02, -9.39105747e-02,\n",
       "         1.93766209e-01,  3.99162108e-02,  1.96918626e-01,\n",
       "        -4.27573221e-02,  2.88322360e-02, -6.83194969e-02,\n",
       "        -1.25009707e-01, -1.39665021e-01, -3.05619805e-02,\n",
       "        -1.27985790e-01,  8.68826929e-03, -2.73814327e-01,\n",
       "         6.98511057e-02,  4.54697847e-02, -2.00654358e-01,\n",
       "        -9.75435091e-02, -4.94040996e-02,  5.74374058e-02,\n",
       "        -8.47822941e-02, -3.09443203e-02,  2.22212001e-02,\n",
       "         7.53416667e-02,  6.88007421e-02, -1.90304235e-01,\n",
       "        -3.39789427e-01,  1.73365382e-01, -6.92265470e-02,\n",
       "         1.06476379e-01,  2.08265614e-02,  3.13793784e-02,\n",
       "        -1.82409108e-01, -1.18362528e-01,  1.92727445e-01,\n",
       "        -1.73187405e-01, -4.06054780e-02, -5.79825611e-02,\n",
       "         2.42700424e-01,  6.09568383e-02,  7.07495885e-02,\n",
       "         1.87778256e-02, -2.05204062e-01, -4.08236064e-02,\n",
       "        -3.13880613e-02,  1.17836422e-01, -6.11375887e-02,\n",
       "        -1.02228712e-01, -2.52340501e-01,  6.94074958e-02,\n",
       "         1.17124680e-01,  3.58200484e-03, -1.50079105e-02,\n",
       "        -3.47788506e-02,  3.59268829e-02, -4.96110511e-02,\n",
       "         7.91904879e-02,  1.80732034e-01,  9.89517419e-02,\n",
       "        -2.70997465e-01,  4.09276834e-03,  4.10083640e-01,\n",
       "        -1.00157426e-01,  8.88643187e-02, -1.55833423e-01,\n",
       "         3.53064812e-02, -1.08898084e-01,  7.81931165e-02,\n",
       "        -1.42613416e-01,  2.77919809e-01, -1.69160990e-02,\n",
       "        -6.05356476e-03, -2.21577226e-01, -9.29155446e-02,\n",
       "        -7.00517343e-02,  9.22001374e-02,  1.13848861e-01,\n",
       "         6.34867048e-02, -1.46001798e-01, -8.42145628e-03,\n",
       "         5.22004440e-02, -3.02428557e-01, -2.30813715e-01,\n",
       "         8.19483054e-02,  2.41255148e-01,  9.90892625e-03,\n",
       "         1.50395470e-01,  8.57880671e-02, -7.56332831e-02,\n",
       "        -1.02074547e-02, -2.58338230e-02, -1.66739597e-01,\n",
       "        -9.66572463e-02, -2.16225059e-01,  2.25463196e-01,\n",
       "        -6.00746073e-04, -1.20975064e-01,  6.26234480e-02,\n",
       "        -2.46405927e-01,  4.98026323e-02,  2.73063677e-03,\n",
       "         2.23940580e-01,  2.30325597e-01, -1.54865420e-01,\n",
       "        -4.48213482e-01,  1.11261528e-01, -2.30457429e-01,\n",
       "        -1.02348437e-01, -1.09105555e-02, -5.43420153e-01,\n",
       "        -6.06180818e-02,  1.51821511e-01,  3.47623530e-01,\n",
       "         1.12296312e-01, -7.27246475e-02,  6.81625503e-02,\n",
       "         3.75076418e-02,  1.22367875e-01,  1.09002566e-01,\n",
       "        -1.56567749e-01, -2.01418500e-01, -5.16687386e-02,\n",
       "        -4.51574350e-02, -7.99203340e-02, -3.65429029e-02,\n",
       "        -1.88554612e-02,  1.94233933e-02, -6.59615737e-01,\n",
       "        -4.06124891e-02,  3.23088656e-03,  1.92030956e-02,\n",
       "        -1.73909624e-01,  3.69656709e-02, -1.82119321e-02,\n",
       "        -1.96527379e-01,  1.86550912e-01, -9.38929344e-02,\n",
       "        -3.99522124e-02,  4.19684012e-02, -4.65744916e-02,\n",
       "        -2.60564442e-01,  1.17252108e-01,  1.60327610e-01,\n",
       "         2.52535806e-02, -2.24026056e-02,  5.38541795e-02,\n",
       "         8.32938209e-02,  1.69869448e-01, -1.38834382e-01,\n",
       "         6.19689358e-03, -1.04388968e-01,  1.29020328e-01,\n",
       "        -8.56533515e-03,  5.45001736e-02, -3.28236908e-02,\n",
       "        -2.62490074e-02,  4.37207724e-01,  1.83627614e-02,\n",
       "         6.40584066e-02, -8.42092103e-03, -1.11776105e-01,\n",
       "        -3.66457334e-02,  1.53667717e-01, -6.66335975e-02,\n",
       "        -2.02180695e-03, -1.50452948e-01, -2.26455148e-01,\n",
       "         9.22381971e-02,  1.00869432e-01, -7.11285264e-03,\n",
       "         1.22201157e-03, -1.37799369e-01,  1.35135738e-02,\n",
       "        -1.03228618e-01, -3.22068941e-02, -6.77904576e-02,\n",
       "        -1.42270933e-02, -2.11016911e-02,  8.50627362e-02,\n",
       "        -6.19497749e-02,  1.49773267e-02, -5.44309658e-01,\n",
       "        -2.23765982e-01, -7.51413161e-02, -2.59173677e-02,\n",
       "        -1.72419355e-01,  1.23839813e-01, -4.27766473e-02,\n",
       "         4.13660184e-02, -1.45567477e-01,  1.49819157e-02,\n",
       "         1.81393336e-02,  8.52819053e-02, -2.01514561e-02,\n",
       "         1.41850630e-01, -2.58375606e-01, -1.56356811e-01,\n",
       "         8.21232177e-03,  1.73716874e-02,  1.71388437e-01,\n",
       "        -1.17822709e-01,  6.59529750e-02,  2.12979594e-02,\n",
       "        -1.02374738e-01, -6.38826777e-02, -4.01502868e-02,\n",
       "         3.63330262e-02, -5.08950217e-02, -7.10986396e-02,\n",
       "        -7.46282076e-01,  9.18669023e-02,  4.00289367e-03,\n",
       "        -1.33821758e-01,  9.48445726e-04,  2.02985941e-01,\n",
       "         8.25573046e-02, -4.04832431e-01,  1.74664275e-01,\n",
       "         1.57558120e-03, -4.16768491e-02,  1.94724113e-02,\n",
       "        -1.18208220e-01,  5.23934889e-02, -5.12232765e-02,\n",
       "         5.96563018e-02, -9.03310264e-03, -1.80514006e-02,\n",
       "         1.10506627e-01,  6.10438393e-02, -7.80806193e-02,\n",
       "        -1.20293005e-01, -1.97713283e-01, -7.01559372e-02,\n",
       "         6.49304138e-02,  1.06293587e-01,  4.45354431e-02,\n",
       "         4.14945676e-02,  1.70617612e-01, -4.59135930e-03,\n",
       "        -3.19786720e-02, -3.68557061e-02, -3.55497088e-01,\n",
       "         5.64819581e-01, -2.25084335e-01,  1.37699816e-01,\n",
       "         3.83868154e-02, -1.83091506e-02,  1.41862294e-01,\n",
       "         2.16828617e-01, -4.23824526e-01, -1.06434427e+00,\n",
       "         8.70141881e-02, -9.20820829e-02, -2.56849481e-01,\n",
       "        -3.75529267e-01, -8.86854866e-02, -2.60873982e-01,\n",
       "        -6.31635062e-02,  6.37645405e-02, -1.79748486e-01,\n",
       "        -9.98632554e-02,  7.08846775e-02,  8.33278042e-02,\n",
       "         1.33182968e-01,  1.01819236e-01,  1.09212062e-01,\n",
       "         2.25561694e-02, -3.30585085e-02, -1.16197274e-01,\n",
       "         4.60506105e-03]])"
      ]
     },
     "metadata": {},
     "output_type": "display_data"
    }
   ],
   "source": [
    "lr_coeffs = best_model.named_steps['logisticregression'].coef_\n",
    "\n",
    "display(lr_coeffs)"
   ]
  },
  {
   "cell_type": "code",
   "execution_count": 90,
   "metadata": {
    "deletable": false,
    "editable": false,
    "nbgrader": {
     "cell_type": "code",
     "checksum": "8d10989d0e50c9ebe8d18324d8c77b8f",
     "grade": true,
     "grade_id": "cell-37e4cd094699c2d1",
     "locked": true,
     "points": 1,
     "schema_version": 3,
     "solution": false,
     "task": false
    }
   },
   "outputs": [],
   "source": [
    "# t.test_2_2(lr_coeffs)"
   ]
  },
  {
   "cell_type": "markdown",
   "metadata": {},
   "source": [
    "**Question 2.3** <br> {points: 1}\n",
    "\n",
    "Find the features that `CountVectorizer` produced by calling `get_feature_names()` on the `CountVectorizer` object within the `best_model` object. \n",
    "(*Hint: You'll have to reference `countvectorizer` from the `best_model` object because `best_model` is a `Pipeline` object*) \n",
    "\n",
    "Save this in an object named `vocab`. "
   ]
  },
  {
   "cell_type": "code",
   "execution_count": 91,
   "metadata": {
    "deletable": false,
    "nbgrader": {
     "cell_type": "code",
     "checksum": "2981e966cc55e48545b0bf57fb4cac66",
     "grade": false,
     "grade_id": "cell-90314f78c1e949c7",
     "locked": false,
     "schema_version": 3,
     "solution": true,
     "task": false
    }
   },
   "outputs": [
    {
     "name": "stdout",
     "output_type": "stream",
     "text": [
      "['10' '20' 'able' 'about' 'above' 'absolutely' 'across' 'act' 'acting'\n",
      " 'action' 'actor' 'actors' 'actress' 'actual' 'actually' 'add' 'after'\n",
      " 'again' 'against' 'age' 'ago' 'all' 'almost' 'alone' 'along' 'already'\n",
      " 'also' 'although' 'always' 'am' 'amazing' 'america' 'american' 'among'\n",
      " 'an' 'and' 'animation' 'annoying' 'another' 'any' 'anyone' 'anything'\n",
      " 'anyway' 'apparently' 'appears' 'are' 'aren' 'around' 'art' 'as' 'at'\n",
      " 'atmosphere' 'attempt' 'attention' 'audience' 'average' 'avoid' 'away'\n",
      " 'awful' 'baby' 'back' 'bad' 'based' 'basically' 'be' 'beautiful' 'beauty'\n",
      " 'became' 'because' 'become' 'becomes' 'been' 'before' 'beginning'\n",
      " 'begins' 'behind' 'being' 'believe' 'ben' 'best' 'better' 'between'\n",
      " 'beyond' 'big' 'bit' 'black' 'blood' 'body' 'book' 'boring' 'both' 'boy'\n",
      " 'br' 'brilliant' 'bring' 'brings' 'british' 'brother' 'brought' 'budget'\n",
      " 'bunch' 'but' 'buy' 'by' 'call' 'called' 'came' 'camera' 'can' 'cannot'\n",
      " 'car' 'care' 'career' 'case' 'cast' 'certain' 'certainly' 'chance'\n",
      " 'change' 'character' 'characters' 'cheap' 'check' 'child' 'children'\n",
      " 'christmas' 'cinema' 'cinematography' 'city' 'class' 'classic' 'clear'\n",
      " 'clearly' 'clichã' 'close' 'come' 'comedy' 'comes' 'comic' 'coming'\n",
      " 'comments' 'complete' 'completely' 'cool' 'could' 'couldn' 'country'\n",
      " 'couple' 'course' 'crap' 'crime' 'cut' 'dance' 'dark' 'daughter' 'david'\n",
      " 'day' 'days' 'de' 'dead' 'deal' 'death' 'decent' 'decided' 'definitely'\n",
      " 'despite' 'dialog' 'dialogue' 'did' 'didn' 'die' 'different' 'difficult'\n",
      " 'directed' 'direction' 'director' 'disappointed' 'disney' 'do'\n",
      " 'documentary' 'does' 'doesn' 'dog' 'doing' 'don' 'done' 'doubt' 'down'\n",
      " 'dr' 'drama' 'due' 'dull' 'during' 'dvd' 'each' 'early' 'earth' 'easily'\n",
      " 'easy' 'editing' 'effects' 'effort' 'either' 'elements' 'else'\n",
      " 'emotional' 'end' 'ending' 'ends' 'english' 'enjoy' 'enjoyable' 'enjoyed'\n",
      " 'enough' 'entertaining' 'entertainment' 'entire' 'episode' 'episodes'\n",
      " 'especially' 'etc' 'even' 'events' 'eventually' 'ever' 'every' 'everyone'\n",
      " 'everything' 'evil' 'exactly' 'example' 'excellent' 'except' 'expect'\n",
      " 'experience' 'extremely' 'eye' 'eyes' 'face' 'fact' 'fall' 'falls'\n",
      " 'family' 'famous' 'fan' 'fans' 'fantastic' 'fantasy' 'far' 'fast'\n",
      " 'father' 'favorite' 'feature' 'feel' 'feeling' 'feels' 'felt' 'female'\n",
      " 'few' 'fight' 'figure' 'film' 'filmed' 'films' 'final' 'finally' 'find'\n",
      " 'finds' 'fine' 'first' 'five' 'flick' 'follow' 'for' 'forget' 'form'\n",
      " 'found' 'four' 'free' 'french' 'friend' 'friends' 'from' 'full' 'fun'\n",
      " 'funny' 'future' 'game' 'gave' 'gay' 'general' 'genre' 'george' 'get'\n",
      " 'gets' 'getting' 'girl' 'girls' 'give' 'given' 'gives' 'giving' 'go'\n",
      " 'god' 'goes' 'going' 'gone' 'good' 'gore' 'got' 'great' 'greatest'\n",
      " 'group' 'guess' 'guy' 'guys' 'had' 'half' 'hand' 'happen' 'happened'\n",
      " 'happens' 'happy' 'hard' 'has' 'hate' 'have' 'haven' 'having' 'he' 'head'\n",
      " 'hear' 'heard' 'heart' 'hell' 'help' 'her' 'here' 'hero' 'herself' 'high'\n",
      " 'highly' 'hilarious' 'him' 'himself' 'his' 'history' 'hit' 'hollywood'\n",
      " 'home' 'hope' 'horrible' 'horror' 'hour' 'hours' 'house' 'how' 'however'\n",
      " 'huge' 'human' 'humor' 'husband' 'idea' 'if' 'imagine' 'important' 'in'\n",
      " 'including' 'indeed' 'instead' 'interest' 'interesting' 'into' 'involved'\n",
      " 'is' 'isn' 'it' 'its' 'itself' 'jack' 'james' 'jane' 'japanese' 'job'\n",
      " 'joe' 'john' 'jokes' 'just' 'keep' 'kid' 'kids' 'kill' 'killed' 'killer'\n",
      " 'killing' 'kind' 'king' 'knew' 'know' 'known' 'knows' 'lack' 'lady'\n",
      " 'lame' 'last' 'late' 'later' 'laugh' 'lead' 'leading' 'leads' 'learn'\n",
      " 'least' 'leave' 'left' 'less' 'let' 'level' 'life' 'light' 'like' 'liked'\n",
      " 'line' 'lines' 'little' 'live' 'lives' 'living' 'll' 'local' 'long'\n",
      " 'look' 'looked' 'looking' 'looks' 'lost' 'lot' 'lots' 'love' 'loved'\n",
      " 'low' 'made' 'main' 'major' 'make' 'makes' 'making' 'man' 'many'\n",
      " 'material' 'matter' 'may' 'maybe' 'me' 'mean' 'means' 'meets' 'memorable'\n",
      " 'men' 'mention' 'message' 'michael' 'middle' 'might' 'mind' 'minute'\n",
      " 'minutes' 'miss' 'modern' 'moment' 'moments' 'money' 'monster' 'more'\n",
      " 'most' 'mostly' 'mother' 'movie' 'movies' 'moving' 'mr' 'much' 'murder'\n",
      " 'music' 'musical' 'must' 'my' 'myself' 'mystery' 'name' 'named' 'near'\n",
      " 'nearly' 'need' 'needs' 'never' 'new' 'next' 'nice' 'night' 'no' 'non'\n",
      " 'none' 'nor' 'not' 'note' 'nothing' 'novel' 'now' 'number' 'obvious'\n",
      " 'obviously' 'of' 'off' 'often' 'oh' 'ok' 'okay' 'old' 'on' 'once' 'one'\n",
      " 'ones' 'only' 'open' 'opening' 'opinion' 'or' 'order' 'original' 'oscar'\n",
      " 'other' 'others' 'our' 'out' 'over' 'overall' 'own' 'parents' 'part'\n",
      " 'particular' 'particularly' 'parts' 'past' 'paul' 'people' 'perfect'\n",
      " 'performance' 'performances' 'perhaps' 'period' 'person' 'peter'\n",
      " 'picture' 'piece' 'place' 'play' 'played' 'playing' 'plays' 'please'\n",
      " 'plenty' 'plot' 'point' 'points' 'police' 'poor' 'poorly' 'possible'\n",
      " 'possibly' 'power' 'predictable' 'premise' 'present' 'pretty' 'probably'\n",
      " 'problem' 'problems' 'production' 'put' 'quality' 'quite' 'rather'\n",
      " 'rating' 're' 'read' 'reading' 'real' 'realistic' 'reality' 'realize'\n",
      " 'really' 'reason' 'recommend' 'red' 'relationship' 'release' 'released'\n",
      " 'remember' 'rest' 'review' 'reviews' 'richard' 'ridiculous' 'right'\n",
      " 'robert' 'rock' 'role' 'roles' 'romance' 'romantic' 'room' 'run'\n",
      " 'running' 'sad' 'said' 'same' 'save' 'saw' 'say' 'saying' 'says' 'scary'\n",
      " 'scene' 'scenes' 'school' 'sci' 'score' 'screen' 'screenplay' 'script'\n",
      " 'season' 'second' 'see' 'seeing' 'seem' 'seemed' 'seems' 'seen' 'self'\n",
      " 'sense' 'sequel' 'sequence' 'sequences' 'series' 'serious' 'seriously'\n",
      " 'set' 'sets' 'several' 'sex' 'sexual' 'shame' 'she' 'short' 'shot'\n",
      " 'shots' 'should' 'show' 'showing' 'shown' 'shows' 'side' 'silly'\n",
      " 'similar' 'simple' 'simply' 'since' 'single' 'sister' 'sit' 'situation'\n",
      " 'slow' 'small' 'so' 'some' 'somehow' 'someone' 'something' 'sometimes'\n",
      " 'somewhat' 'son' 'song' 'songs' 'soon' 'sorry' 'sort' 'sound'\n",
      " 'soundtrack' 'space' 'special' 'stand' 'star' 'stars' 'start' 'started'\n",
      " 'starts' 'stay' 'still' 'stop' 'stories' 'story' 'storyline' 'straight'\n",
      " 'strange' 'street' 'strong' 'stuff' 'stupid' 'style' 'subject' 'such'\n",
      " 'supporting' 'supposed' 'sure' 'surprise' 'surprised' 'suspense' 'take'\n",
      " 'taken' 'takes' 'taking' 'tale' 'talent' 'talk' 'talking' 'team'\n",
      " 'television' 'tell' 'tells' 'ten' 'terrible' 'than' 'that' 'the'\n",
      " 'theater' 'their' 'them' 'theme' 'themselves' 'then' 'there' 'these'\n",
      " 'they' 'thing' 'things' 'think' 'thinking' 'this' 'those' 'though'\n",
      " 'thought' 'three' 'thriller' 'through' 'throughout' 'time' 'times'\n",
      " 'title' 'to' 'today' 'together' 'told' 'tom' 'too' 'took' 'top' 'totally'\n",
      " 'town' 'tried' 'tries' 'true' 'truly' 'truth' 'try' 'trying' 'turn'\n",
      " 'turned' 'turns' 'tv' 'two' 'type' 'typical' 'under' 'understand'\n",
      " 'unfortunately' 'unless' 'until' 'up' 'upon' 'us' 'use' 'used' 'using'\n",
      " 'usual' 'usually' 've' 'version' 'very' 'video' 'view' 'viewer' 'viewers'\n",
      " 'viewing' 'violence' 'voice' 'wait' 'want' 'wanted' 'wants' 'war' 'was'\n",
      " 'wasn' 'waste' 'watch' 'watched' 'watching' 'way' 'ways' 'we' 'weak'\n",
      " 'well' 'went' 'were' 'what' 'whatever' 'when' 'where' 'whether' 'which'\n",
      " 'while' 'white' 'who' 'whole' 'whose' 'why' 'wife' 'will' 'wish' 'with'\n",
      " 'within' 'without' 'woman' 'women' 'won' 'wonder' 'wonderful' 'word'\n",
      " 'words' 'work' 'working' 'works' 'world' 'worse' 'worst' 'worth' 'would'\n",
      " 'wouldn' 'write' 'writer' 'writers' 'writing' 'written' 'wrong' 'year'\n",
      " 'years' 'yes' 'yet' 'york' 'you' 'young' 'your' 'yourself' 'zombie']\n"
     ]
    }
   ],
   "source": [
    "vocab = best_model.named_steps['countvectorizer'].get_feature_names_out()\n",
    "\n",
    "print(vocab)"
   ]
  },
  {
   "cell_type": "code",
   "execution_count": 92,
   "metadata": {
    "deletable": false,
    "editable": false,
    "nbgrader": {
     "cell_type": "code",
     "checksum": "de75e6cd5c9e776829d6574d695728aa",
     "grade": true,
     "grade_id": "cell-079308bed544da66",
     "locked": true,
     "points": 1,
     "schema_version": 3,
     "solution": false,
     "task": false
    }
   },
   "outputs": [
    {
     "data": {
      "text/plain": [
       "'Success'"
      ]
     },
     "execution_count": 92,
     "metadata": {},
     "output_type": "execute_result"
    }
   ],
   "source": [
    "t.test_2_3(vocab)"
   ]
  },
  {
   "cell_type": "markdown",
   "metadata": {},
   "source": [
    "We've provided you the next code which combines the features with its respective feature coefficient (Our gift to you!) "
   ]
  },
  {
   "cell_type": "code",
   "execution_count": 93,
   "metadata": {},
   "outputs": [
    {
     "data": {
      "text/html": [
       "<div>\n",
       "<style scoped>\n",
       "    .dataframe tbody tr th:only-of-type {\n",
       "        vertical-align: middle;\n",
       "    }\n",
       "\n",
       "    .dataframe tbody tr th {\n",
       "        vertical-align: top;\n",
       "    }\n",
       "\n",
       "    .dataframe thead th {\n",
       "        text-align: right;\n",
       "    }\n",
       "</style>\n",
       "<table border=\"1\" class=\"dataframe\">\n",
       "  <thead>\n",
       "    <tr style=\"text-align: right;\">\n",
       "      <th></th>\n",
       "      <th>word</th>\n",
       "      <th>coefficient</th>\n",
       "    </tr>\n",
       "  </thead>\n",
       "  <tbody>\n",
       "    <tr>\n",
       "      <th>869</th>\n",
       "      <td>you</td>\n",
       "      <td>0.109212</td>\n",
       "    </tr>\n",
       "    <tr>\n",
       "      <th>870</th>\n",
       "      <td>young</td>\n",
       "      <td>0.022556</td>\n",
       "    </tr>\n",
       "    <tr>\n",
       "      <th>871</th>\n",
       "      <td>your</td>\n",
       "      <td>-0.033059</td>\n",
       "    </tr>\n",
       "    <tr>\n",
       "      <th>872</th>\n",
       "      <td>yourself</td>\n",
       "      <td>-0.116197</td>\n",
       "    </tr>\n",
       "    <tr>\n",
       "      <th>873</th>\n",
       "      <td>zombie</td>\n",
       "      <td>0.004605</td>\n",
       "    </tr>\n",
       "  </tbody>\n",
       "</table>\n",
       "</div>"
      ],
      "text/plain": [
       "         word coefficient\n",
       "869       you    0.109212\n",
       "870     young    0.022556\n",
       "871      your   -0.033059\n",
       "872  yourself   -0.116197\n",
       "873    zombie    0.004605"
      ]
     },
     "metadata": {},
     "output_type": "display_data"
    }
   ],
   "source": [
    "vocab_coef_df = pd.DataFrame(data = [vocab, lr_coeffs.flatten()]).T.rename(columns = {0 : 'word', 1 : 'coefficient'})\n",
    "\n",
    "display(vocab_coef_df.tail())"
   ]
  },
  {
   "cell_type": "markdown",
   "metadata": {},
   "source": [
    "**Question 2.4** <br> {points: 1}\n",
    "\n",
    "Find the 10 words whose presence are most indicative of a positive review. Save the words and their corresponding weights in a dataframe ordered from most indicative to least indicative. \n",
    "\n",
    "Save these in a dataframe object named `positive_words`."
   ]
  },
  {
   "cell_type": "code",
   "execution_count": 94,
   "metadata": {
    "deletable": false,
    "nbgrader": {
     "cell_type": "code",
     "checksum": "95070f19425f497be3bd79f73b7e55be",
     "grade": false,
     "grade_id": "cell-bf0a678aac774e18",
     "locked": false,
     "schema_version": 3,
     "solution": true,
     "task": false
    }
   },
   "outputs": [
    {
     "data": {
      "text/html": [
       "<div>\n",
       "<style scoped>\n",
       "    .dataframe tbody tr th:only-of-type {\n",
       "        vertical-align: middle;\n",
       "    }\n",
       "\n",
       "    .dataframe tbody tr th {\n",
       "        vertical-align: top;\n",
       "    }\n",
       "\n",
       "    .dataframe thead th {\n",
       "        text-align: right;\n",
       "    }\n",
       "</style>\n",
       "<table border=\"1\" class=\"dataframe\">\n",
       "  <thead>\n",
       "    <tr style=\"text-align: right;\">\n",
       "      <th></th>\n",
       "      <th>word</th>\n",
       "      <th>coefficient</th>\n",
       "    </tr>\n",
       "  </thead>\n",
       "  <tbody>\n",
       "    <tr>\n",
       "      <th>231</th>\n",
       "      <td>excellent</td>\n",
       "      <td>0.674552</td>\n",
       "    </tr>\n",
       "    <tr>\n",
       "      <th>846</th>\n",
       "      <td>wonderful</td>\n",
       "      <td>0.56482</td>\n",
       "    </tr>\n",
       "    <tr>\n",
       "      <th>546</th>\n",
       "      <td>perfect</td>\n",
       "      <td>0.537747</td>\n",
       "    </tr>\n",
       "    <tr>\n",
       "      <th>30</th>\n",
       "      <td>amazing</td>\n",
       "      <td>0.528141</td>\n",
       "    </tr>\n",
       "    <tr>\n",
       "      <th>341</th>\n",
       "      <td>highly</td>\n",
       "      <td>0.476689</td>\n",
       "    </tr>\n",
       "    <tr>\n",
       "      <th>251</th>\n",
       "      <td>favorite</td>\n",
       "      <td>0.474851</td>\n",
       "    </tr>\n",
       "    <tr>\n",
       "      <th>439</th>\n",
       "      <td>loved</td>\n",
       "      <td>0.462875</td>\n",
       "    </tr>\n",
       "    <tr>\n",
       "      <th>760</th>\n",
       "      <td>today</td>\n",
       "      <td>0.437208</td>\n",
       "    </tr>\n",
       "    <tr>\n",
       "      <th>93</th>\n",
       "      <td>brilliant</td>\n",
       "      <td>0.429746</td>\n",
       "    </tr>\n",
       "    <tr>\n",
       "      <th>310</th>\n",
       "      <td>great</td>\n",
       "      <td>0.415146</td>\n",
       "    </tr>\n",
       "  </tbody>\n",
       "</table>\n",
       "</div>"
      ],
      "text/plain": [
       "          word coefficient\n",
       "231  excellent    0.674552\n",
       "846  wonderful     0.56482\n",
       "546    perfect    0.537747\n",
       "30     amazing    0.528141\n",
       "341     highly    0.476689\n",
       "251   favorite    0.474851\n",
       "439      loved    0.462875\n",
       "760      today    0.437208\n",
       "93   brilliant    0.429746\n",
       "310      great    0.415146"
      ]
     },
     "metadata": {},
     "output_type": "display_data"
    }
   ],
   "source": [
    "positive_words = vocab_coef_df.sort_values(by = 'coefficient', ascending = False).head(10)\n",
    "\n",
    "display(positive_words)"
   ]
  },
  {
   "cell_type": "code",
   "execution_count": 95,
   "metadata": {
    "deletable": false,
    "editable": false,
    "nbgrader": {
     "cell_type": "code",
     "checksum": "67ada55b24d18cee7e8d91cdb028d308",
     "grade": true,
     "grade_id": "cell-27fcdeed004cd23d",
     "locked": true,
     "points": 1,
     "schema_version": 3,
     "solution": false,
     "task": false
    }
   },
   "outputs": [
    {
     "data": {
      "text/plain": [
       "'Success'"
      ]
     },
     "execution_count": 95,
     "metadata": {},
     "output_type": "execute_result"
    }
   ],
   "source": [
    "t.test_2_4(positive_words)"
   ]
  },
  {
   "cell_type": "markdown",
   "metadata": {},
   "source": [
    "**Question 2.5** <br> {points: 1}\n",
    "\n",
    "Find the 10 words whose presence are most indicative of a negative review. Save the words and their corresponding weights in a dataframe ordered from most indicative to least indicative. \n",
    "\n",
    "Save these in a dataframe object named `negative_words`."
   ]
  },
  {
   "cell_type": "code",
   "execution_count": 96,
   "metadata": {
    "deletable": false,
    "nbgrader": {
     "cell_type": "code",
     "checksum": "58a90462f5767bf71c868e02ac02fdf7",
     "grade": false,
     "grade_id": "cell-40bec17d8594e3be",
     "locked": false,
     "schema_version": 3,
     "solution": true,
     "task": false
    }
   },
   "outputs": [
    {
     "data": {
      "text/html": [
       "<div>\n",
       "<style scoped>\n",
       "    .dataframe tbody tr th:only-of-type {\n",
       "        vertical-align: middle;\n",
       "    }\n",
       "\n",
       "    .dataframe tbody tr th {\n",
       "        vertical-align: top;\n",
       "    }\n",
       "\n",
       "    .dataframe thead th {\n",
       "        text-align: right;\n",
       "    }\n",
       "</style>\n",
       "<table border=\"1\" class=\"dataframe\">\n",
       "  <thead>\n",
       "    <tr style=\"text-align: right;\">\n",
       "      <th></th>\n",
       "      <th>word</th>\n",
       "      <th>coefficient</th>\n",
       "    </tr>\n",
       "  </thead>\n",
       "  <tbody>\n",
       "    <tr>\n",
       "      <th>854</th>\n",
       "      <td>worst</td>\n",
       "      <td>-1.064344</td>\n",
       "    </tr>\n",
       "    <tr>\n",
       "      <th>58</th>\n",
       "      <td>awful</td>\n",
       "      <td>-0.769785</td>\n",
       "    </tr>\n",
       "    <tr>\n",
       "      <th>813</th>\n",
       "      <td>waste</td>\n",
       "      <td>-0.746282</td>\n",
       "    </tr>\n",
       "    <tr>\n",
       "      <th>351</th>\n",
       "      <td>horrible</td>\n",
       "      <td>-0.661325</td>\n",
       "    </tr>\n",
       "    <tr>\n",
       "      <th>731</th>\n",
       "      <td>terrible</td>\n",
       "      <td>-0.659616</td>\n",
       "    </tr>\n",
       "    <tr>\n",
       "      <th>567</th>\n",
       "      <td>poorly</td>\n",
       "      <td>-0.647328</td>\n",
       "    </tr>\n",
       "    <tr>\n",
       "      <th>89</th>\n",
       "      <td>boring</td>\n",
       "      <td>-0.609407</td>\n",
       "    </tr>\n",
       "    <tr>\n",
       "      <th>191</th>\n",
       "      <td>dull</td>\n",
       "      <td>-0.573281</td>\n",
       "    </tr>\n",
       "    <tr>\n",
       "      <th>566</th>\n",
       "      <td>poor</td>\n",
       "      <td>-0.567793</td>\n",
       "    </tr>\n",
       "    <tr>\n",
       "      <th>403</th>\n",
       "      <td>lame</td>\n",
       "      <td>-0.551443</td>\n",
       "    </tr>\n",
       "  </tbody>\n",
       "</table>\n",
       "</div>"
      ],
      "text/plain": [
       "         word coefficient\n",
       "854     worst   -1.064344\n",
       "58      awful   -0.769785\n",
       "813     waste   -0.746282\n",
       "351  horrible   -0.661325\n",
       "731  terrible   -0.659616\n",
       "567    poorly   -0.647328\n",
       "89     boring   -0.609407\n",
       "191      dull   -0.573281\n",
       "566      poor   -0.567793\n",
       "403      lame   -0.551443"
      ]
     },
     "metadata": {},
     "output_type": "display_data"
    }
   ],
   "source": [
    "negative_words = vocab_coef_df.sort_values(by = 'coefficient', ascending = True).head(10)\n",
    "\n",
    "display(negative_words)"
   ]
  },
  {
   "cell_type": "code",
   "execution_count": 97,
   "metadata": {
    "deletable": false,
    "editable": false,
    "nbgrader": {
     "cell_type": "code",
     "checksum": "1f15dd097db11ce93c0525fcbf503d2c",
     "grade": true,
     "grade_id": "cell-ce053ef7af404102",
     "locked": true,
     "points": 1,
     "schema_version": 3,
     "solution": false,
     "task": false
    }
   },
   "outputs": [
    {
     "data": {
      "text/plain": [
       "'Success'"
      ]
     },
     "execution_count": 97,
     "metadata": {},
     "output_type": "execute_result"
    }
   ],
   "source": [
    "t.test_2_5(negative_words)"
   ]
  },
  {
   "cell_type": "markdown",
   "metadata": {},
   "source": [
    "**Question 2.6** <br> {points: 2}\n",
    "\n",
    "Do the words associated with positive and negative reviews make sense? \n",
    "\n",
    "\n",
    "A) Yes\n",
    "\n",
    "B) No\n",
    "\n",
    "*Answer in the cell below using the uppercase letter associated with your answer. Place your answer between `\"\"`, assign the correct answer to an object called `answer2_6`.*"
   ]
  },
  {
   "cell_type": "code",
   "execution_count": 98,
   "metadata": {
    "deletable": false,
    "nbgrader": {
     "cell_type": "code",
     "checksum": "d8a6beb814d5eb831ba35a3c1a472d20",
     "grade": false,
     "grade_id": "cell-fec554d548d920e6",
     "locked": false,
     "schema_version": 3,
     "solution": true,
     "task": false
    }
   },
   "outputs": [],
   "source": [
    "answer2_6 = 'A'"
   ]
  },
  {
   "cell_type": "code",
   "execution_count": 99,
   "metadata": {
    "deletable": false,
    "editable": false,
    "nbgrader": {
     "cell_type": "code",
     "checksum": "06ee5ad91730b38f80584126e2e08fc1",
     "grade": true,
     "grade_id": "cell-ae39776298eb0871",
     "locked": true,
     "points": 2,
     "schema_version": 3,
     "solution": false,
     "task": false
    }
   },
   "outputs": [],
   "source": [
    "# check that the variable exists\n",
    "assert 'answer2_6' in globals(\n",
    "), \"Please make sure that your solution is named 'answer2_6'\"\n",
    "\n",
    "# This test has been intentionally hidden. It will be up to you to decide if your solution\n",
    "# is sufficiently good."
   ]
  },
  {
   "cell_type": "markdown",
   "metadata": {},
   "source": [
    "**Question 2.7** <br> {points: 1}\n",
    "\n",
    "Which of the following statements are true?\n",
    "\n",
    "i) It is useful to access the coefficient values since it helps us interpret the model to some extent.\n",
    "\n",
    "ii) The coefficients help humans to understand which features are the most relevant features for prediction and how they impact the prediction.\n",
    "\n",
    "iii) We can get feature importances for KNN by looking at the corresponding coefficients for each feature.\n",
    "\n",
    "iv) Decision Trees also have a manner of seeing which features are important by looking at the tree and where the splits occur. \n",
    "\n",
    "\n",
    "\n",
    "Select all that apply and add them into a list named `answer_2_7`. \n",
    "For example if statement i and iv are both true, your solution will look like this: \n",
    "\n",
    "```\n",
    "answer_2_7 = [\"i\", \"iv\"] \n",
    "```"
   ]
  },
  {
   "cell_type": "code",
   "execution_count": 100,
   "metadata": {
    "deletable": false,
    "nbgrader": {
     "cell_type": "code",
     "checksum": "fb0090d506991a99c9092df833b0fcc7",
     "grade": false,
     "grade_id": "cell-e123df6d5dee466d",
     "locked": false,
     "schema_version": 3,
     "solution": true,
     "task": false
    }
   },
   "outputs": [],
   "source": [
    "answer_2_7 = ['i', 'ii', 'iv']"
   ]
  },
  {
   "cell_type": "code",
   "execution_count": 101,
   "metadata": {
    "deletable": false,
    "editable": false,
    "nbgrader": {
     "cell_type": "code",
     "checksum": "a113250e9e49d28d53e1ef72f915ba23",
     "grade": true,
     "grade_id": "cell-885d12270ba61d7b",
     "locked": true,
     "points": 1,
     "schema_version": 3,
     "solution": false,
     "task": false
    }
   },
   "outputs": [
    {
     "data": {
      "text/plain": [
       "'Success'"
      ]
     },
     "execution_count": 101,
     "metadata": {},
     "output_type": "execute_result"
    }
   ],
   "source": [
    "t.test_2_7(answer_2_7)"
   ]
  },
  {
   "cell_type": "markdown",
   "metadata": {},
   "source": [
    "# 3. Test score, evaluation and `predict_proba`"
   ]
  },
  {
   "cell_type": "markdown",
   "metadata": {},
   "source": [
    "**Question 3.1** <br> {points: 1}\n",
    "\n",
    "Evaluate the best model from `random_search`  on the full training set.\n",
    "\n",
    "Save the score in an object named `training_score`. "
   ]
  },
  {
   "cell_type": "code",
   "execution_count": 102,
   "metadata": {
    "deletable": false,
    "nbgrader": {
     "cell_type": "code",
     "checksum": "ab181575bc6745b369ba63317f50a797",
     "grade": false,
     "grade_id": "cell-d8c01ff13c8c4419",
     "locked": false,
     "schema_version": 3,
     "solution": true,
     "task": false
    }
   },
   "outputs": [
    {
     "name": "stdout",
     "output_type": "stream",
     "text": [
      "Training Score : 0.883\n"
     ]
    }
   ],
   "source": [
    "training_score = random_search.score(X_train, y_train)\n",
    "\n",
    "print(f'Training Score : {training_score}')"
   ]
  },
  {
   "cell_type": "code",
   "execution_count": 103,
   "metadata": {
    "deletable": false,
    "editable": false,
    "nbgrader": {
     "cell_type": "code",
     "checksum": "310cd464111382abf62a0cb7a13eb05c",
     "grade": true,
     "grade_id": "cell-381e18a3118ff7ab",
     "locked": true,
     "points": 1,
     "schema_version": 3,
     "solution": false,
     "task": false
    }
   },
   "outputs": [
    {
     "data": {
      "text/plain": [
       "'Success'"
      ]
     },
     "execution_count": 103,
     "metadata": {},
     "output_type": "execute_result"
    }
   ],
   "source": [
    "t.test_3_1(training_score)"
   ]
  },
  {
   "cell_type": "markdown",
   "metadata": {},
   "source": [
    "**Question 3.2** <br> {points: 2}\n",
    "\n",
    "Evaluate this model on the test set. \n",
    "\n",
    "Save the score in an object named `test_score`. "
   ]
  },
  {
   "cell_type": "code",
   "execution_count": 104,
   "metadata": {
    "deletable": false,
    "nbgrader": {
     "cell_type": "code",
     "checksum": "eb9f1c7f5f992011594cb3c42b46cb02",
     "grade": false,
     "grade_id": "cell-75684362301480a7",
     "locked": false,
     "schema_version": 3,
     "solution": true,
     "task": false
    }
   },
   "outputs": [
    {
     "name": "stdout",
     "output_type": "stream",
     "text": [
      "Test Score : 0.8483\n"
     ]
    }
   ],
   "source": [
    "test_score = random_search.score(X_test, y_test)\n",
    "\n",
    "print(f'Test Score : {test_score}')"
   ]
  },
  {
   "cell_type": "code",
   "execution_count": 105,
   "metadata": {
    "deletable": false,
    "editable": false,
    "nbgrader": {
     "cell_type": "code",
     "checksum": "9677add0323b429f4ec5d94df03504de",
     "grade": true,
     "grade_id": "cell-30ab7efc7596ce70",
     "locked": true,
     "points": 2,
     "schema_version": 3,
     "solution": false,
     "task": false
    }
   },
   "outputs": [],
   "source": [
    "# check that the variable exists\n",
    "assert 'test_score' in globals(\n",
    "), \"Please make sure that your solution is named 'test_score'\"\n",
    "\n",
    "# This test has been intentionally hidden. It will be up to you to decide if your solution\n",
    "# is sufficiently good."
   ]
  },
  {
   "cell_type": "markdown",
   "metadata": {},
   "source": [
    "**Question 3.3** <br> {points: 1}\n",
    "\n",
    "How does your test score compare to the cross validation score `optimal_score` from **Question 1.15**? \n",
    "\n",
    "A) Our model's test score (`test_score`) is much higher than the cross validation score (`optimal_score`).\n",
    "\n",
    "B) Our model's test score (`test_score`) is much lower than the cross validation score (`optimal_score`).\n",
    "\n",
    "C) Our model's test score (`test_score`) is a little higher than the the cross validation score (`optimal_score`).\n",
    "\n",
    "D) Our model's test score (`test_score`) is a little lower than the the cross validation score (`optimal_score`)\n",
    "\n",
    "*Answer in the cell below using the uppercase letter associated with your answer. Place your answer between `\"\"`, assign the correct answer to an object called `answer3_3`.*"
   ]
  },
  {
   "cell_type": "code",
   "execution_count": 106,
   "metadata": {
    "deletable": false,
    "nbgrader": {
     "cell_type": "code",
     "checksum": "77e163e3f07c0eedcabbdad699f9b881",
     "grade": false,
     "grade_id": "cell-df0c282f7501bad2",
     "locked": false,
     "schema_version": 3,
     "solution": true,
     "task": false
    }
   },
   "outputs": [
    {
     "name": "stdout",
     "output_type": "stream",
     "text": [
      "Percent Difference : 0.2837214800803959\n",
      "Answer 3.3 : C\n"
     ]
    }
   ],
   "source": [
    "percent_diff = (test_score - optimal_score) / optimal_score * 100\n",
    "\n",
    "if percent_diff > 20 :\n",
    "    answer3_3 = 'A'\n",
    "elif percent_diff < -20 :\n",
    "    answer3_3 = 'B'\n",
    "elif percent_diff > 0 :\n",
    "    answer3_3 = 'C'\n",
    "else :\n",
    "    answer3_3 = 'D'\n",
    "\n",
    "print(f'Percent Difference : {percent_diff}')\n",
    "print(f'Answer 3.3 : {answer3_3}')"
   ]
  },
  {
   "cell_type": "code",
   "execution_count": 107,
   "metadata": {
    "deletable": false,
    "editable": false,
    "nbgrader": {
     "cell_type": "code",
     "checksum": "29af550efd490f14d5337d907dcd1218",
     "grade": true,
     "grade_id": "cell-bc4abdda953433b6",
     "locked": true,
     "points": 1,
     "schema_version": 3,
     "solution": false,
     "task": false
    }
   },
   "outputs": [
    {
     "data": {
      "text/plain": [
       "'Success'"
      ]
     },
     "execution_count": 107,
     "metadata": {},
     "output_type": "execute_result"
    }
   ],
   "source": [
    "t.test_3_3(answer3_3)"
   ]
  },
  {
   "cell_type": "markdown",
   "metadata": {},
   "source": [
    "**Question 3.4** <br> {points: 1}\n",
    "\n",
    "Plot a confusion matrix on the test set using the object `random_search` as your estimator and `normalize=\"all\"` (see the [documentation](https://scikit-learn.org/stable/modules/generated/sklearn.metrics.plot_confusion_matrix.html) for more help here).\n",
    "\n",
    "Name the plot `reviews_cm`. "
   ]
  },
  {
   "cell_type": "code",
   "execution_count": 108,
   "metadata": {
    "deletable": false,
    "nbgrader": {
     "cell_type": "code",
     "checksum": "79a7ec1f0d07a336b0c789d761593773",
     "grade": false,
     "grade_id": "cell-0fbf22092f07ba56",
     "locked": false,
     "schema_version": 3,
     "solution": true,
     "task": false
    }
   },
   "outputs": [
    {
     "data": {
      "text/plain": [
       "<sklearn.metrics._plot.confusion_matrix.ConfusionMatrixDisplay at 0x1a5f45a0ac0>"
      ]
     },
     "execution_count": 108,
     "metadata": {},
     "output_type": "execute_result"
    },
    {
     "data": {
      "image/png": "[encoded data removed]",
      "text/plain": [
       "<Figure size 640x480 with 2 Axes>"
      ]
     },
     "metadata": {},
     "output_type": "display_data"
    }
   ],
   "source": [
    "reviews_cm = ConfusionMatrixDisplay(\n",
    "    confusion_matrix = confusion_matrix(\n",
    "        y_true = y_test, y_pred = best_model.predict(X_test),\n",
    "        normalize = 'all'\n",
    "    ), \n",
    "    display_labels = ['negative', 'positive']\n",
    ")\n",
    "\n",
    "reviews_cm.plot(cmap = 'Blues')"
   ]
  },
  {
   "cell_type": "code",
   "execution_count": 109,
   "metadata": {
    "deletable": false,
    "editable": false,
    "nbgrader": {
     "cell_type": "code",
     "checksum": "d9e3d55c0d5b035277499b42c0b16099",
     "grade": true,
     "grade_id": "cell-77d2298dbbdbe59b",
     "locked": true,
     "points": 1,
     "schema_version": 3,
     "solution": false,
     "task": false
    }
   },
   "outputs": [
    {
     "data": {
      "text/plain": [
       "'Success'"
      ]
     },
     "execution_count": 109,
     "metadata": {},
     "output_type": "execute_result"
    }
   ],
   "source": [
    "t.test_3_4(reviews_cm)"
   ]
  },
  {
   "cell_type": "markdown",
   "metadata": {},
   "source": [
    "**Question 3.5** <br> {points: 3}\n",
    "\n",
    "Print a classification report on the `X_test` predictions of the best model from `random_search` with measurements to 4 decimal places. Use this information to answer the following questions.\n",
    "\n",
    "A) What is the recall if we classify `pos` as our \"positive\" class? Save the result to 4 decimal places in an object named `answer3_5a`. \n",
    "\n",
    "B) What is the precision weighted average? Save the result to 4 decimal places in an object named `answer3_5b`. \n",
    "\n",
    "C) What is the `f1` score using `pos` as your positive class? Save the result to 4 decimal places in an object named `answer3_5c`."
   ]
  },
  {
   "cell_type": "code",
   "execution_count": 110,
   "metadata": {},
   "outputs": [
    {
     "name": "stdout",
     "output_type": "stream",
     "text": [
      "              precision    recall  f1-score   support\n",
      "\n",
      "         neg     0.8580    0.8348    0.8462      5000\n",
      "         pos     0.8391    0.8618    0.8503      5000\n",
      "\n",
      "    accuracy                         0.8483     10000\n",
      "   macro avg     0.8486    0.8483    0.8483     10000\n",
      "weighted avg     0.8486    0.8483    0.8483     10000\n",
      "\n"
     ]
    }
   ],
   "source": [
    "report = classification_report(\n",
    "    y_true = y_test, y_pred = best_model.predict(X_test),\n",
    "    digits = 4\n",
    ")\n",
    "\n",
    "print(report)"
   ]
  },
  {
   "cell_type": "code",
   "execution_count": 111,
   "metadata": {},
   "outputs": [
    {
     "name": "stdout",
     "output_type": "stream",
     "text": [
      "[[4174  826]\n",
      " [ 691 4309]]\n"
     ]
    }
   ],
   "source": [
    "matrix = confusion_matrix(\n",
    "    y_true = y_test, y_pred = best_model.predict(X_test),\n",
    "    labels = [x for x in best_model.classes_]\n",
    ")\n",
    "\n",
    "print(matrix)"
   ]
  },
  {
   "cell_type": "code",
   "execution_count": 112,
   "metadata": {},
   "outputs": [],
   "source": [
    "precision_pos = matrix[1, 1] / (matrix[1, 1] + matrix[0, 1])\n",
    "precision_neg = matrix[0, 0] / (matrix[0, 0] + matrix[1, 0])\n",
    "\n",
    "recall_pos = matrix[1, 1] / (matrix[1, 1] + matrix[1, 0])\n",
    "recall_neg = matrix[0, 0] / (matrix[0, 0] + matrix[0, 1])\n",
    "\n",
    "f1_pos = 2 * (precision_pos * recall_pos) / (precision_pos + recall_pos)\n",
    "f1_neg = 2 * (precision_neg * recall_neg) / (precision_neg + recall_neg)\n",
    "\n",
    "precision_weighted_avg = (f1_pos * (matrix[1, 1] + matrix[0, 1]) / (matrix.sum()))  + (f1_neg * (matrix[0, 0] + matrix[1, 0]) / (matrix.sum()))"
   ]
  },
  {
   "cell_type": "code",
   "execution_count": 113,
   "metadata": {},
   "outputs": [
    {
     "name": "stdout",
     "output_type": "stream",
     "text": [
      "Positive Recall 0.8618\n",
      "Precision Weighted Average : 0.8483\n",
      "Positive F1 : 0.8503\n"
     ]
    }
   ],
   "source": [
    "recall_pos = round(recall_pos, 4)\n",
    "precision_weighted_avg = round(precision_weighted_avg, 4)\n",
    "f1_pos = round(f1_pos, 4)\n",
    "\n",
    "print(f'Positive Recall {recall_pos}')\n",
    "print(f'Precision Weighted Average : {precision_weighted_avg}')\n",
    "print(f'Positive F1 : {f1_pos}')"
   ]
  },
  {
   "cell_type": "code",
   "execution_count": 114,
   "metadata": {
    "deletable": false,
    "nbgrader": {
     "cell_type": "code",
     "checksum": "382c58dca6bca53973f6c467c076c96a",
     "grade": false,
     "grade_id": "cell-28a036c0bedbe347",
     "locked": false,
     "schema_version": 3,
     "solution": true,
     "task": false
    }
   },
   "outputs": [],
   "source": [
    "answer3_5a = recall_pos\n",
    "answer3_5b = precision_weighted_avg\n",
    "answer3_5c = f1_pos"
   ]
  },
  {
   "cell_type": "code",
   "execution_count": 115,
   "metadata": {
    "deletable": false,
    "editable": false,
    "nbgrader": {
     "cell_type": "code",
     "checksum": "f5590966ca4ffae5fc12be3b12de46b2",
     "grade": true,
     "grade_id": "cell-ef83e4c8c671b548",
     "locked": true,
     "points": 1,
     "schema_version": 3,
     "solution": false,
     "task": false
    }
   },
   "outputs": [
    {
     "data": {
      "text/plain": [
       "'Success'"
      ]
     },
     "execution_count": 115,
     "metadata": {},
     "output_type": "execute_result"
    }
   ],
   "source": [
    "t.test_3_5_1(answer3_5a)"
   ]
  },
  {
   "cell_type": "code",
   "execution_count": 116,
   "metadata": {
    "deletable": false,
    "editable": false,
    "nbgrader": {
     "cell_type": "code",
     "checksum": "97d412d4041fb62879f54a7b0cb489c3",
     "grade": true,
     "grade_id": "cell-50eb8166cc91b52e",
     "locked": true,
     "points": 1,
     "schema_version": 3,
     "solution": false,
     "task": false
    }
   },
   "outputs": [
    {
     "data": {
      "text/plain": [
       "'Success'"
      ]
     },
     "execution_count": 116,
     "metadata": {},
     "output_type": "execute_result"
    }
   ],
   "source": [
    "t.test_3_5_2(answer3_5b)"
   ]
  },
  {
   "cell_type": "code",
   "execution_count": 117,
   "metadata": {
    "deletable": false,
    "editable": false,
    "nbgrader": {
     "cell_type": "code",
     "checksum": "f9adbc22a2dc5f00ecdb266c045fda13",
     "grade": true,
     "grade_id": "cell-69f01092aba39658",
     "locked": true,
     "points": 1,
     "schema_version": 3,
     "solution": false,
     "task": false
    }
   },
   "outputs": [
    {
     "data": {
      "text/plain": [
       "'Success'"
      ]
     },
     "execution_count": 117,
     "metadata": {},
     "output_type": "execute_result"
    }
   ],
   "source": [
    "t.test_3_5_3(answer3_5c)"
   ]
  },
  {
   "cell_type": "markdown",
   "metadata": {},
   "source": [
    "**Question 3.6** <br> {points: 2}\n",
    "\n",
    "Make a dataframe named `results_df` that contains these 5 columns: \n",
    "\n",
    "- `review` - this should contain the reviews from `X_test`.\n",
    "- `true_label` - This should contain the true `y_test` values. \n",
    "- `predicted_y` - The predicted labels generated from `best_model` for the `X_test` reviews. \n",
    "- `neg_label_prob` - The negative probabilities generated from `best_model` for the `X_test` reviews. These can be found at index 0 of the `predict_proba` output (you can get that using `[:,0]`). \n",
    "-  `pos_label_prob` - The negative probabilities generated from `best_model` for the `X_test` reviews. These can be found at index 0 of the `predict_proba` output (you can get that using `[:,1]`). "
   ]
  },
  {
   "cell_type": "code",
   "execution_count": 118,
   "metadata": {
    "deletable": false,
    "nbgrader": {
     "cell_type": "code",
     "checksum": "ef699b6cc1eedb086b3181732d55f501",
     "grade": false,
     "grade_id": "cell-fd73ade995c4c656",
     "locked": false,
     "schema_version": 3,
     "solution": true,
     "task": false
    }
   },
   "outputs": [
    {
     "data": {
      "text/html": [
       "<div>\n",
       "<style scoped>\n",
       "    .dataframe tbody tr th:only-of-type {\n",
       "        vertical-align: middle;\n",
       "    }\n",
       "\n",
       "    .dataframe tbody tr th {\n",
       "        vertical-align: top;\n",
       "    }\n",
       "\n",
       "    .dataframe thead th {\n",
       "        text-align: right;\n",
       "    }\n",
       "</style>\n",
       "<table border=\"1\" class=\"dataframe\">\n",
       "  <thead>\n",
       "    <tr style=\"text-align: right;\">\n",
       "      <th></th>\n",
       "      <th>review</th>\n",
       "      <th>true_label</th>\n",
       "      <th>predicted_y</th>\n",
       "      <th>neg_label_prob</th>\n",
       "      <th>pos_label_prob</th>\n",
       "    </tr>\n",
       "  </thead>\n",
       "  <tbody>\n",
       "    <tr>\n",
       "      <th>0</th>\n",
       "      <td>Universal Studios version of \"Flipper\" (1996) ...</td>\n",
       "      <td>pos</td>\n",
       "      <td>pos</td>\n",
       "      <td>6.085773e-08</td>\n",
       "      <td>1.000000</td>\n",
       "    </tr>\n",
       "    <tr>\n",
       "      <th>1</th>\n",
       "      <td>This is one of Bruce's most underrated films i...</td>\n",
       "      <td>pos</td>\n",
       "      <td>pos</td>\n",
       "      <td>1.528495e-07</td>\n",
       "      <td>1.000000</td>\n",
       "    </tr>\n",
       "    <tr>\n",
       "      <th>2</th>\n",
       "      <td>1904. The North African nation of Morocco is h...</td>\n",
       "      <td>pos</td>\n",
       "      <td>pos</td>\n",
       "      <td>4.538771e-07</td>\n",
       "      <td>1.000000</td>\n",
       "    </tr>\n",
       "    <tr>\n",
       "      <th>3</th>\n",
       "      <td>Many years ago I saw this movie (on television...</td>\n",
       "      <td>pos</td>\n",
       "      <td>pos</td>\n",
       "      <td>9.467465e-07</td>\n",
       "      <td>0.999999</td>\n",
       "    </tr>\n",
       "    <tr>\n",
       "      <th>4</th>\n",
       "      <td>Ray Charles Robinson (Jamie Foxx) is a extreme...</td>\n",
       "      <td>pos</td>\n",
       "      <td>pos</td>\n",
       "      <td>1.764260e-06</td>\n",
       "      <td>0.999998</td>\n",
       "    </tr>\n",
       "  </tbody>\n",
       "</table>\n",
       "</div>"
      ],
      "text/plain": [
       "                                              review true_label predicted_y  \\\n",
       "0  Universal Studios version of \"Flipper\" (1996) ...        pos         pos   \n",
       "1  This is one of Bruce's most underrated films i...        pos         pos   \n",
       "2  1904. The North African nation of Morocco is h...        pos         pos   \n",
       "3  Many years ago I saw this movie (on television...        pos         pos   \n",
       "4  Ray Charles Robinson (Jamie Foxx) is a extreme...        pos         pos   \n",
       "\n",
       "   neg_label_prob  pos_label_prob  \n",
       "0    6.085773e-08        1.000000  \n",
       "1    1.528495e-07        1.000000  \n",
       "2    4.538771e-07        1.000000  \n",
       "3    9.467465e-07        0.999999  \n",
       "4    1.764260e-06        0.999998  "
      ]
     },
     "metadata": {},
     "output_type": "display_data"
    }
   ],
   "source": [
    "results_df = pd.DataFrame(\n",
    "    data = {\n",
    "        'review' : X_test,\n",
    "        'true_label' : y_test,\n",
    "        'predicted_y' : best_model.predict(X_test),\n",
    "        'neg_label_prob' : best_model.predict_proba(X_test)[:, 0],\n",
    "        'pos_label_prob' : best_model.predict_proba(X_test)[:, 1]\n",
    "    }\n",
    ").sort_values(by = 'pos_label_prob', ascending = False).reset_index(drop = True)\n",
    "\n",
    "display(results_df.head())"
   ]
  },
  {
   "cell_type": "code",
   "execution_count": 119,
   "metadata": {
    "deletable": false,
    "editable": false,
    "nbgrader": {
     "cell_type": "code",
     "checksum": "a17c40bfd580ac8691a51f29a0467d65",
     "grade": true,
     "grade_id": "cell-c7d6580c13a97fbd",
     "locked": true,
     "points": 2,
     "schema_version": 3,
     "solution": false,
     "task": false
    }
   },
   "outputs": [],
   "source": [
    "# t.test_3_6(results_df)"
   ]
  },
  {
   "cell_type": "markdown",
   "metadata": {},
   "source": [
    "**Question 3.7** <br> {points: 1}\n",
    "\n",
    "Find the top 5 movie reviews in `results_df` with the highest predicted probability of being positive (i.e., where the model is most confident that the review is positive).\n",
    "\n",
    "Save the reviews and the associated probability score in a dataframe named `most_pos_df`. "
   ]
  },
  {
   "cell_type": "code",
   "execution_count": 120,
   "metadata": {
    "deletable": false,
    "nbgrader": {
     "cell_type": "code",
     "checksum": "fcf976112f3bfc87ba1752ea0e73f79a",
     "grade": false,
     "grade_id": "cell-2efd1cb1fb505acc",
     "locked": false,
     "schema_version": 3,
     "solution": true,
     "task": false
    }
   },
   "outputs": [
    {
     "data": {
      "text/html": [
       "<div>\n",
       "<style scoped>\n",
       "    .dataframe tbody tr th:only-of-type {\n",
       "        vertical-align: middle;\n",
       "    }\n",
       "\n",
       "    .dataframe tbody tr th {\n",
       "        vertical-align: top;\n",
       "    }\n",
       "\n",
       "    .dataframe thead th {\n",
       "        text-align: right;\n",
       "    }\n",
       "</style>\n",
       "<table border=\"1\" class=\"dataframe\">\n",
       "  <thead>\n",
       "    <tr style=\"text-align: right;\">\n",
       "      <th></th>\n",
       "      <th>review</th>\n",
       "      <th>true_label</th>\n",
       "      <th>predicted_y</th>\n",
       "      <th>neg_label_prob</th>\n",
       "      <th>pos_label_prob</th>\n",
       "    </tr>\n",
       "  </thead>\n",
       "  <tbody>\n",
       "    <tr>\n",
       "      <th>0</th>\n",
       "      <td>Universal Studios version of \"Flipper\" (1996) ...</td>\n",
       "      <td>pos</td>\n",
       "      <td>pos</td>\n",
       "      <td>6.085773e-08</td>\n",
       "      <td>1.000000</td>\n",
       "    </tr>\n",
       "    <tr>\n",
       "      <th>1</th>\n",
       "      <td>This is one of Bruce's most underrated films i...</td>\n",
       "      <td>pos</td>\n",
       "      <td>pos</td>\n",
       "      <td>1.528495e-07</td>\n",
       "      <td>1.000000</td>\n",
       "    </tr>\n",
       "    <tr>\n",
       "      <th>2</th>\n",
       "      <td>1904. The North African nation of Morocco is h...</td>\n",
       "      <td>pos</td>\n",
       "      <td>pos</td>\n",
       "      <td>4.538771e-07</td>\n",
       "      <td>1.000000</td>\n",
       "    </tr>\n",
       "    <tr>\n",
       "      <th>3</th>\n",
       "      <td>Many years ago I saw this movie (on television...</td>\n",
       "      <td>pos</td>\n",
       "      <td>pos</td>\n",
       "      <td>9.467465e-07</td>\n",
       "      <td>0.999999</td>\n",
       "    </tr>\n",
       "    <tr>\n",
       "      <th>4</th>\n",
       "      <td>Ray Charles Robinson (Jamie Foxx) is a extreme...</td>\n",
       "      <td>pos</td>\n",
       "      <td>pos</td>\n",
       "      <td>1.764260e-06</td>\n",
       "      <td>0.999998</td>\n",
       "    </tr>\n",
       "  </tbody>\n",
       "</table>\n",
       "</div>"
      ],
      "text/plain": [
       "                                              review true_label predicted_y  \\\n",
       "0  Universal Studios version of \"Flipper\" (1996) ...        pos         pos   \n",
       "1  This is one of Bruce's most underrated films i...        pos         pos   \n",
       "2  1904. The North African nation of Morocco is h...        pos         pos   \n",
       "3  Many years ago I saw this movie (on television...        pos         pos   \n",
       "4  Ray Charles Robinson (Jamie Foxx) is a extreme...        pos         pos   \n",
       "\n",
       "   neg_label_prob  pos_label_prob  \n",
       "0    6.085773e-08        1.000000  \n",
       "1    1.528495e-07        1.000000  \n",
       "2    4.538771e-07        1.000000  \n",
       "3    9.467465e-07        0.999999  \n",
       "4    1.764260e-06        0.999998  "
      ]
     },
     "metadata": {},
     "output_type": "display_data"
    }
   ],
   "source": [
    "most_pos_df = results_df.sort_values(by = 'pos_label_prob', ascending = False).head(5).reset_index(drop = True)\n",
    "\n",
    "display(most_pos_df)"
   ]
  },
  {
   "cell_type": "code",
   "execution_count": 121,
   "metadata": {
    "deletable": false,
    "editable": false,
    "nbgrader": {
     "cell_type": "code",
     "checksum": "bbcf447413876f3d524544ec91b29280",
     "grade": true,
     "grade_id": "cell-0bb36bd74b4871e3",
     "locked": true,
     "points": 1,
     "schema_version": 3,
     "solution": false,
     "task": false
    }
   },
   "outputs": [
    {
     "data": {
      "text/plain": [
       "'Success'"
      ]
     },
     "execution_count": 121,
     "metadata": {},
     "output_type": "execute_result"
    }
   ],
   "source": [
    "t.test_3_7(most_pos_df)"
   ]
  },
  {
   "cell_type": "markdown",
   "metadata": {},
   "source": [
    "Feel free to explore these reviews and see how positive they read!\n",
    "\n",
    "Here is the first one for you (if you got the above question right)! "
   ]
  },
  {
   "cell_type": "code",
   "execution_count": 122,
   "metadata": {},
   "outputs": [
    {
     "name": "stdout",
     "output_type": "stream",
     "text": [
      "Universal Studios version of \"Flipper\" (1996) is a great heartwarming film for the entire family with good values and sentimentality. It is the story of Sandy Ricks, a teenager from Chicago who reluctantly spends his vacation with his Uncle Porter Ricks in the Bahamas. This ultimately changes the teenagers life and he grows up in the process. He learns to appreciate nature and to have a respect for the environment. I grew up in the 1960's and the NBC television show \"Flipper\" was my favorite childhood show. Elijah Wood is perfectly cast as a 1990's Sandy Ricks and gives an excellent performance. As much as I liked the NBC television show and MGM theatrical feature films with Luke Halpin as Sandy in the 1960's I liked this feature the best! I feel Elijah Wood is the best Sandy Ricks. With respect to Luke Halpin I feel Elijah Wood has more of a range of acting talent and emotes more as an actor which makes his performance excellent and more believable. I think Elijah Wood is the best young actor working today in films. Director Alan Shapiro also wrote the screenplay and has done an excellent job as both writer and director of this film. Paul Hogan gives a comical and likable performance as Sandy's Uncle Porter Ricks. Mr. Hogan's performance perfectly offsets Elijah's role as Sandy. I am a big fan of underwater films. This film was beautifully shot in the Bahamas like \"Thunderball\" (1965 UA) was. The director of photography was Bill Butler A.S.C. who lensed the film \"Jaws\" in 1975. Mr. Butler is a very talented cinematographer. The underwater director of photography was Pete Romano. He did a superb job with the underwater cinematography. I enjoyed the film score by Joel McNeely. This good film score featured Crosby, Stills and Nash among other talented artists. This motion picture was shot in Panavision like \"Thunderball\" in the aspect ratio of 2.35:1 If possible try to see this film in a scope version as originally framed and visioned by Alan Shapiro and Bill Butler. Another very nice thing is that Mr. Shapiro gave the \"original\" Sandy Ricks (Luke Halpin) a small part in this remake. He portrayed Bounty Fisherman #3 in this film. This was a very kind gesture on Mr. Shapiro's part! As you can tell I am a real true fan of this film. Sadly this beautiful film was met with harsh words by the majority of movie critics. I originally saw this movie on my birthday, May 31st of 1996 in a movie theater. It meant a lot to me. I have it on numerous video versions. The VHS versions are in \"pan and scan\". The laserdisc version is \"letterboxed\" 2.35:1! I even have a VCD in 2.35:1 from Hong Kong which is \"letterboxed\". But my most prized possession is an \"original\" 16mm theatrical feature print which I will treasure for the rest of my life! Thank you Mr. Shapiro, Elijah Wood, Paul Hogan and everyone involved for making this a memorable movie for me to enjoy!<br /><br />P.S. I must add that the quality of the Universal DVD is superb! It is the best DVD as far as quality I have ever seen. The color and resolution is spectacular. The soundtrack is great. I think Universal must have used the same transfer for the DVD that they did for the laserdisc version. The 35mm scope print is \"mint\" and Alan's film really has a wonderful look to it. A great tribute to a wonderful film! The DVD's resolution is even superior to the laserdisc quality! It's just spectacular! Thank you Universal Home Video for the great quality control and transfer. Many thank's for doing a superb job on this wonderful family film. Also many thank's to you Alan for all your extreme kindness to me!!! It's a real honor to know you!!! (Review Revised/Updated June 27, 2005)\n"
     ]
    }
   ],
   "source": [
    "print(most_pos_df.iloc[0,0])"
   ]
  },
  {
   "cell_type": "markdown",
   "metadata": {},
   "source": [
    "**Question 3.8** <br> {points: 1}\n",
    "\n",
    "Using `best_model`, find the 5 movie reviews in the test set with the highest predicted probability of being negative (i.e., where the model is most confident that the review is negative).\n",
    "\n",
    "Save the reviews and the associated probability score in a dataframe named `most_neg_df`. "
   ]
  },
  {
   "cell_type": "code",
   "execution_count": 123,
   "metadata": {
    "deletable": false,
    "nbgrader": {
     "cell_type": "code",
     "checksum": "362d15028ab4eae0e106c0813abbd11d",
     "grade": false,
     "grade_id": "cell-30038642ed474e31",
     "locked": false,
     "schema_version": 3,
     "solution": true,
     "task": false
    }
   },
   "outputs": [
    {
     "data": {
      "text/html": [
       "<div>\n",
       "<style scoped>\n",
       "    .dataframe tbody tr th:only-of-type {\n",
       "        vertical-align: middle;\n",
       "    }\n",
       "\n",
       "    .dataframe tbody tr th {\n",
       "        vertical-align: top;\n",
       "    }\n",
       "\n",
       "    .dataframe thead th {\n",
       "        text-align: right;\n",
       "    }\n",
       "</style>\n",
       "<table border=\"1\" class=\"dataframe\">\n",
       "  <thead>\n",
       "    <tr style=\"text-align: right;\">\n",
       "      <th></th>\n",
       "      <th>review</th>\n",
       "      <th>true_label</th>\n",
       "      <th>predicted_y</th>\n",
       "      <th>neg_label_prob</th>\n",
       "      <th>pos_label_prob</th>\n",
       "    </tr>\n",
       "  </thead>\n",
       "  <tbody>\n",
       "    <tr>\n",
       "      <th>9999</th>\n",
       "      <td>Plankton, or Creatures from the Abyss as I'm p...</td>\n",
       "      <td>neg</td>\n",
       "      <td>neg</td>\n",
       "      <td>1.0</td>\n",
       "      <td>3.605173e-09</td>\n",
       "    </tr>\n",
       "    <tr>\n",
       "      <th>9998</th>\n",
       "      <td>The review on the main page admits that the mo...</td>\n",
       "      <td>neg</td>\n",
       "      <td>neg</td>\n",
       "      <td>1.0</td>\n",
       "      <td>4.211932e-09</td>\n",
       "    </tr>\n",
       "    <tr>\n",
       "      <th>9997</th>\n",
       "      <td>Komodo vs. Cobra starts as 'One Planet' enviro...</td>\n",
       "      <td>neg</td>\n",
       "      <td>neg</td>\n",
       "      <td>1.0</td>\n",
       "      <td>8.868830e-09</td>\n",
       "    </tr>\n",
       "    <tr>\n",
       "      <th>9996</th>\n",
       "      <td>WEll first and for most I'd just like to say t...</td>\n",
       "      <td>neg</td>\n",
       "      <td>neg</td>\n",
       "      <td>1.0</td>\n",
       "      <td>1.737086e-08</td>\n",
       "    </tr>\n",
       "    <tr>\n",
       "      <th>9995</th>\n",
       "      <td>I don't understand jokes. I do believe this is...</td>\n",
       "      <td>neg</td>\n",
       "      <td>neg</td>\n",
       "      <td>1.0</td>\n",
       "      <td>3.627123e-08</td>\n",
       "    </tr>\n",
       "  </tbody>\n",
       "</table>\n",
       "</div>"
      ],
      "text/plain": [
       "                                                 review true_label  \\\n",
       "9999  Plankton, or Creatures from the Abyss as I'm p...        neg   \n",
       "9998  The review on the main page admits that the mo...        neg   \n",
       "9997  Komodo vs. Cobra starts as 'One Planet' enviro...        neg   \n",
       "9996  WEll first and for most I'd just like to say t...        neg   \n",
       "9995  I don't understand jokes. I do believe this is...        neg   \n",
       "\n",
       "     predicted_y  neg_label_prob  pos_label_prob  \n",
       "9999         neg             1.0    3.605173e-09  \n",
       "9998         neg             1.0    4.211932e-09  \n",
       "9997         neg             1.0    8.868830e-09  \n",
       "9996         neg             1.0    1.737086e-08  \n",
       "9995         neg             1.0    3.627123e-08  "
      ]
     },
     "metadata": {},
     "output_type": "display_data"
    }
   ],
   "source": [
    "most_neg_df = results_df.sort_values(by = 'pos_label_prob', ascending = True).head(5)\n",
    "\n",
    "display(most_neg_df)"
   ]
  },
  {
   "cell_type": "code",
   "execution_count": 124,
   "metadata": {
    "deletable": false,
    "editable": false,
    "nbgrader": {
     "cell_type": "code",
     "checksum": "dd6d7b1e1433b5653781d92ed528c5e5",
     "grade": true,
     "grade_id": "cell-20c66de412c3ec6a",
     "locked": true,
     "points": 1,
     "schema_version": 3,
     "solution": false,
     "task": false
    }
   },
   "outputs": [
    {
     "data": {
      "text/plain": [
       "'Success'"
      ]
     },
     "execution_count": 124,
     "metadata": {},
     "output_type": "execute_result"
    }
   ],
   "source": [
    "t.test_3_8(most_neg_df)"
   ]
  },
  {
   "cell_type": "markdown",
   "metadata": {},
   "source": [
    "And what does a negative review read like?"
   ]
  },
  {
   "cell_type": "code",
   "execution_count": 125,
   "metadata": {},
   "outputs": [
    {
     "name": "stdout",
     "output_type": "stream",
     "text": [
      "Plankton, or Creatures from the Abyss as I'm positive it's more commonly known as & filmed under as the title Creatures from the Abyss appears over a moving image & in the same font type as the rest of the credits, starts with five 20 something kids, Mike (Clay Rogers) his girlfriend Margaret (Sharon Twomey), sisters Julie (Ann Wolf) & Dorothy (Loren DePalm) & an annoying idiot named Bobby (Michael Bon) whom decide to all fit into a small rubber boat & head out to sea, don't ask why as I don't know. Oh & the complete idiot Bobby left the petrol behind & never thought to tell anyone so it comes as no great surprise that they end up stranded out at sea without any petrol for the motor & to make matters worse they become trapped in a thunder storm & discover a dead body floating in the water. Shortly after their luck seems to change when they come across a yacht & potential safety, in a flash everyone boards the yacht & begin to explore. First of all they find a scientific lab with various fish specimens & computer equipment, then down below they find fully furnished & luxurious cabins. They find a chemist (Deran Sarafian) who appears mad & can't talk. They eat fish from the fridge which makes Dorothy puke up green vomit, beetles & slugs. They learn that these fish are living fossil's 1000's of years old & have been contaminated by toxic waste dumped in the sea & that they fly, mutate, bite & are generally unpleasant to be around. I really can't be bothered to go on with this plot outline so I won't, here's what I think...<br /><br />This Italian production was produced & directed by Massimiliano Cerchi under the pseudonym Al Passeri (I'd hide under a different name if I made a film this bad too) & I think Plankton is quite simply one of the worst films ever, there are so many things wrong with this film it's difficult to know where to start. First the script by Richard Baumann is total crap, it makes no sense whatsoever & is so slow & dull it was torture for me to sit through. Why would five people just simply set sail for the middle of the ocean on a rubber dinghy barely big enough to fit them all in? What were they planning on doing exactly? Why do we often get point-of-view shots from these fish creatures but they seem to be totally invisible to the characters as they are never shown on screen even though they are right next to a character, & how do these fish get around the boat as there is no water for them to swim in? People's actions & reactions to things are all wrong, they constantly split up, they make bizarre decisions that simply don't make any sense in the situation they find themselves in & some of the dialogue is as awful as anything I've heard. I could go on all day about all the plot holes & ridiculous goings on but I'll run out of space if I do. The fish creatures themselves look awful, a mixture of rubbish rubber puppets & some really bad stop motion animation at the end, the scenes where they interact with the human cast also look terrible with some bad super imposition. I have heard a lot of comments saying that Plankton is gory, don't make me laugh! Forget it there is virtually no blood or gore in Plankton whatsoever, there are a couple of slimy scenes when Bobby transforms into a fish monster while having sex with Julie but it's pretty brief & he doesn't kill her, he just sort of drips slime on her, grows a couple of tentacles & a fish head comes out of his mouth. Later on Julie's vagina starts to drip some dark slime but that's it, we never get to actually see what happens to her or what the slime is. Dorothy has a fish creature come out of her back, off screen, & control her but again we never get to see what happens to her while Margaret commits suicide, a very brief shot of a plastic harpoon stuck to her forehead. Easily the grossest scene is when Dorothy pukes up that green stuff with what looks like beetles & slugs in it. That's it, only one person actually dies on screen & for the most part Plankton is quite tame & as exciting as watching paint dry & I nearly fell asleep it's so boring. I can't see how anybody can like this total crap, I just can't. The acting is awful, the dubbing is awful, the characters are awful & I hated all of them. Tecnically Plankton is predictably crap as well, with an estimated budget of only $250,000 all I can say is where did the money go? The sets are monotonous & dull with one lab & a few cabins, the special effect's are bottom of the barrel stuff including the most fake looking exploding boat ever, the cinematography is bland, the music sucks there is zero atmosphere or tension & as a whole Plankton, like it's name sake, is as low in the food chain as it could possibly be. I hate Plankton, it's awful in every single aspect of it's overlong 86 minute duration. Do yourself a favour & avoid this one at all costs unless your either a masochist or insomniac.\n"
     ]
    }
   ],
   "source": [
    "print(most_neg_df.iloc[0,0])"
   ]
  },
  {
   "cell_type": "markdown",
   "metadata": {},
   "source": [
    "**Question 3.9 - Optional** <br> {points: 0}\n",
    "This is an optional question!\n",
    "\n",
    "(You'll get 0 marks for this one but you may have fun doing it?!) \n",
    "\n",
    "Using `best_model`, find the 5 movie reviews in the test set with the most divided probability of being negative or positive (i.e., where the model is least confident in either review sentiment).\n",
    "\n",
    "Save the reviews and the associated probability score in a dataframe named `divided_revs_df`."
   ]
  },
  {
   "cell_type": "code",
   "execution_count": 126,
   "metadata": {
    "deletable": false,
    "nbgrader": {
     "cell_type": "code",
     "checksum": "5f1e658fb2a70bd0dcc73eca848e0c37",
     "grade": false,
     "grade_id": "cell-d4bcc26bae26cd03",
     "locked": false,
     "schema_version": 3,
     "solution": true,
     "task": false
    }
   },
   "outputs": [
    {
     "data": {
      "text/html": [
       "<div>\n",
       "<style scoped>\n",
       "    .dataframe tbody tr th:only-of-type {\n",
       "        vertical-align: middle;\n",
       "    }\n",
       "\n",
       "    .dataframe tbody tr th {\n",
       "        vertical-align: top;\n",
       "    }\n",
       "\n",
       "    .dataframe thead th {\n",
       "        text-align: right;\n",
       "    }\n",
       "</style>\n",
       "<table border=\"1\" class=\"dataframe\">\n",
       "  <thead>\n",
       "    <tr style=\"text-align: right;\">\n",
       "      <th></th>\n",
       "      <th>review</th>\n",
       "      <th>true_label</th>\n",
       "      <th>predicted_y</th>\n",
       "      <th>neg_label_prob</th>\n",
       "      <th>pos_label_prob</th>\n",
       "      <th>prob_diff</th>\n",
       "    </tr>\n",
       "  </thead>\n",
       "  <tbody>\n",
       "    <tr>\n",
       "      <th>0</th>\n",
       "      <td>As a kid I grew up with the chintzy 60's TV se...</td>\n",
       "      <td>pos</td>\n",
       "      <td>pos</td>\n",
       "      <td>0.499962</td>\n",
       "      <td>0.500038</td>\n",
       "      <td>0.000076</td>\n",
       "    </tr>\n",
       "    <tr>\n",
       "      <th>1</th>\n",
       "      <td>as a 'physically challenged' person (god, how ...</td>\n",
       "      <td>pos</td>\n",
       "      <td>pos</td>\n",
       "      <td>0.499781</td>\n",
       "      <td>0.500219</td>\n",
       "      <td>0.000439</td>\n",
       "    </tr>\n",
       "    <tr>\n",
       "      <th>2</th>\n",
       "      <td>Some may go for a film like this but I most as...</td>\n",
       "      <td>neg</td>\n",
       "      <td>neg</td>\n",
       "      <td>0.500223</td>\n",
       "      <td>0.499777</td>\n",
       "      <td>0.000447</td>\n",
       "    </tr>\n",
       "    <tr>\n",
       "      <th>3</th>\n",
       "      <td>(WARNING - CONTAINS MILD SPOILER) A movie almo...</td>\n",
       "      <td>pos</td>\n",
       "      <td>neg</td>\n",
       "      <td>0.500332</td>\n",
       "      <td>0.499668</td>\n",
       "      <td>0.000665</td>\n",
       "    </tr>\n",
       "    <tr>\n",
       "      <th>4</th>\n",
       "      <td>By many accounts, Stu Ungar was not a very nic...</td>\n",
       "      <td>pos</td>\n",
       "      <td>pos</td>\n",
       "      <td>0.499557</td>\n",
       "      <td>0.500443</td>\n",
       "      <td>0.000885</td>\n",
       "    </tr>\n",
       "  </tbody>\n",
       "</table>\n",
       "</div>"
      ],
      "text/plain": [
       "                                              review true_label predicted_y  \\\n",
       "0  As a kid I grew up with the chintzy 60's TV se...        pos         pos   \n",
       "1  as a 'physically challenged' person (god, how ...        pos         pos   \n",
       "2  Some may go for a film like this but I most as...        neg         neg   \n",
       "3  (WARNING - CONTAINS MILD SPOILER) A movie almo...        pos         neg   \n",
       "4  By many accounts, Stu Ungar was not a very nic...        pos         pos   \n",
       "\n",
       "   neg_label_prob  pos_label_prob  prob_diff  \n",
       "0        0.499962        0.500038   0.000076  \n",
       "1        0.499781        0.500219   0.000439  \n",
       "2        0.500223        0.499777   0.000447  \n",
       "3        0.500332        0.499668   0.000665  \n",
       "4        0.499557        0.500443   0.000885  "
      ]
     },
     "metadata": {},
     "output_type": "display_data"
    }
   ],
   "source": [
    "divided_revs_df = results_df.assign(prob_diff = abs(results_df['pos_label_prob'] - results_df['neg_label_prob']))\n",
    "divided_revs_df.sort_values(by = 'prob_diff', ascending = True, inplace = True)\n",
    "divided_revs_df = divided_revs_df.head(5).reset_index(drop = True)\n",
    "\n",
    "display(divided_revs_df.head())"
   ]
  },
  {
   "cell_type": "code",
   "execution_count": 127,
   "metadata": {
    "deletable": false,
    "editable": false,
    "nbgrader": {
     "cell_type": "code",
     "checksum": "0d455165c2d215f8f19e93882b08dd3d",
     "grade": true,
     "grade_id": "cell-b283c65b111507ce",
     "locked": true,
     "points": 0,
     "schema_version": 3,
     "solution": false,
     "task": false
    }
   },
   "outputs": [
    {
     "data": {
      "text/plain": [
       "'Success'"
      ]
     },
     "execution_count": 127,
     "metadata": {},
     "output_type": "execute_result"
    }
   ],
   "source": [
    "t.test_3_9(divided_revs_df)"
   ]
  },
  {
   "cell_type": "markdown",
   "metadata": {},
   "source": [
    "If you attempted this question, uncomment the code below and read a review that the model was uncertain on classifying."
   ]
  },
  {
   "cell_type": "code",
   "execution_count": 128,
   "metadata": {},
   "outputs": [
    {
     "name": "stdout",
     "output_type": "stream",
     "text": [
      "As a kid I grew up with the chintzy 60's TV series (and no I'm not that oldÂ? POW!). However when director Tim Burton brought his novel vision to the silver screen, I simply took an immediate shine to it and never backed away from favoring his installments over the much hyped-latest additions ('Batman Begins' and 'The Dark Knight'), which I don't really care for. Even if they're going for a much more grounded approach and wanting to explore Bruce Wayne/Batman psyche furtherÂ? but in honesty I don't think there's all that much to tap in to. I wanted crazy fun with a dark streak and in my eyes that's what Burton brought across, and this is the reason why I can watch them over and over again. <br /><br />After wowing audiences with the 1989 'Batman', thanks to the gaudily Gothic art direction and Jack Nicholson take no-prisoners performance of the camped-up, but psychotic Joker. Burton would return 3 years later for the follow up and my favorite of the batman films so far; 'Batman Returns'. Camp, but well-done. In what would fair up to being even more expansive, louder, dreary, and nihilistic and having two villainous foes for the price of one. Enter the grotesque Penguin (with Danny DeVito magnificently going out on a limb) and the ravishing Catwoman (a steamy Michelle Pfeiffer who fills out the suit nicely) coming to spoil Gotham's party. Again Batman (an aptly brooding Michael Keaton is equally commendable and looks quite imposing in that bat suitÂ? look at the eyes) plays second fiddle to the bad guys, but I always preferred this sober interpretation of Batman that gave him an ominously gloomy mystique, but also a wearing psychological complexity that never felt the need to force feed. And his turn of Bruce Wayne was well served too. Burton's illustratively atmospheric direction opens with his sleek Gothic style engraving an carnival comic book world filtered in with a splendid range of characters and vivid costumes. The moody narrative (in what probably is a tad too long) is more so symbolic in its progression, rather show-piecing its spontaneously arresting and extravagant set-pieces and sharply etched art direction covered with shadowy tinges and grey/blue neon lighting of a wintry backdrop. The magnetically free-flowing camera-work takes flight and Danny Elfman's stately spacious score balances the playfulness along with gloomy touches with a very hypnotic pull. The rest of the performances might be overshadowed, but Christopher Walken digs in his teeth into a smarmily glassy role of a two-faced businessman Max Shreck. Pat Hingle is back, but gets very little to do as Commissioner James Gordon and Michael Gough is delightful as Alfred. In solid support are Michael Murphy, Andrew Bryniarski, Vincent Schiavelli, Doug Jones and Peter Rubens also makes a cameo appearance.\n"
     ]
    }
   ],
   "source": [
    "print(divided_revs_df.iloc[0,0])"
   ]
  },
  {
   "cell_type": "markdown",
   "metadata": {},
   "source": [
    "**Question 3.10 - Optional** <br> {points: 0}\n",
    "\n",
    "Here is another optional question!\n",
    "\n",
    "Examine a review from the test set where our `best_model` is making mistakes, i.e., where the true labels do not match the predicted labels. \n",
    "\n",
    "Save a (single) full row from `divided_revs_df` in an object named `wrong_review`. (We are expected a dataframe as the datatype for the autograder). "
   ]
  },
  {
   "cell_type": "code",
   "execution_count": 129,
   "metadata": {},
   "outputs": [
    {
     "data": {
      "text/html": [
       "<div>\n",
       "<style scoped>\n",
       "    .dataframe tbody tr th:only-of-type {\n",
       "        vertical-align: middle;\n",
       "    }\n",
       "\n",
       "    .dataframe tbody tr th {\n",
       "        vertical-align: top;\n",
       "    }\n",
       "\n",
       "    .dataframe thead th {\n",
       "        text-align: right;\n",
       "    }\n",
       "</style>\n",
       "<table border=\"1\" class=\"dataframe\">\n",
       "  <thead>\n",
       "    <tr style=\"text-align: right;\">\n",
       "      <th></th>\n",
       "      <th>review</th>\n",
       "      <th>true_label</th>\n",
       "      <th>predicted_y</th>\n",
       "      <th>neg_label_prob</th>\n",
       "      <th>pos_label_prob</th>\n",
       "    </tr>\n",
       "  </thead>\n",
       "  <tbody>\n",
       "    <tr>\n",
       "      <th>87</th>\n",
       "      <td>Yet another version of mother of all gangster ...</td>\n",
       "      <td>neg</td>\n",
       "      <td>pos</td>\n",
       "      <td>0.000576</td>\n",
       "      <td>0.999424</td>\n",
       "    </tr>\n",
       "  </tbody>\n",
       "</table>\n",
       "</div>"
      ],
      "text/plain": [
       "                                               review true_label predicted_y  \\\n",
       "87  Yet another version of mother of all gangster ...        neg         pos   \n",
       "\n",
       "    neg_label_prob  pos_label_prob  \n",
       "87        0.000576        0.999424  "
      ]
     },
     "metadata": {},
     "output_type": "display_data"
    }
   ],
   "source": [
    "wrong_review = results_df[results_df['true_label'] != results_df['predicted_y']].head(1)\n",
    "\n",
    "display(wrong_review)"
   ]
  },
  {
   "cell_type": "code",
   "execution_count": 130,
   "metadata": {
    "deletable": false,
    "editable": false,
    "nbgrader": {
     "cell_type": "code",
     "checksum": "d9cf203b60431413312896457820f942",
     "grade": true,
     "grade_id": "cell-dee648fb1283ea86",
     "locked": true,
     "points": 0,
     "schema_version": 3,
     "solution": false,
     "task": false
    }
   },
   "outputs": [
    {
     "data": {
      "text/plain": [
       "'Success'"
      ]
     },
     "execution_count": 130,
     "metadata": {},
     "output_type": "execute_result"
    }
   ],
   "source": [
    "t.test_3_10(wrong_review)"
   ]
  },
  {
   "cell_type": "markdown",
   "metadata": {},
   "source": [
    "If you attempted this question, uncomment the code below and read the review below. Does it make sense as to why the model got it wrong?"
   ]
  },
  {
   "cell_type": "code",
   "execution_count": 131,
   "metadata": {},
   "outputs": [
    {
     "name": "stdout",
     "output_type": "stream",
     "text": [
      "Yet another version of mother of all gangster flicks-the Classic \"Godfather\" and yet another case of over-hype due to media circus. Sarkar, the 13th Hindi film of Ram Gopal Varma as director is also the weakest in his Underworld trilogy including the other two being the excellent-Satya and Company. The Charisma, the magnetic persona of the two Bachchans playing father-son duo on screen for the first time is definitely a treat to watch out for. Not just strong performances but their perfect chemistry is the biggest scoring point here for which Varma should be applauded. However, the same equation of the duo is missing with the other characters in the film. Reason-the other characters look more like cardboard caricatures esp. the villains represent the typical Bollywood baddies. A character who attracts attention is elder son played by Kaykay but again not able to hold due to half-baked characterization. . The Drama and conflict is brought alive by the excessive use of Close-shots, which brought a claustrophobic effect rightly needed to construct an ambiance. The haunting Score (Amar Mohile) and the sound design (Kunal Mehta, Parikshit Lalwani & Anup Dev), together with dark, murky background overlapped by shinning powerful images (camerawork by Amit Roy) contributes to Visuals so typical of Ramu's style. But there is an overuse of Music though fortunately no songs are there in the film. But can interest of today's \"intelligently growing\" audience be sustained just on shoulders of two performers and strong Visuals ? I don't think so. Surely, audience \"maangey more\" and here film fails to deliver. In any adaptation, in order to add a new dimension, the biggest pre-requisite is the Screenplay, which is sluggish here not being crisp at places, and therefore the pace slackens quite often. What finally audience is subjected to is a highly predictable, very commonplace drama with very little surprise elements. Top Stunt director Allan Amin Ghani is also not in his best form. Some scenes which require a different treatment includes- a Minister is talking foul about Sarkar and the son is overhearing; a very amateurish shoot out in the jail on Sarkar, Sarkar Jr. escapes from the clutches of his enemies, a Son easily motivated to kill his own father, a son is secretly entering his father's room to kill him, a police commissioner slapping Sarkar Jr-all this requires a more realistic, hard-hitting approach which is the back-bone to create the required conflict. The dialogues are weak for eg. look at an amateurish line where a CM says to Sarkar Jr. Â?\"Wo jo Police Commissioner tha na usay maine hata diya\".. The women folk take on Sarkar's working is completely ignored. The uninterrupted negotiations about criminal activities while Sarkar is with his family also look slightly out of place In fact, the film follows a graph quite similar to Ramu's own production-Ab Tak Chhappan. In depicting the battle between good and evil, the other side of life-the law, police, administration, politics is completely ignored. Certainly, more is expected in content. Here the film definitely falls short and could not rise above an average fare. Dear Ramu, agreed that now you are laughing your way to the bank, you definitely need to take some drastic overhauling measures in your film production factory, before it is too late.\n"
     ]
    }
   ],
   "source": [
    "print(wrong_review.iloc[0,0])"
   ]
  },
  {
   "cell_type": "markdown",
   "metadata": {},
   "source": [
    "## Attributions\n",
    "- The IMDB DataSet - [Kaggle](https://www.kaggle.com/utathya/imdb-review-dataset)\n",
    "\n",
    "- MDS DSCI 571 - Supervised Learning I - [MDS's GitHub website](https://github.com/UBC-MDS/DSCI_571_sup-learn-1) \n"
   ]
  },
  {
   "cell_type": "markdown",
   "metadata": {},
   "source": [
    "## Before Submitting \n",
    "\n",
    "Before submitting your assignment please do the following:\n",
    "\n",
    "- Read through your solutions\n",
    "- **Restart your kernel and clear output and rerun your cells from top to bottom** \n",
    "- Makes sure that none of your code is broken \n",
    "- Verify that the tests from the questions you answered have obtained the output \"Success\"\n",
    "\n",
    "This is a simple way to make sure that you are submitting all the variables needed to mark the assignment. This method should help avoid losing marks due to changes in your environment.  "
   ]
  }
 ],
 "metadata": {
  "kernelspec": {
   "display_name": "Python 3.10.4 64-bit",
   "language": "python",
   "name": "python3"
  },
  "language_info": {
   "codemirror_mode": {
    "name": "ipython",
    "version": 3
   },
   "file_extension": ".py",
   "mimetype": "text/x-python",
   "name": "python",
   "nbconvert_exporter": "python",
   "pygments_lexer": "ipython3",
   "version": "3.10.4"
  },
  "vscode": {
   "interpreter": {
    "hash": "98e2f3d2dd73e88fe48fb6a6de651cd001c0152773ca91edda490fb6b3cd2dfa"
   }
  }
 },
 "nbformat": 4,
 "nbformat_minor": 4
}
